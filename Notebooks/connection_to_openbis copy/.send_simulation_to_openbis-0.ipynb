{
 "cells": [
  {
   "cell_type": "code",
   "execution_count": null,
   "metadata": {},
   "outputs": [],
   "source": [
    "# AiiDA imports.\n",
    "%load_ext aiida\n",
    "%aiida\n",
    "from aiida import common, orm"
   ]
  },
  {
   "cell_type": "code",
   "execution_count": 1,
   "metadata": {},
   "outputs": [],
   "source": [
    "from IPython.display import display, clear_output\n",
    "import utils\n",
    "import ipywidgets as ipw\n",
    "from app_widgets import AppWidgets"
   ]
  },
  {
   "cell_type": "code",
   "execution_count": 62,
   "metadata": {},
   "outputs": [],
   "source": [
    "VIEWERS = {\n",
    "    \"CP2K_AdsorptionE\": \"view_adsorption_energy.ipynb\",\n",
    "    \"CP2K_GeoOpt\": \"view_geometry_optimization.ipynb\",\n",
    "    \"CP2K_CellOpt\": \"view_geometry_optimization.ipynb\",\n",
    "    \"CP2K_ORBITALS\": \"view_orbitals.ipynb\",\n",
    "    \"CP2K_PDOS\": \"view_pdos.ipynb\",\n",
    "    \"CP2K_STM\": \"view_stm.ipynb\",\n",
    "    \"CP2K_AFM\": \"view_afm.ipynb\",\n",
    "    \"CP2K_HRSTM\": \"view_hrstm.ipynb\",\n",
    "    \"CP2K_Phonons\": \"view_phonons.ipynb\",\n",
    "    \"CP2K_NEB\": \"view_neb.ipynb\",\n",
    "    \"CP2K_Replica\": \"view_replica.ipynb\",\n",
    "    \"ReplicaWorkChain\": \"view_replica.ipynb\",\n",
    "}\n",
    "\n",
    "def uuids_to_nodesdict(uuids):\n",
    "    workflows = {}\n",
    "    nworkflows = 0\n",
    "    for uuid in uuids:\n",
    "        try:\n",
    "            node = orm.load_node(uuid)\n",
    "            nodeisobsolete = \"obsolete\" in node.extras and node.extras[\"obsolete\"]\n",
    "            if node.label in VIEWERS and not nodeisobsolete:\n",
    "                nworkflows += 1\n",
    "                if node.label in workflows:\n",
    "                    workflows[node.label].append(node)\n",
    "                else:\n",
    "                    workflows[node.label] = [node]\n",
    "        except common.NotExistent:\n",
    "            pass\n",
    "\n",
    "    return nworkflows, workflows\n",
    "\n",
    "def get_all_structures_and_geoopts(node):\n",
    "    \"\"\"Get all atomistic models that led to the one used in the STM simulation\"\"\"\n",
    "    current_node = node\n",
    "    all_structures = [node]\n",
    "    all_geoopts = []\n",
    "    while current_node is not None:\n",
    "        if isinstance(current_node, orm.StructureData):\n",
    "            current_node = current_node.creator\n",
    "        elif isinstance(current_node, orm.CalcJobNode):\n",
    "            current_node = current_node.caller\n",
    "            \n",
    "        elif isinstance(current_node, orm.WorkChainNode):\n",
    "            if \"GeoOpt\" in current_node.label:\n",
    "                all_geoopts.append(current_node)\n",
    "                current_node = current_node.inputs.structure\n",
    "                all_structures.append(current_node)\n",
    "            else:\n",
    "                current_node = current_node.caller\n",
    "    \n",
    "    return all_structures, all_geoopts\n",
    "\n",
    "def get_workflows(start_date, end_date):\n",
    "    qb = orm.QueryBuilder()\n",
    "    qb.append(\n",
    "        orm.StructureData,\n",
    "        filters={\n",
    "            \"extras\": {\"has_key\": \"surfaces\"},\n",
    "            \"mtime\": {\"and\": [{\"<=\": end_date}, {\">\": start_date}]},\n",
    "        },\n",
    "    )\n",
    "    qb.order_by({orm.StructureData: {\"mtime\": \"desc\"}})\n",
    "\n",
    "    # For each structure in QB create a dictionary with info on the workflows computed on it.\n",
    "    data = []\n",
    "    for node in qb.all(flat=True):\n",
    "        # print(\"node \", node.pk, \" extras \", node.extras[\"surfaces\"])\n",
    "        extras = node.extras[\"surfaces\"]\n",
    "        nworkflows = 0\n",
    "        if isinstance(extras, list):\n",
    "            nworkflows, workflows = uuids_to_nodesdict(node.extras[\"surfaces\"])\n",
    "        if nworkflows > 0:\n",
    "            data.append(workflows)\n",
    "    \n",
    "    return data"
   ]
  },
  {
   "cell_type": "code",
   "execution_count": 2,
   "metadata": {},
   "outputs": [],
   "source": [
    "# Widgets\n",
    "config = utils.read_json(\"config.json\")"
   ]
  },
  {
   "cell_type": "markdown",
   "metadata": {},
   "source": [
    "# Send simulation to openBIS"
   ]
  },
  {
   "cell_type": "code",
   "execution_count": 3,
   "metadata": {},
   "outputs": [
    {
     "data": {
      "text/html": [
       "<style>.fa-save {font-size: 2em !important; /* Increase icon size */}.fa-home {font-size: 2em !important; /* Increase icon size */}.fa-times {font-size: 2em !important; /* Increase icon size */}.fa-download {font-size: 2em !important; /* Increase icon size */}</style>"
      ],
      "text/plain": [
       "<IPython.core.display.HTML object>"
      ]
     },
     "metadata": {},
     "output_type": "display_data"
    }
   ],
   "source": [
    "# Initialise app widgets\n",
    "app_widgets = AppWidgets(\"config.json\")\n",
    "app_widgets.load_dropdown_lists()"
   ]
  },
  {
   "cell_type": "markdown",
   "metadata": {},
   "source": [
    "## Select experiment and molecule"
   ]
  },
  {
   "cell_type": "code",
   "execution_count": null,
   "metadata": {},
   "outputs": [],
   "source": []
  },
  {
   "cell_type": "markdown",
   "metadata": {},
   "source": [
    "## Select simulation"
   ]
  },
  {
   "cell_type": "code",
   "execution_count": null,
   "metadata": {},
   "outputs": [],
   "source": [
    "import datetime as datetime\n",
    "end_date = datetime.datetime.now()\n",
    "start_date = end_date - datetime.timedelta(days=20)\n",
    "data = get_workflows(start_date, end_date)\n",
    "\n",
    "all_workflows = []\n",
    "for workflows in data:\n",
    "    workflows = workflows.values()\n",
    "    workflows = list(workflows)[0]\n",
    "    all_workflows.extend(workflows)\n",
    "\n",
    "workflows_dropdown = utils.Dropdown(description='Workflows', disabled=False, layout = ipw.Layout(width = '993px'), style = {'description_width': \"110px\"}, options = all_workflows)\n",
    "display(workflows_dropdown)"
   ]
  },
  {
   "cell_type": "code",
   "execution_count": null,
   "metadata": {},
   "outputs": [],
   "source": [
    "def upload_simulations(b):\n",
    "    # Get STM Simulation Workchain from AiiDA\n",
    "    stm_workchain_node = workflows_dropdown.value\n",
    "    structure_stm = stm_workchain_node.inputs.structure\n",
    "    structure_stm_pk = structure_stm.pk\n",
    "    structure_stm_node = load_node(structure_stm_pk)\n",
    "\n",
    "    # Get Geometry Optimisation Workchain from AiiDA\n",
    "    all_structures, all_geoopts = get_all_structures_and_geoopts(structure_stm_node)\n",
    "    all_structures_exist_openbis, all_geoopts_exist_openbis, all_simulations_exist_openbis = [], [], []\n",
    "    print(all_structures)\n",
    "    print(all_geoopts)"
   ]
  },
  {
   "cell_type": "code",
   "execution_count": null,
   "metadata": {},
   "outputs": [],
   "source": [
    "# display(app_widgets.object_dropdown)\n",
    "display(app_widgets.save_close_buttons_hbox)\n",
    "app_widgets.create_button.on_click(upload_simulations)\n",
    "app_widgets.quit_button.on_click(app_widgets.close_notebook)"
   ]
  }
 ],
 "metadata": {
  "kernelspec": {
   "display_name": "base",
   "language": "python",
   "name": "python3"
  },
  "language_info": {
   "codemirror_mode": {
    "name": "ipython",
    "version": 3
   },
   "file_extension": ".py",
   "mimetype": "text/x-python",
   "name": "python",
   "nbconvert_exporter": "python",
   "pygments_lexer": "ipython3",
   "version": "3.9.13"
  }
 },
 "nbformat": 4,
 "nbformat_minor": 2
}
