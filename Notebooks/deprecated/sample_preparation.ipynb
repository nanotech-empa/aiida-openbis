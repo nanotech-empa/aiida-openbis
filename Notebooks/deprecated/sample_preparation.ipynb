{
 "cells": [
  {
   "cell_type": "code",
   "execution_count": 4,
   "metadata": {},
   "outputs": [],
   "source": [
    "from IPython.display import display, clear_output\n",
    "import utils\n",
    "import ipywidgets as widgets\n",
    "from app_widgets import AppWidgets"
   ]
  },
  {
   "cell_type": "code",
   "execution_count": null,
   "metadata": {},
   "outputs": [],
   "source": [
    "# Widgets\n",
    "config = utils.read_json(\"config.json\")\n",
    "sample_preparation_options = [object_key for object_key, object_info in config[\"objects\"].items() if object_info[\"object_type\"] == \"sample_preparation\"]\n",
    "sample_preparation_dropdown = utils.Dropdown(description='Sample Preparation Task', \n",
    "                                           disabled=False, \n",
    "                                           options = sample_preparation_options,\n",
    "                                           value = sample_preparation_options[0],\n",
    "                                           layout = widgets.Layout(width = '400px'),\n",
    "                                           style = {\"description_width\": '145px'})"
   ]
  },
  {
   "cell_type": "code",
   "execution_count": null,
   "metadata": {},
   "outputs": [],
   "source": [
    "def sample_preparation_widgets(change):\n",
    "    \n",
    "    clear_output()\n",
    "    \n",
    "    display(sample_preparation_dropdown)\n",
    "    \n",
    "    task = sample_preparation_dropdown.value\n",
    "    \n",
    "    app_widgets = AppWidgets(task, \"config.json\")\n",
    "\n",
    "    # Populate dropdown lists\n",
    "    app_widgets.load_dropdown_lists()\n",
    "\n",
    "    display(utils.Markdown(data = f\"## {task}\"))\n",
    "    display(utils.Markdown(data = \"### Select experiment, sample, and instrument\"))\n",
    "    \n",
    "    display(app_widgets.select_experiment_output)\n",
    "    \n",
    "    with app_widgets.select_experiment_output:\n",
    "        if config[\"objects\"][task][\"uses_molecule\"]:\n",
    "            display(app_widgets.experiments_dropdown_boxes, app_widgets.sample_metadata_boxes, app_widgets.instruments_dropdown_boxes, app_widgets.molecule_metadata_boxes)\n",
    "            app_widgets.molecules_dropdown_boxes.children[0].observe(app_widgets.load_molecule_metadata, names = 'value')\n",
    "        else:\n",
    "            display(app_widgets.experiments_dropdown_boxes, app_widgets.sample_metadata_boxes, app_widgets.instruments_dropdown_boxes)\n",
    "    \n",
    "    app_widgets.samples_dropdown_boxes.children[0].observe(app_widgets.load_sample_metadata, names = 'value')\n",
    "    app_widgets.create_button.on_click(app_widgets.create_sample_preparation_action)\n",
    "    app_widgets.quit_button.on_click(app_widgets.close_notebook)\n",
    "\n",
    "    display(utils.Markdown(data = \"### Properties\"))\n",
    "    display(app_widgets.object_widgets[task])\n",
    "\n",
    "    display(utils.Markdown(data = \"### Support Files\"))\n",
    "    display(app_widgets.support_files_uploader)\n",
    "\n",
    "    display(utils.Markdown(data = \"### Save Sample\"))\n",
    "    app_widgets.property_widgets[\"$name\"].observe(app_widgets.update_text, names = 'value')\n",
    "    display(app_widgets.sample_out_name_textbox)\n",
    "    display(app_widgets.bottom_buttons_hbox)\n",
    "    display(app_widgets.increase_buttons_size)"
   ]
  },
  {
   "cell_type": "markdown",
   "metadata": {},
   "source": [
    "# Sample Preparation"
   ]
  },
  {
   "cell_type": "code",
   "execution_count": 6,
   "metadata": {},
   "outputs": [],
   "source": [
    "# Widgets\n",
    "sample_preparation_dropdown.observe(sample_preparation_widgets, names='value')\n",
    "\n",
    "# Trigger the callback manually\n",
    "sample_preparation_widgets({'new': sample_preparation_dropdown.value, 'old': -1})"
   ]
  }
 ],
 "metadata": {
  "kernelspec": {
   "display_name": "base",
   "language": "python",
   "name": "python3"
  },
  "language_info": {
   "codemirror_mode": {
    "name": "ipython",
    "version": 3
   },
   "file_extension": ".py",
   "mimetype": "text/x-python",
   "name": "python",
   "nbconvert_exporter": "python",
   "pygments_lexer": "ipython3",
   "version": "3.9.13"
  }
 },
 "nbformat": 4,
 "nbformat_minor": 2
}
