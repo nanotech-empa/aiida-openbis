{
 "cells": [
  {
   "cell_type": "code",
   "execution_count": 3,
   "id": "69ba70da",
   "metadata": {},
   "outputs": [
    {
     "name": "stdout",
     "output_type": "stream",
     "text": [
      "Session is no longer valid. Please check if the token is still valid.\n"
     ]
    }
   ],
   "source": [
    "from IPython.display import display, Markdown, clear_output\n",
    "import ipywidgets as ipw\n",
    "import json\n",
    "import subprocess\n",
    "import atexit\n",
    "import os\n",
    "import shutil\n",
    "from ai_agent import ai_agent\n",
    "from src import widgets, utils"
   ]
  },
  {
   "cell_type": "code",
   "execution_count": 2,
   "id": "90a08059",
   "metadata": {},
   "outputs": [
    {
     "name": "stderr",
     "output_type": "stream",
     "text": [
      "Key 'title' is not supported in schema, ignoring\n",
      "Key 'title' is not supported in schema, ignoring\n",
      "Key 'title' is not supported in schema, ignoring\n",
      "Key '$defs' is not supported in schema, ignoring\n",
      "Key 'title' is not supported in schema, ignoring\n",
      "Key '$defs' is not supported in schema, ignoring\n",
      "Key 'title' is not supported in schema, ignoring\n",
      "Key '$defs' is not supported in schema, ignoring\n",
      "Key 'title' is not supported in schema, ignoring\n",
      "Key '$defs' is not supported in schema, ignoring\n",
      "Key 'title' is not supported in schema, ignoring\n"
     ]
    }
   ],
   "source": [
    "CONFIG = utils.read_json(\"config.json\")\n",
    "CONFIG_ELN = utils.get_aiidalab_eln_config()\n",
    "OPENBIS_SESSION, SESSION_DATA = utils.connect_openbis(CONFIG_ELN[\"url\"], CONFIG_ELN[\"token\"])\n",
    "GOOGLE_API_KEY = utils.read_json(\"/home/jovyan/gemini_api.json\")\n",
    "\n",
    "openbis_agent = ai_agent.OpenBISAgent(\n",
    "    google_api_key=GOOGLE_API_KEY[\"api_key\"]\n",
    ")"
   ]
  },
  {
   "cell_type": "code",
   "execution_count": null,
   "id": "8ed474bb",
   "metadata": {},
   "outputs": [],
   "source": [
    "prompt_label = ipw.HTML(value = \"<span style='font-weight: bold; font-size: 12px;'>Prompt:</span>\")\n",
    "\n",
    "prompt_textarea = ipw.Textarea(\n",
    "    layout = ipw.Layout(width = '800px', height = '100px'),\n",
    "    style = {\"description_width\": \"110px\"}\n",
    ")\n",
    "\n",
    "enter_button = ipw.Button(\n",
    "    description = '', disabled = False, button_style = '', \n",
    "    tooltip = 'Enter', icon = 'arrow-right', layout = ipw.Layout(width = '100px', height = '50px')\n",
    ")\n",
    "\n",
    "prompt_hbox = ipw.HBox(\n",
    "    children = [\n",
    "        prompt_label,\n",
    "        prompt_textarea,\n",
    "        enter_button\n",
    "    ]\n",
    ")\n",
    "\n",
    "chat_label = ipw.HTML(value = \"<span style='font-weight: bold; font-size: 12px;'>Chat:</span>\")\n",
    "chat_html = ipw.HTML(value = \"<div style='border: 1px solid grey; padding: 10px; margin: 10px;'>\")\n",
    "chat_hbox = ipw.HBox(children = [chat_label, chat_html])\n",
    "\n",
    "quit_button = ipw.Button(\n",
    "    description = '', disabled = False, button_style = '', \n",
    "    tooltip = 'Main menu', icon = 'home', layout = ipw.Layout(width = '100px', height = '50px')\n",
    ")"
   ]
  },
  {
   "cell_type": "code",
   "execution_count": null,
   "id": "d08307e9",
   "metadata": {},
   "outputs": [],
   "source": [
    "def close_notebook(b):\n",
    "    display(utils.Javascript(data = 'window.location.replace(\"home.ipynb\")'))\n",
    "    \n",
    "def ask_chatbot(change):\n",
    "    prompt = prompt_textarea.value\n",
    "    chat_html.value = chat_html.value + f\"<p><b>User:</b> {prompt}</p>\"\n",
    "    agent_response = openbis_agent.ask_question(prompt)\n",
    "    response_text = agent_response[-1].content\n",
    "    chat_html.value = chat_html.value + \"<p><b>Agent:</b> \" + response_text + \"</p>\""
   ]
  },
  {
   "cell_type": "code",
   "execution_count": null,
   "id": "e174ab87",
   "metadata": {},
   "outputs": [],
   "source": [
    "display(chat_hbox)\n",
    "display(prompt_hbox)\n",
    "display(quit_button)\n",
    "enter_button.on_click(ask_chatbot)\n",
    "quit_button.on_click(close_notebook)"
   ]
  },
  {
   "cell_type": "code",
   "execution_count": null,
   "id": "ddadc524",
   "metadata": {},
   "outputs": [],
   "source": [
    "# x = openbis_agent.ask_question(\"Which experiments are available? Give me a summary of them\")\n",
    "# x = openbis_agent.ask_question(\"Is there an experiment that uses molecule 704a? If yes, give me a summary of it including the name of sample that was used and the sample that was produced by each process step and a small description of the actions and observables.\")\n",
    "# x = openbis_agent.ask_question(\"Give me a substance with smiles CCO\")\n",
    "# x = openbis_agent.ask_question(\"Is there a simulation in openBIS? If yes give me a summary\")\n",
    "# x = openbis_agent.ask_question(\"Considering the geometry optimisation, what was the used molecule?\")\n",
    "# x = openbis_agent.ask_question(\"Find me all the 2d materials in openBIS\")\n",
    "# x = openbis_agent.ask_question(\"Find me objects created between 17th July 2025 and 18th July 2025\")\n",
    "# x = openbis_agent.ask_question(\"Is instrument CreaTec THz-STM in openBIS? If yes, how many pumps does it have?\")\n",
    "# x = openbis_agent.ask_question(\"What object types exist in openBIS?\")\n",
    "# x = openbis_agent.ask_question(\"Yes. No filters give me all that you find\")"
   ]
  },
  {
   "cell_type": "code",
   "execution_count": null,
   "id": "94c6fc9e",
   "metadata": {},
   "outputs": [
    {
     "data": {
      "text/plain": [
       "[HumanMessage(content='Give me a substance with smiles Brc1ccc(-c2c(C3=Cc4ccccc4C3)c(-c3ccc(Br)cc3)c(C3=Cc4ccccc4C3)c(-c3ccc(Br)cc3)c2C2=Cc3ccccc3C2)cc1', additional_kwargs={}, response_metadata={}, id='73c44693-d7c9-49b5-9609-f61ae335319a'),\n",
       " AIMessage(content='', additional_kwargs={'function_call': {'name': 'get_substances_by_attributes', 'arguments': '{\"substance\": {\"molecules\": [{\"smiles\": \"Brc1ccc(-c2c(C3=Cc4ccccc4C3)c(-c3ccc(Br)cc3)c(C3=Cc4ccccc4C3)c(-c3ccc(Br)cc3)c2C2=Cc3ccccc3C2)cc1\"}]}}'}}, response_metadata={'prompt_feedback': {'block_reason': 0, 'safety_ratings': []}, 'finish_reason': 'STOP', 'safety_ratings': []}, id='run--797aa2a1-9092-47f3-b177-309ae4289cc5-0', tool_calls=[{'name': 'get_substances_by_attributes', 'args': {'substance': {'molecules': [{'smiles': 'Brc1ccc(-c2c(C3=Cc4ccccc4C3)c(-c3ccc(Br)cc3)c(C3=Cc4ccccc4C3)c(-c3ccc(Br)cc3)c2C2=Cc3ccccc3C2)cc1'}]}}, 'id': 'e78d8bec-5700-4fef-9c48-796b63ba6d91', 'type': 'tool_call'}], usage_metadata={'input_tokens': 8228, 'output_tokens': 97, 'total_tokens': 8325, 'input_token_details': {'cache_read': 7789}}),\n",
       " ToolMessage(content=[], name='get_substances_by_attributes', id='73f8d3d0-ca4a-45b2-9838-aeed7e31efb9', tool_call_id='e78d8bec-5700-4fef-9c48-796b63ba6d91'),\n",
       " AIMessage(content='I couldn\\'t find any substance with the SMILES string \"Brc1ccc(-c2c(C3=Cc4ccccc4C3)c(-c3ccc(Br)cc3)c(C3=Cc4ccccc4C3)c(-c3ccc(Br)cc3)c2C2=Cc3ccccc3C2)cc1\".', additional_kwargs={}, response_metadata={'prompt_feedback': {'block_reason': 0, 'safety_ratings': []}, 'finish_reason': 'STOP', 'safety_ratings': []}, id='run--0bc0c0b8-6ef0-4499-800a-c21576e9bd03-0', usage_metadata={'input_tokens': 8344, 'output_tokens': 81, 'total_tokens': 8425, 'input_token_details': {'cache_read': 7784}})]"
      ]
     },
     "execution_count": 15,
     "metadata": {},
     "output_type": "execute_result"
    }
   ],
   "source": [
    "# x"
   ]
  },
  {
   "cell_type": "code",
   "execution_count": null,
   "id": "6497a466",
   "metadata": {},
   "outputs": [
    {
     "name": "stdout",
     "output_type": "stream",
     "text": [
      "Question: Give me a substance with smiles CCO\n",
      "Answer: The substance with SMILES CCO is Ultrapure Ethanol 99.99%. It is a solvent and was received on 2025-03-10. It requires special storage conditions for flammables. The supplier is Sigma Aldrich.\n"
     ]
    }
   ],
   "source": [
    "# print(\"Question:\", x[0].content)\n",
    "# print(\"Answer:\", x[-1].content)"
   ]
  },
  {
   "cell_type": "code",
   "execution_count": 5,
   "id": "e34b7468",
   "metadata": {},
   "outputs": [],
   "source": [
    "# from ai_agent.tools import inventory_tools\n",
    "# from pydantic_schema import openbis_objects\n",
    "\n",
    "# x = openbis_objects.Substance(\n",
    "#     # empa_number = 650,\n",
    "#     # batch = \"a\",\n",
    "#     molecules = [\n",
    "#         openbis_objects.Molecule(\n",
    "#             smiles = \"CCO\"\n",
    "#         )\n",
    "#     ]\n",
    "# )\n",
    "\n",
    "# inventory_tools.get_substances_by_attributes(x)\n",
    "\n",
    "# from pydantic_schema import openbis_objects\n",
    "# openbis_objects.Substance(\n",
    "#     name = \"TUD-156\", \n",
    "#     empa_number = 704,\n",
    "#     # object_status = \"Active\"\n",
    "# ).model_dump_json()"
   ]
  },
  {
   "cell_type": "code",
   "execution_count": null,
   "id": "7a9aa995",
   "metadata": {},
   "outputs": [
    {
     "name": "stdout",
     "output_type": "stream",
     "text": [
      "[HumanMessage(content='Find me substances 670a and 704a', additional_kwargs={}, response_metadata={}, id='30a98aa5-c20d-4563-8fc1-9e9b0d8b7108'), AIMessage(content='', additional_kwargs={'function_call': {'name': 'get_substances_by_attributes', 'arguments': '{\"substance\": {\"batch\": \"a\", \"empa_number\": 704.0}}'}}, response_metadata={'prompt_feedback': {'block_reason': 0, 'safety_ratings': []}, 'finish_reason': 'STOP', 'safety_ratings': [{'category': 'HARM_CATEGORY_HATE_SPEECH', 'probability': 'NEGLIGIBLE', 'blocked': False}, {'category': 'HARM_CATEGORY_DANGEROUS_CONTENT', 'probability': 'LOW', 'blocked': False}, {'category': 'HARM_CATEGORY_HARASSMENT', 'probability': 'NEGLIGIBLE', 'blocked': False}, {'category': 'HARM_CATEGORY_SEXUALLY_EXPLICIT', 'probability': 'NEGLIGIBLE', 'blocked': False}]}, id='run--35ed375d-34c9-4214-87cf-0240f8ae963c-0', tool_calls=[{'name': 'get_substances_by_attributes', 'args': {'substance': {'batch': 'a', 'empa_number': 670.0}}, 'id': '6d4d1c21-d2be-47b5-b1f8-d6f9d17e72a2', 'type': 'tool_call'}, {'name': 'get_substances_by_attributes', 'args': {'substance': {'batch': 'a', 'empa_number': 704.0}}, 'id': '9bafcc5f-39bf-4d55-a07c-2358ff7abae0', 'type': 'tool_call'}], usage_metadata={'input_tokens': 1366, 'output_tokens': 32, 'total_tokens': 1398, 'input_token_details': {'cache_read': 0}}), ToolMessage(content='[{\"permId\": \"20250717102523354-2270\", \"type\": \"SUBSTANCE\", \"properties\": {\"name\": \"XLY-05032024\", \"molecules\": [{\"permId\": \"20250717093416064-311\", \"type\": \"MOLECULE\", \"properties\": {\"name\": \"670\", \"smiles\": \"c1cc2c3cccc4c5cc6c7cccc8c9cccc%10c%11cc%12ccc%13ccc%14c(c1)c2c(c34)c1c%14c%13c%12c2c%11c(c6c2c51)c(c9%10)c87\", \"sum_formula\": \"C48H18\", \"cas_number\": null, \"iupac_name\": null, \"comments\": null}, \"registration_date\": \"2025-07-17 11:34:16\"}], \"empa_number\": \"670\", \"batch\": \"a\", \"vial\": null, \"evaporation_temperatures\": null, \"purity\": null, \"substance_type\": null, \"amount\": null, \"chemist_own_name\": null, \"comments\": \"13mg, white salt\", \"location\": null, \"special_storage_conditions\": null, \"package_opening_date\": null, \"object_status\": null, \"supplier\": {\"permId\": \"20250717103412473-3103\", \"type\": \"ORGANISATION\", \"properties\": {\"name\": \"Prof. Xinliang Feng Group\", \"address\": null, \"description\": null, \"email\": null, \"work_phone\": null, \"organisation\": \"20250717103357323-3079\"}, \"registration_date\": \"2025-07-17 12:34:12\"}, \"synthesised_by\": null, \"supplier_own_name\": null, \"receive_date\": \"2024-03-25\"}, \"registration_date\": \"2025-07-17 12:25:23\"}]', name='get_substances_by_attributes', id='3e97f2f0-a57a-4765-9b68-8d3f4b51f156', tool_call_id='6d4d1c21-d2be-47b5-b1f8-d6f9d17e72a2'), ToolMessage(content='[{\"permId\": \"20250717102459952-2232\", \"type\": \"SUBSTANCE\", \"properties\": {\"name\": \"TUD-156\", \"molecules\": [{\"permId\": \"20250717093148606-211\", \"type\": \"MOLECULE\", \"properties\": {\"name\": \"704\", \"smiles\": \"Brc1ccc(-c2c(C3=Cc4ccccc4C3)c(-c3ccc(Br)cc3)c(C3=Cc4ccccc4C3)c(-c3ccc(Br)cc3)c2C2=Cc3ccccc3C2)cc1\", \"sum_formula\": \"C51H33Br3\", \"cas_number\": null, \"iupac_name\": null, \"comments\": null}, \"registration_date\": \"2025-07-17 11:31:49\"}], \"empa_number\": \"704\", \"batch\": \"a\", \"vial\": null, \"evaporation_temperatures\": null, \"purity\": null, \"substance_type\": null, \"amount\": null, \"chemist_own_name\": null, \"comments\": \"~1mg powder\", \"location\": null, \"special_storage_conditions\": null, \"package_opening_date\": null, \"object_status\": null, \"supplier\": {\"permId\": \"20250717103412473-3103\", \"type\": \"ORGANISATION\", \"properties\": {\"name\": \"Prof. Xinliang Feng Group\", \"address\": null, \"description\": null, \"email\": null, \"work_phone\": null, \"organisation\": \"20250717103357323-3079\"}, \"registration_date\": \"2025-07-17 12:34:12\"}, \"synthesised_by\": [{\"permId\": \"20250717103515562-3200\", \"type\": \"PERSON\", \"properties\": {\"name\": \"Renxiang Lu\", \"username\": null, \"email\": null, \"mobile_phone\": null, \"work_phone\": null, \"work_status\": null, \"organisations\": null}, \"registration_date\": \"2025-07-17 12:35:16\"}], \"supplier_own_name\": null, \"receive_date\": \"2025-05-07\"}, \"registration_date\": \"2025-07-17 12:25:00\"}]', name='get_substances_by_attributes', id='9e61a342-9cb7-4a12-bb90-cc0691c90292', tool_call_id='9bafcc5f-39bf-4d55-a07c-2358ff7abae0')]\n",
      "[HumanMessage(content='Find me substances 670a and 704a', additional_kwargs={}, response_metadata={}, id='30a98aa5-c20d-4563-8fc1-9e9b0d8b7108'), AIMessage(content='', additional_kwargs={'function_call': {'name': 'get_substances_by_attributes', 'arguments': '{\"substance\": {\"batch\": \"a\", \"empa_number\": 704.0}}'}}, response_metadata={'prompt_feedback': {'block_reason': 0, 'safety_ratings': []}, 'finish_reason': 'STOP', 'safety_ratings': [{'category': 'HARM_CATEGORY_HATE_SPEECH', 'probability': 'NEGLIGIBLE', 'blocked': False}, {'category': 'HARM_CATEGORY_DANGEROUS_CONTENT', 'probability': 'LOW', 'blocked': False}, {'category': 'HARM_CATEGORY_HARASSMENT', 'probability': 'NEGLIGIBLE', 'blocked': False}, {'category': 'HARM_CATEGORY_SEXUALLY_EXPLICIT', 'probability': 'NEGLIGIBLE', 'blocked': False}]}, id='run--35ed375d-34c9-4214-87cf-0240f8ae963c-0', tool_calls=[{'name': 'get_substances_by_attributes', 'args': {'substance': {'batch': 'a', 'empa_number': 670.0}}, 'id': '6d4d1c21-d2be-47b5-b1f8-d6f9d17e72a2', 'type': 'tool_call'}, {'name': 'get_substances_by_attributes', 'args': {'substance': {'batch': 'a', 'empa_number': 704.0}}, 'id': '9bafcc5f-39bf-4d55-a07c-2358ff7abae0', 'type': 'tool_call'}], usage_metadata={'input_tokens': 1366, 'output_tokens': 32, 'total_tokens': 1398, 'input_token_details': {'cache_read': 0}})]\n",
      "[HumanMessage(content='Find me substances 670a and 704a', additional_kwargs={}, response_metadata={}, id='30a98aa5-c20d-4563-8fc1-9e9b0d8b7108')]\n",
      "[]\n"
     ]
    }
   ],
   "source": [
    "# for state in openbis_agent.graph.get_state_history(openbis_agent.agent_config):\n",
    "#     print(state.values[\"messages\"])"
   ]
  },
  {
   "cell_type": "code",
   "execution_count": null,
   "id": "fa47bdb8",
   "metadata": {},
   "outputs": [
    {
     "name": "stdout",
     "output_type": "stream",
     "text": [
      "Num Messages:  4 Next:  ('chatbot',)\n",
      "--------------------------------------------------------------------------------\n",
      "Num Messages:  2 Next:  ('tools',)\n",
      "--------------------------------------------------------------------------------\n",
      "Num Messages:  1 Next:  ('chatbot',)\n",
      "--------------------------------------------------------------------------------\n",
      "Num Messages:  0 Next:  ('__start__',)\n",
      "--------------------------------------------------------------------------------\n"
     ]
    }
   ],
   "source": [
    "# openbis_agent.get_graph_replay()"
   ]
  },
  {
   "cell_type": "code",
   "execution_count": null,
   "id": "1799d376",
   "metadata": {},
   "outputs": [],
   "source": [
    "# exp = OPENBIS_SESSION.get_experiment(\"20250717115224276-3595\")\n",
    "# exp.get_objects()[0].registrationDate"
   ]
  },
  {
   "cell_type": "code",
   "execution_count": null,
   "id": "66b2067b",
   "metadata": {},
   "outputs": [],
   "source": [
    "# all_messages = []\n",
    "# for state in openbis_agent.graph.get_state_history(openbis_agent.agent_config):\n",
    "#     all_messages.extend(state.values[\"messages\"])\n",
    "# all_messages"
   ]
  },
  {
   "cell_type": "code",
   "execution_count": null,
   "id": "0d978291",
   "metadata": {},
   "outputs": [],
   "source": [
    "# obj_type = OPENBIS_SESSION.get_object_types()[10]\n",
    "# properties_df = obj_type.get_property_assignments().df\n",
    "# properties_codes = properties_df[\"code\"]\n",
    "# properties_datatypes = properties_df[\"dataType\"]\n",
    "# properties_info = []\n",
    "# for code, datatype in zip(properties_codes, properties_datatypes):\n",
    "#     property_info = {\n",
    "#         \"code\": code.lower(),\n",
    "#         \"datatype\": datatype.lower()\n",
    "#     }\n",
    "#     properties_info.append(property_info)\n",
    "\n",
    "# properties_info"
   ]
  }
 ],
 "metadata": {
  "kernelspec": {
   "display_name": "base",
   "language": "python",
   "name": "python3"
  },
  "language_info": {
   "codemirror_mode": {
    "name": "ipython",
    "version": 3
   },
   "file_extension": ".py",
   "mimetype": "text/x-python",
   "name": "python",
   "nbconvert_exporter": "python",
   "pygments_lexer": "ipython3",
   "version": "3.9.13"
  }
 },
 "nbformat": 4,
 "nbformat_minor": 5
}
