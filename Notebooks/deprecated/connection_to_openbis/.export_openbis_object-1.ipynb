{
 "cells": [
  {
   "cell_type": "code",
   "execution_count": 1,
   "metadata": {},
   "outputs": [],
   "source": [
    "from IPython.display import display, clear_output\n",
    "import utils\n",
    "import ipywidgets as ipw\n",
    "from app_widgets import AppWidgets"
   ]
  },
  {
   "cell_type": "code",
   "execution_count": 2,
   "metadata": {},
   "outputs": [],
   "source": [
    "# Widgets\n",
    "config = utils.read_json(\"config.json\")"
   ]
  },
  {
   "cell_type": "markdown",
   "metadata": {},
   "source": [
    "# Export openBIS object metadata"
   ]
  },
  {
   "cell_type": "code",
   "execution_count": 3,
   "metadata": {},
   "outputs": [
    {
     "data": {
      "text/html": [
       "<style>.fa-save {font-size: 2em !important; /* Increase icon size */}.fa-home {font-size: 2em !important; /* Increase icon size */}.fa-times {font-size: 2em !important; /* Increase icon size */}.fa-download {font-size: 2em !important; /* Increase icon size */}</style>"
      ],
      "text/plain": [
       "<IPython.core.display.HTML object>"
      ]
     },
     "metadata": {},
     "output_type": "display_data"
    }
   ],
   "source": [
    "# Initialise app widgets\n",
    "app_widgets = AppWidgets(\"config.json\")\n",
    "app_widgets.load_dropdown_lists()"
   ]
  },
  {
   "cell_type": "markdown",
   "metadata": {},
   "source": [
    "## Select openBIS object"
   ]
  },
  {
   "cell_type": "code",
   "execution_count": null,
   "metadata": {},
   "outputs": [],
   "source": [
    "display(app_widgets.object_dropdown)\n",
    "display(app_widgets.download_close_buttons_hbox)\n",
    "app_widgets.download_button.on_click(app_widgets.download_openbis_object_metadata)\n",
    "app_widgets.quit_button.on_click(app_widgets.close_notebook)"
   ]
  },
  {
   "cell_type": "code",
   "execution_count": 35,
   "metadata": {},
   "outputs": [],
   "source": [
    "def get_parent_child_relationships_nested(openbis_session, selected_object, parent_child_relationships=None):\n",
    "    \"\"\"\n",
    "    Function to get all the parent-child relations together with the information about the objects from openBIS.\n",
    "    This is a recursive function because the objects inside openBIS are like trees containing multiple\n",
    "    relations with other objects.\n",
    "\n",
    "    Parameters\n",
    "    ----------\n",
    "    selected_object : pybis.sample.Sample\n",
    "        Selected openBIS object.\n",
    "    parent_child_relationships : dict, optional\n",
    "        Dictionary containing the openBIS objects and the relations between them. The default is None.\n",
    "\n",
    "    Returns\n",
    "    -------\n",
    "    parent_child_relationships : TYPE\n",
    "        Dictionary containing the openBIS objects and the relations between them.\n",
    "\n",
    "    \"\"\"\n",
    "    if parent_child_relationships is None:\n",
    "        parent_child_relationships = {}\n",
    "\n",
    "    # Fetch parents of the current publication\n",
    "    parents = selected_object.parents\n",
    "    \n",
    "    # Get selected object ID\n",
    "    selected_object_id = selected_object.permId\n",
    "\n",
    "    if parents is not None:\n",
    "        # Add current parents to the dictionary with child-parent relationships\n",
    "        parent_child_relationships[\"has_part\"] = []\n",
    "        for parent_id in parents:\n",
    "            print(parent_id)\n",
    "            parent = openbis_session.get_sample(parent_id)\n",
    "            parent_props = parent.props.all()\n",
    "            parent_props[\"perm_id\"] = parent.permId\n",
    "            parent_props[\"type\"] = str(parent.type)\n",
    "            parent_props = get_parent_child_relationships_nested(openbis_session, parent, parent_props)\n",
    "            parent_child_relationships[\"has_part\"].append(parent_props)\n",
    "\n",
    "    return parent_child_relationships"
   ]
  },
  {
   "cell_type": "code",
   "execution_count": null,
   "metadata": {},
   "outputs": [
    {
     "name": "stdout",
     "output_type": "stream",
     "text": [
      "/EQUIPMENT_EXAMPLE/INSTRUMENTS_EXAMPLE/INSTR793\n",
      "/EQUIPMENT_EXAMPLE/INSTRUMENTS_EXAMPLE/UHVCOMP795\n",
      "/LOG_ENTRIES/LOG_ENTRIES/MAINT797\n",
      "/LOG_ENTRIES/LOG_ENTRIES/TRANSF798\n",
      "/INSTITUTIONS/ROOMS/ROOM523\n",
      "/INSTITUTIONS/INSTITUTIONS/INST524\n",
      "/INSTITUTIONS/ROOMS/ROOM799\n",
      "/INSTITUTIONS/INSTITUTIONS/INST524\n",
      "/MATERIALS/SAMPLES/SAMP3241\n",
      "/MATERIALS/CRYSTALS/CRYST1629\n"
     ]
    }
   ],
   "source": [
    "# object_perm_id = '20241108130656600-7944'\n",
    "# publication_object = app_widgets.openbis_session.get_object(object_perm_id)\n",
    "# publication_metadata = publication_object.props.all()\n",
    "# publication_metadata['perm_id'] = object_perm_id\n",
    "# publication_metadata['type'] = str(publication_object.type)\n",
    "# publication_metadata = get_parent_child_relationships_nested(app_widgets.openbis_session, publication_object, publication_metadata)"
   ]
  }
 ],
 "metadata": {
  "kernelspec": {
   "display_name": "base",
   "language": "python",
   "name": "python3"
  },
  "language_info": {
   "codemirror_mode": {
    "name": "ipython",
    "version": 3
   },
   "file_extension": ".py",
   "mimetype": "text/x-python",
   "name": "python",
   "nbconvert_exporter": "python",
   "pygments_lexer": "ipython3",
   "version": "3.9.13"
  }
 },
 "nbformat": 4,
 "nbformat_minor": 2
}
