{
 "cells": [
  {
   "cell_type": "code",
   "execution_count": null,
   "metadata": {},
   "outputs": [],
   "source": [
    "from IPython.display import display, clear_output\n",
    "import utils\n",
    "import ipywidgets as ipw\n",
    "from app_widgets import AppWidgets"
   ]
  },
  {
   "cell_type": "code",
   "execution_count": null,
   "metadata": {},
   "outputs": [],
   "source": [
    "# Widgets\n",
    "config = utils.read_json(\"config.json\")"
   ]
  },
  {
   "cell_type": "markdown",
   "metadata": {},
   "source": [
    "# Others"
   ]
  },
  {
   "cell_type": "code",
   "execution_count": null,
   "metadata": {},
   "outputs": [],
   "source": [
    "# Initialise app widgets\n",
    "app_widgets = AppWidgets(\"config.json\")\n",
    "\n",
    "# Populate dropdown lists\n",
    "app_widgets.load_dropdown_lists()"
   ]
  },
  {
   "cell_type": "markdown",
   "metadata": {},
   "source": [
    "## Select experiment"
   ]
  },
  {
   "cell_type": "code",
   "execution_count": null,
   "metadata": {},
   "outputs": [],
   "source": [
    "display(app_widgets.select_experiment_output)\n",
    "\n",
    "with app_widgets.select_experiment_output:\n",
    "    display(app_widgets.experiments_dropdown_boxes)\n",
    "\n",
    "app_widgets.create_button.on_click(app_widgets.create_miscellaneous_action)\n",
    "app_widgets.quit_button.on_click(app_widgets.close_notebook)\n",
    "\n",
    "display(utils.Markdown(data = \"### Properties\"))\n",
    "misc_props_widgets = list(app_widgets.object_widgets[\"Miscellaneous\"].values())\n",
    "display(ipw.VBox(misc_props_widgets))\n",
    "\n",
    "display(utils.Markdown(data = \"### Support Files\"))\n",
    "display(app_widgets.objects_support_files_widgets[\"Miscellaneous\"])\n",
    "\n",
    "display(utils.Markdown(data = \"### Save\"))\n",
    "display(app_widgets.save_close_buttons_hbox)\n",
    "display(app_widgets.increase_buttons_size)\n"
   ]
  }
 ],
 "metadata": {
  "kernelspec": {
   "display_name": "base",
   "language": "python",
   "name": "python3"
  },
  "language_info": {
   "codemirror_mode": {
    "name": "ipython",
    "version": 3
   },
   "file_extension": ".py",
   "mimetype": "text/x-python",
   "name": "python",
   "nbconvert_exporter": "python",
   "pygments_lexer": "ipython3",
   "version": "3.9.13"
  }
 },
 "nbformat": 4,
 "nbformat_minor": 2
}
