{
 "cells": [
  {
   "cell_type": "markdown",
   "metadata": {},
   "source": [
    "## Import libraries"
   ]
  },
  {
   "cell_type": "code",
   "execution_count": 2,
   "metadata": {},
   "outputs": [],
   "source": [
    "from rocrate.rocrate import ROCrate\n",
    "import json"
   ]
  },
  {
   "cell_type": "markdown",
   "metadata": {},
   "source": [
    "## Create RO-Crate"
   ]
  },
  {
   "cell_type": "code",
   "execution_count": 8,
   "metadata": {},
   "outputs": [
    {
     "data": {
      "text/plain": [
       "'/home/jovyan/aiida-openbis/Notebooks/scripts/molecule_crate.zip'"
      ]
     },
     "execution_count": 8,
     "metadata": {},
     "output_type": "execute_result"
    }
   ],
   "source": [
    "PARENT_FOLDER = \"/home/jovyan/aiida-openbis/Notebooks/Metadata_Schemas_LinkML\"\n",
    "\n",
    "crate = ROCrate()\n",
    "paper = crate.add_file(f\"{PARENT_FOLDER}/data.jsonld\", properties={\n",
    "    \"name\": \"molecule\",\n",
    "    \"encodingFormat\": \"text/json\"\n",
    "})\n",
    "\n",
    "paper = crate.add_file(f\"{PARENT_FOLDER}/materialMLinfo.schema.json\", properties={\n",
    "    \"name\": \"schema\",\n",
    "    \"encodingFormat\": \"text/json\"\n",
    "})\n",
    "    \n",
    "crate.write_zip(\"molecule_crate.zip\")\n"
   ]
  }
 ],
 "metadata": {
  "kernelspec": {
   "display_name": "base",
   "language": "python",
   "name": "python3"
  },
  "language_info": {
   "codemirror_mode": {
    "name": "ipython",
    "version": 3
   },
   "file_extension": ".py",
   "mimetype": "text/x-python",
   "name": "python",
   "nbconvert_exporter": "python",
   "pygments_lexer": "ipython3",
   "version": "3.9.13"
  }
 },
 "nbformat": 4,
 "nbformat_minor": 2
}
