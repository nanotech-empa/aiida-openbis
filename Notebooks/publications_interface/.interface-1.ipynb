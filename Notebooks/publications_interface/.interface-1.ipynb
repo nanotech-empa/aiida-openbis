{
 "cells": [
  {
   "cell_type": "code",
   "execution_count": null,
   "id": "179c4603",
   "metadata": {},
   "outputs": [],
   "source": [
    "# Import libraries\n",
    "import ipywidgets as ipw\n",
    "import widgets\n",
    "import utils\n",
    "import json\n",
    "import os\n",
    "from jsonschema import validate, ValidationError\n",
    "from IPython.display import display, clear_output"
   ]
  },
  {
   "cell_type": "code",
   "execution_count": null,
   "id": "b5d670e5",
   "metadata": {},
   "outputs": [],
   "source": [
    "# Import schema\n",
    "SCHEMA_FILE = \"publication.schema.json\"\n",
    "if os.path.exists(SCHEMA_FILE):\n",
    "    SCHEMA = utils.read_json(SCHEMA_FILE)\n",
    "else:\n",
    "    print(\"Schema is not available!\")\n",
    "\n",
    "# Import database\n",
    "DATABASE_FILE = \"publications.json\"\n",
    "if os.path.exists(DATABASE_FILE):\n",
    "    DATABASE = utils.read_json(DATABASE_FILE)\n",
    "else:\n",
    "    DATABASE = []"
   ]
  },
  {
   "cell_type": "code",
   "execution_count": null,
   "id": "28f6dd96",
   "metadata": {},
   "outputs": [],
   "source": [
    "# Initialise widgets\n",
    "search_by_name_textbox = utils.Text(\n",
    "    placeholder = \"Search by name (keyword)\"\n",
    ")\n",
    "\n",
    "search_by_structure_file_uploader = utils.FileUpload(\n",
    "    accept = '.cdxml',\n",
    "    multiple = False\n",
    ")\n",
    "\n",
    "search_button = utils.Button(\n",
    "    tooltip = \"Click me\",\n",
    "    description = \"Search publications\"\n",
    ")\n",
    "\n",
    "search_tab_widgets = utils.HBox(\n",
    "    [\n",
    "        search_by_name_textbox,\n",
    "        search_by_structure_file_uploader,\n",
    "        search_button\n",
    "    ]\n",
    ")\n",
    "search_result_accordion = utils.Accordion()\n",
    "search_publications_widgets = utils.VBox(\n",
    "    [\n",
    "        search_tab_widgets,\n",
    "        search_result_accordion\n",
    "    ]\n",
    ")\n",
    "\n",
    "publication_widgets = widgets.PublicationObjectWidget()\n",
    "\n",
    "save_publication_button = utils.Button(\n",
    "    tooltip = \"Click me\",\n",
    "    description = \"Save publication\"\n",
    ")\n",
    "publication_tab_widgets = utils.VBox(\n",
    "    [\n",
    "        publication_widgets,\n",
    "        save_publication_button\n",
    "    ]\n",
    ")\n",
    "\n",
    "interface_tabs = utils.Tab()\n",
    "interface_contents = [search_publications_widgets, publication_tab_widgets]\n",
    "interface_titles = [\"Search publications\", \"Insert publications\"]\n",
    "interface_tabs.children = interface_contents\n",
    "for i, title in enumerate(interface_titles):\n",
    "    interface_tabs.set_title(i, title)"
   ]
  },
  {
   "cell_type": "code",
   "execution_count": null,
   "id": "4e928617",
   "metadata": {},
   "outputs": [],
   "source": [
    "# Action functions\n",
    "def save_data(b):\n",
    "    publication_data = publication_widgets.get_widgets_data()\n",
    "    try:\n",
    "        validate(instance = publication_data, schema = SCHEMA)\n",
    "        DATABASE.append(publication_data)\n",
    "        utils.write_json(DATABASE, DATABASE_FILE)\n",
    "        \n",
    "    except ValidationError as e:\n",
    "        print(\"JSON is invalid!\")\n",
    "        print(\"Reason:\", e.message)"
   ]
  },
  {
   "cell_type": "code",
   "execution_count": null,
   "id": "d2892881",
   "metadata": {},
   "outputs": [],
   "source": [
    "# Add actions to widgets\n",
    "save_publication_button.on_click(save_data)"
   ]
  },
  {
   "cell_type": "markdown",
   "id": "9b1f4b7d",
   "metadata": {},
   "source": [
    "# Carbon Database"
   ]
  },
  {
   "cell_type": "code",
   "execution_count": null,
   "id": "41ff9767",
   "metadata": {},
   "outputs": [],
   "source": [
    "display(interface_tabs)"
   ]
  }
 ],
 "metadata": {
  "kernelspec": {
   "display_name": "base",
   "language": "python",
   "name": "python3"
  },
  "language_info": {
   "codemirror_mode": {
    "name": "ipython",
    "version": 3
   },
   "file_extension": ".py",
   "mimetype": "text/x-python",
   "name": "python",
   "nbconvert_exporter": "python",
   "pygments_lexer": "ipython3",
   "version": "3.9.13"
  }
 },
 "nbformat": 4,
 "nbformat_minor": 5
}
