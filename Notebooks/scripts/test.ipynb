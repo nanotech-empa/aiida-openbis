{
 "cells": [
  {
   "cell_type": "code",
   "execution_count": 1,
   "metadata": {},
   "outputs": [],
   "source": [
    "from pybis import Openbis\n",
    "openbis_url = \"openbis\"\n",
    "openbis_user = \"admin\"\n",
    "openbis_pw = \"123456789\"\n",
    "\n",
    "def log_in(openbis_url: str, openbis_user: str, openbis_pw: str):\n",
    "    \"\"\"Function to login to openBIS.\"\"\"\n",
    "    if Openbis(openbis_url, verify_certificates=False).is_token_valid():\n",
    "        return Openbis(openbis_url, verify_certificates=False)\n",
    "    else:\n",
    "        Openbis(openbis_url, verify_certificates=False).login(openbis_user, openbis_pw, save_token=True)\n",
    "        return Openbis(openbis_url, verify_certificates=False)\n",
    "\n",
    "session = log_in(openbis_url, openbis_user, openbis_pw)"
   ]
  },
  {
   "cell_type": "code",
   "execution_count": 15,
   "metadata": {},
   "outputs": [
    {
     "data": {
      "text/html": [
       "\n",
       "            <table border=\"1\" class=\"dataframe\">\n",
       "            <thead>\n",
       "                <tr style=\"text-align: right;\">\n",
       "                <th>attribute</th>\n",
       "                <th>value</th>\n",
       "                </tr>\n",
       "            </thead>\n",
       "            <tbody>\n",
       "        <tr> <td>code</td> <td>STM531</td> </tr><tr> <td>permId</td> <td>20240731091626020-1195</td> </tr><tr> <td>identifier</td> <td>/CARBON_NANOMATERIALS/TRIANGULENE_SPIN_CHAINS/STM531</td> </tr><tr> <td>type</td> <td>SCANNING_TUNNELING_MICROSCOPY</td> </tr><tr> <td>project</td> <td>/CARBON_NANOMATERIALS/TRIANGULENE_SPIN_CHAINS</td> </tr><tr> <td>parents</td> <td>['/MATERIALS/ATOMISTIC_MODELS/AM529']</td> </tr><tr> <td>children</td> <td>['/CARBON_NANOMATERIALS/TRIANGULENE_SPIN_CHAINS/RES532']</td> </tr><tr> <td>components</td> <td>[]</td> </tr><tr> <td>space</td> <td>CARBON_NANOMATERIALS</td> </tr><tr> <td>experiment</td> <td>/CARBON_NANOMATERIALS/TRIANGULENE_SPIN_CHAINS/TRIANGULENE_SPIN_CHAINS_EXP_2</td> </tr><tr> <td>tags</td> <td>[]</td> </tr><tr> <td>registrator</td> <td>admin</td> </tr><tr> <td>registrationDate</td> <td>2024-07-31 11:16:26</td> </tr><tr> <td>modifier</td> <td>admin</td> </tr><tr> <td>modificationDate</td> <td>2024-07-31 11:18:08</td> </tr><tr> <td>container</td> <td></td> </tr><tr> <td>frozen</td> <td>False</td> </tr><tr> <td>frozenForComponents</td> <td>False</td> </tr><tr> <td>frozenForChildren</td> <td>False</td> </tr><tr> <td>frozenForParents</td> <td>False</td> </tr><tr> <td>frozenForDataSets</td> <td>False</td> </tr><tr> <td>metaData</td> <td>{}</td> </tr><tr><td>attachments</td><td></td></tr>\n",
       "            </tbody>\n",
       "            </table>\n",
       "        "
      ],
      "text/plain": [
       "attribute            value\n",
       "-------------------  ---------------------------------------------------------------------------\n",
       "code                 STM531\n",
       "permId               20240731091626020-1195\n",
       "identifier           /CARBON_NANOMATERIALS/TRIANGULENE_SPIN_CHAINS/STM531\n",
       "type                 SCANNING_TUNNELING_MICROSCOPY\n",
       "project              /CARBON_NANOMATERIALS/TRIANGULENE_SPIN_CHAINS\n",
       "parents              ['/MATERIALS/ATOMISTIC_MODELS/AM529']\n",
       "children             ['/CARBON_NANOMATERIALS/TRIANGULENE_SPIN_CHAINS/RES532']\n",
       "components           []\n",
       "space                CARBON_NANOMATERIALS\n",
       "experiment           /CARBON_NANOMATERIALS/TRIANGULENE_SPIN_CHAINS/TRIANGULENE_SPIN_CHAINS_EXP_2\n",
       "tags                 []\n",
       "registrator          admin\n",
       "registrationDate     2024-07-31 11:16:26\n",
       "modifier             admin\n",
       "modificationDate     2024-07-31 11:18:08\n",
       "container\n",
       "frozen               False\n",
       "frozenForComponents  False\n",
       "frozenForChildren    False\n",
       "frozenForParents     False\n",
       "frozenForDataSets    False\n",
       "metaData             {}"
      ]
     },
     "execution_count": 15,
     "metadata": {},
     "output_type": "execute_result"
    }
   ],
   "source": [
    "sample = session.get_sample(\"20240731091626020-1195\")"
   ]
  },
  {
   "cell_type": "code",
   "execution_count": 25,
   "metadata": {},
   "outputs": [
    {
     "name": "stdout",
     "output_type": "stream",
     "text": [
      "DataSet successfully created.\n"
     ]
    },
    {
     "data": {
      "text/html": [
       "\n",
       "            <table border=\"1\" class=\"dataframe\">\n",
       "            <thead>\n",
       "                <tr style=\"text-align: right;\">\n",
       "                <th>attribute</th>\n",
       "                <th>value</th>\n",
       "                </tr>\n",
       "            </thead>\n",
       "            <tbody>\n",
       "        <tr> <td>code</td> <td>20240731100852943-1224</td> </tr><tr> <td>permId</td> <td>20240731100852943-1224</td> </tr><tr> <td>type</td> <td>RAW_DATA</td> </tr><tr> <td>kind</td> <td>PHYSICAL</td> </tr><tr> <td>experiment</td> <td>/CARBON_NANOMATERIALS/TRIANGULENE_SPIN_CHAINS/TRIANGULENE_SPIN_CHAINS_EXP_2</td> </tr><tr> <td>sample</td> <td>/CARBON_NANOMATERIALS/TRIANGULENE_SPIN_CHAINS/STM531</td> </tr><tr> <td>parents</td> <td>[]</td> </tr><tr> <td>children</td> <td>[]</td> </tr><tr> <td>components</td> <td>[]</td> </tr><tr> <td>containers</td> <td>[]</td> </tr><tr> <td>tags</td> <td>[]</td> </tr><tr> <td>accessDate</td> <td>2024-07-31 12:08:54</td> </tr><tr> <td>dataProducer</td> <td></td> </tr><tr> <td>dataProductionDate</td> <td></td> </tr><tr> <td>registrator</td> <td>admin</td> </tr><tr> <td>registrationDate</td> <td>2024-07-31 12:08:54</td> </tr><tr> <td>modifier</td> <td>admin</td> </tr><tr> <td>modificationDate</td> <td>2024-07-31 12:08:54</td> </tr><tr> <td>dataStore</td> <td>DSS1</td> </tr><tr> <td>measured</td> <td>True</td> </tr><tr> <td>postRegistered</td> <td>False</td> </tr><tr> <td>frozen</td> <td>False</td> </tr><tr> <td>frozenForChildren</td> <td>False</td> </tr><tr> <td>frozenForParents</td> <td>False</td> </tr><tr> <td>frozenForComponents</td> <td>False</td> </tr><tr> <td>frozenForContainers</td> <td>False</td> </tr><tr> <td>metaData</td> <td>{}</td> </tr>\n",
       "            </tbody>\n",
       "            </table>\n",
       "        "
      ],
      "text/plain": [
       "attribute            value\n",
       "-------------------  ---------------------------------------------------------------------------\n",
       "code                 20240731100852943-1224\n",
       "permId               20240731100852943-1224\n",
       "type                 RAW_DATA\n",
       "kind                 PHYSICAL\n",
       "experiment           /CARBON_NANOMATERIALS/TRIANGULENE_SPIN_CHAINS/TRIANGULENE_SPIN_CHAINS_EXP_2\n",
       "sample               /CARBON_NANOMATERIALS/TRIANGULENE_SPIN_CHAINS/STM531\n",
       "parents              []\n",
       "children             []\n",
       "components           []\n",
       "containers           []\n",
       "tags                 []\n",
       "accessDate           2024-07-31 12:08:54\n",
       "dataProducer\n",
       "dataProductionDate\n",
       "registrator          admin\n",
       "registrationDate     2024-07-31 12:08:54\n",
       "modifier             admin\n",
       "modificationDate     2024-07-31 12:08:54\n",
       "dataStore            DSS1\n",
       "measured             True\n",
       "postRegistered       False\n",
       "frozen               False\n",
       "frozenForChildren    False\n",
       "frozenForParents     False\n",
       "frozenForComponents  False\n",
       "frozenForContainers  False\n",
       "metaData             {}"
      ]
     },
     "execution_count": 25,
     "metadata": {},
     "output_type": "execute_result"
    }
   ],
   "source": [
    "import zipfile\n",
    "path_to_zip_file = \"stm_pk1677.zip\"\n",
    "directory_to_extract_to = \"figures_for_openbis\"\n",
    "\n",
    "import os\n",
    "if os.path.isdir(directory_to_extract_to) == False:\n",
    "    os.mkdir(directory_to_extract_to)\n",
    "\n",
    "with zipfile.ZipFile(path_to_zip_file, 'r') as zip_ref:\n",
    "    zip_ref.extractall(directory_to_extract_to)\n",
    "\n",
    "list_figures = [os.path.join(directory_to_extract_to, f) for f in os.listdir(directory_to_extract_to) if \".png\" in f]\n",
    "\n",
    "session.new_dataset(type = \"RAW_DATA\", sample = \"20240731091626020-1195\", zipfile = \"stm_pk1677.zip\").save()\n",
    "\n"
   ]
  }
 ],
 "metadata": {
  "kernelspec": {
   "display_name": "base",
   "language": "python",
   "name": "python3"
  },
  "language_info": {
   "codemirror_mode": {
    "name": "ipython",
    "version": 3
   },
   "file_extension": ".py",
   "mimetype": "text/x-python",
   "name": "python",
   "nbconvert_exporter": "python",
   "pygments_lexer": "ipython3",
   "version": "3.9.13"
  }
 },
 "nbformat": 4,
 "nbformat_minor": 2
}
