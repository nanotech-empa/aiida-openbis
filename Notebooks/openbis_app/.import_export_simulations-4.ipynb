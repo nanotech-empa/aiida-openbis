{
 "cells": [
  {
   "cell_type": "code",
   "execution_count": null,
   "id": "031e890b",
   "metadata": {},
   "outputs": [],
   "source": [
    "%load_ext aiida\n",
    "%aiida\n",
    "from IPython.display import display, Javascript, HTML\n",
    "import ipywidgets as ipw\n",
    "from src import widgets, utils"
   ]
  },
  {
   "cell_type": "code",
   "execution_count": null,
   "id": "dc41f016",
   "metadata": {},
   "outputs": [],
   "source": [
    "CONFIG_FILENAME = \"schema/config.json\"\n",
    "CONFIG = utils.read_json(CONFIG_FILENAME)\n",
    "CONFIG_ELN = utils.get_aiidalab_eln_config()\n",
    "OPENBIS_SESSION, SESSION_DATA = utils.connect_openbis(CONFIG_ELN[\"url\"], CONFIG_ELN[\"token\"])"
   ]
  },
  {
   "cell_type": "code",
   "execution_count": null,
   "id": "83174041",
   "metadata": {},
   "outputs": [],
   "source": [
    "if OPENBIS_SESSION:\n",
    "    increase_buttons_size = HTML(data = ''.join(CONFIG[\"save_home_buttons_settings\"]))\n",
    "    tab_contents = [\"Import simulations\", \"Export simulations\"]\n",
    "    import_simulations_vbox = widgets.ImportSimulationsWidget(OPENBIS_SESSION)\n",
    "    export_simulations_vbox = widgets.ExportSimulationsWidget(OPENBIS_SESSION)\n",
    "    import_export_simulations_tabs = ipw.Tab(\n",
    "        children = [import_simulations_vbox, export_simulations_vbox],\n",
    "        layout = ipw.Layout(width='auto')\n",
    "    )\n",
    "    for i,e in enumerate(tab_contents):\n",
    "        import_export_simulations_tabs.set_title(i, e)\n",
    "\n",
    "home_button = ipw.Button(\n",
    "    description = '', \n",
    "    disabled = False, \n",
    "    button_style = '', \n",
    "    tooltip = 'Main menu', \n",
    "    icon = 'home', \n",
    "    layout = ipw.Layout(width = '100px', height = '50px')\n",
    ")"
   ]
  },
  {
   "cell_type": "code",
   "execution_count": null,
   "id": "c6e2e20e",
   "metadata": {},
   "outputs": [],
   "source": [
    "def close_notebook(b):\n",
    "    display(Javascript(data = 'window.location.replace(\"home.ipynb\")'))"
   ]
  },
  {
   "cell_type": "markdown",
   "id": "24e2980e",
   "metadata": {},
   "source": [
    "# Import/Export Simulations to openBIS"
   ]
  },
  {
   "cell_type": "code",
   "execution_count": null,
   "id": "70b7597d",
   "metadata": {},
   "outputs": [],
   "source": [
    "if OPENBIS_SESSION:\n",
    "    display(import_export_simulations_tabs)\n",
    "    display(increase_buttons_size)\n",
    "\n",
    "home_button.on_click(close_notebook)\n",
    "display(home_button)"
   ]
  }
 ],
 "metadata": {
  "kernelspec": {
   "display_name": "base",
   "language": "python",
   "name": "python3"
  },
  "language_info": {
   "codemirror_mode": {
    "name": "ipython",
    "version": 3
   },
   "file_extension": ".py",
   "mimetype": "text/x-python",
   "name": "python",
   "nbconvert_exporter": "python",
   "pygments_lexer": "ipython3",
   "version": "3.9.13"
  }
 },
 "nbformat": 4,
 "nbformat_minor": 5
}
