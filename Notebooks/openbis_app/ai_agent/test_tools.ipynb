{
 "cells": [
  {
   "cell_type": "code",
   "execution_count": 4,
   "id": "80816e7d",
   "metadata": {},
   "outputs": [
    {
     "data": {
      "text/plain": [
       "['Reaction Product 7AGNR (n=10) (20251003140315027-4159).']"
      ]
     },
     "execution_count": 4,
     "metadata": {},
     "output_type": "execute_result"
    }
   ],
   "source": [
    "import tools\n",
    "import openbis_utils\n",
    "from schema.openbis_objects import Substance, Crystal, TwoDLayerMaterial, Sample, Molecule\n",
    "\n",
    "# tools.get_processes_documents(\"I am doing a molecule deposition in LT STM. What I need to know?\")\n",
    "# tools.get_simulations_by_reacprod_concept(\n",
    "#     tools.ReacProdConceptArgs(\n",
    "#         molecules = [tools.MoleculeArgs(empa_number=704)]\n",
    "#     )\n",
    "# )\n",
    "\n",
    "# openbis_utils.get_openbis_objects(\n",
    "#     type = \"CRYSTAL\",\n",
    "#     where = {\n",
    "#         \"CRYSTAL_CONCEPT.material\": \"Au\"\n",
    "#     }\n",
    "# )\n",
    "# x = tools.get_sample_provenance(\n",
    "#     Sample(permId = '20250929123440615-4070')\n",
    "# )\n",
    "\n",
    "# print(x)\n",
    "# tools.get_samples_by_substance(Substance(empa_number = 704, batch='a'))\n",
    "# tools.get_simulations_by_molecule(Molecule(name = '704'))\n",
    "tools.get_reacprods_by_properties(\n",
    "    tools.ReacProdArgs(\n",
    "        reacprod_concept = tools.ReacProdConceptArgs(\n",
    "            molecules = [\n",
    "                tools.MoleculeArgs(\n",
    "                    empa_number = 704\n",
    "                )\n",
    "            ]\n",
    "        )\n",
    "    )\n",
    ")\n",
    "# inventory_tools.get_samples_by_substance(\n",
    "#     Substance(empa_number = '704')\n",
    "# )\n",
    "# inventory_tools.get_openbis_objects(\"INSTRUMENT.STM\")\n",
    "\n",
    "# objects = openbis_utils.get_openbis_objects(\n",
    "#     type = \"SAMPLE\",\n",
    "#     attrs = [\"parents\"],\n",
    "#     where = {\"object_status\": \"ACTIVE\"}\n",
    "# )\n",
    "\n"
   ]
  }
 ],
 "metadata": {
  "kernelspec": {
   "display_name": "base",
   "language": "python",
   "name": "python3"
  },
  "language_info": {
   "codemirror_mode": {
    "name": "ipython",
    "version": 3
   },
   "file_extension": ".py",
   "mimetype": "text/x-python",
   "name": "python",
   "nbconvert_exporter": "python",
   "pygments_lexer": "ipython3",
   "version": "3.9.13"
  }
 },
 "nbformat": 4,
 "nbformat_minor": 5
}
