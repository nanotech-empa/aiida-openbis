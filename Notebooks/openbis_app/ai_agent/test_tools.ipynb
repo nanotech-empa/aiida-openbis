{
 "cells": [
  {
   "cell_type": "code",
   "execution_count": 1,
   "id": "80816e7d",
   "metadata": {},
   "outputs": [
    {
     "data": {
      "text/plain": [
       "[['20250909093058356-304898', 'PROCESS_STEP'],\n",
       " ['20250908133332539-304887', 'PROCESS_STEP'],\n",
       " ['20250908133326497-304884', 'PROCESS_STEP'],\n",
       " ['20250908132244913-304880', 'PROCESS_STEP']]"
      ]
     },
     "execution_count": 1,
     "metadata": {},
     "output_type": "execute_result"
    }
   ],
   "source": [
    "import inventory_tools\n",
    "from schema.openbis_objects import Substance, Crystal, TwoDLayerMaterial, Sample\n",
    "\n",
    "# inventory_tools.get_samples_by_substance(\n",
    "#     Substance(empa_number = '704')\n",
    "# )\n",
    "inventory_tools.get_sample_provenance(\n",
    "    Sample(permId = \"20250909093103178-304900\")\n",
    ")"
   ]
  }
 ],
 "metadata": {
  "kernelspec": {
   "display_name": "base",
   "language": "python",
   "name": "python3"
  },
  "language_info": {
   "codemirror_mode": {
    "name": "ipython",
    "version": 3
   },
   "file_extension": ".py",
   "mimetype": "text/x-python",
   "name": "python",
   "nbconvert_exporter": "python",
   "pygments_lexer": "ipython3",
   "version": "3.9.13"
  }
 },
 "nbformat": 4,
 "nbformat_minor": 5
}
