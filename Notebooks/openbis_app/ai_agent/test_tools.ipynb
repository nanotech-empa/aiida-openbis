{
 "cells": [
  {
   "cell_type": "code",
   "execution_count": 2,
   "id": "80816e7d",
   "metadata": {},
   "outputs": [
    {
     "data": {
      "text/plain": [
       "['- Atomistic Model: C68H20Au2N8 (20250925092344832-4039). It is child of 704 (20250922145817954-468).',\n",
       " '- Pdos: No name (20250925092340320-4034). It is child of C68H20Au2N8 (20250925092344832-4039).']"
      ]
     },
     "execution_count": 2,
     "metadata": {},
     "output_type": "execute_result"
    }
   ],
   "source": [
    "import tools\n",
    "import openbis_utils\n",
    "from schema.openbis_objects import Substance, Crystal, TwoDLayerMaterial, Sample, Molecule\n",
    "\n",
    "# openbis_utils.get_openbis_objects(\n",
    "#     type = \"CRYSTAL\",\n",
    "#     where = {\n",
    "#         \"CRYSTAL_CONCEPT.material\": \"Au\"\n",
    "#     }\n",
    "# )\n",
    "# x = tools.get_sample_provenance(\n",
    "#     Sample(permId = '20250929123440615-4070')\n",
    "# )\n",
    "\n",
    "# print(x)\n",
    "# tools.get_samples_by_substance(Substance(empa_number = 704, batch='a'))\n",
    "tools.get_simulations_by_molecule(Molecule(name = '704'))\n",
    "# tools.get_substances_by_properties(Substance(empa_number = 704))\n",
    "# inventory_tools.get_samples_by_substance(\n",
    "#     Substance(empa_number = '704')\n",
    "# )\n",
    "# inventory_tools.get_openbis_objects(\"INSTRUMENT.STM\")\n",
    "\n"
   ]
  }
 ],
 "metadata": {
  "kernelspec": {
   "display_name": "base",
   "language": "python",
   "name": "python3"
  },
  "language_info": {
   "codemirror_mode": {
    "name": "ipython",
    "version": 3
   },
   "file_extension": ".py",
   "mimetype": "text/x-python",
   "name": "python",
   "nbconvert_exporter": "python",
   "pygments_lexer": "ipython3",
   "version": "3.9.13"
  }
 },
 "nbformat": 4,
 "nbformat_minor": 5
}
