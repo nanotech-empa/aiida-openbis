{
 "cells": [
  {
   "cell_type": "code",
   "execution_count": 3,
   "id": "80816e7d",
   "metadata": {},
   "outputs": [
    {
     "name": "stderr",
     "output_type": "stream",
     "text": [
      "E0000 00:00:1759414942.548598    7638 alts_credentials.cc:93] ALTS creds ignored. Not running on GCP and untrusted ALTS is not enabled.\n",
      "E0000 00:00:1759414942.550584    7638 alts_credentials.cc:93] ALTS creds ignored. Not running on GCP and untrusted ALTS is not enabled.\n",
      "E0000 00:00:1759414942.551882    7638 alts_credentials.cc:93] ALTS creds ignored. Not running on GCP and untrusted ALTS is not enabled.\n"
     ]
    },
    {
     "name": "stdout",
     "output_type": "stream",
     "text": [
      "All documents are already in the Chroma DB, nothing to add.\n"
     ]
    },
    {
     "data": {
      "text/plain": [
       "{'query': 'I want to do deposition',\n",
       " 'result': 'To perform the deposition, follow these steps:\\n\\n1.  **Set temperature:**\\n    *   COOL the Manipulator to 77 K with LN2.\\n    *   HEAT the PBN heater to 200 K.\\n2.  **DBBA deposition (DEPO)**',\n",
       " 'source_documents': [Document(id='126248cd-f416-43ad-8ed2-04149c0fc3b0', metadata={'permId': '20250922173913654-3615'}, page_content='<p>Depositing DBBA at 200 K with Flux and Pressure Monitoring:</p><p>Step 1: Set temperature: COOL (Manipulator to 77 K with LN2) and HEAT (PBN heater to 200 K)</p><p>Step 2: DBBA deposition (DEPO)&nbsp;</p>'),\n",
       "  Document(id='b6e0733b-b7d6-4f6a-8cd4-1c2aea685320', metadata={'permId': '20250922173913654-3615'}, page_content='<p>Depositing DBBA at 200 K with Flux and Pressure Monitoring:</p><p>Step 1: Set temperature: COOL (Manipulator to 77 K with LN2) and HEAT (PBN heater to 200 K)</p><p>Step 2: DBBA deposition (DEPO)&nbsp;</p>'),\n",
       "  Document(id='a71aba00-c669-4d2c-9a5c-bd6452df90ff', metadata={'doc_id': '243e6425c0606bfe6e3b008c80983e9cfa19504c90fda11d00b0a5e0aa3f986e', 'permId': '20250922173913654-3615'}, page_content='<p>Depositing DBBA at 200 K with Flux and Pressure Monitoring:</p><p>Step 1: Set temperature: COOL (Manipulator to 77 K with LN2) and HEAT (PBN heater to 200 K)</p><p>Step 2: DBBA deposition (DEPO)&nbsp;</p>')]}"
      ]
     },
     "execution_count": 3,
     "metadata": {},
     "output_type": "execute_result"
    }
   ],
   "source": [
    "import tools\n",
    "import openbis_utils\n",
    "from schema.openbis_objects import Substance, Crystal, TwoDLayerMaterial, Sample, Molecule\n",
    "\n",
    "tools.get_processes_documents(\"I want to do deposition\")\n",
    "\n",
    "# openbis_utils.get_openbis_objects(\n",
    "#     type = \"CRYSTAL\",\n",
    "#     where = {\n",
    "#         \"CRYSTAL_CONCEPT.material\": \"Au\"\n",
    "#     }\n",
    "# )\n",
    "# x = tools.get_sample_provenance(\n",
    "#     Sample(permId = '20250929123440615-4070')\n",
    "# )\n",
    "\n",
    "# print(x)\n",
    "# tools.get_samples_by_substance(Substance(empa_number = 704, batch='a'))\n",
    "# tools.get_simulations_by_molecule(Molecule(name = '704'))\n",
    "# tools.get_substances_by_properties(Substance(empa_number = 704))\n",
    "# inventory_tools.get_samples_by_substance(\n",
    "#     Substance(empa_number = '704')\n",
    "# )\n",
    "# inventory_tools.get_openbis_objects(\"INSTRUMENT.STM\")\n",
    "\n",
    "# objects = openbis_utils.get_openbis_objects(\n",
    "#     type = \"SAMPLE\",\n",
    "#     attrs = [\"parents\"],\n",
    "#     where = {\"object_status\": \"ACTIVE\"}\n",
    "# )\n",
    "\n"
   ]
  }
 ],
 "metadata": {
  "kernelspec": {
   "display_name": "base",
   "language": "python",
   "name": "python3"
  },
  "language_info": {
   "codemirror_mode": {
    "name": "ipython",
    "version": 3
   },
   "file_extension": ".py",
   "mimetype": "text/x-python",
   "name": "python",
   "nbconvert_exporter": "python",
   "pygments_lexer": "ipython3",
   "version": "3.9.13"
  }
 },
 "nbformat": 4,
 "nbformat_minor": 5
}
