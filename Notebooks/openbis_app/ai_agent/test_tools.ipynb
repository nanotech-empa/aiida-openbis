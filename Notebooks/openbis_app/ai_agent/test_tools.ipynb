{
 "cells": [
  {
   "cell_type": "code",
   "execution_count": 1,
   "id": "80816e7d",
   "metadata": {},
   "outputs": [
    {
     "name": "stdout",
     "output_type": "stream",
     "text": [
      "Sample 20250929123440615-4070 provenance:\n",
      "- Process Step: PermID: 20250929123434448-4066. Name: Sputter+Anneal 2. Actions: 20250929123436561-4067, 20250929123438018-4068. Observables: 20250929123439213-4069. Instrument: 20250922145747744-444. It is parent of 20250929123440615-4070.\n",
      "- Sample: 20250929123408317-4064 is parent of 20250929123434448-4066.\n",
      "- First material: 20250922174115719-3742 is parent of 20250929123408317-4064.\n"
     ]
    }
   ],
   "source": [
    "import tools\n",
    "import openbis_utils\n",
    "from schema.openbis_objects import Substance, Crystal, TwoDLayerMaterial, Sample\n",
    "\n",
    "openbis_utils.get_openbis_objects(\n",
    "    type = \"CRYSTAL\",\n",
    "    where = {\n",
    "        \"CRYSTAL_CONCEPT.material\": \"Au\"\n",
    "    }\n",
    ")\n",
    "x = tools.get_sample_provenance(\n",
    "    Sample(permId = '20250929123440615-4070')\n",
    ")\n",
    "\n",
    "print(x)\n",
    "# inventory_tools.get_samples_by_substance(\n",
    "#     Substance(empa_number = '704')\n",
    "# )\n",
    "# inventory_tools.get_openbis_objects(\"INSTRUMENT.STM\")\n",
    "\n"
   ]
  }
 ],
 "metadata": {
  "kernelspec": {
   "display_name": "base",
   "language": "python",
   "name": "python3"
  },
  "language_info": {
   "codemirror_mode": {
    "name": "ipython",
    "version": 3
   },
   "file_extension": ".py",
   "mimetype": "text/x-python",
   "name": "python",
   "nbconvert_exporter": "python",
   "pygments_lexer": "ipython3",
   "version": "3.9.13"
  }
 },
 "nbformat": 4,
 "nbformat_minor": 5
}
