{
 "cells": [
  {
   "cell_type": "code",
   "execution_count": 2,
   "id": "ddeeca87",
   "metadata": {},
   "outputs": [],
   "source": [
    "from IPython.display import display, Javascript, Markdown, clear_output, HTML\n",
    "import ipywidgets as ipw\n",
    "import json\n",
    "from src import widgets, utils\n",
    "import pybis"
   ]
  },
  {
   "cell_type": "code",
   "execution_count": 3,
   "id": "bdb3c468",
   "metadata": {},
   "outputs": [],
   "source": [
    "CONFIG_FILENAME = \"schema/config.json\"\n",
    "CONFIG = utils.read_json(CONFIG_FILENAME)\n",
    "OPENBIS_SESSION, SESSION_DATA = utils.connect_openbis_aiida()"
   ]
  },
  {
   "cell_type": "code",
   "execution_count": null,
   "id": "05d65d97",
   "metadata": {},
   "outputs": [],
   "source": [
    "if OPENBIS_SESSION:\n",
    "    increase_buttons_size = HTML(data = ''.join(CONFIG[\"save_home_buttons_settings\"]))\n",
    "    tab_contents = [\"Create new sample\", \"Register processes\"]\n",
    "    create_new_sample_vbox = widgets.CreateSampleWidget(OPENBIS_SESSION)\n",
    "    register_process_vbox = widgets.RegisterProcessWidget(OPENBIS_SESSION)\n",
    "    sample_preparation_tabs = ipw.Tab(\n",
    "        children = [create_new_sample_vbox, register_process_vbox],\n",
    "        layout = ipw.Layout(width='auto')\n",
    "    )\n",
    "    for i,e in enumerate(tab_contents):\n",
    "        sample_preparation_tabs.set_title(i, e)\n",
    "\n",
    "home_button = ipw.Button(\n",
    "    description = '', disabled = False, button_style = '', \n",
    "    tooltip = 'Main menu', icon = 'home', layout = ipw.Layout(width = '100px', height = '50px')\n",
    ")"
   ]
  },
  {
   "cell_type": "code",
   "execution_count": null,
   "id": "f8b45555",
   "metadata": {},
   "outputs": [],
   "source": [
    "def update_sample_dropdown(b):\n",
    "    register_process_vbox.select_sample_dropdown.load_samples()\n",
    "\n",
    "def close_notebook(b):\n",
    "    display(Javascript(data = 'window.location.replace(\"home.ipynb\")'))"
   ]
  },
  {
   "cell_type": "markdown",
   "id": "737c9b06",
   "metadata": {},
   "source": [
    "# Sample preparation"
   ]
  },
  {
   "cell_type": "code",
   "execution_count": null,
   "id": "5962af04",
   "metadata": {},
   "outputs": [],
   "source": [
    "if OPENBIS_SESSION:\n",
    "    create_new_sample_vbox.save_button.on_click(update_sample_dropdown)\n",
    "    display(sample_preparation_tabs)\n",
    "    display(increase_buttons_size)\n",
    "\n",
    "home_button.on_click(close_notebook)\n",
    "display(home_button)"
   ]
  }
 ],
 "metadata": {
  "kernelspec": {
   "display_name": "base",
   "language": "python",
   "name": "python3"
  },
  "language_info": {
   "codemirror_mode": {
    "name": "ipython",
    "version": 3
   },
   "file_extension": ".py",
   "mimetype": "text/x-python",
   "name": "python",
   "nbconvert_exporter": "python",
   "pygments_lexer": "ipython3",
   "version": "3.9.13"
  }
 },
 "nbformat": 4,
 "nbformat_minor": 5
}
