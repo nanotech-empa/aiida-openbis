{
 "cells": [
  {
   "cell_type": "code",
   "execution_count": null,
   "metadata": {},
   "outputs": [],
   "source": [
    "from IPython.display import display, Javascript, HTML\n",
    "import ipywidgets as ipw\n",
    "from src import widgets, utils\n",
    "import os"
   ]
  },
  {
   "cell_type": "code",
   "execution_count": null,
   "metadata": {},
   "outputs": [],
   "source": [
    "CONFIG_FILENAME = \"schema/config.json\"\n",
    "CONFIG = utils.read_json(CONFIG_FILENAME)\n",
    "CONFIG_ELN = utils.get_aiidalab_eln_config()\n",
    "OPENBIS_SESSION, SESSION_DATA = utils.connect_openbis(CONFIG_ELN[\"url\"], CONFIG_ELN[\"token\"])"
   ]
  },
  {
   "cell_type": "code",
   "execution_count": null,
   "metadata": {},
   "outputs": [],
   "source": [
    "if OPENBIS_SESSION:\n",
    "    increase_buttons_size = HTML(data = ''.join(CONFIG[\"save_home_buttons_settings\"]))\n",
    "    drafts_vbox = widgets.CreateDraftsWidget(OPENBIS_SESSION)\n",
    "\n",
    "home_button = ipw.Button(\n",
    "    description = '', \n",
    "    disabled = False, \n",
    "    button_style = '', \n",
    "    tooltip = 'Main menu', \n",
    "    icon = 'home', \n",
    "    layout = ipw.Layout(width = '100px', height = '50px')\n",
    ")\n",
    "\n",
    "save_button = ipw.Button(\n",
    "    description = '', \n",
    "    disabled = False, \n",
    "    button_style = '', \n",
    "    tooltip = 'Save', \n",
    "    icon = 'save', \n",
    "    layout = ipw.Layout(width = '100px', height = '50px')\n",
    ")\n",
    "\n",
    "save_close_buttons_hbox = ipw.HBox([save_button, home_button])"
   ]
  },
  {
   "cell_type": "code",
   "execution_count": null,
   "metadata": {},
   "outputs": [],
   "source": [
    "def close_notebook(b):\n",
    "    display(Javascript(data = 'window.location.replace(\"home.ipynb\")'))\n",
    "\n",
    "def save_drafts(b):\n",
    "    project_id = drafts_vbox.select_project_widget.project_dropdown.value\n",
    "    if project_id == \"-1\":\n",
    "        return\n",
    "    else:\n",
    "        project_collections = utils.get_openbis_collections(OPENBIS_SESSION, project = project_id)\n",
    "        drafts_collection = None\n",
    "        for collection in project_collections:\n",
    "            if collection.props[\"name\"] == \"Drafts\":\n",
    "                drafts_collection = collection\n",
    "        \n",
    "        if drafts_collection is None:\n",
    "            drafts_collection = utils.create_openbis_collection(\n",
    "                OPENBIS_SESSION, \n",
    "                type = \"COLLECTION\",\n",
    "                project = project_id,\n",
    "                code = \"DRAFTS_COLLECTION\",\n",
    "                props = {\"name\": \"Drafts\"}\n",
    "            )\n",
    "            \n",
    "        results_ids = list(drafts_vbox.select_results_selector.value)\n",
    "        draft_parents = results_ids\n",
    "        draft_type = \"DRAFT\"\n",
    "        draft_type_lower = draft_type.lower()\n",
    "        \n",
    "        draft_properties = {\n",
    "            \"name\": drafts_vbox.name_textbox.value,\n",
    "            f\"{draft_type_lower}.draft_type\": drafts_vbox.draft_type_dropdown.value,\n",
    "            \"description\": drafts_vbox.description_textbox.value,\n",
    "            \"comments\": drafts_vbox.comments_textbox.value\n",
    "        }\n",
    "        \n",
    "        draft_object = utils.create_openbis_object(\n",
    "            OPENBIS_SESSION,\n",
    "            type = draft_type,\n",
    "            parents = draft_parents,\n",
    "            collection = drafts_collection,\n",
    "            props = draft_properties\n",
    "        )\n",
    "        \n",
    "        utils.upload_datasets(\n",
    "            OPENBIS_SESSION, \n",
    "            draft_object, \n",
    "            drafts_vbox.support_files_uploader, \n",
    "            \"ATTACHMENT\"\n",
    "        )\n",
    "        \n",
    "        # Reset widgets\n",
    "        drafts_vbox.select_project_widget.project_dropdown.value = \"-1\""
   ]
  },
  {
   "cell_type": "markdown",
   "metadata": {},
   "source": [
    "# Create draft"
   ]
  },
  {
   "cell_type": "code",
   "execution_count": null,
   "metadata": {},
   "outputs": [],
   "source": [
    "if OPENBIS_SESSION:\n",
    "    display(drafts_vbox)\n",
    "    display(increase_buttons_size)\n",
    "\n",
    "home_button.on_click(close_notebook)\n",
    "save_button.on_click(save_drafts)\n",
    "display(save_close_buttons_hbox)"
   ]
  }
 ],
 "metadata": {
  "kernelspec": {
   "display_name": "base",
   "language": "python",
   "name": "python3"
  },
  "language_info": {
   "codemirror_mode": {
    "name": "ipython",
    "version": 3
   },
   "file_extension": ".py",
   "mimetype": "text/x-python",
   "name": "python",
   "nbconvert_exporter": "python",
   "pygments_lexer": "ipython3",
   "version": "3.9.13"
  }
 },
 "nbformat": 4,
 "nbformat_minor": 2
}
