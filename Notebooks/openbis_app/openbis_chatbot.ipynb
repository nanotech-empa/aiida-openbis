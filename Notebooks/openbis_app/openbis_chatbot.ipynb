{
 "cells": [
  {
   "cell_type": "code",
   "execution_count": null,
   "id": "69ba70da",
   "metadata": {},
   "outputs": [],
   "source": [
    "from IPython.display import display, Markdown, clear_output, HTML, Javascript\n",
    "import ipywidgets as ipw\n",
    "import json\n",
    "import subprocess\n",
    "import atexit\n",
    "import os\n",
    "import re\n",
    "import shutil\n",
    "import pandas as pd\n",
    "\n",
    "import sys\n",
    "sys.path.append(\"ai_agent\")\n",
    "from ai_agent import openbis_agent\n",
    "from src import widgets, utils\n",
    "import markdown"
   ]
  },
  {
   "cell_type": "code",
   "execution_count": null,
   "id": "90a08059",
   "metadata": {},
   "outputs": [
    {
     "name": "stderr",
     "output_type": "stream",
     "text": [
      "Key 'title' is not supported in schema, ignoring\n",
      "Key 'title' is not supported in schema, ignoring\n",
      "Key 'title' is not supported in schema, ignoring\n",
      "Key '$defs' is not supported in schema, ignoring\n",
      "Key 'title' is not supported in schema, ignoring\n",
      "Key '$defs' is not supported in schema, ignoring\n",
      "Key 'title' is not supported in schema, ignoring\n",
      "Key '$defs' is not supported in schema, ignoring\n",
      "Key 'title' is not supported in schema, ignoring\n",
      "Key '$defs' is not supported in schema, ignoring\n",
      "Key 'title' is not supported in schema, ignoring\n"
     ]
    }
   ],
   "source": [
    "CONFIG = utils.read_json(\"schema/config.json\")\n",
    "OPENBIS_SESSION, SESSION_DATA = utils.connect_openbis_aiida()\n",
    "LLM_API_KEY = utils.read_json(\"/home/jovyan/api_keys/gemini_api.json\")\n",
    "# LLM_API_KEY = utils.read_json(\"/home/jovyan/api_keys/openrouter_api.json\")\n",
    "\n",
    "openbis_chatbot = openbis_agent.OpenBISAgent(\n",
    "    llm_api_key=LLM_API_KEY[\"api_key\"]\n",
    ")"
   ]
  },
  {
   "cell_type": "code",
   "execution_count": null,
   "id": "8ed474bb",
   "metadata": {},
   "outputs": [],
   "source": [
    "increase_buttons_size = HTML(data = ''.join(CONFIG[\"save_home_buttons_settings\"]))\n",
    "\n",
    "prompt_label = ipw.HTML(value = \"<span style='font-weight: bold; font-size: 12px;'>Prompt:</span>\")\n",
    "\n",
    "prompt_textarea = ipw.Textarea(\n",
    "    layout = ipw.Layout(width = '800px', height = '100px'),\n",
    "    style = {\"description_width\": \"110px\"}\n",
    ")\n",
    "\n",
    "enter_button = ipw.Button(\n",
    "    description = '', disabled = False, button_style = '', \n",
    "    tooltip = 'Enter', icon = 'arrow-right', layout = ipw.Layout(width = '100px', height = '50px')\n",
    ")\n",
    "\n",
    "prompt_hbox = ipw.HBox(\n",
    "    children = [\n",
    "        prompt_label,\n",
    "        prompt_textarea,\n",
    "        enter_button\n",
    "    ]\n",
    ")\n",
    "\n",
    "chat_label = ipw.HTML(value = \"<span style='font-weight: bold; font-size: 12px;'>Chat:</span>\")\n",
    "chat_html = ipw.HTML(value = \"<div style='border: 1px solid grey; padding: 10px; margin: 10px;'> <p><b>Agent:</b> Hi! I am openBIS chatbot and I am here to answer your questions about openBIS. How may I help you today?\")\n",
    "chat_hbox = ipw.HBox(children = [chat_label, chat_html])\n",
    "\n",
    "quit_button = ipw.Button(\n",
    "    description = '', disabled = False, button_style = '', \n",
    "    tooltip = 'Main menu', icon = 'home', layout = ipw.Layout(width = '100px', height = '50px')\n",
    ")"
   ]
  },
  {
   "cell_type": "code",
   "execution_count": null,
   "id": "d08307e9",
   "metadata": {},
   "outputs": [],
   "source": [
    "def close_notebook(b):\n",
    "    display(Javascript(data = 'window.location.replace(\"home.ipynb\")'))\n",
    "\n",
    "def log_chatbot_usage(filepath, json_data):\n",
    "    input_tokens = json_data[\"input_tokens\"]\n",
    "    output_tokens = json_data[\"output_tokens\"]\n",
    "\n",
    "    os.makedirs(\"logs\", exist_ok=True)\n",
    "    filepath = os.path.join(\"logs\", filepath)\n",
    "    \n",
    "    if os.path.isfile(filepath) == False:\n",
    "        with open(filepath, \"w\") as f:\n",
    "            f.write(\"input_tokens,output_tokens\\n\")\n",
    "            f.write(f\"{input_tokens},{output_tokens}\\n\")\n",
    "    else:\n",
    "        with open(filepath, \"a\") as f:\n",
    "            f.write(f\"{input_tokens},{output_tokens}\\n\")\n",
    "    \n",
    "def ask_chatbot(change):\n",
    "    prompt = prompt_textarea.value\n",
    "    chat_html.value = chat_html.value + f\"<p><b>User:</b> {prompt}</p>\"\n",
    "    agent_response = openbis_chatbot.ask_question(prompt)\n",
    "    response_text = agent_response[-1].content\n",
    "    log_chatbot_usage(\"chatbot_usage.csv\", agent_response[-1].usage_metadata)\n",
    "    # try:\n",
    "    #     agent_response = openbis_agent.ask_question(prompt)\n",
    "    #     response_text = agent_response[-1].content\n",
    "    # except Exception as e:\n",
    "    #     response_text = \"Internal Server Error. Repeat your prompt.\"\n",
    "    chat_html.value = chat_html.value + \"<p><b>Agent:</b> \" + markdown.markdown(response_text) + \"</p>\""
   ]
  },
  {
   "cell_type": "markdown",
   "id": "2bfa7da8",
   "metadata": {},
   "source": [
    "# openBIS chatbot\n",
    "\n",
    "#### Note: This agent uses model Gemini Flash 2.5. The answers may contain some errors/hallucinations."
   ]
  },
  {
   "cell_type": "code",
   "execution_count": null,
   "id": "e174ab87",
   "metadata": {},
   "outputs": [],
   "source": [
    "display(increase_buttons_size)\n",
    "display(chat_hbox)\n",
    "display(prompt_hbox)\n",
    "display(quit_button)\n",
    "enter_button.on_click(ask_chatbot)\n",
    "quit_button.on_click(close_notebook)"
   ]
  }
 ],
 "metadata": {
  "kernelspec": {
   "display_name": "Python 3 (ipykernel)",
   "language": "python",
   "name": "python3"
  },
  "language_info": {
   "codemirror_mode": {
    "name": "ipython",
    "version": 3
   },
   "file_extension": ".py",
   "mimetype": "text/x-python",
   "name": "python",
   "nbconvert_exporter": "python",
   "pygments_lexer": "ipython3",
   "version": "3.9.13"
  }
 },
 "nbformat": 4,
 "nbformat_minor": 5
}
