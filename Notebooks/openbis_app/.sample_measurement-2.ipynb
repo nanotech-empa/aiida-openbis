{
 "cells": [
  {
   "cell_type": "code",
   "execution_count": null,
   "id": "680f5fa3",
   "metadata": {},
   "outputs": [],
   "source": [
    "from IPython.display import display, Javascript, Markdown, clear_output, HTML\n",
    "import ipywidgets as ipw\n",
    "import json\n",
    "import subprocess\n",
    "import atexit\n",
    "import os\n",
    "import shutil\n",
    "from src import widgets, utils"
   ]
  },
  {
   "cell_type": "code",
   "execution_count": null,
   "id": "6e2790ed",
   "metadata": {},
   "outputs": [],
   "source": [
    "CONFIG_FILENAME = \"schema/config.json\"\n",
    "CONFIG = utils.read_json(CONFIG_FILENAME)\n",
    "OPENBIS_SESSION, SESSION_DATA = utils.connect_openbis_aiida()"
   ]
  },
  {
   "cell_type": "code",
   "execution_count": null,
   "id": "5f3e2517",
   "metadata": {},
   "outputs": [],
   "source": [
    "if OPENBIS_SESSION:\n",
    "    # This is to adjust tab title length\n",
    "    display(\n",
    "        HTML(\n",
    "            '''\n",
    "                <style>\n",
    "                /* Target tab labels inside ipywidgets */\n",
    "                .jp-Notebook .widget-tab .p-TabBar-tab,\n",
    "                .widget-tab .p-TabBar-tab {\n",
    "                    max-width: none !important;\n",
    "                    min-width: 200px !important;   /* You can adjust this */\n",
    "                    white-space: normal !important;\n",
    "                    overflow-wrap: break-word !important;\n",
    "                    word-break: break-word !important;\n",
    "                }\n",
    "                </style>\n",
    "            '''\n",
    "        )\n",
    "    )\n",
    "    \n",
    "    increase_buttons_size = HTML(data = ''.join(CONFIG[\"save_home_buttons_settings\"]))\n",
    "    tab_contents = [\"Start directory monitoring\", \"Directories being monitorised\"]\n",
    "    running_watchdogs_vbox = widgets.RunningMeasurementWatchdogsWidget(OPENBIS_SESSION, SESSION_DATA)\n",
    "    measurement_uploader_vbox = widgets.GenerateMeasurementsWatchdogWidget(OPENBIS_SESSION, SESSION_DATA, running_watchdogs_vbox)\n",
    "    \n",
    "    sample_measurement_tabs = ipw.Tab(\n",
    "        children = [measurement_uploader_vbox, running_watchdogs_vbox],\n",
    "        layout = ipw.Layout(width='auto')\n",
    "    )\n",
    "    for i,e in enumerate(tab_contents):\n",
    "        sample_measurement_tabs.set_title(i, e)\n",
    "\n",
    "home_button = ipw.Button(\n",
    "    description = '', disabled = False, button_style = '', \n",
    "    tooltip = 'Main menu', icon = 'home', layout = ipw.Layout(width = '100px', height = '50px')\n",
    ")"
   ]
  },
  {
   "cell_type": "code",
   "execution_count": null,
   "id": "145e9275",
   "metadata": {},
   "outputs": [],
   "source": [
    "def close_notebook(b):\n",
    "    display(Javascript(data = 'window.location.replace(\"home.ipynb\")'))"
   ]
  },
  {
   "cell_type": "markdown",
   "id": "3beeb74d",
   "metadata": {},
   "source": [
    "# Measurement Uploader"
   ]
  },
  {
   "cell_type": "code",
   "execution_count": null,
   "id": "8065e8f2",
   "metadata": {},
   "outputs": [],
   "source": [
    "if OPENBIS_SESSION:\n",
    "    display(sample_measurement_tabs)\n",
    "    display(increase_buttons_size)\n",
    "\n",
    "home_button.on_click(close_notebook)\n",
    "display(home_button)"
   ]
  }
 ],
 "metadata": {
  "kernelspec": {
   "display_name": "base",
   "language": "python",
   "name": "python3"
  },
  "language_info": {
   "codemirror_mode": {
    "name": "ipython",
    "version": 3
   },
   "file_extension": ".py",
   "mimetype": "text/x-python",
   "name": "python",
   "nbconvert_exporter": "python",
   "pygments_lexer": "ipython3",
   "version": "3.9.13"
  }
 },
 "nbformat": 4,
 "nbformat_minor": 5
}
