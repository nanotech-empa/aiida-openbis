{
 "cells": [
  {
   "cell_type": "code",
   "execution_count": null,
   "id": "50fd159b",
   "metadata": {},
   "outputs": [],
   "source": [
    "from pybis import Openbis\n",
    "\n",
    "def log_in(eln_url: str, eln_token: str):\n",
    "    try:\n",
    "        session = Openbis(eln_url, verify_certificates = False)\n",
    "        session.set_token(eln_token)\n",
    "    except ValueError:\n",
    "        print(\"Session is no longer valid. Please check if the token is still valid.\")\n",
    "        session = None\n",
    "    \n",
    "    return session\n",
    "\n",
    "openbis_url = \"local.openbis.ch\"\n",
    "\n",
    "# Connect to openBIS\n",
    "session = log_in(openbis_url, openbis_token)"
   ]
  },
  {
   "cell_type": "code",
   "execution_count": 2,
   "id": "3da76c13",
   "metadata": {},
   "outputs": [
    {
     "ename": "TypeError",
     "evalue": "new_property_type() got an unexpected keyword argument 'multiValue'",
     "output_type": "error",
     "traceback": [
      "\u001b[0;31m---------------------------------------------------------------------------\u001b[0m",
      "\u001b[0;31mTypeError\u001b[0m                                 Traceback (most recent call last)",
      "\u001b[0;32m/tmp/ipykernel_12783/1142308403.py\u001b[0m in \u001b[0;36m<cell line: 1>\u001b[0;34m()\u001b[0m\n\u001b[0;32m----> 1\u001b[0;31m session.new_property_type(\n\u001b[0m\u001b[1;32m      2\u001b[0m     \u001b[0mcode\u001b[0m \u001b[0;34m=\u001b[0m \u001b[0;34m\"Test_PROP\"\u001b[0m\u001b[0;34m,\u001b[0m\u001b[0;34m\u001b[0m\u001b[0;34m\u001b[0m\u001b[0m\n\u001b[1;32m      3\u001b[0m     \u001b[0mlabel\u001b[0m \u001b[0;34m=\u001b[0m \u001b[0;34m\"Test Property\"\u001b[0m\u001b[0;34m,\u001b[0m\u001b[0;34m\u001b[0m\u001b[0;34m\u001b[0m\u001b[0m\n\u001b[1;32m      4\u001b[0m     \u001b[0mdescription\u001b[0m \u001b[0;34m=\u001b[0m \u001b[0;34m\"This is a test property\"\u001b[0m\u001b[0;34m,\u001b[0m\u001b[0;34m\u001b[0m\u001b[0;34m\u001b[0m\u001b[0m\n\u001b[1;32m      5\u001b[0m     \u001b[0mdataType\u001b[0m \u001b[0;34m=\u001b[0m \u001b[0;34m\"VARCHAR\"\u001b[0m\u001b[0;34m,\u001b[0m\u001b[0;34m\u001b[0m\u001b[0;34m\u001b[0m\u001b[0m\n",
      "\u001b[0;31mTypeError\u001b[0m: new_property_type() got an unexpected keyword argument 'multiValue'"
     ]
    }
   ],
   "source": [
    "session.new_property_type(\n",
    "    code = \"Test_PROP\",\n",
    "    label = \"Test Property\",\n",
    "    description = \"This is a test property\",\n",
    "    dataType = \"VARCHAR\",\n",
    "    multiValue = True\n",
    ")"
   ]
  }
 ],
 "metadata": {
  "kernelspec": {
   "display_name": "base",
   "language": "python",
   "name": "python3"
  },
  "language_info": {
   "codemirror_mode": {
    "name": "ipython",
    "version": 3
   },
   "file_extension": ".py",
   "mimetype": "text/x-python",
   "name": "python",
   "nbconvert_exporter": "python",
   "pygments_lexer": "ipython3",
   "version": "3.9.13"
  }
 },
 "nbformat": 4,
 "nbformat_minor": 5
}
