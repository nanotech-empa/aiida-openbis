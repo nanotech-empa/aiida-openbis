{
 "cells": [
  {
   "cell_type": "code",
   "execution_count": 1,
   "metadata": {},
   "outputs": [
    {
     "name": "stdout",
     "output_type": "stream",
     "text": [
      "3e-09\n"
     ]
    },
    {
     "data": {
      "text/plain": [
       "{'I': '50pA',\n",
       " 'bias': '-1.00V',\n",
       " 'size': '3.0nm x 3.0nm (0°)',\n",
       " 'comment': 'None'}"
      ]
     },
     "execution_count": 1,
     "metadata": {},
     "output_type": "execute_result"
    }
   ],
   "source": [
    "import spmpy\n",
    "\n",
    "sxm_data_filepath = \"/home/jovyan/aiida-openbis/Notebooks/nanonis_importer/data/img_0150.sxm\"\n",
    "dat_data_filepath = \"/home/jovyan/aiida-openbis/Notebooks/nanonis_importer/data/didv_00063.dat\"\n",
    "\n",
    "s = spmpy.spm.Spm(sxm_data_filepath)\n",
    "print(s.header[\"scan_range\"][0])\n",
    "s.print_params_dict()"
   ]
  }
 ],
 "metadata": {
  "kernelspec": {
   "display_name": "base",
   "language": "python",
   "name": "python3"
  },
  "language_info": {
   "codemirror_mode": {
    "name": "ipython",
    "version": 3
   },
   "file_extension": ".py",
   "mimetype": "text/x-python",
   "name": "python",
   "nbconvert_exporter": "python",
   "pygments_lexer": "ipython3",
   "version": "3.9.13"
  }
 },
 "nbformat": 4,
 "nbformat_minor": 2
}
