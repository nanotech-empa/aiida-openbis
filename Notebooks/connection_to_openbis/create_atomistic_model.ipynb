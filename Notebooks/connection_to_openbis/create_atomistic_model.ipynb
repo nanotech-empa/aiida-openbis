{
 "cells": [
  {
   "cell_type": "code",
   "execution_count": null,
   "metadata": {},
   "outputs": [],
   "source": [
    "from IPython.display import display, clear_output\n",
    "import utils\n",
    "import widgets\n",
    "import ipywidgets as ipw\n",
    "import shutil\n",
    "import json\n",
    "import aiida_utils\n",
    "import ase\n",
    "import os"
   ]
  },
  {
   "cell_type": "code",
   "execution_count": null,
   "metadata": {},
   "outputs": [],
   "source": [
    "CONFIG = utils.read_json(\"config.json\")\n",
    "CONFIG_ELN = utils.get_aiidalab_eln_config()\n",
    "DATA_MODEL = utils.read_yaml(\"/home/jovyan/aiida-openbis/Notebooks/Metadata_Schemas_LinkML/materialMLinfo.yaml\")\n",
    "# CONFIG_ELN = utils.read_json(\"eln_config.json\")\n",
    "OPENBIS_SESSION, SESSION_DATA = utils.connect_openbis(CONFIG_ELN[\"url\"], CONFIG_ELN[\"token\"])\n",
    "SAMPLES_COLLECTION_OPENBIS_PATH = CONFIG[\"samples_collection_openbis_path\"]\n",
    "\n",
    "slabs_options = [DATA_MODEL[\"classes\"][object_type][\"title\"] for object_type in CONFIG[\"slabs_concepts\"]]\n",
    "slabs_options.insert(0, \"No material\")\n",
    "material_selection_radio_button = utils.Radiobuttons(\n",
    "    description = '', options = slabs_options, \n",
    "    disabled = False, layout = ipw.Layout(width = '300px'), \n",
    "    style = {'description_width': \"100px\"}\n",
    ")\n",
    "\n",
    "molecule_selector_list = widgets.MultipleSelectorWidget(\"molecule_concept\")\n",
    "molecule_selector_list_output = ipw.Output()\n",
    "\n",
    "add_molecule_button = utils.Button(\n",
    "    description = 'Add molecule concept', disabled = False, button_style = '', \n",
    "    tooltip = 'Add molecule concept', layout = ipw.Layout(width = '150px', height = '25px')\n",
    ")\n",
    "remove_molecule_button = utils.Button(\n",
    "    description = 'Remove molecule concept', disabled = False, button_style = '', \n",
    "    tooltip = 'Remove molecule concept', layout = ipw.Layout(width = '150px', height = '25px')\n",
    ")\n",
    "add_remove_molecule_buttons_hbox = ipw.HBox([add_molecule_button, remove_molecule_button])\n",
    "\n",
    "product_selector_list = widgets.MultipleSelectorWidget(\"product_concept\")\n",
    "product_selector_list_output = ipw.Output()\n",
    "\n",
    "add_product_button = utils.Button(\n",
    "    description = 'Add product concept', disabled = False, button_style = '', \n",
    "    tooltip = 'Add product concept', layout = ipw.Layout(width = '150px', height = '25px')\n",
    ")\n",
    "remove_product_button = utils.Button(\n",
    "    description = 'Remove product concept', disabled = False, button_style = '', \n",
    "    tooltip = 'Remove product concept', layout = ipw.Layout(width = '150px', height = '25px')\n",
    ")\n",
    "add_remove_product_buttons_hbox = ipw.HBox([add_product_button, remove_product_button])\n",
    "\n",
    "material_selector = widgets.MaterialSelectionWidget()\n",
    "\n",
    "atomistic_model_ase_upload = ipw.FileUpload(multiple = False, accept = '.xyz')\n",
    "\n",
    "increase_buttons_size = utils.HTML(data = ''.join(CONFIG[\"save_home_buttons_settings\"]))\n",
    "create_button = utils.Button(\n",
    "    description = '', disabled = False, button_style = '', tooltip = 'Save', \n",
    "    icon = 'save', layout = ipw.Layout(width = '100px', height = '50px')\n",
    ")\n",
    "quit_button = utils.Button(\n",
    "    description = '', disabled = False, button_style = '', \n",
    "    tooltip = 'Main menu', icon = 'home', layout = ipw.Layout(width = '100px', height = '50px')\n",
    ")\n",
    "save_close_buttons_hbox = ipw.HBox([create_button, quit_button])"
   ]
  },
  {
   "cell_type": "code",
   "execution_count": null,
   "metadata": {},
   "outputs": [],
   "source": [
    "def add_molecule_widget(b):\n",
    "    molecule_selector_list.add_selector()\n",
    "    with molecule_selector_list_output:\n",
    "        clear_output()\n",
    "        display(molecule_selector_list)\n",
    "\n",
    "def remove_molecule_widget(b):\n",
    "    molecule_selector_list.remove_selector()\n",
    "    with molecule_selector_list_output:\n",
    "        clear_output()\n",
    "        display(molecule_selector_list)\n",
    "\n",
    "def add_product_widget(b):\n",
    "    product_selector_list.add_selector()\n",
    "    with product_selector_list_output:\n",
    "        clear_output()\n",
    "        display(product_selector_list)\n",
    "\n",
    "def remove_product_widget(b):\n",
    "    product_selector_list.remove_selector()\n",
    "    with product_selector_list_output:\n",
    "        clear_output()\n",
    "        display(product_selector_list)\n",
    "\n",
    "def close_notebook(b):\n",
    "    display(utils.Javascript(data = 'window.location.replace(\"home.ipynb\")'))\n",
    "    \n",
    "# Function to create atomistic model object inside openBIS using information selected in the app\n",
    "def create_atomistic_model_action(b):\n",
    "    atom_model_parents = []\n",
    "    if material_selector.dropdown.value != -1:\n",
    "        atom_model_parents.append(material_selector.dropdown.value)\n",
    "    if molecule_selector_list.selectors:\n",
    "        for molecule_selector in molecule_selector_list.selectors:\n",
    "            if molecule_selector.dropdown.value != -1:\n",
    "                atom_model_parents.append(molecule_selector.dropdown.value)\n",
    "    if product_selector_list.selectors:\n",
    "        for product_selector in product_selector_list.selectors:\n",
    "            if product_selector.dropdown.value != -1:\n",
    "                atom_model_parents.append(product_selector.dropdown.value)\n",
    "    \n",
    "    object_properties = {}\n",
    "    is_ase_model_valid = False\n",
    "    if atomistic_model_ase_upload.value:\n",
    "        for filename in atomistic_model_ase_upload.value:\n",
    "            file_info = atomistic_model_ase_upload.value[filename]\n",
    "            utils.save_file(file_info['content'], filename)\n",
    "            try:\n",
    "                ase_model = ase.io.read(filename)\n",
    "                is_ase_model_valid = True\n",
    "            except ase.io.formats.UnknownFileTypeError:\n",
    "                is_ase_model_valid = False\n",
    "    \n",
    "    if is_ase_model_valid:  \n",
    "        dimensionality = aiida_utils.guess_dimensionality(ase_model)\n",
    "        object_properties[\"$name\"] = ase_model.get_chemical_formula()\n",
    "        object_properties[\"structure\"] = json.dumps(ase.io.jsonio.encode(ase_model))\n",
    "        object_properties[\"dimensionality\"] = int(dimensionality[0])\n",
    "        object_properties[\"periodic_boundary_conditions\"] = [bool(i) for i in dimensionality[1]]\n",
    "                        \n",
    "        atomistic_model_object = utils.create_openbis_object(\n",
    "            OPENBIS_SESSION, type=\"ATOMISTIC_MODEL\", \n",
    "            collection=\"/MATERIALS/ATOMISTIC_MODELS/ATOMISTIC_MODEL_COLLECTION\", \n",
    "            props=object_properties, parents=atom_model_parents\n",
    "        )\n",
    "        \n",
    "        utils.create_openbis_dataset(\n",
    "            OPENBIS_SESSION, type = \"ELN_PREVIEW\", \n",
    "            sample = atomistic_model_object, files = [aiida_utils.geo_to_png(ase_model)]\n",
    "        )\n",
    "        \n",
    "        utils.create_openbis_dataset(\n",
    "            OPENBIS_SESSION, type = \"RAW_DATA\", \n",
    "            sample = atomistic_model_object, files = [filename]\n",
    "        )\n",
    "        \n",
    "        os.remove(filename)\n",
    "        \n",
    "        display(utils.Javascript(data = \"alert('Upload successful!')\"))\n",
    "    else:\n",
    "        display(utils.Javascript(data = \"alert('Upload an ASE model.')\"))\n",
    "\n",
    "def select_material_radio_change(change):\n",
    "    material_title = material_selection_radio_button.value\n",
    "    if material_title == \"No material\":\n",
    "        with material_selector:\n",
    "            clear_output()\n",
    "            material_selector.dropdown.value = -1\n",
    "            return\n",
    "    \n",
    "    material_selector.details_textbox.value = ''\n",
    "    for object_type in CONFIG[\"slabs_concepts\"]:\n",
    "        object_schema = DATA_MODEL[\"classes\"][object_type]\n",
    "        object_title = object_schema[\"title\"]\n",
    "        if material_title == object_title:\n",
    "            material_type = object_type\n",
    "            \n",
    "    with material_selector:\n",
    "        clear_output()\n",
    "        display_list = [\n",
    "            material_selector.dropdown_boxes,\n",
    "            ipw.HBox([material_selector.details_textbox, material_selector.image_box])\n",
    "        ]\n",
    "        material_selector.load_dropdown_box(material_type)\n",
    "        display(ipw.VBox(display_list))"
   ]
  },
  {
   "cell_type": "markdown",
   "metadata": {},
   "source": [
    "# Create an atomistic model object in openBIS"
   ]
  },
  {
   "cell_type": "markdown",
   "metadata": {},
   "source": [
    "## Select material"
   ]
  },
  {
   "cell_type": "code",
   "execution_count": null,
   "metadata": {},
   "outputs": [],
   "source": [
    "display(material_selection_radio_button)\n",
    "display(material_selector)"
   ]
  },
  {
   "cell_type": "markdown",
   "metadata": {},
   "source": [
    "## Select molecules"
   ]
  },
  {
   "cell_type": "code",
   "execution_count": null,
   "metadata": {},
   "outputs": [],
   "source": [
    "display(molecule_selector_list_output)\n",
    "with molecule_selector_list_output:\n",
    "    display(molecule_selector_list)  \n",
    "display(add_remove_molecule_buttons_hbox)"
   ]
  },
  {
   "cell_type": "markdown",
   "metadata": {},
   "source": [
    "## Select reaction products"
   ]
  },
  {
   "cell_type": "code",
   "execution_count": null,
   "metadata": {},
   "outputs": [],
   "source": [
    "display(product_selector_list_output)\n",
    "with product_selector_list_output:\n",
    "    display(product_selector_list)  \n",
    "display(add_remove_product_buttons_hbox)"
   ]
  },
  {
   "cell_type": "markdown",
   "metadata": {},
   "source": [
    "## Upload ASE model"
   ]
  },
  {
   "cell_type": "code",
   "execution_count": null,
   "metadata": {},
   "outputs": [],
   "source": [
    "display(atomistic_model_ase_upload)"
   ]
  },
  {
   "cell_type": "code",
   "execution_count": null,
   "metadata": {},
   "outputs": [],
   "source": [
    "create_button.on_click(create_atomistic_model_action)\n",
    "quit_button.on_click(close_notebook)\n",
    "add_molecule_button.on_click(add_molecule_widget)\n",
    "remove_molecule_button.on_click(remove_molecule_widget)\n",
    "add_product_button.on_click(add_product_widget)\n",
    "remove_product_button.on_click(remove_product_widget)\n",
    "material_selection_radio_button.observe(select_material_radio_change, names='value')\n",
    "material_selector.dropdown.observe(material_selector.load_metadata, names = 'value')\n",
    "display(save_close_buttons_hbox)\n",
    "display(increase_buttons_size)"
   ]
  }
 ],
 "metadata": {
  "kernelspec": {
   "display_name": "base",
   "language": "python",
   "name": "python3"
  },
  "language_info": {
   "codemirror_mode": {
    "name": "ipython",
    "version": 3
   },
   "file_extension": ".py",
   "mimetype": "text/x-python",
   "name": "python",
   "nbconvert_exporter": "python",
   "pygments_lexer": "ipython3",
   "version": "3.9.13"
  }
 },
 "nbformat": 4,
 "nbformat_minor": 2
}
