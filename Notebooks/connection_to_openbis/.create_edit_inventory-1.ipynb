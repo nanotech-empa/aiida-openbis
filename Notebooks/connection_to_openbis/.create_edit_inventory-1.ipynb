{
 "cells": [
  {
   "cell_type": "code",
   "execution_count": null,
   "id": "2a18cc42",
   "metadata": {},
   "outputs": [],
   "source": [
    "from IPython.display import display, Markdown\n",
    "import ipywidgets as ipw\n",
    "import widgets\n",
    "import utils\n",
    "import os\n",
    "import json"
   ]
  },
  {
   "cell_type": "code",
   "execution_count": null,
   "id": "22df2fc6",
   "metadata": {},
   "outputs": [],
   "source": [
    "CONFIG = utils.read_json(\"config.json\")\n",
    "CONFIG_ELN = utils.get_aiidalab_eln_config()\n",
    "DATA_MODEL = utils.read_yaml(\"/home/jovyan/aiida-openbis/Notebooks/Metadata_Schemas_LinkML/materialMLinfo.yaml\")\n",
    "OPENBIS_SESSION, SESSION_DATA = utils.connect_openbis(CONFIG_ELN[\"url\"], CONFIG_ELN[\"token\"])\n",
    "\n",
    "inventory_types = [\n",
    "    (\"Select inventory object type...\", -1),\n",
    "    (\"Crystal\", \"Crystal\"),\n",
    "    (\"Crystal Concept\", \"CrystalConcept\"),\n",
    "    (\"Molecule\", \"Molecule\"),\n",
    "    (\"Molecule Concept\", \"MoleculeConcept\"),\n",
    "    (\"Reaction Product Concept\", \"ReactionProductConcept\"),\n",
    "    (\"Reaction Product\", \"ReactionProduct\"),\n",
    "    (\"2D Layer Material\", \"TwoDLayerMaterial\")\n",
    "] \n",
    "\n",
    "inventory_type_dropdown = utils.Dropdown(\n",
    "    options = inventory_types,\n",
    "    value = -1\n",
    ")\n",
    "\n",
    "object_widget = ipw.VBox()\n",
    "\n",
    "increase_buttons_size = utils.HTML(data = ''.join(CONFIG[\"save_home_buttons_settings\"]))\n",
    "create_button = utils.Button(\n",
    "    description = '', disabled = False, button_style = '', tooltip = 'Save', \n",
    "    icon = 'save', layout = ipw.Layout(width = '100px', height = '50px')\n",
    ")\n",
    "quit_button = utils.Button(\n",
    "    description = '', disabled = False, button_style = '', \n",
    "    tooltip = 'Main menu', icon = 'home', layout = ipw.Layout(width = '100px', height = '50px')\n",
    ")\n",
    "save_close_buttons_hbox = ipw.HBox([create_button, quit_button])"
   ]
  },
  {
   "cell_type": "code",
   "execution_count": null,
   "id": "5a85e625",
   "metadata": {},
   "outputs": [],
   "source": [
    "def close_notebook(b):\n",
    "    display(utils.Javascript(data = 'window.location.replace(\"home.ipynb\")'))\n",
    "    \n",
    "def select_inventory_type(change):\n",
    "    inventory_type = inventory_type_dropdown.value\n",
    "    if inventory_type == -1:\n",
    "        object_widget.children = []\n",
    "        return\n",
    "\n",
    "    object_props_widgets = widgets.OpenbisObjectWidget(inventory_type, DATA_MODEL)\n",
    "    \n",
    "    if inventory_type in [\"Crystal\", \"Molecule\", \"TwoDLayerMaterial\"]:\n",
    "        checkbox_on_change(\n",
    "            object_props_widgets.properties_widgets[\"hazardous\"][\"value_widget\"], \n",
    "            object_props_widgets.properties_widgets[\"hazardous_specification\"][\"value_widget\"]\n",
    "        )\n",
    "        checkbox_on_change(\n",
    "            object_props_widgets.properties_widgets[\"other_storage_condition\"][\"value_widget\"], \n",
    "            object_props_widgets.properties_widgets[\"other_storage_condition_specification\"][\"value_widget\"]\n",
    "        )\n",
    "    \n",
    "    object_widget.children = [object_props_widgets]\n",
    "\n",
    "def create_object_openbis(b):\n",
    "    inventory_type = inventory_type_dropdown.value\n",
    "    if inventory_type == -1:\n",
    "        return\n",
    "\n",
    "    if inventory_type == \"Molecule\":\n",
    "        object_selector = object_widget.children[0].properties_widgets[\"molecule_concept\"][\"value_widget\"].dropdown\n",
    "        if object_selector.value == -1:\n",
    "            display(utils.Javascript(data = \"alert('Select a molecule concept.')\"))\n",
    "            return\n",
    "        \n",
    "        # Check if the molecule is already in openBIS\n",
    "        molecules_empa_id_openbis = [f\"{molecule.props['empa_number']}-{molecule.props['batch']}\" for molecule in utils.get_openbis_objects(OPENBIS_SESSION, type =\"MOLECULE\")]\n",
    "        object_properties = object_widget.children[0].get_values()\n",
    "        \n",
    "        if \"empa_number\" not in object_properties:\n",
    "            display(utils.Javascript(data = \"alert('Empa number was not specified.')\"))\n",
    "            return\n",
    "        else:\n",
    "            object_properties[\"empa_number\"] = int(object_properties[\"empa_number\"])\n",
    "\n",
    "        if \"batch\" not in object_properties:\n",
    "            display(utils.Javascript(data = \"alert('Batch was not specified.')\"))\n",
    "            return\n",
    "        \n",
    "        molecule_empa_id = f\"{object_properties['empa_number']}-{object_properties['batch']}\"\n",
    "        if molecule_empa_id in molecules_empa_id_openbis:\n",
    "            display(utils.Javascript(data = \"alert('Molecule is already in openBIS!')\"))\n",
    "            return\n",
    "        \n",
    "        molecule_object = utils.create_openbis_object(\n",
    "            OPENBIS_SESSION, type=\"MOLECULE\", \n",
    "            collection=\"/MATERIALS/MOLECULES/PRECURSOR_COLLECTION\", \n",
    "            props = object_properties\n",
    "        )\n",
    "        \n",
    "    # utils.upload_datasets(OPENBIS_SESSION, molecule_object, molecule_support_files, \"RAW_DATA\")\n",
    "    display(utils.Javascript(data = \"alert('Upload successful!')\"))\n",
    "\n",
    "def checkbox_on_change(checkbox, textbox):\n",
    "    textbox.disabled = True\n",
    "    def enable_textbox(change):\n",
    "        if checkbox.value:\n",
    "            textbox.disabled = False\n",
    "        else:\n",
    "            textbox.disabled = True\n",
    "    checkbox.observe(enable_textbox, names = \"value\")"
   ]
  },
  {
   "cell_type": "code",
   "execution_count": null,
   "id": "388bcc07",
   "metadata": {},
   "outputs": [],
   "source": [
    "inventory_type_dropdown.observe(select_inventory_type, names = 'value')"
   ]
  },
  {
   "cell_type": "markdown",
   "id": "18167624",
   "metadata": {},
   "source": [
    "# Register/edit inventory objects"
   ]
  },
  {
   "cell_type": "markdown",
   "id": "5f8e2fe2",
   "metadata": {},
   "source": [
    "## Select object type"
   ]
  },
  {
   "cell_type": "code",
   "execution_count": null,
   "id": "6138e9fe",
   "metadata": {},
   "outputs": [],
   "source": [
    "display(inventory_type_dropdown)"
   ]
  },
  {
   "cell_type": "markdown",
   "id": "bad30d09",
   "metadata": {},
   "source": [
    "## Properties"
   ]
  },
  {
   "cell_type": "code",
   "execution_count": null,
   "id": "f84d4a05",
   "metadata": {},
   "outputs": [],
   "source": [
    "display(object_widget)"
   ]
  },
  {
   "cell_type": "markdown",
   "id": "c00fc6a2",
   "metadata": {},
   "source": [
    "## Support files"
   ]
  },
  {
   "cell_type": "code",
   "execution_count": null,
   "id": "b50f3e2b",
   "metadata": {},
   "outputs": [],
   "source": [
    "# display(molecule_support_files)"
   ]
  },
  {
   "cell_type": "markdown",
   "id": "94f2d072",
   "metadata": {},
   "source": [
    "## Save results"
   ]
  },
  {
   "cell_type": "code",
   "execution_count": null,
   "id": "08efba53",
   "metadata": {},
   "outputs": [],
   "source": [
    "display(save_close_buttons_hbox)\n",
    "display(increase_buttons_size)\n",
    "create_button.on_click(create_object_openbis)\n",
    "quit_button.on_click(close_notebook)"
   ]
  }
 ],
 "metadata": {
  "language_info": {
   "name": "python"
  }
 },
 "nbformat": 4,
 "nbformat_minor": 5
}
