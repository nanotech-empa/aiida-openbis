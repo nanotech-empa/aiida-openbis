{
 "cells": [
  {
   "cell_type": "code",
   "execution_count": null,
   "metadata": {},
   "outputs": [],
   "source": [
    "from IPython.display import display\n",
    "import ipywidgets as ipw\n",
    "import widgets\n",
    "import utils\n",
    "import os"
   ]
  },
  {
   "cell_type": "code",
   "execution_count": null,
   "metadata": {},
   "outputs": [],
   "source": [
    "CONFIG = utils.read_json(\"config.json\")\n",
    "CONFIG_ELN = utils.get_aiidalab_eln_config()\n",
    "DATA_MODEL = utils.read_yaml(\"/home/jovyan/aiida-openbis/Notebooks/Metadata_Schemas_LinkML/materialMLinfo.yaml\")\n",
    "OPENBIS_SESSION, SESSION_DATA = utils.connect_openbis(CONFIG_ELN[\"url\"], CONFIG_ELN[\"token\"])\n",
    "\n",
    "project_selector = widgets.ProjectSelectionWidget()\n",
    "project_selector.load_dropdown_box()\n",
    "\n",
    "measurements_selector = widgets.ObjectMultipleSelectionWidget(\"Measurements\")\n",
    "simulations_selector = widgets.ObjectMultipleSelectionWidget(\"Simulations\")\n",
    "software_selector = widgets.ObjectMultipleSelectionWidget(\"Software\")\n",
    "software_selector.load_selector([\"SOFTWARE\"])\n",
    "code_selector = widgets.ObjectMultipleSelectionWidget(\"Code\")\n",
    "code_selector.load_selector([\"CODE\"])\n",
    "\n",
    "analysis_widgets = widgets.OpenbisObjectWidget(\"Analysis\", DATA_MODEL)\n",
    "\n",
    "analysis_support_files = ipw.FileUpload(multiple = True)\n",
    "\n",
    "increase_buttons_size = utils.HTML(data = ''.join(CONFIG[\"save_home_buttons_settings\"]))\n",
    "create_button = utils.Button(\n",
    "    description = '', disabled = False, button_style = '', tooltip = 'Save', \n",
    "    icon = 'save', layout = ipw.Layout(width = '100px', height = '50px')\n",
    ")\n",
    "quit_button = utils.Button(\n",
    "    description = '', disabled = False, button_style = '', \n",
    "    tooltip = 'Main menu', icon = 'home', layout = ipw.Layout(width = '100px', height = '50px')\n",
    ")\n",
    "save_close_buttons_hbox = ipw.HBox([create_button, quit_button])"
   ]
  },
  {
   "cell_type": "code",
   "execution_count": null,
   "metadata": {},
   "outputs": [],
   "source": [
    "def close_notebook(b):\n",
    "    display(utils.Javascript(data = 'window.location.replace(\"home.ipynb\")'))\n",
    "\n",
    "def load_project_objects_metadata(change):\n",
    "    if project_selector.dropdown.value != -1:\n",
    "        simulation_types = [\"GEOMETRY_OPTIMISATION\", \"BAND_STRUCTURE\", \"VIBRATIONAL_SPECTROSCOPY\", \"PDOS\", \"MEASUREMENT_SESSION\"]\n",
    "        simulations_selector.load_selector(simulation_types, project_selector.dropdown.value)\n",
    "        measurements_selector.load_selector([\"MEASUREMENT_SESSION\"], project_selector.dropdown.value)\n",
    "\n",
    "def create_analysis_openbis(b):\n",
    "    if project_selector.dropdown.value == -1:\n",
    "        display(utils.Javascript(data = \"alert('Select a project.')\"))\n",
    "        return\n",
    "    \n",
    "    project_permid = project_selector.dropdown.value\n",
    "    project_analysis_collection = OPENBIS_SESSION.get_collections(project = project_permid, code = \"ANALYSIS_COLLECTION\")\n",
    "    analysis_parents = []\n",
    "    analysis_parents.extend(list(measurements_selector.selector.value))\n",
    "    analysis_parents.extend(list(simulations_selector.selector.value))\n",
    "    \n",
    "    if len(project_analysis_collection) == 0:\n",
    "        analysis_collection = utils.create_openbis_collection(\n",
    "            OPENBIS_SESSION, \n",
    "            project = project_selector.dropdown.value, \n",
    "            code = \"ANALYSIS_COLLECTION\", type = \"COLLECTION\", props = {\"name\": \"Analysis\"}\n",
    "        )\n",
    "    else:\n",
    "        analysis_collection = project_analysis_collection[0]\n",
    "\n",
    "    object_properties = utils.get_object_widget_values(analysis_widgets.properties_widgets)\n",
    "    object_properties[\"softwares\"] = list(software_selector.selector.value)\n",
    "    object_properties[\"codes\"] = list(code_selector.selector.value)\n",
    "    \n",
    "    results_object = utils.create_openbis_object(\n",
    "        OPENBIS_SESSION, type=\"ANALYSIS\", collection=analysis_collection, \n",
    "        props = object_properties, parents = analysis_parents\n",
    "    )\n",
    "    utils.upload_datasets(OPENBIS_SESSION, results_object, analysis_support_files, \"RAW_DATA\")\n",
    "    \n",
    "    display(utils.Javascript(data = \"alert('Upload successful!')\"))\n",
    "    \n",
    "    # Reset widgets\n",
    "    simulations_selector.selector.options = []\n",
    "    measurements_selector.selector.options = []\n",
    "    software_selector.selector.value = []\n",
    "    project_selector.dropdown.value = -1"
   ]
  },
  {
   "cell_type": "markdown",
   "metadata": {},
   "source": [
    "# Create analysis"
   ]
  },
  {
   "cell_type": "markdown",
   "metadata": {},
   "source": [
    "## Select project"
   ]
  },
  {
   "cell_type": "code",
   "execution_count": null,
   "metadata": {},
   "outputs": [],
   "source": [
    "display(project_selector.dropdown_boxes)\n",
    "project_selector.dropdown.observe(load_project_objects_metadata, names = 'value')"
   ]
  },
  {
   "cell_type": "markdown",
   "metadata": {},
   "source": [
    "## Select simulations"
   ]
  },
  {
   "cell_type": "code",
   "execution_count": null,
   "metadata": {},
   "outputs": [],
   "source": [
    "display(simulations_selector)"
   ]
  },
  {
   "cell_type": "markdown",
   "metadata": {},
   "source": [
    "## Select measurements"
   ]
  },
  {
   "cell_type": "code",
   "execution_count": null,
   "metadata": {},
   "outputs": [],
   "source": [
    "display(measurements_selector)"
   ]
  },
  {
   "cell_type": "markdown",
   "metadata": {},
   "source": [
    "## Select software"
   ]
  },
  {
   "cell_type": "code",
   "execution_count": null,
   "metadata": {},
   "outputs": [],
   "source": [
    "display(software_selector)"
   ]
  },
  {
   "cell_type": "markdown",
   "metadata": {},
   "source": [
    "## Select code"
   ]
  },
  {
   "cell_type": "code",
   "execution_count": null,
   "metadata": {},
   "outputs": [],
   "source": [
    "display(code_selector)"
   ]
  },
  {
   "cell_type": "markdown",
   "metadata": {},
   "source": [
    "## Properties"
   ]
  },
  {
   "cell_type": "code",
   "execution_count": null,
   "metadata": {},
   "outputs": [],
   "source": [
    "display(analysis_widgets)"
   ]
  },
  {
   "cell_type": "markdown",
   "metadata": {},
   "source": [
    "## Support files"
   ]
  },
  {
   "cell_type": "code",
   "execution_count": null,
   "metadata": {},
   "outputs": [],
   "source": [
    "display(analysis_support_files)"
   ]
  },
  {
   "cell_type": "markdown",
   "metadata": {},
   "source": [
    "## Save results"
   ]
  },
  {
   "cell_type": "code",
   "execution_count": null,
   "metadata": {},
   "outputs": [],
   "source": [
    "display(save_close_buttons_hbox)\n",
    "display(increase_buttons_size)\n",
    "create_button.on_click(create_analysis_openbis)\n",
    "quit_button.on_click(close_notebook)"
   ]
  }
 ],
 "metadata": {
  "kernelspec": {
   "display_name": "base",
   "language": "python",
   "name": "python3"
  },
  "language_info": {
   "codemirror_mode": {
    "name": "ipython",
    "version": 3
   },
   "file_extension": ".py",
   "mimetype": "text/x-python",
   "name": "python",
   "nbconvert_exporter": "python",
   "pygments_lexer": "ipython3",
   "version": "3.9.13"
  }
 },
 "nbformat": 4,
 "nbformat_minor": 2
}
