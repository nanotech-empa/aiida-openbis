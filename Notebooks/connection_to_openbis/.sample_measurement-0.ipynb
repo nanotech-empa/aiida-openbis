{
 "cells": [
  {
   "cell_type": "code",
   "execution_count": 2,
   "metadata": {},
   "outputs": [],
   "source": [
    "from IPython.display import display\n",
    "import ipywidgets as ipw\n",
    "import widgets\n",
    "import utils\n",
    "import datetime\n",
    "import os\n",
    "import nanonis_importer"
   ]
  },
  {
   "cell_type": "code",
   "execution_count": null,
   "metadata": {},
   "outputs": [],
   "source": [
    "CONFIG = utils.read_json(\"config.json\")\n",
    "CONFIG_ELN = utils.get_aiidalab_eln_config()\n",
    "DATA_MODEL = utils.read_yaml(\"/home/jovyan/aiida-openbis/Notebooks/Metadata_Schemas_LinkML/materialMLinfo.yaml\")\n",
    "# CONFIG_ELN = utils.read_json(\"eln_config.json\")\n",
    "OPENBIS_SESSION, SESSION_DATA = utils.connect_openbis(CONFIG_ELN[\"url\"], CONFIG_ELN[\"token\"])\n",
    "\n",
    "SAMPLE_PREPARATION_SAMPLE_TYPES = []\n",
    "for sample_preparation in CONFIG[\"sample_preparation\"]:\n",
    "    object_type = DATA_MODEL[\"classes\"][sample_preparation][\"annotations\"][\"openbis_label\"].replace(\" \", \"_\").upper()\n",
    "    SAMPLE_PREPARATION_SAMPLE_TYPES.append(object_type)\n",
    "\n",
    "SLABS_TYPES = []\n",
    "for slab in CONFIG[\"slabs\"]:\n",
    "    object_type = DATA_MODEL[\"classes\"][slab][\"annotations\"][\"openbis_label\"].replace(\" \", \"_\").upper()\n",
    "    SLABS_TYPES.append(object_type)\n",
    "\n",
    "SAMPLES_COLLECTION_OPENBIS_PATH = CONFIG[\"samples_collection_openbis_path\"]\n",
    "MEASUREMENT_FILE_EXTENSIONS = CONFIG[\"measurement_file_extensions\"]\n",
    "\n",
    "experiment_selector = widgets.ExperimentSelectionWidget()\n",
    "experiment_selector.load_dropdown_box()\n",
    "\n",
    "sample_selector_config = {\n",
    "    \"dropdown\": {\"width\": \"315px\"},\n",
    "    \"details\": {\"width\": \"589px\", \"height\": \"250px\"}\n",
    "}\n",
    "sample_selector = widgets.ObjectSelectionWidget(\"Sample\", sample_selector_config)\n",
    "sample_selector.load_dropdown_box(\"SAMPLE\", \"sample\")\n",
    "\n",
    "instrument_selector = widgets.ObjectSelectionWidget(\"Instrument\")\n",
    "instrument_selector.load_dropdown_box(\"INSTRUMENT\", \"instrument\")\n",
    "\n",
    "sample_out_name_textbox = utils.Text(\n",
    "    description = \"Name\", disabled = False, layout = ipw.Layout(width = '400px'), \n",
    "    placeholder = f\"Write sample name here...\", style = {'description_width': \"110px\"}\n",
    ")\n",
    "\n",
    "increase_buttons_size = utils.HTML(data = ''.join(CONFIG[\"save_home_buttons_settings\"]))\n",
    "create_button = utils.Button(\n",
    "    description = '', disabled = False, button_style = '', tooltip = 'Save', \n",
    "    icon = 'save', layout = ipw.Layout(width = '100px', height = '50px')\n",
    ")\n",
    "quit_button = utils.Button(\n",
    "    description = '', disabled = False, button_style = '', \n",
    "    tooltip = 'Main menu', icon = 'home', layout = ipw.Layout(width = '100px', height = '50px')\n",
    ")\n",
    "\n",
    "save_close_buttons_hbox = ipw.HBox([create_button, quit_button])\n",
    "\n",
    "folder_selector = utils.FileChooser(path = '.', select_default=True, use_dir_icons=True, show_only_dirs = True)"
   ]
  },
  {
   "cell_type": "code",
   "execution_count": null,
   "metadata": {},
   "outputs": [],
   "source": [
    "def load_sample_metadata(change):\n",
    "    if sample_selector.dropdown.value == -1:\n",
    "        instrument_selector.dropdown.value = -1\n",
    "        sample_selector.details_textbox.value = ''\n",
    "        sample_out_name_textbox.value = ''\n",
    "        return\n",
    "    \n",
    "    sample_object = OPENBIS_SESSION.get_object(sample_selector.dropdown.value)\n",
    "    sample_details = utils.get_sample_details(OPENBIS_SESSION, sample_object, SAMPLE_PREPARATION_SAMPLE_TYPES, SLABS_TYPES)\n",
    "    \n",
    "    sample_metadata_string = (f\"PermId: {sample_object.attrs.permId}\\nMaterial:\\n\" +\n",
    "                            \"\\n\".join(sample_details[\"materials\"]) + \n",
    "                            \"\\nProcesses:\\n\" + \n",
    "                            \"\\n\".join(sample_details[\"sample_preparations\"]))\n",
    "    \n",
    "    last_sample_preparation = sample_details[\"last_sample_preparation_object\"]\n",
    "    if last_sample_preparation:\n",
    "        last_sample_preparation_object = OPENBIS_SESSION.get_object(last_sample_preparation)\n",
    "        last_sample_experiment = utils.get_last_sample_experiment(OPENBIS_SESSION, sample_object, last_sample_preparation_object)\n",
    "        \n",
    "        # Notify the user in case the experiment changed\n",
    "        if experiment_selector.dropdown.value != last_sample_experiment.permId and experiment_selector.dropdown.value != -1:\n",
    "            dropdown_options_dict = {key: val for val, key in experiment_selector.dropdown.options}\n",
    "            previous_experiment_name = dropdown_options_dict.get(experiment_selector.dropdown.value)\n",
    "            new_experiment_name = dropdown_options_dict.get(last_sample_experiment.permId)\n",
    "            display(utils.Javascript(data = f\"alert('{f'Experiment was changed from {previous_experiment_name} to {new_experiment_name}!'}')\"))\n",
    "\n",
    "        instrument_object = utils.get_last_sample_instrument(OPENBIS_SESSION, last_sample_preparation_object)\n",
    "        \n",
    "        experiment_selector.dropdown.value = last_sample_experiment.permId\n",
    "        instrument_selector.dropdown.value = instrument_object.permId\n",
    "    \n",
    "    sample_selector.details_textbox.value = sample_metadata_string\n",
    "    sample_out_name = sample_object.props['$name']\n",
    "    sample_out_name_textbox.value = sample_out_name\n",
    "\n",
    "def close_notebook(b):\n",
    "    display(utils.Javascript(data = 'window.location.replace(\"home.ipynb\")'))\n",
    "    \n",
    "def create_measurements(folderpath, sample_experiment, sample_object, object):\n",
    "    paths = utils.full_listdir(folderpath)\n",
    "    any_readable_measurement = any(f\".{filename.split('.')[-1]}\" in MEASUREMENT_FILE_EXTENSIONS for filename in paths)\n",
    "    \n",
    "    if any_readable_measurement:\n",
    "        nanonis_importer.upload_measurements_into_openbis(\n",
    "                SESSION_DATA['url'], folderpath,\n",
    "                sample_experiment, sample_object.permId,\n",
    "                object.permId,\n",
    "                instrument_selector.dropdown.value\n",
    "        )\n",
    "    else:\n",
    "        output_message = f\"Folder does not contain any readable measurement file: {', '.join(MEASUREMENT_FILE_EXTENSIONS)}.\"\n",
    "        print(output_message)\n",
    "        \n",
    "    for path in paths:\n",
    "        if os.path.isdir(path):\n",
    "            path_exists_in_openbis = False\n",
    "            object_children = object.get_children()\n",
    "            for child in object_children:\n",
    "                if child.type == \"MEASUREMENTS\" and child.props[\"$name\"] == path:\n",
    "                    path_exists_in_openbis = True\n",
    "                    break\n",
    "            \n",
    "            if path_exists_in_openbis:\n",
    "                measurements_object = child\n",
    "            else:\n",
    "                measurements_object = utils.create_openbis_object(\n",
    "                    OPENBIS_SESSION, type = \"MEASUREMENTS\", \n",
    "                    collection = sample_experiment, \n",
    "                    props = {\n",
    "                        \"$name\": path,\n",
    "                        \"$default_object_view\": \"IMAGING_GALLERY_VIEW\",\n",
    "                        \"measurements_folder_path\": path\n",
    "                    },\n",
    "                    parents = [object.permId]\n",
    "                )\n",
    "                \n",
    "            create_measurements(path, sample_experiment, sample_object, measurements_object)\n",
    "\n",
    "def upload_measurements_to_openbis(b):\n",
    "    sample_object = OPENBIS_SESSION.get_object(sample_selector.dropdown.value)\n",
    "    \n",
    "    # Get sample experiment from parent\n",
    "    sample_experiment = experiment_selector.dropdown.value\n",
    "    \n",
    "    if not sample_experiment:\n",
    "        print(\"Sample does not belong to any project yet.\")\n",
    "        return\n",
    "    \n",
    "    # Check if sample is being measured for the first time after the preparation or if\n",
    "    # some measurements were already performed before the next preparation\n",
    "    measurements_object = None\n",
    "    new_measurements = True\n",
    "    if sample_object.children:\n",
    "        for sample_child in sample_object.children:\n",
    "            sample_child_object = OPENBIS_SESSION.get_object(sample_child)\n",
    "            if sample_child_object.type in [\"1D_MEASUREMENT\", \"2D_MEASUREMENT\"]:\n",
    "                measurements_object = utils.find_first_object_permid(OPENBIS_SESSION, sample_child_object, \"MEASUREMENTS\")\n",
    "                # The same sample may be used in different experiments, e.g., sample with a crystal used for calibration\n",
    "                if measurements_object.experiment.permId == sample_experiment:\n",
    "                    new_measurements = False\n",
    "                    break\n",
    "    \n",
    "    # Register measurements in a different experiment then the preparation experiment\n",
    "    if measurements_object:\n",
    "        if measurements_object.experiment.permId != sample_experiment:\n",
    "            new_measurements = True\n",
    "    \n",
    "    data_folder = folder_selector.selected_path\n",
    "    sample_name = sample_object.props[\"$name\"]\n",
    "    if new_measurements:\n",
    "        measurements_object = utils.create_openbis_object(\n",
    "            OPENBIS_SESSION, type = \"MEASUREMENTS\", \n",
    "            collection = sample_experiment, \n",
    "            props = {\n",
    "                \"$name\": f\"Measurements of {sample_name}\",\n",
    "                \"$default_object_view\": \"IMAGING_GALLERY_VIEW\",\n",
    "                \"measurements_folder_path\": data_folder\n",
    "            }\n",
    "        )\n",
    "        \n",
    "    create_measurements(data_folder, sample_experiment, sample_object, measurements_object)\n",
    "    \n",
    "    # Reset widgets\n",
    "    experiment_selector.dropdown.value = -1\n",
    "    instrument_selector.dropdown.value = -1\n",
    "    sample_selector.dropdown.value = -1\n"
   ]
  },
  {
   "cell_type": "markdown",
   "metadata": {},
   "source": [
    "# Measurement Uploader"
   ]
  },
  {
   "cell_type": "markdown",
   "metadata": {},
   "source": [
    "## Select experiment"
   ]
  },
  {
   "cell_type": "code",
   "execution_count": null,
   "metadata": {},
   "outputs": [],
   "source": [
    "display(experiment_selector)"
   ]
  },
  {
   "cell_type": "markdown",
   "metadata": {},
   "source": [
    "## Select sample"
   ]
  },
  {
   "cell_type": "code",
   "execution_count": null,
   "metadata": {},
   "outputs": [],
   "source": [
    "display(sample_selector, instrument_selector)\n",
    "create_button.on_click(upload_measurements_to_openbis)\n",
    "quit_button.on_click(close_notebook)\n",
    "sample_selector.dropdown.observe(load_sample_metadata, names = 'value')"
   ]
  },
  {
   "cell_type": "markdown",
   "metadata": {},
   "source": [
    "## Select measurements folders"
   ]
  },
  {
   "cell_type": "code",
   "execution_count": null,
   "metadata": {},
   "outputs": [],
   "source": [
    "display(folder_selector)\n",
    "display(save_close_buttons_hbox)\n",
    "display(increase_buttons_size)"
   ]
  },
  {
   "cell_type": "code",
   "execution_count": null,
   "metadata": {},
   "outputs": [
    {
     "data": {
      "text/plain": [
       "['/home/jovyan/prep1/RT008/01_06_RT008',\n",
       " '/home/jovyan/prep1/RT008/01_02_RT008',\n",
       " '/home/jovyan/prep1/RT008/01_04_RT008']"
      ]
     },
     "execution_count": 4,
     "metadata": {},
     "output_type": "execute_result"
    }
   ],
   "source": []
  }
 ],
 "metadata": {
  "kernelspec": {
   "display_name": "base",
   "language": "python",
   "name": "python3"
  },
  "language_info": {
   "codemirror_mode": {
    "name": "ipython",
    "version": 3
   },
   "file_extension": ".py",
   "mimetype": "text/x-python",
   "name": "python",
   "nbconvert_exporter": "python",
   "pygments_lexer": "ipython3",
   "version": "3.9.13"
  }
 },
 "nbformat": 4,
 "nbformat_minor": 2
}
