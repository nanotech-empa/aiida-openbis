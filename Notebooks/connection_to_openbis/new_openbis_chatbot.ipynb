{
 "cells": [
  {
   "cell_type": "code",
   "execution_count": 1,
   "id": "69ba70da",
   "metadata": {},
   "outputs": [],
   "source": [
    "from IPython.display import display, Markdown, clear_output\n",
    "import ipywidgets as ipw\n",
    "import json\n",
    "import subprocess\n",
    "import atexit\n",
    "import os\n",
    "import shutil\n",
    "from src import widgets, ai_agent, utils"
   ]
  },
  {
   "cell_type": "code",
   "execution_count": 2,
   "id": "b9c99731",
   "metadata": {},
   "outputs": [],
   "source": [
    "# ai_agent._get_experiments()"
   ]
  },
  {
   "cell_type": "code",
   "execution_count": 3,
   "id": "90a08059",
   "metadata": {},
   "outputs": [],
   "source": [
    "CONFIG = utils.read_json(\"config.json\")\n",
    "CONFIG_ELN = utils.get_aiidalab_eln_config()\n",
    "OPENBIS_SESSION, SESSION_DATA = utils.connect_openbis(CONFIG_ELN[\"url\"], CONFIG_ELN[\"token\"])\n",
    "GOOGLE_API_KEY = utils.read_json(\"/home/jovyan/gemini_api.json\")"
   ]
  },
  {
   "cell_type": "code",
   "execution_count": 4,
   "id": "8b0083ea",
   "metadata": {},
   "outputs": [],
   "source": [
    "openbis_agent = ai_agent.OpenBISAgent(\n",
    "    google_api_key=GOOGLE_API_KEY[\"api_key\"]\n",
    ")"
   ]
  },
  {
   "cell_type": "code",
   "execution_count": 8,
   "id": "ddadc524",
   "metadata": {},
   "outputs": [],
   "source": [
    "# x = openbis_agent.ask_question(\"Which experiments are available? Give me a summary of them\")\n",
    "x = openbis_agent.ask_question(\"Is there an experiment that uses molecule 704a? If yes, give me a summary of it including the name of sample that was used and the sample that was produced by each process step and a small description of the actions and observables.\")\n",
    "# x = openbis_agent.ask_question(\"Is there molecule 704a?\")"
   ]
  },
  {
   "cell_type": "code",
   "execution_count": 9,
   "id": "94c6fc9e",
   "metadata": {},
   "outputs": [
    {
     "data": {
      "text/plain": [
       "[SystemMessage(content='\\n            You are an helpful assistant that can answer questions about experiments, simulations, and all the inventories inside \\n            openBIS. {get_current_time()}\\n        ', additional_kwargs={}, response_metadata={}, id='fb950a86-24f9-4900-a32c-ffa5fe27f416'),\n",
       " HumanMessage(content='Is there an experiment that uses molecule 704a? If yes, give me a summary of it including the name of sample that was used and the sample that was produced by each process step and a small description of the actions and observables.', additional_kwargs={}, response_metadata={}, id='29accfbb-1bda-4b98-9b01-8195f8295011'),\n",
       " AIMessage(content='', additional_kwargs={'function_call': {'name': 'get_substances_by_empa_identifier', 'arguments': '{\"batch\": \"a\", \"empa_number\": \"704\"}'}}, response_metadata={'prompt_feedback': {'block_reason': 0, 'safety_ratings': []}, 'finish_reason': 'STOP', 'safety_ratings': []}, id='run--aa9d1df5-36db-4312-9da5-326fb808294c-0', tool_calls=[{'name': 'get_substances_by_empa_identifier', 'args': {'batch': 'a', 'empa_number': '704'}, 'id': 'b7928561-09c1-4932-b6af-216ff0f61cc8', 'type': 'tool_call'}], usage_metadata={'input_tokens': 423, 'output_tokens': 33, 'total_tokens': 720, 'input_token_details': {'cache_read': 0}}),\n",
       " ToolMessage(content='[{\"name\": \"TUD-156\", \"molecules\": [{\"name\": \"704\", \"smiles\": \"Brc1ccc(-c2c(C3=Cc4ccccc4C3)c(-c3ccc(Br)cc3)c(C3=Cc4ccccc4C3)c(-c3ccc(Br)cc3)c2C2=Cc3ccccc3C2)cc1\", \"sum_formula\": \"C51H33Br3\"}], \"empa_number\": \"704\", \"batch\": \"a\", \"comments\": \"~1mg powder\", \"synthesised_by\": [{\"name\": \"Renxiang Lu\"}], \"receive_date\": \"2025-05-07\"}]', name='get_substances_by_empa_identifier', id='771b1325-d52b-409d-8513-a2461ab32329', tool_call_id='b7928561-09c1-4932-b6af-216ff0f61cc8'),\n",
       " AIMessage(content='', additional_kwargs={'function_call': {'name': 'get_experiments', 'arguments': '{}'}}, response_metadata={'prompt_feedback': {'block_reason': 0, 'safety_ratings': []}, 'finish_reason': 'STOP', 'safety_ratings': []}, id='run--234c1b63-e8a1-4e97-8df0-2e1531aa3e0f-0', tool_calls=[{'name': 'get_experiments', 'args': {}, 'id': '3616b643-c561-4881-9b19-203d55500749', 'type': 'tool_call'}], usage_metadata={'input_tokens': 648, 'output_tokens': 10, 'total_tokens': 658, 'input_token_details': {'cache_read': 0}}),\n",
       " ToolMessage(content='[{\"preparations\": [{\"name\": \"PREP_20250717134925_Au111_terry:HEAT:DEPO:HEAT\", \"process_steps\": [{\"name\": \"Preconditioning\", \"actions\": [{\"name\": null, \"type\": \"ANNEALING\", \"description\": \"\", \"duration\": \"0 days 00:20:00\", \"target_temperature\": \"{\\\\\"value\\\\\": \\\\\"200\\\\\", \\\\\"temperature_unit\\\\\": \\\\\"C\\\\\"}\", \"substrate_temperature\": \"\", \"substance\": \"\", \"component\": \"PBN stage manipulator\", \"component_settings\": \"{\\\\\"target_temperature\\\\\": {\\\\\"value\\\\\": \\\\\"200\\\\\", \\\\\"temperature_unit\\\\\": \\\\\"C\\\\\"}}\", \"dosing_gas\": \"\", \"pressure\": \"\", \"sputter_ion\": \"\", \"current\": \"\", \"angle\": \"\", \"comments\": \"\"}], \"observables\": [], \"instrument\": \"CreaTec THz-STM\", \"sample_in\": \"20250717134925_Au111_terry\", \"sample_out\": \"20250717134925_Au111_terry:HEAT\"}, {\"name\": \"DBBA Deposition\", \"actions\": [{\"name\": null, \"type\": \"DEPOSITION\", \"description\": \"\", \"duration\": \"0 days 00:01:10\", \"target_temperature\": \"\", \"substrate_temperature\": \"{\\\\\"value\\\\\": \\\\\"200\\\\\", \\\\\"temperature_unit\\\\\": \\\\\"C\\\\\"}\", \"substance\": \"TUD-156\", \"component\": \"Evaporator slot 1\", \"component_settings\": \"{\\\\\"ep_percentage\\\\\": 15.0, \\\\\"evaporator_i_value\\\\\": 7.0, \\\\\"evaporator_p_value\\\\\": 17.8, \\\\\"target_temperature\\\\\": {\\\\\"value\\\\\": \\\\\"200\\\\\", \\\\\"temperature_unit\\\\\": \\\\\"C\\\\\"}}\", \"dosing_gas\": \"\", \"pressure\": \"\", \"sputter_ion\": \"\", \"current\": \"\", \"angle\": \"\", \"comments\": \"\"}], \"observables\": [{\"name\": null, \"type\": \"FLUX_OBSERVABLE\", \"description\": \"\", \"duration\": \"\", \"channel_name\": \"QCM.Frequency\", \"component\": \"QCM\", \"component_settings\": \"{\\\\\"density\\\\\": {\\\\\"value\\\\\": \\\\\"7\\\\\", \\\\\"density_unit\\\\\": \\\\\"g/cm3\\\\\"}}\", \"comments\": \"\"}, {\"name\": null, \"type\": \"PRESSURE_OBSERVABLE\", \"description\": \"\", \"duration\": \"\", \"channel_name\": \"QCM.Frequency\", \"component\": \"Ion Gauge Prep\", \"component_settings\": \"{\\\\\"filament\\\\\": \\\\\"\\\\\", \\\\\"filament_current\\\\\": {\\\\\"value\\\\\": \\\\\"5\\\\\", \\\\\"current_unit\\\\\": \\\\\"mA\\\\\"}}\", \"comments\": \"\"}], \"instrument\": \"CreaTec THz-STM\", \"sample_in\": \"20250717134925_Au111_terry:HEAT\", \"sample_out\": \"20250717134925_Au111_terry:HEAT:DEPO\"}, {\"name\": \"Annealing\", \"actions\": [{\"name\": \"Anneal at 450K\", \"type\": \"ANNEALING\", \"description\": \"\", \"duration\": \"0 days 00:20:00\", \"target_temperature\": \"{\\\\\"value\\\\\": \\\\\"450\\\\\", \\\\\"temperature_unit\\\\\": \\\\\"K\\\\\"}\", \"substrate_temperature\": \"\", \"substance\": \"\", \"component\": \"PBN stage manipulator\", \"component_settings\": \"{\\\\\"target_temperature\\\\\": {\\\\\"value\\\\\": \\\\\"450\\\\\", \\\\\"temperature_unit\\\\\": \\\\\"K\\\\\"}}\", \"dosing_gas\": \"\", \"pressure\": \"\", \"sputter_ion\": \"\", \"current\": \"\", \"angle\": \"\", \"comments\": \"\"}], \"observables\": [{\"name\": \"Temperature measured at the component\", \"type\": \"TEMPERATURE_OBSERVABLE\", \"description\": \"\", \"duration\": \"\", \"channel_name\": \"Temperature\", \"component\": \"PBN stage manipulator\", \"component_settings\": \"{}\", \"comments\": \"\"}], \"instrument\": \"CreaTec THz-STM\", \"sample_in\": \"20250717134925_Au111_terry:HEAT:DEPO\", \"sample_out\": \"20250717134925_Au111_terry:HEAT:DEPO:HEAT\"}]}], \"measurements\": []}]', name='get_experiments', id='d8bee7d6-59df-4db3-98b5-368ebd5254d1', tool_call_id='3616b643-c561-4881-9b19-203d55500749'),\n",
       " AIMessage(content='Yes, there is an experiment that uses molecule 704a (TUD-156).\\n\\nHere is a summary of the experiment:\\n\\n**Experiment Name:** PREP_20250717134925_Au111_terry:HEAT:DEPO:HEAT\\n\\n**Process Steps:**\\n\\n1.  **Name:** Preconditioning\\n    *   **Sample In:** 20250717134925_Au111_terry\\n    *   **Sample Out:** 20250717134925_Au111_terry:HEAT\\n    *   **Actions:** Annealing at 200°C for 20 minutes using a PBN stage manipulator.\\n    *   **Observables:** None.\\n\\n2.  **Name:** DBBA Deposition\\n    *   **Sample In:** 20250717134925_Au111_terry:HEAT\\n    *   **Sample Out:** 20250717134925_Au111_terry:HEAT:DEPO\\n    *   **Actions:** Deposition of TUD-156 (molecule 704a) at 200°C for 1 minute and 10 seconds using Evaporator slot 1.\\n    *   **Observables:**\\n        *   Flux Observable: QCM.Frequency from QCM.\\n        *   Pressure Observable: QCM.Frequency from Ion Gauge Prep.\\n\\n3.  **Name:** Annealing\\n    *   **Sample In:** 20250717134925_Au111_terry:HEAT:DEPO\\n    *   **Sample Out:** 20250717134925_Au111_terry:HEAT:DEPO:HEAT\\n    *   **Actions:** Annealing at 450K for 20 minutes using a PBN stage manipulator.\\n    *   **Observables:**\\n        *   Temperature Observable: Temperature measured at the PBN stage manipulator.', additional_kwargs={}, response_metadata={'prompt_feedback': {'block_reason': 0, 'safety_ratings': []}, 'finish_reason': 'STOP', 'safety_ratings': []}, id='run--a4d2aeb3-d19f-40ec-aba2-b30dad53302e-0', usage_metadata={'input_tokens': 1684, 'output_tokens': 485, 'total_tokens': 2169, 'input_token_details': {'cache_read': 0}})]"
      ]
     },
     "execution_count": 9,
     "metadata": {},
     "output_type": "execute_result"
    }
   ],
   "source": [
    "x"
   ]
  },
  {
   "cell_type": "code",
   "execution_count": 10,
   "id": "6497a466",
   "metadata": {},
   "outputs": [
    {
     "name": "stdout",
     "output_type": "stream",
     "text": [
      "Question: Is there an experiment that uses molecule 704a? If yes, give me a summary of it including the name of sample that was used and the sample that was produced by each process step and a small description of the actions and observables.\n",
      "Answer: Yes, there is an experiment that uses molecule 704a (TUD-156).\n",
      "\n",
      "Here is a summary of the experiment:\n",
      "\n",
      "**Experiment Name:** PREP_20250717134925_Au111_terry:HEAT:DEPO:HEAT\n",
      "\n",
      "**Process Steps:**\n",
      "\n",
      "1.  **Name:** Preconditioning\n",
      "    *   **Sample In:** 20250717134925_Au111_terry\n",
      "    *   **Sample Out:** 20250717134925_Au111_terry:HEAT\n",
      "    *   **Actions:** Annealing at 200°C for 20 minutes using a PBN stage manipulator.\n",
      "    *   **Observables:** None.\n",
      "\n",
      "2.  **Name:** DBBA Deposition\n",
      "    *   **Sample In:** 20250717134925_Au111_terry:HEAT\n",
      "    *   **Sample Out:** 20250717134925_Au111_terry:HEAT:DEPO\n",
      "    *   **Actions:** Deposition of TUD-156 (molecule 704a) at 200°C for 1 minute and 10 seconds using Evaporator slot 1.\n",
      "    *   **Observables:**\n",
      "        *   Flux Observable: QCM.Frequency from QCM.\n",
      "        *   Pressure Observable: QCM.Frequency from Ion Gauge Prep.\n",
      "\n",
      "3.  **Name:** Annealing\n",
      "    *   **Sample In:** 20250717134925_Au111_terry:HEAT:DEPO\n",
      "    *   **Sample Out:** 20250717134925_Au111_terry:HEAT:DEPO:HEAT\n",
      "    *   **Actions:** Annealing at 450K for 20 minutes using a PBN stage manipulator.\n",
      "    *   **Observables:**\n",
      "        *   Temperature Observable: Temperature measured at the PBN stage manipulator.\n"
     ]
    }
   ],
   "source": [
    "print(\"Question:\", x[1].content)\n",
    "print(\"Answer:\", x[-1].content)"
   ]
  },
  {
   "cell_type": "code",
   "execution_count": null,
   "id": "3a916784",
   "metadata": {},
   "outputs": [],
   "source": [
    "# def get_weather(city: str) -> str:  \n",
    "#     \"\"\"Get weather for a given city.\"\"\"\n",
    "#     return f\"It's always sunny in {city}!\"\n",
    "\n",
    "# from langchain_google_genai import ChatGoogleGenerativeAI\n",
    "# from pydantic import BaseModel\n",
    "# from langgraph.prebuilt import create_react_agent\n",
    "\n",
    "# class ActionResponse(BaseModel):\n",
    "#     type: str\n",
    "#     name: str\n",
    "#     duration: str\n",
    "#     target_temperature: str\n",
    "#     component_name: str\n",
    "#     component_settings: str\n",
    "    \n",
    "\n",
    "# llm_model = ChatGoogleGenerativeAI(model = \"models/gemini-2.5-flash\",google_api_key = GOOGLE_API_KEY[\"api_key\"])\n",
    "\n",
    "# agent = create_react_agent(\n",
    "#     model=llm_model,\n",
    "#     tools=[get_weather],\n",
    "#     response_format=ActionResponse\n",
    "# )\n",
    "\n",
    "# response = agent.invoke(\n",
    "#     {\"messages\": [{\"role\": \"user\", \"content\": \"what is the weather in sf\"}]}\n",
    "# )\n",
    "\n",
    "# response[\"structured_response\"]"
   ]
  }
 ],
 "metadata": {
  "kernelspec": {
   "display_name": "base",
   "language": "python",
   "name": "python3"
  },
  "language_info": {
   "codemirror_mode": {
    "name": "ipython",
    "version": 3
   },
   "file_extension": ".py",
   "mimetype": "text/x-python",
   "name": "python",
   "nbconvert_exporter": "python",
   "pygments_lexer": "ipython3",
   "version": "3.9.13"
  }
 },
 "nbformat": 4,
 "nbformat_minor": 5
}
