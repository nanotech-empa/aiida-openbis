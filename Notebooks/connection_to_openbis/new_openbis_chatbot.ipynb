{
 "cells": [
  {
   "cell_type": "code",
   "execution_count": 1,
   "id": "69ba70da",
   "metadata": {},
   "outputs": [],
   "source": [
    "from IPython.display import display, Markdown, clear_output\n",
    "import ipywidgets as ipw\n",
    "import json\n",
    "import subprocess\n",
    "import atexit\n",
    "import os\n",
    "import shutil\n",
    "from src import widgets, ai_agent, utils"
   ]
  },
  {
   "cell_type": "code",
   "execution_count": 2,
   "id": "90a08059",
   "metadata": {},
   "outputs": [],
   "source": [
    "CONFIG = utils.read_json(\"config.json\")\n",
    "CONFIG_ELN = utils.get_aiidalab_eln_config()\n",
    "OPENBIS_SESSION, SESSION_DATA = utils.connect_openbis(CONFIG_ELN[\"url\"], CONFIG_ELN[\"token\"])\n",
    "GOOGLE_API_KEY = utils.read_json(\"/home/jovyan/gemini_api.json\")"
   ]
  },
  {
   "cell_type": "code",
   "execution_count": 3,
   "id": "8b0083ea",
   "metadata": {},
   "outputs": [],
   "source": [
    "openbis_agent = ai_agent.OpenBISAgent(\n",
    "    google_api_key=GOOGLE_API_KEY[\"api_key\"]\n",
    ")"
   ]
  },
  {
   "cell_type": "code",
   "execution_count": 4,
   "id": "ddadc524",
   "metadata": {},
   "outputs": [],
   "source": [
    "# x = openbis_agent.ask_question(\"Which experiments are available? Give me a summary of them\")\n",
    "# x = openbis_agent.ask_question(\"Is there an experiment that uses molecule 704a? If yes, give me a summary of it including the name of sample that was used and the sample that was produced by each process step and a small description of the actions and observables.\")\n",
    "# x = openbis_agent.ask_question(\"Is there molecule 704a?\")\n",
    "# x = openbis_agent.ask_question(\"Is there a simulation in openBIS? If yes give me a summary\")\n",
    "# x = openbis_agent.ask_question(\"Considering the geometry optimisation, what was the used molecule?\")\n",
    "# x = openbis_agent.ask_question(\"Find me all the objects with type MOLECULE in openBIS\")\n",
    "# x = openbis_agent.ask_question(\"Is there substance with empa number 704 and batch a? If yes give me a summary of it\")\n",
    "# x = openbis_agent.ask_question(\"What is the molecule?\")\n",
    "x = openbis_agent.ask_question(\"Given substances with empa number 704 and batch a, how many preparations there are in openBIS?\")\n",
    "# x = openbis_agent.ask_question(\"Yes. No filters give me all that you find\")"
   ]
  },
  {
   "cell_type": "code",
   "execution_count": null,
   "id": "de9e3ede",
   "metadata": {},
   "outputs": [],
   "source": [
    "# x = openbis_agent.ask_question(\"Ok, I see that you have a deposition process step. Tell me more about that. What substance was used?\")"
   ]
  },
  {
   "cell_type": "code",
   "execution_count": 5,
   "id": "94c6fc9e",
   "metadata": {},
   "outputs": [
    {
     "data": {
      "text/plain": [
       "[HumanMessage(content='Given substances with empa number 704 and batch a, how many preparations there are in openBIS?', additional_kwargs={}, response_metadata={}, id='66aa9480-5382-4998-9d9b-9256bf90fe3d'),\n",
       " AIMessage(content='', additional_kwargs={'function_call': {'name': 'get_openbis_objects', 'arguments': '{\"type\": \"SUBSTANCE\", \"filters\": {\"batch\": \"a\", \"empa_number\": \"704\"}}'}}, response_metadata={'prompt_feedback': {'block_reason': 0, 'safety_ratings': []}, 'finish_reason': 'STOP', 'safety_ratings': []}, id='run--bdbfb391-7c24-4253-bacd-a12b0c91fd8e-0', tool_calls=[{'name': 'get_openbis_objects', 'args': {'type': 'SUBSTANCE', 'filters': {'batch': 'a', 'empa_number': '704'}}, 'id': '253906f9-5f65-4c7a-9cff-44d5dd4163f4', 'type': 'tool_call'}], usage_metadata={'input_tokens': 432, 'output_tokens': 39, 'total_tokens': 471, 'input_token_details': {'cache_read': 0}}),\n",
       " ToolMessage(content='[{\"name\": \"TUD-156\", \"molecules\": [\"20250717093148606-211\"], \"empa_number\": \"704\", \"batch\": \"a\", \"vial\": null, \"evaporation_temperatures\": null, \"purity\": null, \"substance_type\": null, \"amount\": null, \"chemist_own_name\": null, \"comments\": \"~1mg powder\", \"location\": null, \"special_storage_conditions\": null, \"package_opening_date\": null, \"object_status\": null, \"supplier\": \"20250717103412473-3103\", \"synthesised_by\": [\"20250717103515562-3200\"], \"supplier_own_name\": null, \"receive_date\": \"2025-05-07\", \"type\": \"SUBSTANCE\", \"parents\": [], \"children\": []}]', name='get_openbis_objects', id='71a8242a-5e86-4093-802b-7afb8f7b2462', tool_call_id='253906f9-5f65-4c7a-9cff-44d5dd4163f4'),\n",
       " AIMessage(content='There is 1 preparation with empa number 704 and batch a.', additional_kwargs={}, response_metadata={'prompt_feedback': {'block_reason': 0, 'safety_ratings': []}, 'finish_reason': 'STOP', 'safety_ratings': []}, id='run--cba7aef8-af9b-4bf6-86e1-801dc8d34ea4-0', usage_metadata={'input_tokens': 723, 'output_tokens': 17, 'total_tokens': 740, 'input_token_details': {'cache_read': 0}})]"
      ]
     },
     "execution_count": 5,
     "metadata": {},
     "output_type": "execute_result"
    }
   ],
   "source": [
    "x"
   ]
  },
  {
   "cell_type": "code",
   "execution_count": 6,
   "id": "6497a466",
   "metadata": {},
   "outputs": [
    {
     "name": "stdout",
     "output_type": "stream",
     "text": [
      "Question: Given substances with empa number 704 and batch a, how many preparations there are in openBIS?\n",
      "Answer: There is 1 preparation with empa number 704 and batch a.\n"
     ]
    }
   ],
   "source": [
    "print(\"Question:\", x[0].content)\n",
    "print(\"Answer:\", x[-1].content)"
   ]
  },
  {
   "cell_type": "code",
   "execution_count": null,
   "id": "3a916784",
   "metadata": {},
   "outputs": [],
   "source": [
    "# def get_weather(city: str) -> str:  \n",
    "#     \"\"\"Get weather for a given city.\"\"\"\n",
    "#     return f\"It's always sunny in {city}!\"\n",
    "\n",
    "# from langchain_google_genai import ChatGoogleGenerativeAI\n",
    "# from pydantic import BaseModel\n",
    "# from langgraph.prebuilt import create_react_agent\n",
    "\n",
    "# class ActionResponse(BaseModel):\n",
    "#     type: str\n",
    "#     name: str\n",
    "#     duration: str\n",
    "#     target_temperature: str\n",
    "#     component_name: str\n",
    "#     component_settings: str\n",
    "    \n",
    "\n",
    "# llm_model = ChatGoogleGenerativeAI(model = \"models/gemini-2.5-flash\",google_api_key = GOOGLE_API_KEY[\"api_key\"])\n",
    "\n",
    "# agent = create_react_agent(\n",
    "#     model=llm_model,\n",
    "#     tools=[get_weather],\n",
    "#     response_format=ActionResponse\n",
    "# )\n",
    "\n",
    "# response = agent.invoke(\n",
    "#     {\"messages\": [{\"role\": \"user\", \"content\": \"what is the weather in sf\"}]}\n",
    "# )\n",
    "\n",
    "# response[\"structured_response\"]"
   ]
  },
  {
   "cell_type": "code",
   "execution_count": null,
   "id": "9e5a21e5",
   "metadata": {},
   "outputs": [],
   "source": [
    "l = []\n",
    "for i in OPENBIS_SESSION.get_object_types():\n",
    "    l.append(i.permId)\n",
    "\n",
    "', '.join(l)"
   ]
  },
  {
   "cell_type": "code",
   "execution_count": null,
   "id": "3d4c5802",
   "metadata": {},
   "outputs": [],
   "source": [
    "x = OPENBIS_SESSION.get_objects(type = \"PROCESS_STEP\")\n",
    "x[0].get_parents()"
   ]
  }
 ],
 "metadata": {
  "kernelspec": {
   "display_name": "base",
   "language": "python",
   "name": "python3"
  },
  "language_info": {
   "codemirror_mode": {
    "name": "ipython",
    "version": 3
   },
   "file_extension": ".py",
   "mimetype": "text/x-python",
   "name": "python",
   "nbconvert_exporter": "python",
   "pygments_lexer": "ipython3",
   "version": "3.9.13"
  }
 },
 "nbformat": 4,
 "nbformat_minor": 5
}
