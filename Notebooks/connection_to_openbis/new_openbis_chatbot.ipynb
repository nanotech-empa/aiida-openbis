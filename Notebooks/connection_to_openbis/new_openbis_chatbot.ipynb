{
 "cells": [
  {
   "cell_type": "code",
   "execution_count": 1,
   "id": "69ba70da",
   "metadata": {},
   "outputs": [],
   "source": [
    "from IPython.display import display, Markdown, clear_output\n",
    "import ipywidgets as ipw\n",
    "import json\n",
    "import subprocess\n",
    "import atexit\n",
    "import os\n",
    "import shutil\n",
    "from src import widgets, ai_agent, utils"
   ]
  },
  {
   "cell_type": "code",
   "execution_count": 2,
   "id": "b9c99731",
   "metadata": {},
   "outputs": [],
   "source": [
    "# ai_agent._get_experiments()"
   ]
  },
  {
   "cell_type": "code",
   "execution_count": 3,
   "id": "90a08059",
   "metadata": {},
   "outputs": [],
   "source": [
    "CONFIG = utils.read_json(\"config.json\")\n",
    "CONFIG_ELN = utils.get_aiidalab_eln_config()\n",
    "OPENBIS_SESSION, SESSION_DATA = utils.connect_openbis(CONFIG_ELN[\"url\"], CONFIG_ELN[\"token\"])\n",
    "GOOGLE_API_KEY = utils.read_json(\"/home/jovyan/gemini_api.json\")"
   ]
  },
  {
   "cell_type": "code",
   "execution_count": 4,
   "id": "8b0083ea",
   "metadata": {},
   "outputs": [],
   "source": [
    "openbis_agent = ai_agent.OpenBISAgent(\n",
    "    google_api_key=GOOGLE_API_KEY[\"api_key\"]\n",
    ")"
   ]
  },
  {
   "cell_type": "code",
   "execution_count": 9,
   "id": "ddadc524",
   "metadata": {},
   "outputs": [],
   "source": [
    "x = openbis_agent.ask_question(\"Which experiments were performed? Give me a brief summary of the process steps of each experiment\")"
   ]
  },
  {
   "cell_type": "code",
   "execution_count": 6,
   "id": "94c6fc9e",
   "metadata": {},
   "outputs": [
    {
     "data": {
      "text/plain": [
       "[SystemMessage(content='\\n            You are an helpful assistant that can answer questions about experiments, simulations, and all the inventories inside \\n            openBIS. {get_current_time()}\\n        ', additional_kwargs={}, response_metadata={}, id='3c0294bd-ed51-4749-b294-23b44869352b'),\n",
       " HumanMessage(content='Which experiments were performed?', additional_kwargs={}, response_metadata={}, id='043edc1f-cf90-46c4-bf50-fbea0e5a13ce'),\n",
       " AIMessage(content='', additional_kwargs={'function_call': {'name': 'experiments', 'arguments': '{}'}}, response_metadata={'prompt_feedback': {'block_reason': 0, 'safety_ratings': []}, 'finish_reason': 'STOP', 'safety_ratings': []}, id='run--a6a2b0d4-fdcb-4163-98ee-6bd34ad9624d-0', tool_calls=[{'name': 'experiments', 'args': {}, 'id': 'ac0f1c61-b217-46eb-8596-f9e31c706b19', 'type': 'tool_call'}], usage_metadata={'input_tokens': 227, 'output_tokens': 8, 'total_tokens': 294, 'input_token_details': {'cache_read': 0}}),\n",
       " ToolMessage(content='Experiment: Preparation: Name: PREP_20250717134925_Au111_terry:HEAT:DEPO:HEAT\\nProcess step: Name: Preconditioning\\nComponent: PBN stage manipulator\\nActions: ANNEALING: Duration: 0 days 00:20:00\\nTarget temperature: {\"value\": \"200\", \"temperature_unit\": \"C\"}\\nComponent settings: {\"target_temperature\": {\"value\": \"200\", \"temperature_unit\": \"C\"}}\\nInstrument: CreaTec THz-STM\\nProcess step: Name: DBBA Deposition\\nComponent: Evaporator slot 1\\nActions: DEPOSITION: Duration: 0 days 00:01:10\\nSubstrate temperature: {\"value\": \"200\", \"temperature_unit\": \"C\"}\\nComponent settings: {\"ep_percentage\": 15.0, \"evaporator_i_value\": 7.0, \"evaporator_p_value\": 17.8, \"target_temperature\": {\"value\": \"200\", \"temperature_unit\": \"C\"}}\\nInstrument: CreaTec THz-STM\\nProcess step: Name: Annealing\\nComponent: PBN stage manipulator\\nActions: ANNEALING: Name: Anneal at 450K\\nDuration: 0 days 00:20:00\\nTarget temperature: {\"value\": \"450\", \"temperature_unit\": \"K\"}\\nComponent settings: {\"target_temperature\": {\"value\": \"450\", \"temperature_unit\": \"K\"}}\\nInstrument: CreaTec THz-STM\\n', name='experiments', id='6477aa07-a897-4378-8a22-9558bedf58ad', tool_call_id='ac0f1c61-b217-46eb-8596-f9e31c706b19'),\n",
       " AIMessage(content=\"The experiment performed was: 'PREP_20250717134925_Au111_terry:HEAT:DEPO:HEAT'. This experiment included three process steps: 'Preconditioning', 'DBBA Deposition', and 'Annealing'.\", additional_kwargs={}, response_metadata={'prompt_feedback': {'block_reason': 0, 'safety_ratings': []}, 'finish_reason': 'STOP', 'safety_ratings': []}, id='run--b155c5dd-9432-43ec-8b87-cf1a8521a6b7-0', usage_metadata={'input_tokens': 640, 'output_tokens': 61, 'total_tokens': 881, 'input_token_details': {'cache_read': 0}})]"
      ]
     },
     "execution_count": 6,
     "metadata": {},
     "output_type": "execute_result"
    }
   ],
   "source": [
    "x"
   ]
  },
  {
   "cell_type": "code",
   "execution_count": 10,
   "id": "6497a466",
   "metadata": {},
   "outputs": [
    {
     "name": "stdout",
     "output_type": "stream",
     "text": [
      "Question: Which experiments were performed? Give me a brief summary of the process steps of each experiment\n",
      "Answer: The experiment \"PREP_20250717134925_Au111_terry:HEAT:DEPO:HEAT\" involved three process steps:\n",
      "\n",
      "1.  **Preconditioning**: This step involved annealing the PBN stage manipulator for 20 minutes at a target temperature of 200°C using the CreaTec THz-STM instrument.\n",
      "2.  **DBBA Deposition**: In this step, DBBA was deposited using Evaporator slot 1 for 1 minute and 10 seconds. The substrate temperature was 200°C. The evaporator settings included an ep_percentage of 15.0, an evaporator_i_value of 7.0, and an evaporator_p_value of 17.8. This was also performed with the CreaTec THz-STM instrument.\n",
      "3.  **Annealing**: The final step involved annealing the PBN stage manipulator for 20 minutes at a target temperature of 450 K using the CreaTec THz-STM instrument.\n"
     ]
    }
   ],
   "source": [
    "print(\"Question:\", x[1].content)\n",
    "print(\"Answer:\", x[-1].content)"
   ]
  }
 ],
 "metadata": {
  "kernelspec": {
   "display_name": "base",
   "language": "python",
   "name": "python3"
  },
  "language_info": {
   "codemirror_mode": {
    "name": "ipython",
    "version": 3
   },
   "file_extension": ".py",
   "mimetype": "text/x-python",
   "name": "python",
   "nbconvert_exporter": "python",
   "pygments_lexer": "ipython3",
   "version": "3.9.13"
  }
 },
 "nbformat": 4,
 "nbformat_minor": 5
}
