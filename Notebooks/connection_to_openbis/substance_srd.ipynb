{
 "cells": [
  {
   "cell_type": "code",
   "execution_count": null,
   "metadata": {},
   "outputs": [],
   "source": [
    "from IPython.display import display\n",
    "import ipywidgets as ipw\n",
    "import widgets\n",
    "import utils\n",
    "import os\n",
    "import json"
   ]
  },
  {
   "cell_type": "code",
   "execution_count": null,
   "metadata": {},
   "outputs": [],
   "source": [
    "CONFIG = utils.read_json(\"config.json\")\n",
    "CONFIG_ELN = utils.get_aiidalab_eln_config()\n",
    "# CONFIG_ELN = utils.read_json(\"eln_config.json\")\n",
    "OPENBIS_SESSION, SESSION_DATA = utils.connect_openbis(CONFIG_ELN[\"url\"], CONFIG_ELN[\"token\"])\n",
    "\n",
    "substance_selection_widget = widgets.MoleculeSelectionWidget()\n",
    "substance_selection_widget.load_dropdown_box()\n",
    "\n",
    "instrument_selector = widgets.InstrumentSelectionWidget()\n",
    "instrument_selector.load_dropdown_box()\n",
    "\n",
    "srd_widgets = widgets.ObjectPropertiesWidgets(\"Sublimation Rate Determination\")\n",
    "srd_support_files = ipw.FileUpload(multiple = True)\n",
    "\n",
    "increase_buttons_size = utils.HTML(data = ''.join(CONFIG[\"save_home_buttons_settings\"]))\n",
    "create_button = utils.Button(\n",
    "    description = '', disabled = False, button_style = '', tooltip = 'Save', \n",
    "    icon = 'save', layout = ipw.Layout(width = '100px', height = '50px')\n",
    ")\n",
    "quit_button = utils.Button(\n",
    "    description = '', disabled = False, button_style = '', \n",
    "    tooltip = 'Main menu', icon = 'home', layout = ipw.Layout(width = '100px', height = '50px')\n",
    ")\n",
    "save_close_buttons_hbox = ipw.HBox([create_button, quit_button])"
   ]
  },
  {
   "cell_type": "code",
   "execution_count": null,
   "metadata": {},
   "outputs": [],
   "source": [
    "def close_notebook(b):\n",
    "    display(utils.Javascript(data = 'window.location.replace(\"home.ipynb\")'))\n",
    "\n",
    "def create_srd_openbis(b):\n",
    "    object_properties = {}\n",
    "    for prop in CONFIG[\"objects\"][\"SRD\"][\"properties\"]:\n",
    "        if prop == \"evaporator_slot\":\n",
    "            object_properties[prop] = json.dumps({\"evaporator_number\": srd_widgets.properties_widgets[prop].children[0].value, \n",
    "                                                    \"details\": srd_widgets.properties_widgets[prop].children[1].value})\n",
    "        elif CONFIG[\"properties\"][prop][\"property_type\"] == \"VARCHAR\":\n",
    "            object_properties[prop] = srd_widgets.properties_widgets[prop].value\n",
    "        elif CONFIG[\"properties\"][prop][\"property_type\"] == \"QUANTITY_VALUE\":\n",
    "            object_properties[prop] = json.dumps({\"has_value\": srd_widgets.properties_widgets[prop].children[0].value, \n",
    "                                                    \"has_unit\": srd_widgets.properties_widgets[prop].children[1].value})\n",
    "        \n",
    "    srd_parents = [substance_selection_widget.dropdown_boxes.children[0].value, instrument_selector.dropdown_boxes.children[0].value]\n",
    "\n",
    "    results_object = utils.create_openbis_object(\n",
    "        OPENBIS_SESSION, type=\"SUBLIMATION_RATE_DETERMINATION\", \n",
    "        collection = \"/LOG_ENTRIES/LOG_ENTRIES/SRD_COLLECTION\", \n",
    "        props = object_properties, parents = srd_parents\n",
    "    )\n",
    "    upload_datasets(results_object, srd_support_files)\n",
    "    \n",
    "    display(utils.Javascript(data = \"alert('Upload successful!')\"))\n",
    "\n",
    "def upload_datasets(method_object, support_files_widget):\n",
    "    for filename in support_files_widget.value:\n",
    "        file_info = support_files_widget.value[filename]\n",
    "        utils.save_file(file_info['content'], filename)\n",
    "        OPENBIS_SESSION.new_dataset(type = 'RAW_DATA', sample = method_object, files = [filename]).save()\n",
    "        os.remove(filename)"
   ]
  },
  {
   "cell_type": "markdown",
   "metadata": {},
   "source": [
    "# Create sublimation rate determination object"
   ]
  },
  {
   "cell_type": "markdown",
   "metadata": {},
   "source": [
    "## Select molecule"
   ]
  },
  {
   "cell_type": "code",
   "execution_count": null,
   "metadata": {},
   "outputs": [],
   "source": [
    "display(substance_selection_widget)"
   ]
  },
  {
   "cell_type": "markdown",
   "metadata": {},
   "source": [
    "## Select instrument"
   ]
  },
  {
   "cell_type": "code",
   "execution_count": null,
   "metadata": {},
   "outputs": [],
   "source": [
    "display(instrument_selector)"
   ]
  },
  {
   "cell_type": "markdown",
   "metadata": {},
   "source": [
    "## Properties"
   ]
  },
  {
   "cell_type": "code",
   "execution_count": null,
   "metadata": {},
   "outputs": [],
   "source": [
    "display(srd_widgets)"
   ]
  },
  {
   "cell_type": "markdown",
   "metadata": {},
   "source": [
    "## Support files"
   ]
  },
  {
   "cell_type": "code",
   "execution_count": null,
   "metadata": {},
   "outputs": [],
   "source": [
    "display(srd_support_files)"
   ]
  },
  {
   "cell_type": "markdown",
   "metadata": {},
   "source": [
    "## Save"
   ]
  },
  {
   "cell_type": "code",
   "execution_count": null,
   "metadata": {},
   "outputs": [],
   "source": [
    "substance_selection_widget.dropdown_boxes.children[0].observe(substance_selection_widget.load_metadata, names = 'value')\n",
    "display(save_close_buttons_hbox)\n",
    "display(increase_buttons_size)\n",
    "create_button.on_click(create_srd_openbis)\n",
    "quit_button.on_click(close_notebook)"
   ]
  }
 ],
 "metadata": {
  "kernelspec": {
   "display_name": "base",
   "language": "python",
   "name": "python3"
  },
  "language_info": {
   "name": "python",
   "version": "3.9.13"
  }
 },
 "nbformat": 4,
 "nbformat_minor": 2
}
