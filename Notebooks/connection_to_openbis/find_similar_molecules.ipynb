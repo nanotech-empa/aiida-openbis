{
 "cells": [
  {
   "cell_type": "code",
   "execution_count": 5,
   "metadata": {},
   "outputs": [],
   "source": [
    "import utils\n",
    "import ipywidgets as ipw\n",
    "import shutil\n",
    "from IPython.display import display\n",
    "\n",
    "from rdkit import Chem,DataStructs\n",
    "from rdkit.Chem import AllChem\n",
    "import csv\n",
    "import pathlib as pl"
   ]
  },
  {
   "cell_type": "code",
   "execution_count": 6,
   "metadata": {},
   "outputs": [],
   "source": [
    "OPENBIS_MOLECULES = None\n",
    "OPENBIS_SESSION, _ = utils.connect_openbis()"
   ]
  },
  {
   "cell_type": "code",
   "execution_count": null,
   "metadata": {},
   "outputs": [],
   "source": [
    "class Molecule:\n",
    "    def __init__(self, name, strIn):\n",
    "        self.name = name\n",
    "        self.strIn = strIn\n",
    "        try:\n",
    "            self.mol = Chem.rdmolfiles.MolsFromCDXML(strIn)\n",
    "        except RuntimeError:\n",
    "            self.mol = Chem.MolFromSmiles(strIn)\n",
    "#        else:\n",
    "#            self.mol = mols[1]\n",
    "#            for i in range(1,len(mols)):\n",
    "#                self.mol = Chem.CombineMols(self.mol,mols[i])\n",
    "\n",
    "    \n",
    "    # create chemical fingerprint of molecule\n",
    "    def fingerprint(self, fpgen, **kwargs):\n",
    "        self.fp = fpgen.GetFingerprint(self.mol, customAtomInvariants=self.get_invariant(**kwargs))\n",
    "\n",
    "    # definition of different invariants to be used for fingerprinting\n",
    "    def get_invariant(self, BCN=False, BrI=False, Topology=False):\n",
    "        inv = [atom.GetAtomicNum() for atom in self.mol.GetAtoms()]\n",
    "        if BCN: # do not differentiate between Boron, Carbon and Nitrogen\n",
    "            inv = list(map(lambda x: 6 if x == 5 or x == 7 else x, inv))\n",
    "        if BrI: # do not differentiate between Iodine and Bromine\n",
    "            inv = list(map(lambda x: 35 if x == 53 else x, inv))\n",
    "        if Topology: # do not differentiate between any elements\n",
    "            inv = [1]*len(inv)\n",
    "        return inv\n",
    "    \n",
    "    # use tanimoto similarity to compare self with refMol\n",
    "    def tanimoto(self, refMol):\n",
    "        return DataStructs.TanimotoSimilarity(self.fp,refMol.fp)\n",
    "    \n",
    "    # use dice similarity to compare self with refMol\n",
    "    def dice(self, refMol):\n",
    "        return DataStructs.DiceSimilarity(self.fp,refMol.fp)\n",
    "    \n",
    "def get_similar_molecules(openbis_session):\n",
    "    mols={}\n",
    "    for substance in openbis_session.get_objects(type = \"SUBSTANCE\"):\n",
    "        subst_props = substance.props.all()\n",
    "        subst_empa_number = subst_props.get(\"empa_number\")\n",
    "        subst_molecule_permid = subst_props.get(\"has_molecule\")\n",
    "        mol_smiles = openbis_session.get_object(subst_molecule_permid).props.all().get(\"smiles\", None)\n",
    "        if mol_smiles:\n",
    "            mol_object = Molecule(subst_empa_number, mol_smiles)\n",
    "            if mol_object.mol: # There are SMILES that cannot be converted using RDKit\n",
    "                mols.update({subst_empa_number: mol_object})\n",
    "\n",
    "    # select how to look for similarities\n",
    "    BCNinv=True\n",
    "    BrIinv=True\n",
    "    Topology=False\n",
    "    useBondTypes=False\n",
    "\n",
    "    # choose fingerprint generator. Morgan seems to work best\n",
    "    fpgen = AllChem.GetMorganGenerator(radius=3, useBondTypes=useBondTypes)\n",
    "    #fpgen = AllChem.GetRDKitFPGenerator(minPath=1, maxPath=7)\n",
    "\n",
    "    # create fingerprint for all molecules\n",
    "    for key in mols:\n",
    "        mols.get(key).fingerprint(fpgen, BrI=BrIinv, BCN=BCNinv, Topology=Topology)\n",
    "\n",
    "    # define reference Molecule to which the list should be compared and create its fingerpint\n",
    "    refSmile = smiles_textbox.value\n",
    "    refMol = Molecule(\"Ref\", refSmile)\n",
    "    refMol.fingerprint(fpgen, BrI=BrIinv, BCN=BCNinv, Topology=Topology)\n",
    "\n",
    "    # create and sort list of molecules with dice similarity to reference molecule\n",
    "    searchList = [(mols.get(key), mols.get(key).dice(refMol)) for key in mols]\n",
    "    searchList.sort(reverse=True, key=lambda x: x[1])\n",
    "\n",
    "    molecule_widgets = []\n",
    "    for i in range(5):\n",
    "        mol, similarity = searchList[i+1]\n",
    "        \n",
    "        openbis_substances_dict = {substance.props.all()[\"empa_number\"] : substance for substance in openbis_session.get_objects(type = \"SUBSTANCE\")}\n",
    "        substance_molecule = openbis_session.get_object(openbis_substances_dict[mol.name].props.all()['has_molecule'])\n",
    "        selected_molecule_name = substance_molecule.props.all().get(\"$name\", None)\n",
    "        selected_molecule_iupac_name = substance_molecule.props.all().get(\"iupac_name\", None)\n",
    "        selected_molecule_sum_formula = substance_molecule.props.all().get(\"sum_formula\", None)\n",
    "        selected_molecule_smiles = substance_molecule.props.all().get(\"smiles\", None)\n",
    "        molecule_description_string = \"\"\n",
    "        molecule_description_string += f\"Name: {selected_molecule_name}\\n\"\n",
    "        molecule_description_string += f\"Empa Number: {mol.name}\\n\"\n",
    "        molecule_description_string += f\"IUPAC Name: {selected_molecule_iupac_name}\\n\"\n",
    "        molecule_description_string += f\"Sum Formula: {selected_molecule_sum_formula}\\n\"\n",
    "        molecule_description_string += f\"SMILES: {selected_molecule_smiles}\\n\"\n",
    "        molecule_description_string += f\"Similarity: {similarity}\\n\"\n",
    "        \n",
    "        molecule_dataset = substance_molecule.get_datasets(type=\"ELN_PREVIEW\")[0]\n",
    "        fig = ipw.Image(value = utils.read_file(\"images/white_screen.jpg\"), width = '200px', height = '300px', layout=ipw.Layout(border='solid 1px #cccccc'))\n",
    "        \n",
    "        if molecule_dataset:\n",
    "            molecule_dataset.download(destination=\"images\")\n",
    "            material_image_filepath = molecule_dataset.file_list[0]\n",
    "            fig.value = utils.read_file(f\"images/{molecule_dataset.permId}/{material_image_filepath}\")\n",
    "            shutil.rmtree(f\"images/{molecule_dataset.permId}/\")\n",
    "        \n",
    "        textarea = utils.Textarea(disabled = True, layout = ipw.Layout(width = '600px', height = '200px'), value = molecule_description_string)\n",
    "        molecule_widgets.append(ipw.HBox([textarea, fig]))\n",
    "\n",
    "    return molecule_widgets\n",
    "\n",
    "def search_molecule_in_openbis(openbis_session):\n",
    "    openbis_molecules_smiles_dict = {molecule.props.all()[\"smiles\"].lower() : molecule for molecule in openbis_session.get_objects(type = \"MOLECULE\")}\n",
    "    selected_smiles = smiles_textbox.value.lower()\n",
    "    if selected_smiles in openbis_molecules_smiles_dict:\n",
    "        selected_molecule = openbis_molecules_smiles_dict[selected_smiles]\n",
    "        selected_molecule_name = selected_molecule.props.all().get(\"$name\", None)\n",
    "        selected_molecule_iupac_name = selected_molecule.props.all().get(\"iupac_name\", None)\n",
    "        selected_molecule_sum_formula = selected_molecule.props.all().get(\"sum_formula\", None)\n",
    "        selected_molecule_smiles = selected_molecule.props.all().get(\"smiles\", None)\n",
    "        molecule_description_string = \"\"\n",
    "        molecule_description_string += f\"Name: {selected_molecule_name}\\n\"\n",
    "        molecule_description_string += f\"IUPAC Name: {selected_molecule_iupac_name}\\n\"\n",
    "        molecule_description_string += f\"Sum Formula: {selected_molecule_sum_formula}\\n\"\n",
    "        molecule_description_string += f\"SMILES: {selected_molecule_smiles}\\n\"\n",
    "        molecule_properties_textarea.value = molecule_description_string\n",
    "        \n",
    "        molecule_dataset = selected_molecule.get_datasets(type=\"ELN_PREVIEW\")[0]\n",
    "\n",
    "        if molecule_dataset:\n",
    "            molecule_dataset.download(destination=\"images\")\n",
    "            material_image_filepath = molecule_dataset.file_list[0]\n",
    "            molecule_image_box.value = utils.read_file(f\"images/{molecule_dataset.permId}/{material_image_filepath}\")\n",
    "            shutil.rmtree(f\"images/{molecule_dataset.permId}/\")\n",
    "        else:\n",
    "            molecule_image_box.value = utils.read_file(\"images/white_screen.jpg\")\n",
    "    \n",
    "    molecules_widgets = get_similar_molecules(openbis_session)\n",
    "    similar_molecules_box.children = molecules_widgets"
   ]
  },
  {
   "cell_type": "markdown",
   "metadata": {},
   "source": [
    "# Find similar molecules"
   ]
  },
  {
   "cell_type": "code",
   "execution_count": null,
   "metadata": {},
   "outputs": [],
   "source": [
    "smiles_textbox = utils.Text(description = \"SMILES\", disabled = False, layout = ipw.Layout(width = '950px'), placeholder = f\"Write SMILES here...\", style = {'description_width': \"48px\"})\n",
    "search_molecules_button = utils.Button(description = '', disabled = False, button_style = '', tooltip = 'Search', icon = 'search', layout = ipw.Layout(width = '50px', height = '25px'))\n",
    "openbis_session, _ = utils.connect_openbis()\n",
    "search_molecules_button.on_click(lambda change: search_molecule_in_openbis(openbis_session))\n",
    "display(ipw.VBox([smiles_textbox, search_molecules_button]))"
   ]
  },
  {
   "cell_type": "markdown",
   "metadata": {},
   "source": [
    "## Molecule"
   ]
  },
  {
   "cell_type": "code",
   "execution_count": null,
   "metadata": {},
   "outputs": [],
   "source": [
    "molecule_properties_textarea = utils.Textarea(disabled = True, layout = ipw.Layout(width = '400px', height = '200px'))\n",
    "molecule_image_box = utils.Image(value = open(\"images/white_screen.jpg\", \"rb\").read(), format = 'jpg', width = '200px', height = '300px', layout=ipw.Layout(border='solid 1px #cccccc'))\n",
    "molecule_metadata_boxes = ipw.HBox([molecule_properties_textarea, molecule_image_box])\n",
    "display(molecule_metadata_boxes)"
   ]
  },
  {
   "cell_type": "markdown",
   "metadata": {},
   "source": [
    "## Similar molecules"
   ]
  },
  {
   "cell_type": "code",
   "execution_count": null,
   "metadata": {},
   "outputs": [],
   "source": [
    "similar_molecules_box = ipw.VBox()\n",
    "display(similar_molecules_box)"
   ]
  }
 ],
 "metadata": {
  "kernelspec": {
   "display_name": "base",
   "language": "python",
   "name": "python3"
  },
  "language_info": {
   "codemirror_mode": {
    "name": "ipython",
    "version": 3
   },
   "file_extension": ".py",
   "mimetype": "text/x-python",
   "name": "python",
   "nbconvert_exporter": "python",
   "pygments_lexer": "ipython3",
   "version": "3.9.13"
  }
 },
 "nbformat": 4,
 "nbformat_minor": 2
}
