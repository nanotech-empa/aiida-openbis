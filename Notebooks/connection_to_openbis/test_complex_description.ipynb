{
 "cells": [
  {
   "cell_type": "code",
   "execution_count": 30,
   "metadata": {},
   "outputs": [],
   "source": [
    "import utils\n",
    "CONFIG_ELN = utils.get_aiidalab_eln_config()\n",
    "openbis_url = \"local.openbis.ch\"\n",
    "openbis_token = \"$pat-admin-250611125344861x11B798860F11755C1C796FFB557F2CA0\"\n",
    "OPENBIS_SESSION, _ = utils.connect_openbis(openbis_url, openbis_token)"
   ]
  },
  {
   "cell_type": "code",
   "execution_count": 47,
   "metadata": {},
   "outputs": [],
   "source": [
    "observables = \"\"\"\n",
    "{\n",
    "    \"PRES\": {\n",
    "      \"settings\": [],\n",
    "      \"readings\": [\n",
    "        {\"source\": \"IonPump[1].Pressure.Value\", \"variable\": \"$value\", \"unit\": \"mbar\"},\n",
    "        {\"source\": \"IonPump[2].Pressure.Value\", \"variable\": \"$value\", \"unit\": \"mbar\"}\n",
    "      ]\n",
    "    }\n",
    "}\n",
    "\"\"\"\n",
    "\n",
    "import json\n",
    "observables = json.loads(observables)"
   ]
  },
  {
   "cell_type": "code",
   "execution_count": 50,
   "metadata": {},
   "outputs": [
    {
     "name": "stdout",
     "output_type": "stream",
     "text": [
      "{\"method\": \"updateSamples\", \"params\": [\"$pat-admin-250611125344861x11B798860F11755C1C796FFB557F2CA0\", [{\"@type\": \"as.dto.sample.update.SampleUpdate\", \"sampleId\": {\"@type\": \"as.dto.sample.id.SamplePermId\", \"permId\": \"20250610125449368-187\"}, \"projectId\": {\"@type\": \"as.dto.common.update.FieldUpdateValue\", \"isModified\": true, \"value\": {\"identifier\": \"/EQUIPMENT/ILOG\", \"@type\": \"as.dto.project.id.ProjectIdentifier\"}}, \"parentIds\": {\"actions\": [{\"items\": [], \"@type\": \"as.dto.common.update.ListUpdateActionSet\"}], \"@type\": \"as.dto.common.update.IdListUpdateValue\"}, \"childIds\": {\"actions\": [{\"items\": [], \"@type\": \"as.dto.common.update.ListUpdateActionSet\"}], \"@type\": \"as.dto.common.update.IdListUpdateValue\"}, \"componentIds\": {\"actions\": [{\"items\": [], \"@type\": \"as.dto.common.update.ListUpdateActionSet\"}], \"@type\": \"as.dto.common.update.IdListUpdateValue\"}, \"tagIds\": {\"actions\": [{\"items\": [], \"@type\": \"as.dto.common.update.ListUpdateActionSet\"}], \"@type\": \"as.dto.common.update.IdListUpdateValue\"}, \"metaData\": {\"actions\": [{\"items\": [\"custom_widget\"], \"@type\": \"as.dto.common.update.ListUpdateActionRemove\"}], \"@type\": \"as.dto.common.update.ListUpdateMapValues\"}, \"immutableData\": false, \"properties\": {\"$name\": \"IGP/TSP pump prep\", \"description\": \"<p>Combined ion getter pump (IGP) and titanium sublimation pump (TSP)</p>\", \"manufacturer\": \"20250610125626370-188\", \"model\": \"TiTan Ion Pump\", \"serial_number\": \"30515930\", \"empa_id\": null, \"receive_date\": \"2021-04-08\", \"location\": null, \"object_status\": \"ACTIVE\", \"comments\": null, \"actions_settings\": null, \"observables_settings\": {\"PRES\": {\"settings\": [], \"readings\": [{\"source\": \"IonPump[1].Pressure.Value\", \"variable\": \"$value\", \"unit\": \"mbar\"}, {\"source\": \"IonPump[2].Pressure.Value\", \"variable\": \"$value\", \"unit\": \"mbar\"}]}}, \"component_main_category\": null, \"component_sub_category\": null}}]], \"id\": \"2\", \"jsonrpc\": \"2.0\"}\n"
     ]
    },
    {
     "ename": "ValueError",
     "evalue": "No row with the given identifier exists: [ch.systemsx.cisd.openbis.generic.shared.dto.SamplePE#58] (Context: [updating properties (1/1) {\n  \"entity\" : {\n    \"class\" : \"SamplePE\",\n    \"id\" : 40,\n    \"permId\" : \"20250610125449368-187\",\n    \"identifier\" : \"/EQUIPMENT/ILOG/IONP36\"\n  },\n  \"properties\" : {\n    \"$name\" : \"IGP/TSP pump prep\",\n    \"description\" : \"<p>Combined ion getter pump (IGP) and titanium sublimation pump (TSP)</p>\",\n    \"manufacturer\" : \"20250610125626370-188\",\n    \"model\" : \"TiTan Ion Pump\",\n    \"serial_number\" : \"30515930\",\n    \"receive_date\" : \"2021-04-08\",\n    \"object_status\" : \"ACTIVE\"\n  }\n}])",
     "output_type": "error",
     "traceback": [
      "\u001b[0;31m---------------------------------------------------------------------------\u001b[0m",
      "\u001b[0;31mValueError\u001b[0m                                Traceback (most recent call last)",
      "\u001b[0;32m/tmp/ipykernel_5206/2040531095.py\u001b[0m in \u001b[0;36m<cell line: 4>\u001b[0;34m()\u001b[0m\n\u001b[1;32m      2\u001b[0m \u001b[0mobj\u001b[0m\u001b[0;34m.\u001b[0m\u001b[0mprops\u001b[0m\u001b[0;34m[\u001b[0m\u001b[0;34m\"observables_settings\"\u001b[0m\u001b[0;34m]\u001b[0m \u001b[0;34m=\u001b[0m \u001b[0mobservables\u001b[0m\u001b[0;34m\u001b[0m\u001b[0;34m\u001b[0m\u001b[0m\n\u001b[1;32m      3\u001b[0m \u001b[0mobj\u001b[0m\u001b[0;34m.\u001b[0m\u001b[0mprops\u001b[0m\u001b[0;34m[\u001b[0m\u001b[0;34m\"location\"\u001b[0m\u001b[0;34m]\u001b[0m \u001b[0;34m=\u001b[0m \u001b[0;32mNone\u001b[0m\u001b[0;34m\u001b[0m\u001b[0;34m\u001b[0m\u001b[0m\n\u001b[0;32m----> 4\u001b[0;31m \u001b[0mobj\u001b[0m\u001b[0;34m.\u001b[0m\u001b[0msave\u001b[0m\u001b[0;34m(\u001b[0m\u001b[0;34m)\u001b[0m\u001b[0;34m\u001b[0m\u001b[0;34m\u001b[0m\u001b[0m\n\u001b[0m",
      "\u001b[0;32m~/.local/lib/python3.9/site-packages/pybis/sample.py\u001b[0m in \u001b[0;36msave\u001b[0;34m(self)\u001b[0m\n\u001b[1;32m    272\u001b[0m \u001b[0;34m\u001b[0m\u001b[0m\n\u001b[1;32m    273\u001b[0m         \u001b[0;32melse\u001b[0m\u001b[0;34m:\u001b[0m\u001b[0;34m\u001b[0m\u001b[0;34m\u001b[0m\u001b[0m\n\u001b[0;32m--> 274\u001b[0;31m             \u001b[0msuper\u001b[0m\u001b[0;34m(\u001b[0m\u001b[0;34m)\u001b[0m\u001b[0;34m.\u001b[0m\u001b[0msave\u001b[0m\u001b[0;34m(\u001b[0m\u001b[0;34m)\u001b[0m\u001b[0;34m\u001b[0m\u001b[0;34m\u001b[0m\u001b[0m\n\u001b[0m",
      "\u001b[0;32m~/.local/lib/python3.9/site-packages/pybis/openbis_object.py\u001b[0m in \u001b[0;36msave\u001b[0;34m(self)\u001b[0m\n\u001b[1;32m    279\u001b[0m                 \u001b[0mrequest\u001b[0m\u001b[0;34m[\u001b[0m\u001b[0;34m\"params\"\u001b[0m\u001b[0;34m]\u001b[0m\u001b[0;34m[\u001b[0m\u001b[0;36m1\u001b[0m\u001b[0;34m]\u001b[0m\u001b[0;34m[\u001b[0m\u001b[0;36m0\u001b[0m\u001b[0;34m]\u001b[0m\u001b[0;34m[\u001b[0m\u001b[0;34m\"properties\"\u001b[0m\u001b[0;34m]\u001b[0m \u001b[0;34m=\u001b[0m \u001b[0mprops\u001b[0m\u001b[0;34m\u001b[0m\u001b[0;34m\u001b[0m\u001b[0m\n\u001b[1;32m    280\u001b[0m \u001b[0;34m\u001b[0m\u001b[0m\n\u001b[0;32m--> 281\u001b[0;31m             \u001b[0mresp\u001b[0m \u001b[0;34m=\u001b[0m \u001b[0mself\u001b[0m\u001b[0;34m.\u001b[0m\u001b[0mopenbis\u001b[0m\u001b[0;34m.\u001b[0m\u001b[0m_post_request\u001b[0m\u001b[0;34m(\u001b[0m\u001b[0mself\u001b[0m\u001b[0;34m.\u001b[0m\u001b[0mopenbis\u001b[0m\u001b[0;34m.\u001b[0m\u001b[0mas_v3\u001b[0m\u001b[0;34m,\u001b[0m \u001b[0mrequest\u001b[0m\u001b[0;34m)\u001b[0m\u001b[0;34m\u001b[0m\u001b[0;34m\u001b[0m\u001b[0m\n\u001b[0m\u001b[1;32m    282\u001b[0m             \u001b[0;32mif\u001b[0m \u001b[0mVERBOSE\u001b[0m\u001b[0;34m:\u001b[0m\u001b[0;34m\u001b[0m\u001b[0;34m\u001b[0m\u001b[0m\n\u001b[1;32m    283\u001b[0m                 \u001b[0mprint\u001b[0m\u001b[0;34m(\u001b[0m\u001b[0;34mf\"{self.entity} successfully updated.\"\u001b[0m\u001b[0;34m)\u001b[0m\u001b[0;34m\u001b[0m\u001b[0;34m\u001b[0m\u001b[0m\n",
      "\u001b[0;32m~/.local/lib/python3.9/site-packages/pybis/pybis.py\u001b[0m in \u001b[0;36m_post_request\u001b[0;34m(self, resource, request)\u001b[0m\n\u001b[1;32m   1250\u001b[0m         \u001b[0mdata\u001b[0m\u001b[0;34m\u001b[0m\u001b[0;34m\u001b[0m\u001b[0m\n\u001b[1;32m   1251\u001b[0m         \"\"\"\n\u001b[0;32m-> 1252\u001b[0;31m         \u001b[0;32mreturn\u001b[0m \u001b[0mself\u001b[0m\u001b[0;34m.\u001b[0m\u001b[0m_post_request_full_url\u001b[0m\u001b[0;34m(\u001b[0m\u001b[0murljoin\u001b[0m\u001b[0;34m(\u001b[0m\u001b[0mself\u001b[0m\u001b[0;34m.\u001b[0m\u001b[0murl\u001b[0m\u001b[0;34m,\u001b[0m \u001b[0mresource\u001b[0m\u001b[0;34m)\u001b[0m\u001b[0;34m,\u001b[0m \u001b[0mrequest\u001b[0m\u001b[0;34m)\u001b[0m\u001b[0;34m\u001b[0m\u001b[0;34m\u001b[0m\u001b[0m\n\u001b[0m\u001b[1;32m   1253\u001b[0m \u001b[0;34m\u001b[0m\u001b[0m\n\u001b[1;32m   1254\u001b[0m     \u001b[0;32mdef\u001b[0m \u001b[0m_recover_session\u001b[0m\u001b[0;34m(\u001b[0m\u001b[0mself\u001b[0m\u001b[0;34m,\u001b[0m \u001b[0mfull_url\u001b[0m\u001b[0;34m,\u001b[0m \u001b[0mrequest\u001b[0m\u001b[0;34m)\u001b[0m\u001b[0;34m:\u001b[0m\u001b[0;34m\u001b[0m\u001b[0;34m\u001b[0m\u001b[0m\n",
      "\u001b[0;32m~/.local/lib/python3.9/site-packages/pybis/pybis.py\u001b[0m in \u001b[0;36m_post_request_full_url\u001b[0;34m(self, full_url, request)\u001b[0m\n\u001b[1;32m   1297\u001b[0m             \u001b[0;32mif\u001b[0m \u001b[0;34m\"error\"\u001b[0m \u001b[0;32min\u001b[0m \u001b[0mresp\u001b[0m\u001b[0;34m:\u001b[0m\u001b[0;34m\u001b[0m\u001b[0;34m\u001b[0m\u001b[0m\n\u001b[1;32m   1298\u001b[0m                 \u001b[0mprint\u001b[0m\u001b[0;34m(\u001b[0m\u001b[0mjson\u001b[0m\u001b[0;34m.\u001b[0m\u001b[0mdumps\u001b[0m\u001b[0;34m(\u001b[0m\u001b[0mrequest\u001b[0m\u001b[0;34m)\u001b[0m\u001b[0;34m)\u001b[0m\u001b[0;34m\u001b[0m\u001b[0;34m\u001b[0m\u001b[0m\n\u001b[0;32m-> 1299\u001b[0;31m                 \u001b[0;32mraise\u001b[0m \u001b[0mValueError\u001b[0m\u001b[0;34m(\u001b[0m\u001b[0mresp\u001b[0m\u001b[0;34m[\u001b[0m\u001b[0;34m\"error\"\u001b[0m\u001b[0;34m]\u001b[0m\u001b[0;34m[\u001b[0m\u001b[0;34m\"message\"\u001b[0m\u001b[0;34m]\u001b[0m\u001b[0;34m)\u001b[0m\u001b[0;34m\u001b[0m\u001b[0;34m\u001b[0m\u001b[0m\n\u001b[0m\u001b[1;32m   1300\u001b[0m             \u001b[0;32melif\u001b[0m \u001b[0;34m\"result\"\u001b[0m \u001b[0;32min\u001b[0m \u001b[0mresp\u001b[0m\u001b[0;34m:\u001b[0m\u001b[0;34m\u001b[0m\u001b[0;34m\u001b[0m\u001b[0m\n\u001b[1;32m   1301\u001b[0m                 \u001b[0;32mreturn\u001b[0m \u001b[0mresp\u001b[0m\u001b[0;34m[\u001b[0m\u001b[0;34m\"result\"\u001b[0m\u001b[0;34m]\u001b[0m\u001b[0;34m\u001b[0m\u001b[0;34m\u001b[0m\u001b[0m\n",
      "\u001b[0;31mValueError\u001b[0m: No row with the given identifier exists: [ch.systemsx.cisd.openbis.generic.shared.dto.SamplePE#58] (Context: [updating properties (1/1) {\n  \"entity\" : {\n    \"class\" : \"SamplePE\",\n    \"id\" : 40,\n    \"permId\" : \"20250610125449368-187\",\n    \"identifier\" : \"/EQUIPMENT/ILOG/IONP36\"\n  },\n  \"properties\" : {\n    \"$name\" : \"IGP/TSP pump prep\",\n    \"description\" : \"<p>Combined ion getter pump (IGP) and titanium sublimation pump (TSP)</p>\",\n    \"manufacturer\" : \"20250610125626370-188\",\n    \"model\" : \"TiTan Ion Pump\",\n    \"serial_number\" : \"30515930\",\n    \"receive_date\" : \"2021-04-08\",\n    \"object_status\" : \"ACTIVE\"\n  }\n}])"
     ]
    }
   ],
   "source": [
    "obj = OPENBIS_SESSION.get_object(\"20250610125449368-187\")\n",
    "obj.props[\"observables_settings\"] = observables\n",
    "obj.props[\"location\"] = None\n",
    "obj.save()"
   ]
  },
  {
   "cell_type": "code",
   "execution_count": 44,
   "metadata": {},
   "outputs": [
    {
     "name": "stdout",
     "output_type": "stream",
     "text": [
      "sample successfully updated.\n"
     ]
    }
   ],
   "source": [
    "obj.props[\"process_steps_settings\"] = processes\n",
    "obj.save()"
   ]
  },
  {
   "cell_type": "code",
   "execution_count": 45,
   "metadata": {},
   "outputs": [
    {
     "data": {
      "text/plain": [
       "{'$name': 'DBBA cold deposition Eve',\n",
       " 'description': '<p>Depositing DBBA at 200 K with Flux and Pressure Monitoring:</p><p>Step 1: Set temperature: COOL (Manipulator to 77 K with LN2) and HEAT (PBN heater to 200 K)</p><p>Step 2: DBBA deposition (DEPO)&nbsp;</p>',\n",
       " 'process_code': '[HEAT:COOL]:DEPO',\n",
       " 'instrument': '20250611130204383-811',\n",
       " 'process_steps_settings': {'name': 'Preconditioning',\n",
       "  'actions': {'HEAT': {'target_temperature': {'value': 200,\n",
       "     'temperature_unit': 'C'},\n",
       "    'duration': '00:20:00',\n",
       "    'component': {'permID': '20250610130417029-196',\n",
       "     'target_temperature': {'value': 200, 'temperature_unit': 'C'}}},\n",
       "   'COOL': {'target_temperature': {'value': 77, 'temperature_unit': 'C'},\n",
       "    'duration': '00:40:00',\n",
       "    'cryogen': 'LN2',\n",
       "    'component': {'permID': '20250610130417029-196'}}},\n",
       "  'observables': {}},\n",
       " 'comments': None}"
      ]
     },
     "execution_count": 45,
     "metadata": {},
     "output_type": "execute_result"
    }
   ],
   "source": [
    "obj.props.all()"
   ]
  },
  {
   "cell_type": "code",
   "execution_count": 1,
   "metadata": {},
   "outputs": [],
   "source": [
    "import utils\n",
    "CONFIG_ELN = utils.get_aiidalab_eln_config()\n",
    "openbis_url = \"https://openbis-empa-lab205.ethz.ch/\"\n",
    "openbis_token = \"$pat-dafa_admin-250604134543930xA579A4380CE9658576376E29B1098549\"\n",
    "OPENBIS_SESSION, _ = utils.connect_openbis(openbis_url, openbis_token)"
   ]
  },
  {
   "cell_type": "code",
   "execution_count": 9,
   "metadata": {},
   "outputs": [
    {
     "name": "stdout",
     "output_type": "stream",
     "text": [
      "Property TEST_INTEGER_MULTIVALUED assigned to EXPERIMENTAL_STEP\n"
     ]
    }
   ],
   "source": [
    "obj_type.assign_property(\"TEST_INTEGER_MULTIVALUED\")"
   ]
  },
  {
   "cell_type": "markdown",
   "metadata": {},
   "source": [
    "## Create rich text property and assign it to an object"
   ]
  },
  {
   "cell_type": "code",
   "execution_count": null,
   "metadata": {},
   "outputs": [],
   "source": [
    "property_type_dict = {\n",
    "    \"code\": \"complex_description\",\n",
    "    \"label\": \"Complex description\",\n",
    "    \"description\": \"Complex description\",\n",
    "    \"dataType\": \"MULTILINE_VARCHAR\",\n",
    "    \"managedInternally\": False,\n",
    "    \"multiValue\": False,\n",
    "    \"metaData\": {\"custom_widget\": \"Word Processor\"}\n",
    "}\n",
    "\n",
    "prop_type = OPENBIS_SESSION.new_property_type(**property_type_dict).save()\n",
    "obj_type = OPENBIS_SESSION.get_object_type(\"TEST_OBJECT\")\n",
    "obj_type.assign_property(OPENBIS_SESSION.get_property_type(code=property_type_dict[\"code\"]))\n",
    "\n",
    "# You have to reload the session after modifying object types\n",
    "OPENBIS_SESSION, _ = utils.connect_openbis(CONFIG_ELN[\"url\"], CONFIG_ELN[\"token\"])"
   ]
  },
  {
   "cell_type": "markdown",
   "metadata": {},
   "source": [
    "## Get complex_description context from openBIS"
   ]
  },
  {
   "cell_type": "code",
   "execution_count": 51,
   "metadata": {},
   "outputs": [
    {
     "data": {
      "text/plain": [
       "\"<p><strong>adasdadasdjandkjadaj</strong></p><p>&nbsp;<figure class='image'><img src='/openbis/openbis/file-service/eln-lims/0d/fd/a5/0dfda553-97b5-40b7-ac77-4ec03763279b/ce0dd3c2-a9b2-4b7c-9725-6aaad32bf270.png'/></figure>\""
      ]
     },
     "execution_count": 51,
     "metadata": {},
     "output_type": "execute_result"
    }
   ],
   "source": [
    "OPENBIS_SESSION.get_object(\"20250409122357804-4460\").props.all()[\"complex_description\"]"
   ]
  },
  {
   "cell_type": "markdown",
   "metadata": {},
   "source": [
    "## Write complex description into openBIS"
   ]
  },
  {
   "cell_type": "code",
   "execution_count": null,
   "metadata": {},
   "outputs": [],
   "source": [
    "import requests \n",
    "import json \n",
    "\n",
    "# Assuming you have logged into openbis via pybis\n",
    "\n",
    "obj = OPENBIS_SESSION.get_object(\"20250409122357804-4460\") # Experiment or sample you want to update\n",
    "\n",
    "file = 'ase_geo.png'\n",
    "#\n",
    "url = 'https://local.openbis.ch/openbis/openbis/file-service/eln-lims?type=Files&sessionID=' + OPENBIS_SESSION.token\n",
    "files = {'file': open(file, 'rb')}\n",
    "\n",
    "# Upload figure into openBIS file-service. This figure is goign to be used in the rich text property\n",
    "r = requests.post(url, files=files, verify=False) # verify=False is required if you use self-signed certificates\n",
    "\n",
    "if r.ok:\n",
    "    url = json.loads(r.text)['url'] # url is a special url to uploaded image\n",
    "    formatted = '<p><strong>adasdadasdjandkjadaj</strong></p><p>&nbsp;' ## Add boolean text\n",
    "    formatted += f\"<figure class='image'><img src='{url}'/></figure>\" ## Add figure\n",
    "    obj.props['complex_description'] = formatted # setting text with image to a example $document property \n",
    "    obj.save()\n"
   ]
  },
  {
   "cell_type": "markdown",
   "metadata": {},
   "source": [
    "## Read content from openBIS"
   ]
  },
  {
   "cell_type": "code",
   "execution_count": 49,
   "metadata": {},
   "outputs": [
    {
     "name": "stdout",
     "output_type": "stream",
     "text": [
      "File downloaded successfully.\n"
     ]
    }
   ],
   "source": [
    "from bs4 import BeautifulSoup\n",
    "\n",
    "session_id = OPENBIS_SESSION.token  # Your active openBIS session\n",
    "obj = OPENBIS_SESSION.get_object(\"20250409122357804-4460\")\n",
    "html = obj.props['complex_description']\n",
    "\n",
    "# Get image url from the html string\n",
    "soup = BeautifulSoup(html, 'html.parser')\n",
    "img_tag = soup.find('img')\n",
    "if img_tag:\n",
    "    url = img_tag['src']\n",
    "\n",
    "# Combine base URL + path + sessionID\n",
    "full_url = f'https://local.openbis.ch{url}?sessionID={session_id}'\n",
    "\n",
    "# Download the file\n",
    "response = requests.get(full_url, verify=False)\n",
    "\n",
    "if response.status_code == 200:\n",
    "    with open('downloaded_image.png', 'wb') as f:\n",
    "        f.write(response.content)\n",
    "    print('File downloaded successfully.')\n",
    "else:\n",
    "    print(f'Failed to download: {response.status_code} - {response.text}')"
   ]
  }
 ],
 "metadata": {
  "kernelspec": {
   "display_name": "base",
   "language": "python",
   "name": "python3"
  },
  "language_info": {
   "codemirror_mode": {
    "name": "ipython",
    "version": 3
   },
   "file_extension": ".py",
   "mimetype": "text/x-python",
   "name": "python",
   "nbconvert_exporter": "python",
   "pygments_lexer": "ipython3",
   "version": "3.9.13"
  }
 },
 "nbformat": 4,
 "nbformat_minor": 2
}
