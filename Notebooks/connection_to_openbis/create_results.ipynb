{
 "cells": [
  {
   "cell_type": "code",
   "execution_count": null,
   "metadata": {},
   "outputs": [],
   "source": [
    "from IPython.display import display\n",
    "import ipywidgets as ipw\n",
    "import widgets\n",
    "import utils\n",
    "import os"
   ]
  },
  {
   "cell_type": "code",
   "execution_count": null,
   "metadata": {},
   "outputs": [],
   "source": [
    "CONFIG = utils.read_json(\"config.json\")\n",
    "CONFIG_ELN = utils.get_aiidalab_eln_config()\n",
    "DATA_MODEL = utils.read_yaml(\"/home/jovyan/aiida-openbis/Notebooks/Metadata_Schemas_LinkML/materialMLinfo.yaml\")\n",
    "OPENBIS_SESSION, SESSION_DATA = utils.connect_openbis(CONFIG_ELN[\"url\"], CONFIG_ELN[\"token\"])\n",
    "SIMULATION_OBJECT_CLASSES = [\"BandStructure\", \"GeometryOptimisation\", \"PDOS\", \"MeasurementSession\", \"UnclassifiedSimulation\", \"VibrationalSpectroscopy\"]\n",
    "SIMULATION_OBJECT_TYPES = []\n",
    "for simulation in SIMULATION_OBJECT_CLASSES:\n",
    "    object_type = DATA_MODEL[\"classes\"][simulation][\"annotations\"][\"openbis_label\"].replace(\" \", \"_\").upper()\n",
    "    SIMULATION_OBJECT_TYPES.append(object_type)\n",
    "\n",
    "project_selector = widgets.ProjectSelectionWidget()\n",
    "project_selector.load_dropdown_box()\n",
    "\n",
    "measurements_selector = widgets.ObjectMultipleSelectionWidget(\"Measurements\")\n",
    "simulations_selector = widgets.ObjectMultipleSelectionWidget(\"Simulations\")\n",
    "analysis_selector = widgets.ObjectMultipleSelectionWidget(\"Analysis\")\n",
    "results_widgets = widgets.OpenbisObjectWidget(\"Results\", DATA_MODEL)\n",
    "\n",
    "results_support_files = ipw.FileUpload(multiple = True)\n",
    "\n",
    "increase_buttons_size = utils.HTML(data = ''.join(CONFIG[\"save_home_buttons_settings\"]))\n",
    "create_button = utils.Button(\n",
    "    description = '', disabled = False, button_style = '', tooltip = 'Save', \n",
    "    icon = 'save', layout = ipw.Layout(width = '100px', height = '50px')\n",
    ")\n",
    "quit_button = utils.Button(\n",
    "    description = '', disabled = False, button_style = '', \n",
    "    tooltip = 'Main menu', icon = 'home', layout = ipw.Layout(width = '100px', height = '50px')\n",
    ")\n",
    "save_close_buttons_hbox = ipw.HBox([create_button, quit_button])"
   ]
  },
  {
   "cell_type": "code",
   "execution_count": null,
   "metadata": {},
   "outputs": [],
   "source": [
    "def close_notebook(b):\n",
    "    display(utils.Javascript(data = 'window.location.replace(\"home.ipynb\")'))\n",
    "\n",
    "def load_project_objects_metadata(change):\n",
    "    if project_selector.dropdown.value != -1:\n",
    "        simulations_selector.load_selector(SIMULATION_OBJECT_TYPES, project_selector.dropdown.value)\n",
    "        analysis_selector.load_selector(\"ANALYSIS\", project_selector.dropdown.value)\n",
    "        measurements_selector.load_selector([\"MEASUREMENT_SESSION\"], project_selector.dropdown.value)\n",
    "\n",
    "def create_results_openbis(b):\n",
    "    project_permid = project_selector.dropdown.value\n",
    "    project_results_collection = OPENBIS_SESSION.get_collections(project = project_permid, code = \"RESULTS_COLLECTION\")\n",
    "    results_parents = []\n",
    "    results_parents.extend(list(measurements_selector.selector.value))\n",
    "    results_parents.extend(list(analysis_selector.selector.value))\n",
    "    results_parents.extend(list(simulations_selector.selector.value))\n",
    "    \n",
    "    if len(project_results_collection) == 0:\n",
    "        results_collection = utils.create_openbis_collection(\n",
    "            OPENBIS_SESSION, \n",
    "            project = project_selector.dropdown.value, \n",
    "            code = \"RESULTS_COLLECTION\", type = \"COLLECTION\", props = {\"name\": \"Results\"}\n",
    "        )\n",
    "    else:\n",
    "        results_collection = project_results_collection[0]\n",
    "\n",
    "    object_properties = utils.get_object_widget_values(results_widgets.properties_widgets)\n",
    "    results_object = utils.create_openbis_object(\n",
    "        OPENBIS_SESSION, type=\"RESULTS\", collection=results_collection, \n",
    "        props = object_properties, parents = results_parents\n",
    "    )\n",
    "    utils.upload_datasets(OPENBIS_SESSION, results_object, results_support_files, \"RAW_DATA\")\n",
    "    display(utils.Javascript(data = \"alert('Upload successful!')\"))\n",
    "    \n",
    "    # Reset widgets\n",
    "    measurements_selector.selector.options = []\n",
    "    simulations_selector.selector.options = []\n",
    "    analysis_selector.selector.options = []\n",
    "    project_selector.dropdown.value = -1\n",
    "    results_widgets.reset_properties_widgets()"
   ]
  },
  {
   "cell_type": "markdown",
   "metadata": {},
   "source": [
    "# Create results"
   ]
  },
  {
   "cell_type": "markdown",
   "metadata": {},
   "source": [
    "## Select project"
   ]
  },
  {
   "cell_type": "code",
   "execution_count": null,
   "metadata": {},
   "outputs": [],
   "source": [
    "display(project_selector.dropdown_boxes)\n",
    "project_selector.dropdown.observe(load_project_objects_metadata, names = 'value')"
   ]
  },
  {
   "cell_type": "markdown",
   "metadata": {},
   "source": [
    "## Select analysis"
   ]
  },
  {
   "cell_type": "code",
   "execution_count": null,
   "metadata": {},
   "outputs": [],
   "source": [
    "display(analysis_selector)"
   ]
  },
  {
   "cell_type": "markdown",
   "metadata": {},
   "source": [
    "## Select simulations"
   ]
  },
  {
   "cell_type": "code",
   "execution_count": null,
   "metadata": {},
   "outputs": [],
   "source": [
    "display(simulations_selector)"
   ]
  },
  {
   "cell_type": "markdown",
   "metadata": {},
   "source": [
    "## Select measurements"
   ]
  },
  {
   "cell_type": "code",
   "execution_count": null,
   "metadata": {},
   "outputs": [],
   "source": [
    "display(measurements_selector)"
   ]
  },
  {
   "cell_type": "markdown",
   "metadata": {},
   "source": [
    "## Properties"
   ]
  },
  {
   "cell_type": "code",
   "execution_count": null,
   "metadata": {},
   "outputs": [],
   "source": [
    "display(results_widgets)"
   ]
  },
  {
   "cell_type": "markdown",
   "metadata": {},
   "source": [
    "## Support files"
   ]
  },
  {
   "cell_type": "code",
   "execution_count": null,
   "metadata": {},
   "outputs": [],
   "source": [
    "display(results_support_files)"
   ]
  },
  {
   "cell_type": "markdown",
   "metadata": {},
   "source": [
    "## Save results"
   ]
  },
  {
   "cell_type": "code",
   "execution_count": null,
   "metadata": {},
   "outputs": [],
   "source": [
    "display(save_close_buttons_hbox)\n",
    "display(increase_buttons_size)\n",
    "create_button.on_click(create_results_openbis)\n",
    "quit_button.on_click(close_notebook)"
   ]
  }
 ],
 "metadata": {
  "kernelspec": {
   "display_name": "base",
   "language": "python",
   "name": "python3"
  },
  "language_info": {
   "codemirror_mode": {
    "name": "ipython",
    "version": 3
   },
   "file_extension": ".py",
   "mimetype": "text/x-python",
   "name": "python",
   "nbconvert_exporter": "python",
   "pygments_lexer": "ipython3",
   "version": "3.9.13"
  }
 },
 "nbformat": 4,
 "nbformat_minor": 2
}
