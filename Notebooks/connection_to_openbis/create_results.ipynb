{
 "cells": [
  {
   "cell_type": "code",
   "execution_count": null,
   "metadata": {},
   "outputs": [],
   "source": [
    "from IPython.display import display\n",
    "import ipywidgets as ipw\n",
    "import widgets\n",
    "import utils\n",
    "import os"
   ]
  },
  {
   "cell_type": "code",
   "execution_count": null,
   "metadata": {},
   "outputs": [],
   "source": [
    "CONFIG = utils.read_json(\"config.json\")\n",
    "CONFIG_ELN = utils.get_aiidalab_eln_config()\n",
    "# CONFIG_ELN = utils.read_json(\"eln_config.json\")\n",
    "OPENBIS_SESSION, SESSION_DATA = utils.connect_openbis(CONFIG_ELN[\"url\"], CONFIG_ELN[\"token\"])\n",
    "\n",
    "project_selector = widgets.ProjectSelectionWidget()\n",
    "project_selector.load_dropdown_box()\n",
    "\n",
    "measurements_selector = widgets.MeasurementSelectionWidget()\n",
    "\n",
    "analysis_selector = widgets.AnalysisSelectionWidget()\n",
    "\n",
    "results_widgets = widgets.ObjectPropertiesWidgets(\"Results\")\n",
    "\n",
    "results_support_files = ipw.FileUpload(multiple = True)\n",
    "\n",
    "increase_buttons_size = utils.HTML(data = ''.join(CONFIG[\"save_home_buttons_settings\"]))\n",
    "create_button = utils.Button(\n",
    "    description = '', disabled = False, button_style = '', tooltip = 'Save', \n",
    "    icon = 'save', layout = ipw.Layout(width = '100px', height = '50px')\n",
    ")\n",
    "quit_button = utils.Button(\n",
    "    description = '', disabled = False, button_style = '', \n",
    "    tooltip = 'Main menu', icon = 'home', layout = ipw.Layout(width = '100px', height = '50px')\n",
    ")\n",
    "save_close_buttons_hbox = ipw.HBox([create_button, quit_button])"
   ]
  },
  {
   "cell_type": "code",
   "execution_count": null,
   "metadata": {},
   "outputs": [],
   "source": [
    "def close_notebook(b):\n",
    "    display(utils.Javascript(data = 'window.location.replace(\"home.ipynb\")'))\n",
    "\n",
    "def load_measurements(change):\n",
    "    if project_selector.dropdown_boxes.children[0].value != -1:\n",
    "        measurements_selector.load_selector(project_selector.dropdown_boxes.children[0].value)\n",
    "\n",
    "def create_results_openbis(b):\n",
    "    results_props = {}\n",
    "    for prop in CONFIG[\"objects\"][\"Results\"][\"properties\"]:\n",
    "        results_props[prop] = results_widgets.properties_widgets[prop].value\n",
    "        \n",
    "    project_permid = project_selector.dropdown_boxes.children[0].value\n",
    "    project_results_collection = OPENBIS_SESSION.get_collections(project = project_permid, code = \"RESULTS_COLLECTION\")\n",
    "    results_parents = []\n",
    "    results_parents.extend(list(measurements_selector.children[0].value))\n",
    "    results_parents.extend(list(analysis_selector.children[0].value))\n",
    "    \n",
    "    if len(project_results_collection) == 0:\n",
    "        results_collection = utils.create_openbis_collection(\n",
    "            OPENBIS_SESSION, \n",
    "            project = project_selector.dropdown_boxes.children[0].value, \n",
    "            code = \"RESULTS_COLLECTION\", type = \"COLLECTION\", props = {\"$name\": \"Results\"}\n",
    "        )\n",
    "    else:\n",
    "        results_collection = project_results_collection[0]\n",
    "\n",
    "    results_object = utils.create_openbis_object(\n",
    "        OPENBIS_SESSION, type=\"RESULTS\", collection=results_collection, \n",
    "        props = results_props, parents = results_parents\n",
    "    )\n",
    "    upload_datasets(results_object, results_support_files)\n",
    "    \n",
    "    display(utils.Javascript(data = \"alert('Upload successful!')\"))\n",
    "\n",
    "def upload_datasets(method_object, support_files_widget):\n",
    "    for filename in support_files_widget.value:\n",
    "        file_info = support_files_widget.value[filename]\n",
    "        utils.save_file(file_info['content'], filename)\n",
    "        OPENBIS_SESSION.new_dataset(type = 'RAW_DATA', sample = method_object, files = [filename]).save()\n",
    "        os.remove(filename)"
   ]
  },
  {
   "cell_type": "markdown",
   "metadata": {},
   "source": [
    "# Create results"
   ]
  },
  {
   "cell_type": "markdown",
   "metadata": {},
   "source": [
    "## Select project"
   ]
  },
  {
   "cell_type": "code",
   "execution_count": null,
   "metadata": {},
   "outputs": [],
   "source": [
    "display(project_selector.dropdown_boxes)\n",
    "project_selector.dropdown_boxes.children[0].observe(load_measurements, names = 'value')"
   ]
  },
  {
   "cell_type": "markdown",
   "metadata": {},
   "source": [
    "## Select analysis"
   ]
  },
  {
   "cell_type": "code",
   "execution_count": null,
   "metadata": {},
   "outputs": [],
   "source": [
    "display(analysis_selector)"
   ]
  },
  {
   "cell_type": "markdown",
   "metadata": {},
   "source": [
    "## Select measurements"
   ]
  },
  {
   "cell_type": "code",
   "execution_count": null,
   "metadata": {},
   "outputs": [],
   "source": [
    "display(measurements_selector)"
   ]
  },
  {
   "cell_type": "markdown",
   "metadata": {},
   "source": [
    "## Properties"
   ]
  },
  {
   "cell_type": "code",
   "execution_count": null,
   "metadata": {},
   "outputs": [],
   "source": [
    "display(results_widgets)"
   ]
  },
  {
   "cell_type": "markdown",
   "metadata": {},
   "source": [
    "## Support files"
   ]
  },
  {
   "cell_type": "code",
   "execution_count": null,
   "metadata": {},
   "outputs": [],
   "source": [
    "display(results_support_files)"
   ]
  },
  {
   "cell_type": "markdown",
   "metadata": {},
   "source": [
    "## Save results"
   ]
  },
  {
   "cell_type": "code",
   "execution_count": null,
   "metadata": {},
   "outputs": [],
   "source": [
    "display(save_close_buttons_hbox)\n",
    "display(increase_buttons_size)\n",
    "create_button.on_click(create_results_openbis)\n",
    "quit_button.on_click(close_notebook)"
   ]
  }
 ],
 "metadata": {
  "kernelspec": {
   "display_name": "base",
   "language": "python",
   "name": "python3"
  },
  "language_info": {
   "codemirror_mode": {
    "name": "ipython",
    "version": 3
   },
   "file_extension": ".py",
   "mimetype": "text/x-python",
   "name": "python",
   "nbconvert_exporter": "python",
   "pygments_lexer": "ipython3",
   "version": "3.9.13"
  }
 },
 "nbformat": 4,
 "nbformat_minor": 2
}
