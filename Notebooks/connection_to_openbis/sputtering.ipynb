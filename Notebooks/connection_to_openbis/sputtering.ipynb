{
 "cells": [
  {
   "cell_type": "code",
   "execution_count": null,
   "metadata": {},
   "outputs": [],
   "source": [
    "from pybis import Openbis\n",
    "import json\n",
    "import ipywidgets as widgets\n",
    "from IPython.display import display, Javascript\n",
    "from datetime import datetime"
   ]
  },
  {
   "cell_type": "code",
   "execution_count": null,
   "metadata": {},
   "outputs": [],
   "source": [
    "# Global variables\n",
    "OPENBIS_SESSION = None\n",
    "RAW_MATERIALS_TYPES = [\"CRYSTAL\", \"WAFER_SUBSTRATE\", \"2D_LAYERED_MATERIAL\", \"MOLECULE\"]\n",
    "PROCESS_SAMPLE_TYPES = [\"SPUTTERING\", \"ANNEALING\", \"DEPOSITION\"]"
   ]
  },
  {
   "cell_type": "code",
   "execution_count": null,
   "metadata": {},
   "outputs": [],
   "source": [
    "# Widgets\n",
    "samples_dropdown = widgets.Dropdown(description='Sample', disabled=False, layout = widgets.Layout(width = '400px'))\n",
    "samples_dropdown.style = {'description_width': '110px'}\n",
    "sample_details_textbox = widgets.Textarea(value = '', description = '', disabled = True, layout = widgets.Layout(width = '600px', height = '300px'))\n",
    "sample_metadata_boxes = widgets.HBox([samples_dropdown, sample_details_textbox])\n",
    "\n",
    "instruments_dropdown = widgets.Dropdown(description='Select instrument', disabled=False, layout = widgets.Layout(width = '993px'))\n",
    "instruments_dropdown.style = {'description_width': '110px'}\n",
    "\n",
    "experiments_dropdown = widgets.Dropdown(description='Select experiment', disabled=False, layout = widgets.Layout(width = '993px'))\n",
    "experiments_dropdown.style = {'description_width': '110px'}\n",
    "\n",
    "duration_value_floatbox = widgets.FloatText(value = 0, description = 'Duration', disabled = False, layout = widgets.Layout(width = '200px'))\n",
    "duration_value_floatbox.style = {'description_width': '110px'}\n",
    "duration_unit_dropdown = widgets.Dropdown(value = 'sec', description = '', disabled = False, options = [\"sec\", \"min\", \"hrs\"], layout = widgets.Layout(width = '100px'))\n",
    "duration_hbox = widgets.HBox([duration_value_floatbox, duration_unit_dropdown])\n",
    "\n",
    "pressure_value_floatbox = widgets.FloatText(value = 0, description = 'Pressure', disabled = False, layout = widgets.Layout(width = '200px'))\n",
    "pressure_value_floatbox.style = {'description_width': '110px'}\n",
    "pressure_unit_dropdown = widgets.Dropdown(value = 'mBar', description = '', disabled = False, options = [\"mBar\", \"Bar\", \"Pa\", \"kPa\"], layout = widgets.Layout(width = '100px'))\n",
    "pressure_hbox = widgets.HBox([pressure_value_floatbox, pressure_unit_dropdown])\n",
    "\n",
    "discharge_voltage_value_floatbox = widgets.FloatText(value = 0, description = 'Discharge voltage', disabled = False, layout = widgets.Layout(width = '200px'))\n",
    "discharge_voltage_value_floatbox.style = {'description_width': '110px'}\n",
    "discharge_voltage_unit_dropdown = widgets.Dropdown(value = 'kV', description = '', disabled = False, options = [\"kV\"], layout = widgets.Layout(width = '100px'))\n",
    "discharge_voltage_hbox = widgets.HBox([discharge_voltage_value_floatbox, discharge_voltage_unit_dropdown])\n",
    "\n",
    "voltage_value_floatbox = widgets.FloatText(value = 0, description = 'Voltage', disabled = False, layout = widgets.Layout(width = '200px'))\n",
    "voltage_value_floatbox.style = {'description_width': '110px'}\n",
    "voltage_unit_dropdown = widgets.Dropdown(value = 'V', description = '', disabled = False, options = [\"V\", \"mV\", \"uV\"], layout = widgets.Layout(width = '100px'))\n",
    "voltage_hbox = widgets.HBox([voltage_value_floatbox, voltage_unit_dropdown])\n",
    "\n",
    "properties_on_left = widgets.VBox([duration_hbox, pressure_hbox, discharge_voltage_hbox, voltage_hbox])\n",
    "\n",
    "temperature_value_floatbox = widgets.FloatText(value = 0, description = 'Temperature', disabled = False, layout = widgets.Layout(width = '200px'))\n",
    "temperature_value_floatbox.style = {'description_width': '110px'}\n",
    "temperature_unit_dropdown = widgets.Dropdown(value = 'K', description = '', disabled = False, options = [\"K\", \"oC\", \"oF\"], layout = widgets.Layout(width = '100px'))\n",
    "temperature_hbox = widgets.HBox([temperature_value_floatbox, temperature_unit_dropdown])\n",
    "\n",
    "angle_value_floatbox = widgets.FloatText(value = 0, description = 'Angle', disabled = False, layout = widgets.Layout(width = '200px'))\n",
    "angle_value_floatbox.style = {'description_width': '110px'}\n",
    "angle_unit_dropdown = widgets.Dropdown(value = 'deg', description = '', disabled = False, options = [\"deg\", \"rad\"], layout = widgets.Layout(width = '100px'))\n",
    "angle_hbox = widgets.HBox([angle_value_floatbox, angle_unit_dropdown])\n",
    "\n",
    "current_value_floatbox = widgets.FloatText(value = 0, description = 'Current', disabled = False, layout = widgets.Layout(width = '200px'))\n",
    "current_value_floatbox.style = {'description_width': '110px'}\n",
    "current_unit_dropdown = widgets.Dropdown(value = 'A', description = '', disabled = False, options = [\"A\", \"mA\", \"uA\"], layout = widgets.Layout(width = '100px'))\n",
    "current_hbox = widgets.HBox([current_value_floatbox, current_unit_dropdown])\n",
    "\n",
    "properties_on_right = widgets.VBox([temperature_hbox, angle_hbox, current_hbox])\n",
    "\n",
    "sputter_properties = widgets.HBox([properties_on_left, properties_on_right])\n",
    "\n",
    "comments_textbox = widgets.Textarea(value = '', placeholder = \"Write comments here...\", description = 'Comments', disabled = False, layout = widgets.Layout(width = '993px', height = '200px'))\n",
    "comments_textbox.style = {'description_width': '110px'}\n",
    "\n",
    "sputtering_name_textbox = widgets.Text(value = '', placeholder = \"Write name here...\", description = 'Name', disabled = False, layout = widgets.Layout(width = '400px'))\n",
    "sputtering_name_textbox.style = {'description_width': '110px'}\n",
    "\n",
    "sample_out_name_textbox = widgets.Text(value = '', placeholder = \"Write output sample name here...\", description = 'Name', disabled = False, layout = widgets.Layout(width = '400px'))\n",
    "sample_out_name_textbox.style = {'description_width': '110px'}\n",
    "\n",
    "create_sputtering_button = widgets.Button(description = 'Save', disabled = False, button_style = '', tooltip = 'Save sputtering information')\n",
    "quit_button = widgets.Button(description = 'Go back', disabled = False, button_style = '', tooltip = 'Go back')\n",
    "\n",
    "bottom_buttons_hbox = widgets.HBox([create_sputtering_button, quit_button])"
   ]
  },
  {
   "cell_type": "code",
   "execution_count": null,
   "metadata": {},
   "outputs": [],
   "source": [
    "# Functions\n",
    "def read_json(filename):\n",
    "    with open(filename, 'r') as file:\n",
    "        return json.load(file)\n",
    "\n",
    "# Function to close the notebook page\n",
    "def close_notebook(b):\n",
    "    display(Javascript(f'window.open(\"home.ipynb\", \"_blank\")'))\n",
    "    display(Javascript('window.close()'))\n",
    "\n",
    "def create_sputtering_action(b):\n",
    "    global OPENBIS_SESSION\n",
    "    if experiments_dropdown.value == \"-1\":\n",
    "        print(\"Select an experiment.\")\n",
    "    elif samples_dropdown.value == \"-1\":\n",
    "        print(\"Select a sample.\")\n",
    "    elif instruments_dropdown.value == \"-1\":\n",
    "        print(\"Select an instrument.\")\n",
    "    else:\n",
    "        sample_parents = [samples_dropdown.value, instruments_dropdown.value]\n",
    "        object_properties = {}\n",
    "        object_properties[\"$name\"] = sputtering_name_textbox.value\n",
    "        object_properties[\"duration\"] = json.dumps({\"value\": duration_value_floatbox.value, \"unit\": duration_unit_dropdown.value})\n",
    "        object_properties[\"pressure\"] = json.dumps({\"value\": pressure_value_floatbox.value, \"unit\": pressure_unit_dropdown.value})\n",
    "        object_properties[\"discharge_voltage\"] = json.dumps({\"value\": discharge_voltage_value_floatbox.value, \"unit\": discharge_voltage_unit_dropdown.value})\n",
    "        object_properties[\"voltage\"] = json.dumps({\"value\": voltage_value_floatbox.value, \"unit\": voltage_unit_dropdown.value})\n",
    "        object_properties[\"temperature\"] = json.dumps({\"value\": temperature_value_floatbox.value, \"unit\": temperature_unit_dropdown.value})\n",
    "        object_properties[\"angle\"] = json.dumps({\"value\": angle_value_floatbox.value, \"unit\": angle_unit_dropdown.value})\n",
    "        object_properties[\"current\"] = json.dumps({\"value\": current_value_floatbox.value, \"unit\": current_unit_dropdown.value})\n",
    "        object_properties[\"comments\"] = comments_textbox.value\n",
    "        \n",
    "        sputter_task = OPENBIS_SESSION.new_object(type = \"SPUTTERING\", \n",
    "                                                collection = experiments_dropdown.value,\n",
    "                                                props = object_properties,\n",
    "                                                parents = sample_parents)\n",
    "        sputter_task.save()\n",
    "\n",
    "        OPENBIS_SESSION.new_object(type = \"SAMPLE\",\n",
    "                                   collection = \"20240716082516377-60\",\n",
    "                                   props = {\"$name\": sample_out_name_textbox.value},\n",
    "                                   parents = [sputter_task]).save()\n",
    "\n",
    "def load_sample_metadata(change):\n",
    "    global OPENBIS_SESSION\n",
    "    if samples_dropdown.value == \"-1\":\n",
    "        sample_details_textbox.value = ''\n",
    "    else:\n",
    "        sample_object = OPENBIS_SESSION.get_object(samples_dropdown.value)\n",
    "        sample_metadata = sample_object.props.all()\n",
    "        sample_parents_metadata = []\n",
    "        sample_parents_metadata = get_parents_recursive(sample_object, sample_parents_metadata)\n",
    "        \n",
    "        sample_processes_strings = []\n",
    "        sample_materials_strings = []\n",
    "        number_parents = len(sample_parents_metadata)\n",
    "        parent_idx = 0\n",
    "        while parent_idx < number_parents:\n",
    "            parent_metadata = sample_parents_metadata[parent_idx]\n",
    "            if parent_metadata[0] == \"DEPOSITION\":\n",
    "                next_parent_metadata = sample_parents_metadata[parent_idx + 1]\n",
    "                sample_metadata_string = f\"> {parent_metadata[0]} ({parent_metadata[3]}, {parent_metadata[1]}, {parent_metadata[2]}) [{next_parent_metadata[0]} ({next_parent_metadata[3]}, {next_parent_metadata[1]}, {next_parent_metadata[4]})]\"\n",
    "                parent_idx += 1\n",
    "            else:\n",
    "                sample_metadata_string = f\"> {parent_metadata[0]} ({parent_metadata[3]}, {parent_metadata[1]}, {parent_metadata[2]})\"\n",
    "            \n",
    "            if parent_metadata[0] in PROCESS_SAMPLE_TYPES:\n",
    "                sample_processes_strings.append(sample_metadata_string)\n",
    "            else:\n",
    "                sample_materials_strings.append(sample_metadata_string)\n",
    "                \n",
    "            parent_idx += 1\n",
    "        \n",
    "        sample_metadata_string = f\"PermId: {sample_object.attrs.permId}\\nMaterial:\"\n",
    "        \n",
    "        for material_string in sample_materials_strings:\n",
    "            sample_metadata_string = f\"{sample_metadata_string}\\n{material_string}\"\n",
    "            \n",
    "        sample_metadata_string = f\"{sample_metadata_string}\\nProcesses:\"\n",
    "        for process_string in sample_processes_strings:\n",
    "            sample_metadata_string = f\"{sample_metadata_string}\\n{process_string}\"\n",
    "        \n",
    "        sample_details_textbox.value = sample_metadata_string\n",
    "\n",
    "def get_parents_recursive(object, object_parents_metadata):\n",
    "    if object.attrs.type in PROCESS_SAMPLE_TYPES or object.attrs.type in RAW_MATERIALS_TYPES:\n",
    "        object_parents_metadata.append([object.attrs.type, object.attrs.permId, object.attrs.registrationDate, \n",
    "                                        object.props['$name'], object.props['sum_formula']])\n",
    "    object_parents = object.parents\n",
    "    for parent in object_parents:\n",
    "        parent_object = OPENBIS_SESSION.get_object(parent)\n",
    "        get_parents_recursive(parent_object, object_parents_metadata)\n",
    "    return object_parents_metadata"
   ]
  },
  {
   "cell_type": "code",
   "execution_count": null,
   "metadata": {},
   "outputs": [],
   "source": [
    "# Connect with openBIS\n",
    "session_data = read_json(\"token.json\")\n",
    "OPENBIS_SESSION = Openbis(session_data[\"url\"], verify_certificates = False)\n",
    "OPENBIS_SESSION.set_token(session_data[\"token\"])"
   ]
  },
  {
   "cell_type": "markdown",
   "metadata": {},
   "source": [
    "# Sputtering"
   ]
  },
  {
   "cell_type": "markdown",
   "metadata": {},
   "source": [
    "### Select experiment, sample, and instrument"
   ]
  },
  {
   "cell_type": "code",
   "execution_count": null,
   "metadata": {},
   "outputs": [],
   "source": [
    "experiments = OPENBIS_SESSION.get_collections(type = \"EXPERIMENT\")\n",
    "samples = OPENBIS_SESSION.get_objects(type = \"SAMPLE\")\n",
    "instruments = OPENBIS_SESSION.get_objects(type = \"INSTRUMENT\")\n",
    "\n",
    "experiments_names_permids = [(f\"{experiment.props['$name']} ({experiment.attrs.identifier})\", experiment.permId) for experiment in experiments]\n",
    "experiments_names_permids.insert(0, ('Select an experiment...', \"-1\"))\n",
    "experiments_dropdown.options = experiments_names_permids\n",
    "\n",
    "samples_names_permids = [(sample.props['$name'], sample.permId) for sample in samples]\n",
    "samples_dates = [datetime.fromisoformat(sample.registrationDate) for sample in samples]\n",
    "samples_names_permids = [x for _,x in sorted(zip(samples_dates, samples_names_permids), reverse = True)]\n",
    "samples_names_permids.insert(0, ('Select an input sample...', \"-1\"))\n",
    "samples_dropdown.options = samples_names_permids\n",
    "\n",
    "instruments_names_permids = [(f\"{instrument.props['$name']} ({instrument.attrs.permId})\", instrument.permId) for instrument in instruments]\n",
    "instruments_names_permids.insert(0, ('Select an instrument...', \"-1\"))\n",
    "instruments_dropdown.options = instruments_names_permids\n",
    "instruments_dropdown.options = instruments_names_permids\n",
    "\n",
    "display(widgets.VBox([experiments_dropdown, sample_metadata_boxes, instruments_dropdown]))\n",
    "create_sputtering_button.on_click(create_sputtering_action)\n",
    "quit_button.on_click(close_notebook)\n",
    "samples_dropdown.observe(load_sample_metadata, names = 'value')"
   ]
  },
  {
   "cell_type": "markdown",
   "metadata": {},
   "source": [
    "### Properties"
   ]
  },
  {
   "cell_type": "code",
   "execution_count": null,
   "metadata": {},
   "outputs": [],
   "source": [
    "display(sputtering_name_textbox, sputter_properties, comments_textbox)"
   ]
  },
  {
   "cell_type": "markdown",
   "metadata": {},
   "source": [
    "### Sample out"
   ]
  },
  {
   "cell_type": "code",
   "execution_count": null,
   "metadata": {},
   "outputs": [],
   "source": [
    "display(sample_out_name_textbox)"
   ]
  },
  {
   "cell_type": "markdown",
   "metadata": {},
   "source": [
    "### Save in openBIS"
   ]
  },
  {
   "cell_type": "code",
   "execution_count": null,
   "metadata": {},
   "outputs": [],
   "source": [
    "display(bottom_buttons_hbox)"
   ]
  }
 ],
 "metadata": {
  "kernelspec": {
   "display_name": "base",
   "language": "python",
   "name": "python3"
  },
  "language_info": {
   "codemirror_mode": {
    "name": "ipython",
    "version": 3
   },
   "file_extension": ".py",
   "mimetype": "text/x-python",
   "name": "python",
   "nbconvert_exporter": "python",
   "pygments_lexer": "ipython3",
   "version": "3.9.13"
  }
 },
 "nbformat": 4,
 "nbformat_minor": 2
}
