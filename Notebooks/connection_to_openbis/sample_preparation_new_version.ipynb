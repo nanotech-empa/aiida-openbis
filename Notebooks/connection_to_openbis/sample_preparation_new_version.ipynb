{
 "cells": [
  {
   "cell_type": "code",
   "execution_count": 47,
   "metadata": {},
   "outputs": [],
   "source": [
    "from IPython.display import display, Markdown, clear_output\n",
    "import utils\n",
    "import ipywidgets as ipw\n",
    "import widgets"
   ]
  },
  {
   "cell_type": "markdown",
   "metadata": {},
   "source": [
    "## Sample preparation"
   ]
  },
  {
   "cell_type": "code",
   "execution_count": 48,
   "metadata": {},
   "outputs": [],
   "source": [
    "CONFIG = utils.read_json(\"config.json\")\n",
    "CONFIG_ELN = utils.get_aiidalab_eln_config()\n",
    "DATA_MODEL = utils.read_yaml(\"/home/jovyan/aiida-openbis/Notebooks/Metadata_Schemas_LinkML/materialMLinfo.yaml\")\n",
    "OPENBIS_SESSION, SESSION_DATA = utils.connect_openbis(CONFIG_ELN[\"url\"], CONFIG_ELN[\"token\"])\n",
    "ACTIONS = [\"SPUTTERING\", \"ANNEALING\", \"DEPOSITION\", \"DOSING\"]"
   ]
  },
  {
   "cell_type": "code",
   "execution_count": 49,
   "metadata": {},
   "outputs": [],
   "source": [
    "sample_selector = widgets.ObjectSelectionWidget(\"Sample\")\n",
    "sample_selector.load_dropdown_box()\n",
    "\n",
    "sample_history = ipw.Accordion()\n",
    "\n",
    "add_process = utils.Button(\n",
    "    description = 'Add protocol process', disabled = False, button_style = '', \n",
    "    tooltip = 'Add process with protocol', layout = ipw.Layout(width = '150px', height = '25px')\n",
    ")\n",
    "\n",
    "add_process_step = utils.Button(\n",
    "    description = 'Add process step', disabled = False, button_style = '', \n",
    "    tooltip = 'Add process step', layout = ipw.Layout(width = '150px', height = '25px')\n",
    ")\n",
    "\n",
    "process_step_buttons = ipw.HBox([add_process, add_process_step])\n",
    "\n",
    "increase_buttons_size = utils.HTML(data = ''.join(CONFIG[\"save_home_buttons_settings\"]))\n",
    "create_button = utils.Button(\n",
    "    description = '', disabled = False, button_style = '', tooltip = 'Save', \n",
    "    icon = 'save', layout = ipw.Layout(width = '100px', height = '50px')\n",
    ")\n",
    "quit_button = utils.Button(\n",
    "    description = '', disabled = False, button_style = '', \n",
    "    tooltip = 'Main menu', icon = 'home', layout = ipw.Layout(width = '100px', height = '50px')\n",
    ")\n",
    "save_close_buttons_hbox = ipw.HBox([create_button, quit_button])"
   ]
  },
  {
   "cell_type": "code",
   "execution_count": null,
   "metadata": {},
   "outputs": [],
   "source": [
    "def get_sample_processes(sample_identifier):\n",
    "    sample_processes = {}\n",
    "    sample_object = utils.get_openbis_object(OPENBIS_SESSION, sample_ident = sample_identifier)\n",
    "    objects_stack = [(sample_object, None)]\n",
    "    \n",
    "    while objects_stack:\n",
    "        current_object, child_object = objects_stack.pop()\n",
    "        current_object_data = utils.get_openbis_object_data(OPENBIS_SESSION, current_object.permid)\n",
    "        \n",
    "        if current_object_data[\"type\"] == \"SAMPLE_PROCESS\" and current_object_data[\"permId\"] not in sample_processes:\n",
    "            process_actions = []\n",
    "            process_observables = []\n",
    "            process_children = current_object_data[\"children\"]\n",
    "            for child_identifier in process_children:\n",
    "                child_object_data = utils.get_openbis_object_data(OPENBIS_SESSION, child_identifier)\n",
    "                if child_object_data[\"type\"] in ACTIONS:\n",
    "                    process_actions.append(child_object_data[\"permId\"])\n",
    "                elif child_object_data[\"type\"] == \"OBSERVABLE\":\n",
    "                    process_observables.append(child_object_data[\"permId\"])\n",
    "            \n",
    "            if process_actions or process_observables:   \n",
    "                sample_processes[current_object_data[\"permId\"]] = {\n",
    "                    \"actions\": process_actions,\n",
    "                    \"observables\": process_observables\n",
    "                }\n",
    "        \n",
    "        for parent_identifier in current_object.parents:\n",
    "            parent_object = utils.get_openbis_object(OPENBIS_SESSION, sample_ident = parent_identifier)\n",
    "            objects_stack.append((parent_object, current_object))\n",
    "            \n",
    "    return sample_processes\n",
    "\n",
    "def get_sample_processes_widgets(sample_processes):\n",
    "    process_steps_accordion = ipw.Accordion()\n",
    "    process_steps_accordion_items = []\n",
    "    protocol_process_items = {}\n",
    "    for process_identifier in sample_processes:\n",
    "        process_data = utils.get_openbis_object_data(OPENBIS_SESSION, process_identifier)\n",
    "        \n",
    "        process_actions_accordion = ipw.Accordion()\n",
    "        process_actions_accordion_items = []\n",
    "        process_observables_accordion = ipw.Accordion()\n",
    "        process_observables_accordion_items = []\n",
    "        \n",
    "        for process_action_identifier in sample_processes[process_identifier][\"actions\"]:\n",
    "            process_action_data = utils.get_openbis_object_data(OPENBIS_SESSION, process_action_identifier)\n",
    "            process_actions_accordion.set_title(len(process_actions_accordion_items), process_action_data[\"props\"][\"$name\"])\n",
    "            process_actions_accordion_items.append(ipw.HBox())\n",
    "        process_actions_accordion.children = process_actions_accordion_items\n",
    "        \n",
    "        for process_observable_identifier in sample_processes[process_identifier][\"observables\"]:\n",
    "            process_observable_data = utils.get_openbis_object_data(OPENBIS_SESSION, process_observable_identifier)\n",
    "            process_observables_accordion.set_title(len(process_observables_accordion_items), process_observable_data[\"props\"][\"$name\"])\n",
    "            process_observables_accordion_items.append(ipw.HBox())\n",
    "        process_observables_accordion.children = process_observables_accordion_items\n",
    "        \n",
    "        process_actions_label = ipw.Label(value = \"Actions\")\n",
    "        process_observables_label = ipw.Label(value = \"Observables\")\n",
    "        process_step_items = ipw.VBox([process_actions_label, process_actions_accordion, process_observables_label, process_observables_accordion])\n",
    "        \n",
    "        follows_protocol = False\n",
    "        for process_parent_identifier in process_data[\"parents\"]:\n",
    "            process_parent_data = utils.get_openbis_object_data(OPENBIS_SESSION, process_parent_identifier)\n",
    "            if process_parent_data[\"type\"] == \"SAMPLE_PROCESS\":\n",
    "                follows_protocol = True\n",
    "                protocol_process_identifier = process_parent_data[\"permId\"]\n",
    "                break\n",
    "        \n",
    "        if follows_protocol:\n",
    "            process_step_details = {\"name\": process_data[\"props\"][\"$name\"], \"items\": process_step_items}\n",
    "            if protocol_process_identifier in protocol_process_items:\n",
    "                protocol_process_items[protocol_process_identifier].append(process_step_details)\n",
    "            else:\n",
    "                protocol_process_items[protocol_process_identifier] = [process_step_details]\n",
    "        else:\n",
    "            process_steps_accordion.set_title(len(process_steps_accordion_items), process_data[\"props\"][\"$name\"])\n",
    "            process_steps_accordion_items.append(process_step_items)\n",
    "    \n",
    "    for protocol_process_identifier, protocol_process_steps_details in protocol_process_items.items():\n",
    "        protocol_process_data = utils.get_openbis_object_data(OPENBIS_SESSION, protocol_process_identifier)\n",
    "        protocol_process_accordion = ipw.Accordion()\n",
    "        protocol_process_accordion_list = []\n",
    "        for protocol_process_step_details in protocol_process_steps_details:\n",
    "            protocol_process_accordion.set_title(len(protocol_process_accordion_list), protocol_process_step_details[\"name\"])\n",
    "            protocol_process_accordion_list.append(protocol_process_step_details[\"items\"])\n",
    "        protocol_process_accordion.children = protocol_process_accordion_list\n",
    "        \n",
    "        process_steps_accordion.set_title(len(process_steps_accordion_items), protocol_process_data[\"props\"][\"$name\"])\n",
    "        process_steps_accordion_items.append(protocol_process_accordion)\n",
    "    \n",
    "    process_steps_accordion.children = process_steps_accordion_items\n",
    "        \n",
    "    return process_steps_accordion"
   ]
  },
  {
   "cell_type": "code",
   "execution_count": 51,
   "metadata": {},
   "outputs": [],
   "source": [
    "sample_processes = get_sample_processes(\"20250303102131254-33252\")\n",
    "sample_processes_widgets = get_sample_processes_widgets(sample_processes)"
   ]
  },
  {
   "cell_type": "code",
   "execution_count": 52,
   "metadata": {},
   "outputs": [
    {
     "data": {
      "text/markdown": [
       "## Select sample"
      ],
      "text/plain": [
       "<IPython.core.display.Markdown object>"
      ]
     },
     "metadata": {},
     "output_type": "display_data"
    },
    {
     "data": {
      "application/vnd.jupyter.widget-view+json": {
       "model_id": "4da515a9a8264804ad90387f97b2d53b",
       "version_major": 2,
       "version_minor": 0
      },
      "text/plain": [
       "ObjectSelectionWidget(children=(VBox(children=(Dropdown(description='Sample', layout=Layout(width='982px'), op…"
      ]
     },
     "metadata": {},
     "output_type": "display_data"
    },
    {
     "data": {
      "text/markdown": [
       "## Sample history"
      ],
      "text/plain": [
       "<IPython.core.display.Markdown object>"
      ]
     },
     "metadata": {},
     "output_type": "display_data"
    },
    {
     "data": {
      "application/vnd.jupyter.widget-view+json": {
       "model_id": "bd71db519279469ebc9ee2421d8f9805",
       "version_major": 2,
       "version_minor": 0
      },
      "text/plain": [
       "Accordion(children=(VBox(children=(Label(value='Actions'), Accordion(children=(HBox(),), _titles={'0': 'Anneal…"
      ]
     },
     "metadata": {},
     "output_type": "display_data"
    },
    {
     "data": {
      "text/markdown": [
       "## New sample preprocessing steps"
      ],
      "text/plain": [
       "<IPython.core.display.Markdown object>"
      ]
     },
     "metadata": {},
     "output_type": "display_data"
    },
    {
     "data": {
      "application/vnd.jupyter.widget-view+json": {
       "model_id": "d206b985f9fe4bde9afd866af1e6be65",
       "version_major": 2,
       "version_minor": 0
      },
      "text/plain": [
       "HBox(children=(Button(description='Add protocol process', layout=Layout(height='25px', width='150px'), style=B…"
      ]
     },
     "metadata": {},
     "output_type": "display_data"
    },
    {
     "data": {
      "application/vnd.jupyter.widget-view+json": {
       "model_id": "f59b581540d346f683b0791a1a38f721",
       "version_major": 2,
       "version_minor": 0
      },
      "text/plain": [
       "HBox(children=(Button(icon='save', layout=Layout(height='50px', width='100px'), style=ButtonStyle(), tooltip='…"
      ]
     },
     "metadata": {},
     "output_type": "display_data"
    },
    {
     "data": {
      "text/html": [
       "<style>.fa-save {font-size: 2em !important; /* Increase icon size */}.fa-home {font-size: 2em !important; /* Increase icon size */}.fa-times {font-size: 2em !important; /* Increase icon size */}.fa-download {font-size: 2em !important; /* Increase icon size */}.fa-arrow-right {font-size: 2em !important; /* Increase icon size */}.fa-arrow-down {font-size: 2em !important; /* Increase icon size */}</style>"
      ],
      "text/plain": [
       "<IPython.core.display.HTML object>"
      ]
     },
     "metadata": {},
     "output_type": "display_data"
    }
   ],
   "source": [
    "display(Markdown(\"## Select sample\"))\n",
    "display(sample_selector)\n",
    "\n",
    "display(Markdown(\"## Sample history\"))\n",
    "display(sample_processes_widgets)\n",
    "\n",
    "display(Markdown(\"## New sample preprocessing steps\"))\n",
    "display(process_step_buttons)\n",
    "display(save_close_buttons_hbox)\n",
    "display(increase_buttons_size)"
   ]
  }
 ],
 "metadata": {
  "kernelspec": {
   "display_name": "base",
   "language": "python",
   "name": "python3"
  },
  "language_info": {
   "codemirror_mode": {
    "name": "ipython",
    "version": 3
   },
   "file_extension": ".py",
   "mimetype": "text/x-python",
   "name": "python",
   "nbconvert_exporter": "python",
   "pygments_lexer": "ipython3",
   "version": "3.9.13"
  }
 },
 "nbformat": 4,
 "nbformat_minor": 2
}
