{
 "cells": [
  {
   "cell_type": "code",
   "execution_count": null,
   "metadata": {},
   "outputs": [],
   "source": [
    "import json\n",
    "import numpy as np\n",
    "import ipywidgets as widgets\n",
    "from IPython.display import display\n",
    "from datetime import datetime\n",
    "from utils import close_notebook, AppWidgets"
   ]
  },
  {
   "cell_type": "code",
   "execution_count": null,
   "metadata": {},
   "outputs": [],
   "source": [
    "# Global variables\n",
    "RAW_MATERIALS_TYPES = [\"CRYSTAL\", \"WAFER_SUBSTRATE\", \"2D_LAYERED_MATERIAL\", \"MOLECULE\"]\n",
    "PROCESS_SAMPLE_TYPES = [\"SPUTTERING\", \"ANNEALING\", \"DEPOSITION\"]\n",
    "SAMPLES_COLLECTION_OPENBIS_PATH = \"/MATERIALS/SAMPLES/SAMPLE_COLLECTION\""
   ]
  },
  {
   "cell_type": "code",
   "execution_count": null,
   "metadata": {},
   "outputs": [],
   "source": [
    "# Widgets\n",
    "app_widgets = AppWidgets(\"deposition\", RAW_MATERIALS_TYPES, \n",
    "                         PROCESS_SAMPLE_TYPES, SAMPLES_COLLECTION_OPENBIS_PATH)"
   ]
  },
  {
   "cell_type": "code",
   "execution_count": null,
   "metadata": {},
   "outputs": [],
   "source": [
    "# Connect with openBIS\n",
    "app_widgets.connect_openbis(\"token.json\")"
   ]
  },
  {
   "cell_type": "markdown",
   "metadata": {},
   "source": [
    "# Deposition"
   ]
  },
  {
   "cell_type": "markdown",
   "metadata": {},
   "source": [
    "## Select experiment, sample, and instrument"
   ]
  },
  {
   "cell_type": "code",
   "execution_count": null,
   "metadata": {},
   "outputs": [],
   "source": [
    "experiments = app_widgets.openbis_session.get_collections(type = \"EXPERIMENT\")\n",
    "samples = app_widgets.openbis_session.get_objects(type = \"SAMPLE\")\n",
    "instruments = app_widgets.openbis_session.get_objects(type = \"INSTRUMENT\")\n",
    "molecules = app_widgets.openbis_session.get_objects(type = \"MOLECULE\")\n",
    "\n",
    "experiments_names_permids = [(f\"{experiment.props['$name']} ({experiment.attrs.identifier})\", experiment.permId) for experiment in experiments]\n",
    "experiments_dates = [datetime.fromisoformat(experiment.registrationDate) for experiment in experiments]\n",
    "experiments_names_permids = [x for _,x in sorted(zip(experiments_dates, experiments_names_permids), reverse = True)]\n",
    "experiments_names_permids.insert(0, ('Select an experiment...', None))\n",
    "app_widgets.experiments_dropdown.options = experiments_names_permids\n",
    "\n",
    "samples_names_permids = [(sample.props['$name'], sample.permId) for sample in samples]\n",
    "samples_dates = [datetime.fromisoformat(sample.registrationDate) for sample in samples]\n",
    "samples_names_permids = [x for _,x in sorted(zip(samples_dates, samples_names_permids), reverse = True)]\n",
    "samples_names_permids.insert(0, ('Select an input sample...', None))\n",
    "app_widgets.samples_dropdown.options = samples_names_permids\n",
    "\n",
    "instruments_names_permids = [(f\"{instrument.props['$name']} ({instrument.attrs.permId})\", instrument.permId) for instrument in instruments]\n",
    "instruments_names_permids.insert(0, ('Select an instrument...', None))\n",
    "app_widgets.instruments_dropdown.options = instruments_names_permids\n",
    "app_widgets.instruments_dropdown.options = instruments_names_permids\n",
    "\n",
    "molecules_names_permids = [(f\"{molecule.props['$name']} ({molecule.attrs.permId})\", molecule.permId) for molecule in molecules]\n",
    "molecules_empa_numbers = [np.nan if molecule.props['empa_number'] is None else int(molecule.props['empa_number']) for molecule in molecules]\n",
    "molecules_batches = [np.nan if molecule.props['batch'] is None else molecule.props['batch'] for molecule in molecules]\n",
    "molecules_names_permids = [x for _, _, x in sorted(zip(molecules_empa_numbers, molecules_batches, molecules_names_permids), key = lambda item: (item[0], item[1]), reverse=True)]\n",
    "molecules_names_permids.insert(0, ('Select a molecule...', None))\n",
    "app_widgets.molecules_dropdown.options = molecules_names_permids\n",
    "app_widgets.molecules_dropdown.options = molecules_names_permids\n",
    "\n",
    "display(app_widgets.experiments_dropdown, app_widgets.sample_metadata_boxes, app_widgets.instruments_dropdown, app_widgets.molecule_metadata_boxes)\n",
    "app_widgets.create_button.on_click(app_widgets.create_deposition_action)\n",
    "app_widgets.quit_button.on_click(close_notebook)\n",
    "app_widgets.samples_dropdown.observe(app_widgets.load_sample_metadata, names = 'value')\n",
    "app_widgets.molecules_dropdown.observe(app_widgets.load_molecule_metadata, names = 'value')"
   ]
  },
  {
   "cell_type": "markdown",
   "metadata": {},
   "source": [
    "## Properties"
   ]
  },
  {
   "cell_type": "code",
   "execution_count": null,
   "metadata": {},
   "outputs": [],
   "source": [
    "display(app_widgets.method_name_textbox, app_widgets.method_properties, app_widgets.comments_textbox)"
   ]
  },
  {
   "cell_type": "markdown",
   "metadata": {},
   "source": [
    "## Sample out"
   ]
  },
  {
   "cell_type": "code",
   "execution_count": null,
   "metadata": {},
   "outputs": [],
   "source": [
    "app_widgets.method_name_textbox.observe(app_widgets.update_text, names = 'value')\n",
    "display(app_widgets.sample_out_name_textbox)\n",
    "display(app_widgets.bottom_buttons_hbox)\n",
    "display(app_widgets.increase_buttons_size)"
   ]
  }
 ],
 "metadata": {
  "kernelspec": {
   "display_name": "base",
   "language": "python",
   "name": "python3"
  },
  "language_info": {
   "codemirror_mode": {
    "name": "ipython",
    "version": 3
   },
   "file_extension": ".py",
   "mimetype": "text/x-python",
   "name": "python",
   "nbconvert_exporter": "python",
   "pygments_lexer": "ipython3",
   "version": "3.9.13"
  }
 },
 "nbformat": 4,
 "nbformat_minor": 2
}
