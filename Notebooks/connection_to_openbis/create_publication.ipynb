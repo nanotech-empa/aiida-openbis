{
 "cells": [
  {
   "cell_type": "code",
   "execution_count": null,
   "metadata": {},
   "outputs": [],
   "source": [
    "from IPython.display import display\n",
    "import ipywidgets as ipw\n",
    "import widgets\n",
    "import utils\n",
    "import os"
   ]
  },
  {
   "cell_type": "code",
   "execution_count": null,
   "metadata": {},
   "outputs": [],
   "source": [
    "CONFIG = utils.read_json(\"config.json\")\n",
    "CONFIG_ELN = utils.get_aiidalab_eln_config()\n",
    "# CONFIG_ELN = utils.read_json(\"eln_config.json\")\n",
    "OPENBIS_SESSION, SESSION_DATA = utils.connect_openbis(CONFIG_ELN[\"url\"], CONFIG_ELN[\"token\"])\n",
    "\n",
    "project_selector = widgets.ProjectSelectionWidget()\n",
    "project_selector.load_dropdown_box()\n",
    "\n",
    "drafts_selector = widgets.ObjectMultipleSelectionWidget(\"Draft\")\n",
    "grants_selector = widgets.ObjectMultipleSelectionWidget(\"Grants\")\n",
    "grants_selector.load_selector(\"GRANT\")\n",
    "authors_selector = widgets.ObjectMultipleSelectionWidget(\"Authors\")\n",
    "authors_selector.load_selector(\"PERSON\")\n",
    "\n",
    "publication_widgets = widgets.ObjectPropertiesWidgets(\"Publication\")\n",
    "publication_widgets.get_properties_widgets()\n",
    "\n",
    "publication_support_files = ipw.FileUpload(multiple = True)\n",
    "\n",
    "increase_buttons_size = utils.HTML(data = ''.join(CONFIG[\"save_home_buttons_settings\"]))\n",
    "create_button = utils.Button(\n",
    "    description = '', disabled = False, button_style = '', tooltip = 'Save', \n",
    "    icon = 'save', layout = ipw.Layout(width = '100px', height = '50px')\n",
    ")\n",
    "quit_button = utils.Button(\n",
    "    description = '', disabled = False, button_style = '', \n",
    "    tooltip = 'Main menu', icon = 'home', layout = ipw.Layout(width = '100px', height = '50px')\n",
    ")\n",
    "save_close_buttons_hbox = ipw.HBox([create_button, quit_button])"
   ]
  },
  {
   "cell_type": "code",
   "execution_count": null,
   "metadata": {},
   "outputs": [],
   "source": [
    "\n",
    "def close_notebook(b):\n",
    "    display(utils.Javascript(data = 'window.location.replace(\"home.ipynb\")'))\n",
    "\n",
    "def load_drafts(change):\n",
    "    if project_selector.dropdown.value != -1:\n",
    "        drafts_selector.load_selector(\"DRAFT\", project_selector.dropdown.value)\n",
    "    \n",
    "def create_publication_openbis(b):\n",
    "    object_properties = {}\n",
    "    for prop in CONFIG[\"objects\"][\"Publication\"][\"properties\"]:\n",
    "        property_type = CONFIG[\"properties\"][prop][\"property_type\"]\n",
    "        property_widget = publication_widgets.properties_widgets[prop]\n",
    "        object_properties[prop] = utils.get_object_property(property_type, property_widget)\n",
    "        \n",
    "    publication_parents = []\n",
    "    publication_parents.extend(list(authors_selector.selector.value))\n",
    "    publication_parents.extend(list(drafts_selector.selector.value))\n",
    "    publication_parents.extend(list(grants_selector.selector.value))\n",
    "    \n",
    "    publication_object = utils.create_openbis_object(\n",
    "        OPENBIS_SESSION, type=\"PUBLICATION_CUSTOM\", \n",
    "        collection=\"/ADMINISTRATIVE/PUBLICATIONS/LAB_205_PUBLICATION_COLLECTION\", \n",
    "        props = object_properties, parents = publication_parents\n",
    "    )\n",
    "    utils.upload_datasets(OPENBIS_SESSION, publication_object, publication_support_files, \"RAW_DATA\")\n",
    "    \n",
    "    display(utils.Javascript(data = \"alert('Upload successful!')\"))\n",
    "    \n",
    "    # Reset widgets\n",
    "    drafts_selector.selector.options = []\n",
    "    grants_selector.selector.value = []\n",
    "    authors_selector.selector.value = []\n",
    "    project_selector.dropdown.value = -1\n",
    "    publication_widgets.reset_properties_widgets()"
   ]
  },
  {
   "cell_type": "markdown",
   "metadata": {},
   "source": [
    "# Create publication"
   ]
  },
  {
   "cell_type": "markdown",
   "metadata": {},
   "source": [
    "## Select project"
   ]
  },
  {
   "cell_type": "code",
   "execution_count": null,
   "metadata": {},
   "outputs": [],
   "source": [
    "display(project_selector.dropdown_boxes)\n",
    "project_selector.dropdown.observe(load_drafts, names = 'value')"
   ]
  },
  {
   "cell_type": "markdown",
   "metadata": {},
   "source": [
    "## Select authors"
   ]
  },
  {
   "cell_type": "code",
   "execution_count": null,
   "metadata": {},
   "outputs": [],
   "source": [
    "display(authors_selector)"
   ]
  },
  {
   "cell_type": "markdown",
   "metadata": {},
   "source": [
    "## Select grants"
   ]
  },
  {
   "cell_type": "code",
   "execution_count": null,
   "metadata": {},
   "outputs": [],
   "source": [
    "display(grants_selector)"
   ]
  },
  {
   "cell_type": "markdown",
   "metadata": {},
   "source": [
    "## Select drafts"
   ]
  },
  {
   "cell_type": "code",
   "execution_count": null,
   "metadata": {},
   "outputs": [],
   "source": [
    "display(drafts_selector)"
   ]
  },
  {
   "cell_type": "markdown",
   "metadata": {},
   "source": [
    "## Properties"
   ]
  },
  {
   "cell_type": "code",
   "execution_count": null,
   "metadata": {},
   "outputs": [],
   "source": [
    "display(publication_widgets)"
   ]
  },
  {
   "cell_type": "markdown",
   "metadata": {},
   "source": [
    "## Support files"
   ]
  },
  {
   "cell_type": "code",
   "execution_count": null,
   "metadata": {},
   "outputs": [],
   "source": [
    "display(publication_support_files)"
   ]
  },
  {
   "cell_type": "markdown",
   "metadata": {},
   "source": [
    "## Save results"
   ]
  },
  {
   "cell_type": "code",
   "execution_count": null,
   "metadata": {},
   "outputs": [],
   "source": [
    "display(save_close_buttons_hbox)\n",
    "display(increase_buttons_size)\n",
    "create_button.on_click(create_publication_openbis)\n",
    "quit_button.on_click(close_notebook)"
   ]
  }
 ],
 "metadata": {
  "kernelspec": {
   "display_name": "base",
   "language": "python",
   "name": "python3"
  },
  "language_info": {
   "codemirror_mode": {
    "name": "ipython",
    "version": 3
   },
   "file_extension": ".py",
   "mimetype": "text/x-python",
   "name": "python",
   "nbconvert_exporter": "python",
   "pygments_lexer": "ipython3",
   "version": "3.9.13"
  }
 },
 "nbformat": 4,
 "nbformat_minor": 2
}
