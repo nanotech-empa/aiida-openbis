{
 "cells": [
  {
   "cell_type": "code",
   "execution_count": 2,
   "metadata": {},
   "outputs": [],
   "source": [
    "from IPython.display import display\n",
    "import ipywidgets as ipw\n",
    "import widgets\n",
    "import utils\n",
    "import datetime\n",
    "import os\n",
    "import nanonis_importer"
   ]
  },
  {
   "cell_type": "code",
   "execution_count": null,
   "metadata": {},
   "outputs": [],
   "source": [
    "CONFIG = utils.read_json(\"config.json\")\n",
    "CONFIG_ELN = utils.get_aiidalab_eln_config()\n",
    "# CONFIG_ELN = utils.read_json(\"eln_config.json\")\n",
    "OPENBIS_SESSION, SESSION_DATA = utils.connect_openbis(CONFIG_ELN[\"url\"], CONFIG_ELN[\"token\"])\n",
    "SAMPLE_PREPARATION_SAMPLE_TYPES = [object_info[\"openbis_object_type\"] for _, object_info in CONFIG[\"objects\"].items() if object_info[\"object_type\"] == \"sample_preparation\"]\n",
    "SLABS_TYPES = [object_info[\"openbis_object_type\"] for _, object_info in CONFIG[\"objects\"].items() if object_info[\"object_type\"] == \"slab\"]\n",
    "SAMPLES_COLLECTION_OPENBIS_PATH = CONFIG[\"samples_collection_openbis_path\"]\n",
    "MEASUREMENT_FILE_EXTENSIONS = CONFIG[\"measurement_file_extensions\"]\n",
    "\n",
    "sample_selector_config = {\n",
    "    \"dropdown\": {\"width\": \"315px\"},\n",
    "    \"details\": {\"width\": \"589px\", \"height\": \"250px\"}\n",
    "}\n",
    "sample_selector = widgets.ObjectSelectionWidget(\"Sample\", sample_selector_config)\n",
    "sample_selector.load_dropdown_box(\"SAMPLE\", \"sample\")\n",
    "\n",
    "instrument_selector = widgets.ObjectSelectionWidget(\"Instrument\")\n",
    "instrument_selector.load_dropdown_box(\"INSTRUMENT\", \"instrument\")\n",
    "\n",
    "sample_out_name_textbox = utils.Text(\n",
    "    description = \"Name\", disabled = False, layout = ipw.Layout(width = '400px'), \n",
    "    placeholder = f\"Write sample name here...\", style = {'description_width': \"110px\"}\n",
    ")\n",
    "\n",
    "increase_buttons_size = utils.HTML(data = ''.join(CONFIG[\"save_home_buttons_settings\"]))\n",
    "create_button = utils.Button(\n",
    "    description = '', disabled = False, button_style = '', tooltip = 'Save', \n",
    "    icon = 'save', layout = ipw.Layout(width = '100px', height = '50px')\n",
    ")\n",
    "quit_button = utils.Button(\n",
    "    description = '', disabled = False, button_style = '', \n",
    "    tooltip = 'Main menu', icon = 'home', layout = ipw.Layout(width = '100px', height = '50px')\n",
    ")\n",
    "\n",
    "save_close_buttons_hbox = ipw.HBox([create_button, quit_button])\n",
    "\n",
    "folder_selector = utils.FileChooser(path = '.', select_default=True, use_dir_icons=True, show_only_dirs = True)"
   ]
  },
  {
   "cell_type": "code",
   "execution_count": null,
   "metadata": {},
   "outputs": [],
   "source": [
    "def load_sample_metadata(change):\n",
    "    if sample_selector.dropdown.value == -1:\n",
    "        instrument_selector.dropdown.value = -1\n",
    "        sample_selector.details_textbox.value = ''\n",
    "        sample_out_name_textbox.value = ''\n",
    "        return\n",
    "    \n",
    "    sample_object = OPENBIS_SESSION.get_object(sample_selector.dropdown.value)\n",
    "    sample_parents_metadata = utils.get_openbis_parents_recursive(OPENBIS_SESSION, sample_object, [])\n",
    "    last_sample_preparation = None\n",
    "    sample_strings = {\"sample_preparations\": [], \"materials\": [], \"sample_preparation_datetimes\": []}\n",
    "    number_parents = len(sample_parents_metadata)\n",
    "    parent_idx = 0\n",
    "    while parent_idx < number_parents:\n",
    "        parent_metadata = sample_parents_metadata[parent_idx]\n",
    "        if parent_metadata[0] == \"DEPOSITION\":\n",
    "            deposition_object = OPENBIS_SESSION.get_object(parent_metadata[1])\n",
    "            \n",
    "            # Get substance used in the specific deposition\n",
    "            substance_metadata = []\n",
    "            for parent_id in deposition_object.parents:\n",
    "                deposition_parent_object = OPENBIS_SESSION.get_object(parent_id)\n",
    "                if deposition_parent_object.type == \"MOLECULE\":\n",
    "                    deposition_parent_object_metadata = deposition_parent_object.props.all()\n",
    "                    substance_metadata = [deposition_parent_object_metadata[\"$name\"], deposition_parent_object.permId]\n",
    "                    \n",
    "            if substance_metadata: # If deposition does not contain any substance, the app must not try to display it\n",
    "                sample_metadata_string = f\"> {parent_metadata[0]} ({parent_metadata[3]}, {parent_metadata[1]}, {parent_metadata[2]}) [{substance_metadata[0]} ({substance_metadata[1]})]\"\n",
    "            else:\n",
    "                sample_metadata_string = f\"> {parent_metadata[0]} ({parent_metadata[3]}, {parent_metadata[1]}, {parent_metadata[2]})\"\n",
    "            parent_idx += 1\n",
    "        else:\n",
    "            sample_metadata_string = f\"> {parent_metadata[0]} ({parent_metadata[3]}, {parent_metadata[1]}, {parent_metadata[2]})\"\n",
    "        \n",
    "        if parent_metadata[0] in SAMPLE_PREPARATION_SAMPLE_TYPES:\n",
    "            if sample_metadata_string not in sample_strings[\"sample_preparations\"]:\n",
    "                sample_strings[\"sample_preparations\"].append(sample_metadata_string)\n",
    "                sample_strings[\"sample_preparation_datetimes\"].append(parent_metadata[2])\n",
    "            # Get the last sample preparation method performed on the sample in order to search the correct experiment where the sample is being used.\n",
    "            if last_sample_preparation is None:\n",
    "                last_sample_preparation = parent_metadata[1]\n",
    "                \n",
    "        elif parent_metadata[0] in SLABS_TYPES:\n",
    "            if sample_metadata_string not in sample_strings[\"materials\"]:\n",
    "                sample_strings[\"materials\"].append(sample_metadata_string)\n",
    "            \n",
    "        parent_idx += 1\n",
    "    \n",
    "    # Parse the datetime strings and zip them with sample preparations and materials\n",
    "    parsed_datetimes = [datetime.datetime.strptime(dt, \"%Y-%m-%d %H:%M:%S\") for dt in sample_strings[\"sample_preparation_datetimes\"]]\n",
    "    zipped_lists = list(zip(parsed_datetimes, sample_strings[\"sample_preparations\"]))\n",
    "\n",
    "    # Sort by the datetime\n",
    "    sorted_zipped_lists = sorted(zipped_lists, key=lambda x: x[0], reverse = True)\n",
    "\n",
    "    # Unpack the sorted values back into sample_strings\n",
    "    if sample_strings[\"sample_preparations\"]:\n",
    "        _, sample_strings[\"sample_preparations\"] = zip(*sorted_zipped_lists)\n",
    "    \n",
    "    sample_metadata_string = (f\"PermId: {sample_object.attrs.permId}\\nMaterial:\\n\" +\n",
    "                            \"\\n\".join(sample_strings[\"materials\"]) + \n",
    "                            \"\\nProcesses:\\n\" + \n",
    "                            \"\\n\".join(sample_strings[\"sample_preparations\"]))\n",
    "\n",
    "    if last_sample_preparation:\n",
    "        last_sample_preparation_object = OPENBIS_SESSION.get_object(last_sample_preparation)\n",
    "        # Automatically select the instrument used in the last sample preparation task\n",
    "        for parent in last_sample_preparation_object.parents:\n",
    "            parent_object = OPENBIS_SESSION.get_object(parent)\n",
    "            if parent_object.type == \"INSTRUMENT\":\n",
    "                instrument_selector.dropdown.value = parent_object.permId\n",
    "    \n",
    "    sample_selector.details_textbox.value = sample_metadata_string\n",
    "    sample_out_name = sample_object.props['$name']\n",
    "    sample_out_name_textbox.value = sample_out_name\n",
    "\n",
    "def close_notebook(b):\n",
    "    display(utils.Javascript(data = 'window.location.replace(\"home.ipynb\")'))\n",
    "\n",
    "def upload_measurements_to_openbis(b):\n",
    "    sample_object = OPENBIS_SESSION.get_object(sample_selector.dropdown.value)\n",
    "    \n",
    "    # Get sample experiment from parent\n",
    "    sample_experiment = next(\n",
    "        (OPENBIS_SESSION.get_object(parent_id).experiment\n",
    "        for parent_id in sample_object.parents \n",
    "        if OPENBIS_SESSION.get_object(parent_id).type in SAMPLE_PREPARATION_SAMPLE_TYPES), \n",
    "        None\n",
    "    )\n",
    "    \n",
    "    # Check if sample is being measured for the first time after the preparation or if\n",
    "    # some measurements were already performed before the next preparation\n",
    "    measurements_object = None\n",
    "    new_measurements = True\n",
    "    if sample_object.children:\n",
    "        for sample_child in sample_object.children:\n",
    "            sample_child_object = OPENBIS_SESSION.get_object(sample_child)\n",
    "            if sample_child_object.type in [\"1D_MEASUREMENT\", \"2D_MEASUREMENT\"]:\n",
    "                new_measurements = False\n",
    "                sample_child_parents = sample_child_object.get_parents()\n",
    "                for sample_child_parent in sample_child_parents:\n",
    "                    if sample_child_parent.type == \"MEASUREMENTS\":\n",
    "                        measurements_object = sample_child_parent\n",
    "\n",
    "    # Check folder for valid files\n",
    "    data_folder = folder_selector.selected_path\n",
    "    data_files = os.listdir(data_folder)\n",
    "    data_files = [filename for filename in data_files if os.path.isfile(filename)]\n",
    "    correct_folder = all(f\".{filename.split('.')[-1]}\" in MEASUREMENT_FILE_EXTENSIONS for filename in data_files)\n",
    "    if correct_folder:\n",
    "        if not sample_experiment:\n",
    "            print(\"Sample does not belong to any project yet.\")\n",
    "            return\n",
    "        else:\n",
    "            sample_name = sample_object.props[\"$name\"]\n",
    "            if new_measurements:\n",
    "                measurements_object = utils.create_openbis_object(\n",
    "                    OPENBIS_SESSION, type = \"MEASUREMENTS\", \n",
    "                    collection = sample_experiment.permId, \n",
    "                    props = {\n",
    "                        \"$name\": f\"Measurements of {sample_name}\",\n",
    "                        \"$default_object_view\": \"IMAGING_GALLERY_VIEW\",\n",
    "                        \"measurements_folder_path\": data_folder\n",
    "                    }\n",
    "                )\n",
    "                \n",
    "            nanonis_importer.upload_measurements_into_openbis(\n",
    "                SESSION_DATA['url'], data_folder, \n",
    "                sample_experiment.permId, sample_object.permId,\n",
    "                measurements_object.permId,\n",
    "                instrument_selector.dropdown.value\n",
    "            )\n",
    "             \n",
    "            display(utils.Javascript(data = \"alert('Upload successful!')\"))\n",
    "    \n",
    "    else:\n",
    "        output_message = f\"Folder contains unrecognised files. Please remove files with extensions other than: {', '.join(MEASUREMENT_FILE_EXTENSIONS)}.\"\n",
    "        display(utils.Javascript(data = f\"alert({output_message})\"))\n"
   ]
  },
  {
   "cell_type": "markdown",
   "metadata": {},
   "source": [
    "# Measurement Uploader"
   ]
  },
  {
   "cell_type": "markdown",
   "metadata": {},
   "source": [
    "## Select sample"
   ]
  },
  {
   "cell_type": "code",
   "execution_count": null,
   "metadata": {},
   "outputs": [],
   "source": [
    "display(sample_selector, instrument_selector)\n",
    "create_button.on_click(upload_measurements_to_openbis)\n",
    "quit_button.on_click(close_notebook)\n",
    "sample_selector.dropdown_boxes.children[0].observe(load_sample_metadata, names = 'value')"
   ]
  },
  {
   "cell_type": "markdown",
   "metadata": {},
   "source": [
    "## Select measurements folders"
   ]
  },
  {
   "cell_type": "code",
   "execution_count": null,
   "metadata": {},
   "outputs": [],
   "source": [
    "display(folder_selector)\n",
    "display(save_close_buttons_hbox)\n",
    "display(increase_buttons_size)"
   ]
  },
  {
   "cell_type": "code",
   "execution_count": null,
   "metadata": {},
   "outputs": [
    {
     "name": "stdout",
     "output_type": "stream",
     "text": [
      "{'Channel': ('14', '0'), 'Name': ('Z', 'Current'), 'Unit': ('m', 'A'), 'Direction': ('both', 'both'), 'Calibration': ('8.900E-9', '1.000E-9'), 'Offset': ('0.000E+0', '4.714E-13')}\n"
     ]
    },
    {
     "data": {
      "text/plain": [
       "array([2.e-08, 2.e-08])"
      ]
     },
     "execution_count": 10,
     "metadata": {},
     "output_type": "execute_result"
    }
   ],
   "source": [
    "# from spmpy import Spm as spm\n",
    "# img = spm(\"/home/jovyan/aiida-openbis/Notebooks/connection_to_openbis/data_2/img_0001.sxm\")\n",
    "# img.get_param(\"scan_range\")"
   ]
  }
 ],
 "metadata": {
  "kernelspec": {
   "display_name": "base",
   "language": "python",
   "name": "python3"
  },
  "language_info": {
   "codemirror_mode": {
    "name": "ipython",
    "version": 3
   },
   "file_extension": ".py",
   "mimetype": "text/x-python",
   "name": "python",
   "nbconvert_exporter": "python",
   "pygments_lexer": "ipython3",
   "version": "3.9.13"
  }
 },
 "nbformat": 4,
 "nbformat_minor": 2
}
