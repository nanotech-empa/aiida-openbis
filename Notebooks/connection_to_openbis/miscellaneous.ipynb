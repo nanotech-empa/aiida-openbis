{
 "cells": [
  {
   "cell_type": "code",
   "execution_count": null,
   "metadata": {},
   "outputs": [],
   "source": [
    "from IPython.display import display\n",
    "import ipywidgets as ipw\n",
    "import widgets\n",
    "import utils\n",
    "import os"
   ]
  },
  {
   "cell_type": "code",
   "execution_count": null,
   "metadata": {},
   "outputs": [],
   "source": [
    "CONFIG = utils.read_json(\"config.json\")\n",
    "CONFIG_ELN = utils.read_json(\"eln_config.json\")\n",
    "OPENBIS_SESSION, SESSION_DATA = utils.connect_openbis(CONFIG_ELN[\"url\"], CONFIG_ELN[\"token\"])\n",
    "\n",
    "experiment_selector = widgets.ExperimentSelectionWidget()\n",
    "experiment_selector.load_dropdown_box()\n",
    "\n",
    "misc_widgets = widgets.ObjectPropertiesWidgets(\"Miscellaneous\")\n",
    "misc_support_files = ipw.FileUpload(multiple = True)\n",
    "\n",
    "increase_buttons_size = utils.HTML(data = ''.join(CONFIG[\"save_home_buttons_settings\"]))\n",
    "create_button = utils.Button(\n",
    "    description = '', disabled = False, button_style = '', tooltip = 'Save', \n",
    "    icon = 'save', layout = ipw.Layout(width = '100px', height = '50px')\n",
    ")\n",
    "quit_button = utils.Button(\n",
    "    description = '', disabled = False, button_style = '', \n",
    "    tooltip = 'Main menu', icon = 'home', layout = ipw.Layout(width = '100px', height = '50px')\n",
    ")\n",
    "save_close_buttons_hbox = ipw.HBox([create_button, quit_button])"
   ]
  },
  {
   "cell_type": "code",
   "execution_count": null,
   "metadata": {},
   "outputs": [],
   "source": [
    "def close_notebook(b):\n",
    "    display(utils.Javascript(data = 'window.location.replace(\"home.ipynb\")'))\n",
    "\n",
    "def upload_datasets(method_object, support_files_widget):\n",
    "    for filename in support_files_widget.value:\n",
    "        file_info = support_files_widget.value[filename]\n",
    "        utils.save_file(file_info['content'], filename)\n",
    "        OPENBIS_SESSION.new_dataset(type = 'RAW_DATA', sample = method_object, files = [filename]).save()\n",
    "        os.remove(filename)\n",
    "\n",
    "def create_miscellaneous_action(b):\n",
    "    if experiment_selector.dropdown.value == -1:\n",
    "        print(\"Select an experiment.\")\n",
    "        return\n",
    "\n",
    "    object_properties = {\n",
    "        \"$name\": misc_widgets.properties_widgets[\"$name\"].value, \n",
    "        \"comments\": misc_widgets.properties_widgets[\"comments\"].value\n",
    "    }\n",
    "    \n",
    "    method_object = utils.create_openbis_object(\n",
    "        OPENBIS_SESSION, \n",
    "        type = CONFIG[\"objects\"][\"Miscellaneous\"][\"openbis_object_type\"],\n",
    "        collection = experiment_selector.dropdown.value, props = object_properties\n",
    "    )\n",
    "    upload_datasets(method_object, misc_support_files)\n",
    "    print(\"Upload successful!\")"
   ]
  },
  {
   "cell_type": "markdown",
   "metadata": {},
   "source": [
    "# Others"
   ]
  },
  {
   "cell_type": "markdown",
   "metadata": {},
   "source": [
    "## Select experiment"
   ]
  },
  {
   "cell_type": "code",
   "execution_count": null,
   "metadata": {},
   "outputs": [],
   "source": [
    "display(experiment_selector)\n",
    "\n",
    "display(utils.Markdown(data = \"### Properties\"))\n",
    "display(misc_widgets)\n",
    "\n",
    "display(utils.Markdown(data = \"### Support Files\"))\n",
    "display(misc_support_files)\n",
    "\n",
    "display(utils.Markdown(data = \"### Save\"))\n",
    "display(save_close_buttons_hbox)\n",
    "display(increase_buttons_size)\n",
    "\n",
    "create_button.on_click(create_miscellaneous_action)\n",
    "quit_button.on_click(close_notebook)\n"
   ]
  }
 ],
 "metadata": {
  "kernelspec": {
   "display_name": "base",
   "language": "python",
   "name": "python3"
  },
  "language_info": {
   "codemirror_mode": {
    "name": "ipython",
    "version": 3
   },
   "file_extension": ".py",
   "mimetype": "text/x-python",
   "name": "python",
   "nbconvert_exporter": "python",
   "pygments_lexer": "ipython3",
   "version": "3.9.13"
  }
 },
 "nbformat": 4,
 "nbformat_minor": 2
}
