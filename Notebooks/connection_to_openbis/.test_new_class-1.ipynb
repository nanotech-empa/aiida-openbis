{
 "cells": [
  {
   "cell_type": "code",
   "execution_count": null,
   "metadata": {},
   "outputs": [],
   "source": [
    "import ipywidgets as ipw\n",
    "import utils\n",
    "from IPython.display import display, clear_output, Javascript, Markdown"
   ]
  },
  {
   "cell_type": "markdown",
   "metadata": {},
   "source": [
    "## Record processes"
   ]
  },
  {
   "cell_type": "code",
   "execution_count": null,
   "metadata": {},
   "outputs": [
    {
     "data": {
      "application/vnd.jupyter.widget-view+json": {
       "model_id": "3472d5902f764069a4eb30cb5fb067db",
       "version_major": 2,
       "version_minor": 0
      },
      "text/plain": [
       "Dropdown(description='openBIS protocols', options=(), value=None)"
      ]
     },
     "metadata": {},
     "output_type": "display_data"
    }
   ],
   "source": [
    "protocol_dropdown = ipw.Dropdown(description = \"openBIS protocols\", style = {\"description_width\": \"100px\"})\n",
    "display(protocol_dropdown)"
   ]
  },
  {
   "cell_type": "code",
   "execution_count": null,
   "metadata": {},
   "outputs": [
    {
     "data": {
      "application/vnd.jupyter.widget-view+json": {
       "model_id": "f04f269d4a8c48308826a5a6d6b14b2d",
       "version_major": 2,
       "version_minor": 0
      },
      "text/plain": [
       "Accordion(children=(Accordion(children=(HBox(children=(Text(value=''),)), HBox(children=(Text(value=''),)), HB…"
      ]
     },
     "metadata": {},
     "output_type": "display_data"
    }
   ],
   "source": [
    "process_step_actions_label = ipw.Label(value = \"Actions\")\n",
    "action_buttons = ipw.HBox(children = [ipw.Button(description = \"Annealing\"), ipw.Button(description = \"Ion Beam\"), ipw.Button(description = \"Cooldown\")])\n",
    "process_step_obs_label = ipw.Label(value = \"Observables\")\n",
    "observables_buttons = ipw.HBox(children = [ipw.Button(description = \"Voltage\"), ipw.Button(description = \"Current\"), ipw.Button(description = \"Temperature\")])\n",
    "action_1 = ipw.Text()\n",
    "action_2 = ipw.Text()\n",
    "observable_1 = ipw.Text()\n",
    "observable_2 = ipw.Text()\n",
    "process_step_accordion = ipw.Accordion(children = [action_1, action_2, observable_1, observable_2])\n",
    "process_step_accordion.set_title(0, \"Action 1\")\n",
    "process_step_accordion.set_title(1, \"Action 2\")\n",
    "process_step_accordion.set_title(2, \"Observable 1\")\n",
    "process_step_accordion.set_title(3, \"Observable 2\")\n",
    "process_step_widgets = ipw.VBox(children = [process_step_actions_label, action_buttons, process_step_obs_label, observables_buttons, process_step_accordion])\n",
    "process_accordion = ipw.Accordion(children = [process_step_widgets, process_step_widgets, process_step_widgets, process_step_widgets, process_step_widgets, process_step_widgets])\n",
    "process_accordion.set_title(0, \"Process Step 1\")\n",
    "process_accordion.set_title(1, \"Process Step 2\")\n",
    "process_accordion.set_title(2, \"Process Step 3\")\n",
    "process_accordion.set_title(3, \"Process Step 4\")\n",
    "process_accordion.set_title(4, \"Process Step 5\")\n",
    "process_accordion.set_title(5, \"Process Step 6\")\n",
    "display(process_accordion)"
   ]
  }
 ],
 "metadata": {
  "kernelspec": {
   "display_name": "Python 3 (ipykernel)",
   "language": "python",
   "name": "python3"
  },
  "language_info": {
   "codemirror_mode": {
    "name": "ipython",
    "version": 3
   },
   "file_extension": ".py",
   "mimetype": "text/x-python",
   "name": "python",
   "nbconvert_exporter": "python",
   "pygments_lexer": "ipython3",
   "version": "3.9.13"
  }
 },
 "nbformat": 4,
 "nbformat_minor": 2
}
