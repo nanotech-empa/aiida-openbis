{
 "cells": [
  {
   "cell_type": "code",
   "execution_count": null,
   "metadata": {},
   "outputs": [],
   "source": [
    "from IPython.display import display\n",
    "import ipywidgets as ipw\n",
    "import widgets\n",
    "import utils\n",
    "import os\n",
    "import json"
   ]
  },
  {
   "cell_type": "code",
   "execution_count": null,
   "metadata": {},
   "outputs": [],
   "source": [
    "CONFIG = utils.read_json(\"config.json\")\n",
    "CONFIG_ELN = utils.get_aiidalab_eln_config()\n",
    "# CONFIG_ELN = utils.read_json(\"eln_config.json\")\n",
    "OPENBIS_SESSION, SESSION_DATA = utils.connect_openbis(CONFIG_ELN[\"url\"], CONFIG_ELN[\"token\"])\n",
    "\n",
    "molecule_concept_selector_config = {\n",
    "    \"dropdown\": {\"width\": \"315px\"},\n",
    "    \"details\": {\"width\": \"415px\", \"height\": \"250px\"},\n",
    "    \"image\": {\"width\": \"220px\", \"height\": \"250px\"}\n",
    "}\n",
    "molecule_concept_selector = widgets.ObjectSelectionWidget(\"Molecule Concept\", molecule_concept_selector_config)\n",
    "molecule_concept_selector.load_dropdown_box(\"MOLECULE_CONCEPT\", \"molecule concept\")\n",
    "\n",
    "chemist_selector = widgets.ObjectSelectionWidget(\"Chemist\")\n",
    "chemist_selector.load_dropdown_box(\"CHEMIST\", \"chemist\")\n",
    "\n",
    "storage_selector = widgets.ObjectSelectionWidget(\"Storage\")\n",
    "storage_selector.load_dropdown_box(\"STORAGE\", \"storage\")\n",
    "\n",
    "supplier_selector = widgets.ObjectSelectionWidget(\"Instrument\")\n",
    "supplier_selector.load_dropdown_box(\"SUPPLIER\", \"supplier\")\n",
    "\n",
    "molecule_widgets = widgets.ObjectPropertiesWidgets(\"Molecule\")\n",
    "molecule_widgets.get_properties_widgets()\n",
    "\n",
    "molecule_support_files = ipw.FileUpload(multiple = True)\n",
    "\n",
    "increase_buttons_size = utils.HTML(data = ''.join(CONFIG[\"save_home_buttons_settings\"]))\n",
    "create_button = utils.Button(\n",
    "    description = '', disabled = False, button_style = '', tooltip = 'Save', \n",
    "    icon = 'save', layout = ipw.Layout(width = '100px', height = '50px')\n",
    ")\n",
    "quit_button = utils.Button(\n",
    "    description = '', disabled = False, button_style = '', \n",
    "    tooltip = 'Main menu', icon = 'home', layout = ipw.Layout(width = '100px', height = '50px')\n",
    ")\n",
    "save_close_buttons_hbox = ipw.HBox([create_button, quit_button])"
   ]
  },
  {
   "cell_type": "code",
   "execution_count": null,
   "metadata": {},
   "outputs": [],
   "source": [
    "def close_notebook(b):\n",
    "    display(utils.Javascript(data = 'window.location.replace(\"home.ipynb\")'))\n",
    "\n",
    "def create_molecule_openbis(b):\n",
    "    if molecule_concept_selector.dropdown.value == -1:\n",
    "        display(utils.Javascript(data = \"alert('Select a molecule concept.')\"))\n",
    "        return\n",
    "    \n",
    "    # Check if the molecule is already in openBIS\n",
    "    molecules_empa_id_openbis = [f\"{molecule.props['empa_number']}-{molecule.props['batch']}\" for molecule in utils.get_openbis_objects(OPENBIS_SESSION, type =\"MOLECULE\")]\n",
    "    \n",
    "    object_properties = {}\n",
    "    for prop in CONFIG[\"objects\"][\"Molecule\"][\"properties\"]:\n",
    "        property_type = CONFIG[\"properties\"][prop][\"property_type\"]\n",
    "        \n",
    "        if prop in molecule_widgets.properties_widgets:\n",
    "            property_widget = molecule_widgets.properties_widgets[prop]\n",
    "            object_properties[prop] = utils.get_object_property(property_type, property_widget)\n",
    "    \n",
    "    molecule_empa_id = f\"{object_properties['empa_number']}-{object_properties['batch']}\"\n",
    "    if molecule_empa_id in molecules_empa_id_openbis:\n",
    "        display(utils.Javascript(data = \"alert('Molecule is already in openBIS!')\"))\n",
    "        return\n",
    "    \n",
    "    object_parents = []\n",
    "    \n",
    "    if molecule_concept_selector.dropdown.value != -1:\n",
    "        object_parents.append(molecule_concept_selector.dropdown.value)\n",
    "        \n",
    "    if chemist_selector.dropdown.value != -1:\n",
    "        object_parents.append(chemist_selector.dropdown.value)\n",
    "        \n",
    "    if supplier_selector.dropdown.value != -1:\n",
    "        object_parents.append(supplier_selector.dropdown.value)\n",
    "    \n",
    "    if storage_selector.dropdown.value != -1:\n",
    "        object_parents.append(storage_selector.dropdown.value)\n",
    "\n",
    "    molecule_object = utils.create_openbis_object(\n",
    "        OPENBIS_SESSION, type=\"MOLECULE\", \n",
    "        collection=\"/MATERIALS/MOLECULES/PRECURSOR_COLLECTION\", \n",
    "        props = object_properties,\n",
    "        parents = object_parents\n",
    "    )\n",
    "    utils.upload_datasets(OPENBIS_SESSION, molecule_object, molecule_support_files, \"RAW_DATA\")\n",
    "    \n",
    "    display(utils.Javascript(data = \"alert('Upload successful!')\"))\n",
    "    molecule_widgets.reset_properties_widgets()\n",
    "\n",
    "\n",
    "def checkbox_on_change(checkbox, textbox):\n",
    "    def enable_textbox(change):\n",
    "        if checkbox.value:\n",
    "            textbox.disabled = False\n",
    "        else:\n",
    "            textbox.disabled = True\n",
    "    checkbox.observe(enable_textbox, names = \"value\")"
   ]
  },
  {
   "cell_type": "markdown",
   "metadata": {},
   "source": [
    "# Create molecule"
   ]
  },
  {
   "cell_type": "markdown",
   "metadata": {},
   "source": [
    "## Select molecule"
   ]
  },
  {
   "cell_type": "code",
   "execution_count": null,
   "metadata": {},
   "outputs": [],
   "source": [
    "molecule_concept_selector.dropdown.observe(molecule_concept_selector.load_metadata, names = \"value\")\n",
    "display(molecule_concept_selector)"
   ]
  },
  {
   "cell_type": "markdown",
   "metadata": {},
   "source": [
    "## Select chemist"
   ]
  },
  {
   "cell_type": "code",
   "execution_count": null,
   "metadata": {},
   "outputs": [],
   "source": [
    "display(chemist_selector)"
   ]
  },
  {
   "cell_type": "markdown",
   "metadata": {},
   "source": [
    "## Select storage"
   ]
  },
  {
   "cell_type": "code",
   "execution_count": null,
   "metadata": {},
   "outputs": [],
   "source": [
    "display(storage_selector)"
   ]
  },
  {
   "cell_type": "markdown",
   "metadata": {},
   "source": [
    "## Select supplier"
   ]
  },
  {
   "cell_type": "code",
   "execution_count": null,
   "metadata": {},
   "outputs": [],
   "source": [
    "display(supplier_selector)"
   ]
  },
  {
   "cell_type": "markdown",
   "metadata": {},
   "source": [
    "## Properties"
   ]
  },
  {
   "cell_type": "code",
   "execution_count": null,
   "metadata": {},
   "outputs": [],
   "source": [
    "checkbox_on_change(molecule_widgets.properties_widgets[\"hazardous\"], molecule_widgets.properties_widgets[\"hazardous_specification\"])\n",
    "checkbox_on_change(molecule_widgets.properties_widgets[\"other_storage_condition\"], molecule_widgets.properties_widgets[\"other_storage_condition_specification\"])\n",
    "display(molecule_widgets)"
   ]
  },
  {
   "cell_type": "markdown",
   "metadata": {},
   "source": [
    "## Support files"
   ]
  },
  {
   "cell_type": "code",
   "execution_count": null,
   "metadata": {},
   "outputs": [],
   "source": [
    "display(molecule_support_files)"
   ]
  },
  {
   "cell_type": "markdown",
   "metadata": {},
   "source": [
    "## Save results"
   ]
  },
  {
   "cell_type": "code",
   "execution_count": null,
   "metadata": {},
   "outputs": [],
   "source": [
    "display(save_close_buttons_hbox)\n",
    "display(increase_buttons_size)\n",
    "create_button.on_click(create_molecule_openbis)\n",
    "quit_button.on_click(close_notebook)"
   ]
  }
 ],
 "metadata": {
  "kernelspec": {
   "display_name": "base",
   "language": "python",
   "name": "python3"
  },
  "language_info": {
   "codemirror_mode": {
    "name": "ipython",
    "version": 3
   },
   "file_extension": ".py",
   "mimetype": "text/x-python",
   "name": "python",
   "nbconvert_exporter": "python",
   "pygments_lexer": "ipython3",
   "version": "3.9.13"
  }
 },
 "nbformat": 4,
 "nbformat_minor": 2
}
