{
 "cells": [
  {
   "cell_type": "code",
   "execution_count": null,
   "metadata": {},
   "outputs": [],
   "source": [
    "from IPython.display import display, Markdown\n",
    "import ipywidgets as ipw\n",
    "import widgets\n",
    "import utils\n",
    "import os\n",
    "import json"
   ]
  },
  {
   "cell_type": "code",
   "execution_count": null,
   "metadata": {},
   "outputs": [],
   "source": [
    "CONFIG = utils.read_json(\"config.json\")\n",
    "CONFIG_ELN = utils.get_aiidalab_eln_config()\n",
    "DATA_MODEL = utils.read_yaml(\"/home/jovyan/aiida-openbis/Notebooks/Metadata_Schemas_LinkML/materialMLinfo.yaml\")\n",
    "OPENBIS_SESSION, SESSION_DATA = utils.connect_openbis(CONFIG_ELN[\"url\"], CONFIG_ELN[\"token\"])\n",
    "\n",
    "molecule_concept_selector_config = {\n",
    "    \"dropdown\": {\"width\": \"315px\"},\n",
    "    \"details\": {\"width\": \"415px\", \"height\": \"250px\"},\n",
    "    \"image\": {\"width\": \"220px\", \"height\": \"250px\"}\n",
    "}\n",
    "\n",
    "molecule_widgets = widgets.OpenbisObjectWidget(\"Molecule\", DATA_MODEL)\n",
    "\n",
    "molecule_support_files = ipw.FileUpload(multiple = True)\n",
    "\n",
    "increase_buttons_size = utils.HTML(data = ''.join(CONFIG[\"save_home_buttons_settings\"]))\n",
    "create_button = utils.Button(\n",
    "    description = '', disabled = False, button_style = '', tooltip = 'Save', \n",
    "    icon = 'save', layout = ipw.Layout(width = '100px', height = '50px')\n",
    ")\n",
    "quit_button = utils.Button(\n",
    "    description = '', disabled = False, button_style = '', \n",
    "    tooltip = 'Main menu', icon = 'home', layout = ipw.Layout(width = '100px', height = '50px')\n",
    ")\n",
    "save_close_buttons_hbox = ipw.HBox([create_button, quit_button])"
   ]
  },
  {
   "cell_type": "code",
   "execution_count": null,
   "metadata": {},
   "outputs": [],
   "source": [
    "def close_notebook(b):\n",
    "    display(utils.Javascript(data = 'window.location.replace(\"home.ipynb\")'))\n",
    "\n",
    "def create_molecule_openbis(b):\n",
    "    molecule_concept_selector = molecule_widgets.properties_widgets[\"molecule_concept\"][\"value_widget\"].dropdown\n",
    "    if molecule_concept_selector.value == -1:\n",
    "        display(utils.Javascript(data = \"alert('Select a molecule concept.')\"))\n",
    "        return\n",
    "    \n",
    "    # Check if the molecule is already in openBIS\n",
    "    molecules_empa_id_openbis = [f\"{molecule.props['empa_number']}-{molecule.props['batch']}\" for molecule in utils.get_openbis_objects(OPENBIS_SESSION, type =\"MOLECULE\")]\n",
    "    object_properties = molecule_widgets.get_values()\n",
    "    \n",
    "    print(object_properties)\n",
    "    print(1+\"a\")\n",
    "    \n",
    "    if \"empa_number\" not in object_properties:\n",
    "        display(utils.Javascript(data = \"alert('Empa number was not specified.')\"))\n",
    "        return\n",
    "    else:\n",
    "        object_properties[\"empa_number\"] = int(object_properties[\"empa_number\"])\n",
    "\n",
    "    if \"batch\" not in object_properties:\n",
    "        display(utils.Javascript(data = \"alert('Batch was not specified.')\"))\n",
    "        return\n",
    "    \n",
    "    molecule_empa_id = f\"{object_properties['empa_number']}-{object_properties['batch']}\"\n",
    "    if molecule_empa_id in molecules_empa_id_openbis:\n",
    "        display(utils.Javascript(data = \"alert('Molecule is already in openBIS!')\"))\n",
    "        return\n",
    "    \n",
    "    if molecule_concept_selector.value != -1:\n",
    "        object_properties[\"molecule_concept\"] = molecule_concept_selector.value\n",
    "    \n",
    "    molecule_object = utils.create_openbis_object(\n",
    "        OPENBIS_SESSION, type=\"MOLECULE\", \n",
    "        collection=\"/MATERIALS/MOLECULES/PRECURSOR_COLLECTION\", \n",
    "        props = object_properties\n",
    "    )\n",
    "    utils.upload_datasets(OPENBIS_SESSION, molecule_object, molecule_support_files, \"RAW_DATA\")\n",
    "    \n",
    "    display(utils.Javascript(data = \"alert('Upload successful!')\"))\n",
    "\n",
    "def checkbox_on_change(checkbox, textbox):\n",
    "    textbox.disabled = True\n",
    "    def enable_textbox(change):\n",
    "        if checkbox.value:\n",
    "            textbox.disabled = False\n",
    "        else:\n",
    "            textbox.disabled = True\n",
    "    checkbox.observe(enable_textbox, names = \"value\")"
   ]
  },
  {
   "cell_type": "markdown",
   "metadata": {},
   "source": [
    "# Create molecule"
   ]
  },
  {
   "cell_type": "markdown",
   "metadata": {},
   "source": [
    "## Properties"
   ]
  },
  {
   "cell_type": "code",
   "execution_count": null,
   "metadata": {},
   "outputs": [],
   "source": [
    "checkbox_on_change(molecule_widgets.properties_widgets[\"hazardous\"][\"value_widget\"], molecule_widgets.properties_widgets[\"hazardous_specification\"][\"value_widget\"])\n",
    "checkbox_on_change(molecule_widgets.properties_widgets[\"other_storage_condition\"][\"value_widget\"], molecule_widgets.properties_widgets[\"other_storage_condition_specification\"][\"value_widget\"])\n",
    "display(molecule_widgets)"
   ]
  },
  {
   "cell_type": "markdown",
   "metadata": {},
   "source": [
    "## Support files"
   ]
  },
  {
   "cell_type": "code",
   "execution_count": null,
   "metadata": {},
   "outputs": [],
   "source": [
    "display(molecule_support_files)"
   ]
  },
  {
   "cell_type": "markdown",
   "metadata": {},
   "source": [
    "## Save results"
   ]
  },
  {
   "cell_type": "code",
   "execution_count": null,
   "metadata": {},
   "outputs": [],
   "source": [
    "display(save_close_buttons_hbox)\n",
    "display(increase_buttons_size)\n",
    "create_button.on_click(create_molecule_openbis)\n",
    "quit_button.on_click(close_notebook)"
   ]
  }
 ],
 "metadata": {
  "kernelspec": {
   "display_name": "Python 3 (ipykernel)",
   "language": "python",
   "name": "python3"
  },
  "language_info": {
   "codemirror_mode": {
    "name": "ipython",
    "version": 3
   },
   "file_extension": ".py",
   "mimetype": "text/x-python",
   "name": "python",
   "nbconvert_exporter": "python",
   "pygments_lexer": "ipython3",
   "version": "3.9.13"
  }
 },
 "nbformat": 4,
 "nbformat_minor": 2
}
