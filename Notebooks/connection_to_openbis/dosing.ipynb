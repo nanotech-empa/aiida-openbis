{
 "cells": [
  {
   "cell_type": "code",
   "execution_count": null,
   "metadata": {},
   "outputs": [],
   "source": [
    "from IPython.display import display\n",
    "from datetime import datetime\n",
    "from utils import close_notebook, AppWidgets, read_json"
   ]
  },
  {
   "cell_type": "code",
   "execution_count": null,
   "metadata": {},
   "outputs": [],
   "source": [
    "# Global variables\n",
    "CONFIG_VARIABLES = read_json(\"config.json\")\n",
    "\n",
    "# Widgets\n",
    "app_widgets = AppWidgets(\n",
    "    \"dosing\", \n",
    "    CONFIG_VARIABLES[\"raw_materials_types\"], \n",
    "    CONFIG_VARIABLES[\"process_sample_types\"], \n",
    "    CONFIG_VARIABLES[\"samples_collection_openbis_path\"]\n",
    ")\n",
    "\n",
    "# Connect with openBIS\n",
    "app_widgets.connect_openbis()\n",
    "\n",
    "# Populate dropdown lists\n",
    "app_widgets.load_dropdown_lists()"
   ]
  },
  {
   "cell_type": "markdown",
   "metadata": {},
   "source": [
    "# Dosing"
   ]
  },
  {
   "cell_type": "markdown",
   "metadata": {},
   "source": [
    "## Select experiment, sample, and instrument"
   ]
  },
  {
   "cell_type": "code",
   "execution_count": null,
   "metadata": {},
   "outputs": [],
   "source": [
    "display(app_widgets.experiments_dropdown, app_widgets.sample_metadata_boxes, app_widgets.instruments_dropdown)\n",
    "app_widgets.create_button.on_click(app_widgets.create_process_action)\n",
    "app_widgets.quit_button.on_click(close_notebook)\n",
    "app_widgets.samples_dropdown.observe(app_widgets.load_sample_metadata, names = 'value')"
   ]
  },
  {
   "cell_type": "markdown",
   "metadata": {},
   "source": [
    "## Properties"
   ]
  },
  {
   "cell_type": "code",
   "execution_count": null,
   "metadata": {},
   "outputs": [],
   "source": [
    "display(app_widgets.method_name_textbox, app_widgets.method_properties, app_widgets.comments_textbox)"
   ]
  },
  {
   "cell_type": "markdown",
   "metadata": {},
   "source": [
    "## Support Files"
   ]
  },
  {
   "cell_type": "code",
   "execution_count": null,
   "metadata": {},
   "outputs": [],
   "source": [
    "display(app_widgets.support_files_uploader)"
   ]
  },
  {
   "cell_type": "markdown",
   "metadata": {},
   "source": [
    "## Sample out"
   ]
  },
  {
   "cell_type": "code",
   "execution_count": null,
   "metadata": {},
   "outputs": [],
   "source": [
    "app_widgets.method_name_textbox.observe(app_widgets.update_text, names = 'value')\n",
    "display(app_widgets.sample_out_name_textbox)\n",
    "display(app_widgets.bottom_buttons_hbox)\n",
    "display(app_widgets.increase_buttons_size)"
   ]
  }
 ],
 "metadata": {
  "kernelspec": {
   "display_name": "base",
   "language": "python",
   "name": "python3"
  },
  "language_info": {
   "codemirror_mode": {
    "name": "ipython",
    "version": 3
   },
   "file_extension": ".py",
   "mimetype": "text/x-python",
   "name": "python",
   "nbconvert_exporter": "python",
   "pygments_lexer": "ipython3",
   "version": "3.9.13"
  }
 },
 "nbformat": 4,
 "nbformat_minor": 2
}
