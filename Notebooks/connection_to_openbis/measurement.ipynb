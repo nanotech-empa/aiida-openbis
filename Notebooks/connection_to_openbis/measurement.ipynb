{
 "cells": [
  {
   "cell_type": "code",
   "execution_count": 3,
   "metadata": {},
   "outputs": [],
   "source": [
    "from IPython.display import display\n",
    "from datetime import datetime\n",
    "from utils import read_json, close_notebook, AppWidgets"
   ]
  },
  {
   "cell_type": "code",
   "execution_count": 6,
   "metadata": {},
   "outputs": [],
   "source": [
    "# Global variables\n",
    "CONFIG_VARIABLES = read_json(\"config.json\")"
   ]
  },
  {
   "cell_type": "code",
   "execution_count": null,
   "metadata": {},
   "outputs": [],
   "source": [
    "# Widgets\n",
    "app_widgets = AppWidgets(\n",
    "    \"measurements\", \n",
    "    CONFIG_VARIABLES[\"raw_materials_types\"], \n",
    "    CONFIG_VARIABLES[\"process_sample_types\"]\n",
    ")"
   ]
  },
  {
   "cell_type": "code",
   "execution_count": 8,
   "metadata": {},
   "outputs": [],
   "source": [
    "# Connect with openBIS\n",
    "app_widgets.connect_openbis()"
   ]
  },
  {
   "cell_type": "markdown",
   "metadata": {},
   "source": [
    "# Measurement Uploader"
   ]
  },
  {
   "cell_type": "markdown",
   "metadata": {},
   "source": [
    "## Select sample"
   ]
  },
  {
   "cell_type": "code",
   "execution_count": null,
   "metadata": {},
   "outputs": [],
   "source": [
    "samples = app_widgets.openbis_session.get_objects(type = \"SAMPLE\")\n",
    "instruments = app_widgets.openbis_session.get_objects(type = \"INSTRUMENT\")\n",
    "\n",
    "samples_names_permids = [(sample.props['$name'], sample.permId) for sample in samples]\n",
    "samples_dates = [datetime.fromisoformat(sample.registrationDate) for sample in samples]\n",
    "samples_names_permids = [x for _,x in sorted(zip(samples_dates, samples_names_permids), reverse = True)]\n",
    "samples_names_permids.insert(0, ('Select an input sample...', -1))\n",
    "app_widgets.samples_dropdown.options = samples_names_permids\n",
    "\n",
    "instruments_names_permids = [(f\"{instrument.props['$name']} ({instrument.attrs.permId})\", instrument.permId) for instrument in instruments]\n",
    "instruments_names_permids.insert(0, ('Select an instrument...', -1))\n",
    "app_widgets.instruments_dropdown.options = instruments_names_permids\n",
    "app_widgets.instruments_dropdown.options = instruments_names_permids\n",
    "\n",
    "display(app_widgets.sample_metadata_boxes, app_widgets.instruments_dropdown)\n",
    "app_widgets.create_button.on_click(app_widgets.upload_measurements_to_openbis)\n",
    "app_widgets.quit_button.on_click(close_notebook)\n",
    "app_widgets.samples_dropdown.observe(app_widgets.load_sample_metadata, names = 'value')"
   ]
  },
  {
   "cell_type": "markdown",
   "metadata": {},
   "source": [
    "## Select measurements folders"
   ]
  },
  {
   "cell_type": "code",
   "execution_count": null,
   "metadata": {},
   "outputs": [],
   "source": [
    "display(app_widgets.folder_selector)\n",
    "display(app_widgets.bottom_buttons_hbox)\n",
    "display(app_widgets.increase_buttons_size)"
   ]
  }
 ],
 "metadata": {
  "kernelspec": {
   "display_name": "base",
   "language": "python",
   "name": "python3"
  },
  "language_info": {
   "codemirror_mode": {
    "name": "ipython",
    "version": 3
   },
   "file_extension": ".py",
   "mimetype": "text/x-python",
   "name": "python",
   "nbconvert_exporter": "python",
   "pygments_lexer": "ipython3",
   "version": "3.9.13"
  }
 },
 "nbformat": 4,
 "nbformat_minor": 2
}
