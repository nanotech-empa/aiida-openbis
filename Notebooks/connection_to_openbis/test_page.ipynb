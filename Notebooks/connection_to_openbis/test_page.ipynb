{
 "cells": [
  {
   "cell_type": "code",
   "execution_count": null,
   "metadata": {},
   "outputs": [],
   "source": [
    "from IPython.display import display, clear_output\n",
    "import utils\n",
    "import ipywidgets as ipw\n",
    "from app_widgets import AppWidgets"
   ]
  },
  {
   "cell_type": "markdown",
   "metadata": {},
   "source": [
    "# Sample Preparation"
   ]
  },
  {
   "cell_type": "code",
   "execution_count": null,
   "metadata": {},
   "outputs": [],
   "source": [
    "config = utils.read_json(\"config.json\")\n",
    "sample_preparation_options = [object_key for object_key, object_info in config[\"objects\"].items() if object_info[\"object_type\"] == \"sample_preparation\"]\n",
    "sample_prep_selector = utils.SelectMultiple(description = 'Processes', disabled = False, \n",
    "                                            layout = ipw.Layout(width = '300px', height = '110px'), style = {'description_width': \"65px\"},\n",
    "                                            options = sample_preparation_options)\n",
    "\n",
    "accordion = ipw.Accordion(children = [])\n",
    "\n",
    "app_widgets = AppWidgets(\"Deposition\", \"config.json\")\n",
    "# Populate dropdown lists\n",
    "app_widgets.load_dropdown_lists()"
   ]
  },
  {
   "cell_type": "code",
   "execution_count": null,
   "metadata": {},
   "outputs": [],
   "source": [
    "def sample_preparation_widgets(change):\n",
    "    \n",
    "    accordion_options = []\n",
    "    \n",
    "    for i, task in enumerate(sample_prep_selector.value):\n",
    "        \n",
    "        task_widgets = []\n",
    "        \n",
    "        if config[\"objects\"][task][\"uses_molecule\"]:\n",
    "            task_widgets.append(app_widgets.molecule_metadata_boxes)\n",
    "            \n",
    "        task_widgets.extend([app_widgets.method_name_textbox, app_widgets.method_properties, app_widgets.comments_textbox])\n",
    "        \n",
    "        # task_widgets.append(utils.Markdown(data = \"### Support Files\"))\n",
    "        task_widgets.append(app_widgets.support_files_uploader)\n",
    "        \n",
    "        accordion.set_title(i, task)\n",
    "        accordion_options.append(ipw.VBox(task_widgets))\n",
    "    \n",
    "    accordion.children = accordion_options"
   ]
  },
  {
   "cell_type": "code",
   "execution_count": null,
   "metadata": {},
   "outputs": [],
   "source": [
    "# Widgets\n",
    "display(sample_prep_selector)\n",
    "display(utils.Markdown(data = \"## Select experiment, sample, and instrument\"))\n",
    "display(app_widgets.experiments_dropdown_boxes, app_widgets.sample_metadata_boxes, app_widgets.instruments_dropdown_boxes)\n",
    "\n",
    "display(utils.Markdown(data = \"## Sample Preparation Tasks\"))\n",
    "display(accordion)\n",
    "display(utils.Markdown(data = \"## Save Sample\"))\n",
    "display(app_widgets.sample_out_name_textbox)\n",
    "display(app_widgets.bottom_buttons_hbox)\n",
    "display(app_widgets.increase_buttons_size)\n",
    "\n",
    "app_widgets.samples_dropdown_boxes.children[0].observe(app_widgets.load_sample_metadata, names = 'value')\n",
    "sample_prep_selector.observe(sample_preparation_widgets, names='value')\n",
    "app_widgets.method_name_textbox.observe(app_widgets.update_text, names = 'value')\n",
    "app_widgets.create_button.on_click(app_widgets.create_sample_preparation_action)\n",
    "app_widgets.quit_button.on_click(app_widgets.close_notebook)\n",
    "app_widgets.molecules_dropdown_boxes.children[0].observe(app_widgets.load_molecule_metadata, names = 'value')"
   ]
  }
 ],
 "metadata": {
  "kernelspec": {
   "display_name": "base",
   "language": "python",
   "name": "python3"
  },
  "language_info": {
   "name": "python",
   "version": "3.9.13"
  }
 },
 "nbformat": 4,
 "nbformat_minor": 2
}
