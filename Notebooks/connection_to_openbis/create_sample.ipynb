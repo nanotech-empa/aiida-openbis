{
 "cells": [
  {
   "cell_type": "code",
   "execution_count": 8,
   "metadata": {},
   "outputs": [],
   "source": [
    "from IPython.display import display\n",
    "from utils import close_notebook, AppWidgets"
   ]
  },
  {
   "cell_type": "code",
   "execution_count": 9,
   "metadata": {},
   "outputs": [],
   "source": [
    "# Global variables\n",
    "SAMPLES_COLLECTION_OPENBIS_PATH = \"/MATERIALS/SAMPLES/SAMPLE_COLLECTION\"\n",
    "\n",
    "# Widgets\n",
    "app_widgets = AppWidgets(\"create_sample\", \n",
    "                         samples_collection_openbis_path = SAMPLES_COLLECTION_OPENBIS_PATH)\n",
    "\n",
    "# Connect with openBIS\n",
    "app_widgets.connect_openbis()"
   ]
  },
  {
   "cell_type": "markdown",
   "metadata": {},
   "source": [
    "# Create a sample object in openBIS"
   ]
  },
  {
   "cell_type": "markdown",
   "metadata": {},
   "source": [
    "## Select material"
   ]
  },
  {
   "cell_type": "code",
   "execution_count": null,
   "metadata": {},
   "outputs": [],
   "source": [
    "app_widgets.material_selection_radio_button.observe(app_widgets.select_material_radio_change, names='value')\n",
    "display(app_widgets.material_selection_radio_button)"
   ]
  },
  {
   "cell_type": "markdown",
   "metadata": {},
   "source": [
    "## Sample out"
   ]
  },
  {
   "cell_type": "code",
   "execution_count": null,
   "metadata": {},
   "outputs": [],
   "source": [
    "app_widgets.create_button.on_click(app_widgets.create_sample_action)\n",
    "app_widgets.quit_button.on_click(close_notebook)\n",
    "display(app_widgets.sample_out_name_textbox, app_widgets.bottom_buttons_hbox)\n",
    "display(app_widgets.increase_buttons_size)"
   ]
  }
 ],
 "metadata": {
  "kernelspec": {
   "display_name": "base",
   "language": "python",
   "name": "python3"
  },
  "language_info": {
   "codemirror_mode": {
    "name": "ipython",
    "version": 3
   },
   "file_extension": ".py",
   "mimetype": "text/x-python",
   "name": "python",
   "nbconvert_exporter": "python",
   "pygments_lexer": "ipython3",
   "version": "3.9.13"
  }
 },
 "nbformat": 4,
 "nbformat_minor": 2
}
