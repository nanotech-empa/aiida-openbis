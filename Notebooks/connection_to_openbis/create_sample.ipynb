{
 "cells": [
  {
   "cell_type": "code",
   "execution_count": 2,
   "metadata": {},
   "outputs": [],
   "source": [
    "from pybis import Openbis\n",
    "import json\n",
    "import ipywidgets as widgets\n",
    "from IPython.display import display, Javascript, clear_output, HTML"
   ]
  },
  {
   "cell_type": "code",
   "execution_count": 3,
   "metadata": {},
   "outputs": [],
   "source": [
    "# Global variables\n",
    "OPENBIS_SESSION = None\n",
    "SAMPLES_COLLECTION_OPENBIS_PATH = \"/MATERIALS/SAMPLES/SAMPLE_COLLECTION\""
   ]
  },
  {
   "cell_type": "code",
   "execution_count": 5,
   "metadata": {},
   "outputs": [],
   "source": [
    "# Widgets\n",
    "materials_dropdown = widgets.Dropdown(description='Crystal', disabled=False, layout = widgets.Layout(width = '350px'))\n",
    "materials_dropdown.style = {'description_width': '100px'}\n",
    "material_details_textbox = widgets.Textarea(value = '', description = '', disabled = True, layout = widgets.Layout(width = '425px', height = '200px'))\n",
    "material_image_box = widgets.Image(value = open(\"images/white_screen.jpg\", \"rb\").read(), format = 'jpg', width = '200px', height = '300px', layout=widgets.Layout(border='solid 1px #cccccc'))\n",
    "material_metadata_boxes = widgets.HBox([materials_dropdown, material_details_textbox, material_image_box])\n",
    "\n",
    "material_selection_radio_button = widgets.RadioButtons(description = 'Material', options=['No material', 'Crystal', 'Wafer substrate', '2D-layer material'], disabled = False, layout = widgets.Layout(width = '300px'))\n",
    "material_selection_radio_button.style = {'description_width': '100px'}\n",
    "\n",
    "sample_name_textbox = widgets.Text(value = '', placeholder = 'Enter sample name', description = 'Name', disabled = False, layout = widgets.Layout(width = '300px'))\n",
    "sample_name_textbox.style = {'description_width': '100px'}\n",
    "\n",
    "create_sample_button = widgets.Button(description = '', disabled = False, button_style = '', tooltip = 'Save sample', icon = 'save', layout = widgets.Layout(width = '100px', height = '50px'))\n",
    "quit_button = widgets.Button(description = '', disabled = False, button_style = '', tooltip = 'Main menu', icon = 'home', layout = widgets.Layout(width = '100px', height = '50px'))\n",
    "increase_buttons_size = HTML(\"\"\"\n",
    "<style>\n",
    "    .fa-save {\n",
    "        font-size: 2em !important; /* Increase icon size */\n",
    "    }\n",
    "    .fa-home {\n",
    "        font-size: 2em !important; /* Increase icon size */\n",
    "    }\n",
    "</style>\n",
    "\"\"\")\n",
    "\n",
    "bottom_buttons_hbox = widgets.HBox([create_sample_button, quit_button])\n",
    "# bottom_buttons_hbox.layout.margin = '0px 0px 0px 65px'\n",
    "\n",
    "HTML('''\n",
    "<link rel=\"stylesheet\" href=\"https://cdnjs.cloudflare.com/ajax/libs/awesomplete/1.1.5/awesomplete.min.css\" />\n",
    "<script src=\"https://cdnjs.cloudflare.com/ajax/libs/awesomplete/1.1.5/awesomplete.min.js\"></script>\n",
    "''')"
   ]
  },
  {
   "cell_type": "code",
   "execution_count": 6,
   "metadata": {},
   "outputs": [],
   "source": [
    "# Functions\n",
    "def read_json(filename):\n",
    "    with open(filename, 'r') as file:\n",
    "        return json.load(file)\n",
    "\n",
    "# Function to close the notebook page\n",
    "def close_notebook(b):\n",
    "    display(Javascript('window.location.replace(\"home.ipynb\")'))\n",
    "\n",
    "# Function to create sample object inside openBIS using information selected in the app\n",
    "def create_sample_action(b):\n",
    "    global OPENBIS_SESSION\n",
    "    \n",
    "    samples = OPENBIS_SESSION.get_objects(type = \"SAMPLE\")\n",
    "    samples_names = [sample.props[\"$name\"] for sample in samples]\n",
    "    \n",
    "    if sample_name_textbox.value in samples_names:\n",
    "        display(Javascript(f\"alert('{'Sample name already exists!'}')\"))\n",
    "    else:\n",
    "        if materials_dropdown.value is None or material_selection_radio_button.value == \"No material\":\n",
    "            sample_parents = []\n",
    "        else:\n",
    "            sample_parents = [materials_dropdown.value]\n",
    "        \n",
    "        OPENBIS_SESSION.new_object(type = \"SAMPLE\", \n",
    "                                collection = SAMPLES_COLLECTION_OPENBIS_PATH,\n",
    "                                props = {\"$name\": sample_name_textbox.value},\n",
    "                                parents = sample_parents).save()\n",
    "        print(\"Upload successful!\")\n",
    "\n",
    "# Function to handle changes in the materials dropdown\n",
    "def load_material_metadata(change):\n",
    "    global OPENBIS_SESSION\n",
    "    if materials_dropdown.value is None:\n",
    "        material_details_textbox.value = ''\n",
    "        file = open(\"images/white_screen.jpg\", \"rb\")\n",
    "        image = file.read()\n",
    "        material_image_box.value = image\n",
    "    else:\n",
    "        if material_selection_radio_button.value == \"Crystal\":\n",
    "            property_list = [(\"Name\", \"$name\"), (\"Material\", \"material\"), (\"Face\", \"face\"), (\"Sample Plate\", \"sample_plate\"), (\"Diameter\", \"diameter\"), (\"Height\", \"height\"), (\"Specifications\", \"specifications\")]\n",
    "        elif material_selection_radio_button.value == \"Wafer substrate\":\n",
    "            property_list = [(\"Name\", \"$name\"), (\"Substrates\", \"substrates\"), (\"Sample Plate\", \"sample_plate\"), (\"Diameter\", \"diameter\"), (\"Height\", \"height\"), (\"Thickness\", \"thickness\")]\n",
    "        elif material_selection_radio_button.value == \"2D-layer material\":\n",
    "            property_list = [(\"Name\", \"$name\"), (\"Sample Plate\", \"sample_plate\"), (\"2D Layers\", \"layers_2d\"), (\"Substrates\", \"substrates\"), (\"Width\", \"width\"), (\"Length\", \"length\"), (\"Thickness\", \"thickness\")]\n",
    "        \n",
    "        material_object = OPENBIS_SESSION.get_object(materials_dropdown.value)\n",
    "        material_dataset = material_object.get_datasets()[0]\n",
    "        \n",
    "        if material_dataset is None:\n",
    "            file = open(\"images/white_screen.jpg\", \"rb\")\n",
    "            image = file.read()\n",
    "            material_image_box.value = image\n",
    "        else:\n",
    "            material_dataset.download(destination = \"images\")\n",
    "            material_dataset_filenames = material_dataset.file_list\n",
    "            material_image_filepath = material_dataset_filenames[0]\n",
    "            file = open(f\"images/{material_dataset.permId}/{material_image_filepath}\", \"rb\")\n",
    "            image = file.read()\n",
    "            material_image_box.value = image\n",
    "        \n",
    "        material_metadata = material_object.props.all()\n",
    "        material_metadata_string = \"\"\n",
    "        for property in property_list:\n",
    "            if property[1] in [\"diameter\", \"height\", \"width\", \"thickness\"]:\n",
    "                if material_metadata[property[1]] is None:\n",
    "                    material_metadata_string = f\"{material_metadata_string} {property[0]}: {material_metadata[property[1]]}\\n\"\n",
    "                else:\n",
    "                    property_dict = json.loads(material_metadata[property[1]])\n",
    "                    material_metadata_string = f\"{material_metadata_string} {property[0]}: {property_dict['value']} {property_dict['unit']}\\n\"\n",
    "            else:\n",
    "                material_metadata_string = f\"{material_metadata_string} {property[0]}: {material_metadata[property[1]]}\\n\"\n",
    "        material_details_textbox.value = material_metadata_string\n",
    "\n",
    "# Function to handle changes in the radio button\n",
    "def select_material_radio_change(change):\n",
    "    material_details_textbox.value = ''\n",
    "    \n",
    "    if material_selection_radio_button.value == \"No material\":\n",
    "        clear_output()\n",
    "        display(material_selection_radio_button)\n",
    "        \n",
    "    else: \n",
    "        if material_selection_radio_button.value == \"Crystal\":\n",
    "            materials = OPENBIS_SESSION.get_objects(type = \"CRYSTAL\")\n",
    "            materials_dropdown.description = \"Crystal\"\n",
    "            materials_placeholder = \"Select crystal...\"\n",
    "\n",
    "        elif material_selection_radio_button.value == \"Wafer substrate\":\n",
    "            materials = OPENBIS_SESSION.get_objects(type = \"WAFER_SUBSTRATE\")\n",
    "            materials_dropdown.description = \"Wafer substrate\"\n",
    "            materials_placeholder = \"Select wafer substrate...\"\n",
    "            \n",
    "        elif material_selection_radio_button.value == \"2D-layer material\":\n",
    "            materials = OPENBIS_SESSION.get_objects(type = \"2D_LAYERED_MATERIAL\")\n",
    "            materials_dropdown.description = \"2D-layer material\"\n",
    "            materials_placeholder = \"Select 2D-layer material...\"\n",
    "            \n",
    "        materials_names_permids = [(f\"{material.props['$name']} ({material.permId})\", material.permId) for material in materials]\n",
    "        materials_names_permids.insert(0, (materials_placeholder, None))\n",
    "        materials_dropdown.options = materials_names_permids\n",
    "        materials_dropdown.observe(load_material_metadata, names = 'value')\n",
    "            \n",
    "        clear_output()\n",
    "        display(material_selection_radio_button)\n",
    "        display(material_metadata_boxes)\n",
    "        \n",
    "    display(increase_buttons_size)"
   ]
  },
  {
   "cell_type": "code",
   "execution_count": 7,
   "metadata": {},
   "outputs": [],
   "source": [
    "# Connect with openBIS\n",
    "session_data = read_json(\"token.json\")\n",
    "OPENBIS_SESSION = Openbis(session_data[\"url\"], verify_certificates = False)\n",
    "OPENBIS_SESSION.set_token(session_data[\"token\"])"
   ]
  },
  {
   "cell_type": "markdown",
   "metadata": {},
   "source": [
    "# Create a sample object in openBIS"
   ]
  },
  {
   "cell_type": "markdown",
   "metadata": {},
   "source": [
    "## Select material"
   ]
  },
  {
   "cell_type": "code",
   "execution_count": null,
   "metadata": {},
   "outputs": [],
   "source": [
    "material_selection_radio_button.observe(select_material_radio_change, names='value')\n",
    "display(material_selection_radio_button)"
   ]
  },
  {
   "cell_type": "markdown",
   "metadata": {},
   "source": [
    "## Sample out"
   ]
  },
  {
   "cell_type": "code",
   "execution_count": null,
   "metadata": {},
   "outputs": [],
   "source": [
    "create_sample_button.on_click(create_sample_action)\n",
    "quit_button.on_click(close_notebook)\n",
    "sample_name_textbox.add_class('autocomplete-textbox')\n",
    "display(sample_name_textbox, bottom_buttons_hbox)\n",
    "display(increase_buttons_size)"
   ]
  }
 ],
 "metadata": {
  "kernelspec": {
   "display_name": "base",
   "language": "python",
   "name": "python3"
  },
  "language_info": {
   "codemirror_mode": {
    "name": "ipython",
    "version": 3
   },
   "file_extension": ".py",
   "mimetype": "text/x-python",
   "name": "python",
   "nbconvert_exporter": "python",
   "pygments_lexer": "ipython3",
   "version": "3.9.13"
  }
 },
 "nbformat": 4,
 "nbformat_minor": 2
}
