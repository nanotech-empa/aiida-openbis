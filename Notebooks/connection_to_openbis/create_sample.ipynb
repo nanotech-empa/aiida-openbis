{
 "cells": [
  {
   "cell_type": "code",
   "execution_count": 1,
   "metadata": {},
   "outputs": [],
   "source": [
    "from pybis import Openbis\n",
    "import json\n",
    "import ipywidgets as widgets\n",
    "from IPython.display import display, Javascript"
   ]
  },
  {
   "cell_type": "code",
   "execution_count": null,
   "metadata": {},
   "outputs": [],
   "source": [
    "# Global variables\n",
    "OPENBIS_SESSION = None"
   ]
  },
  {
   "cell_type": "code",
   "execution_count": null,
   "metadata": {},
   "outputs": [],
   "source": [
    "# Widgets\n",
    "crystals_dropdown = widgets.Dropdown(description='Select a crystal:', disabled=False,)\n",
    "crystals_dropdown.style = {'description_width': 'initial'}\n",
    "sample_name_textbox = widgets.Text(value = '', placeholder = 'Enter sample name', description = 'Sample name:', disabled = False)\n",
    "sample_name_textbox.style = {'description_width': 'initial'}\n",
    "create_sample_button = widgets.Button(description = 'Create sample', disabled = False, button_style = '', tooltip = 'Create sample')\n",
    "quit_button = widgets.Button(description = 'Go back', disabled = False, button_style = '', tooltip = 'Go back')"
   ]
  },
  {
   "cell_type": "code",
   "execution_count": null,
   "metadata": {},
   "outputs": [],
   "source": [
    "# Functions\n",
    "def read_json(filename):\n",
    "    with open(filename, 'r') as file:\n",
    "        return json.load(file)\n",
    "\n",
    "# Function to close the notebook page\n",
    "def close_notebook(b):\n",
    "    display(Javascript(f'window.open(\"home.ipynb\", \"_blank\")'))\n",
    "    display(Javascript('window.close()'))\n",
    "\n",
    "def create_sample_action(b):\n",
    "    global OPENBIS_SESSION\n",
    "    \n",
    "    if crystals_dropdown.value == \"-1\":\n",
    "        sample_parents = []\n",
    "    else:\n",
    "        sample_parents = [crystals_dropdown.value]\n",
    "    \n",
    "    OPENBIS_SESSION.new_object(type = \"SAMPLE\", \n",
    "                            collection = \"20240716082516377-60\",\n",
    "                            props = {\"$name\": sample_name_textbox.value},\n",
    "                            parents = sample_parents).save()"
   ]
  },
  {
   "cell_type": "code",
   "execution_count": null,
   "metadata": {},
   "outputs": [],
   "source": [
    "# Connect with openBIS\n",
    "session_data = read_json(\"token.json\")\n",
    "OPENBIS_SESSION = Openbis(session_data[\"url\"], verify_certificates = False)\n",
    "OPENBIS_SESSION.set_token(session_data[\"token\"])"
   ]
  },
  {
   "cell_type": "markdown",
   "metadata": {},
   "source": [
    "## Create a sample object in openBIS"
   ]
  },
  {
   "cell_type": "code",
   "execution_count": null,
   "metadata": {},
   "outputs": [],
   "source": [
    "crystals = OPENBIS_SESSION.get_objects(type = \"CRYSTAL\")\n",
    "crystals_names_permids = [(crystal.props[\"$name\"], crystal.permId) for crystal in crystals]\n",
    "crystals_names_permids.insert(0, ('No crystal', \"-1\"))\n",
    "crystals_dropdown.options = crystals_names_permids\n",
    "\n",
    "bottom_buttons_hbox = widgets.HBox([create_sample_button, quit_button])\n",
    "display(crystals_dropdown, sample_name_textbox, bottom_buttons_hbox)\n",
    "create_sample_button.on_click(create_sample_action)\n",
    "quit_button.on_click(close_notebook)"
   ]
  }
 ],
 "metadata": {
  "kernelspec": {
   "display_name": "base",
   "language": "python",
   "name": "python3"
  },
  "language_info": {
   "codemirror_mode": {
    "name": "ipython",
    "version": 3
   },
   "file_extension": ".py",
   "mimetype": "text/x-python",
   "name": "python",
   "nbconvert_exporter": "python",
   "pygments_lexer": "ipython3",
   "version": "3.9.13"
  }
 },
 "nbformat": 4,
 "nbformat_minor": 2
}
