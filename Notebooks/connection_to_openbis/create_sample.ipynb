{
 "cells": [
  {
   "cell_type": "code",
   "execution_count": 1,
   "metadata": {},
   "outputs": [],
   "source": [
    "from IPython.display import display, clear_output\n",
    "import utils\n",
    "import widgets\n",
    "import ipywidgets as ipw\n",
    "import shutil\n",
    "import json"
   ]
  },
  {
   "cell_type": "code",
   "execution_count": 2,
   "metadata": {},
   "outputs": [],
   "source": [
    "CONFIG = utils.read_json(\"config.json\")\n",
    "CONFIG_ELN = utils.get_aiidalab_eln_config()\n",
    "# CONFIG_ELN = utils.read_json(\"eln_config.json\")\n",
    "OPENBIS_SESSION, SESSION_DATA = utils.connect_openbis(CONFIG_ELN[\"url\"], CONFIG_ELN[\"token\"])\n",
    "\n",
    "slabs_options = [object_key for object_key, object_info in CONFIG[\"objects\"].items() if object_info[\"object_type\"] == \"slab\"]\n",
    "slabs_options.insert(0, \"No material\")\n",
    "material_selection_radio_button = utils.Radiobuttons(\n",
    "    description = '', options = slabs_options, \n",
    "    disabled = False, layout = ipw.Layout(width = '300px'), \n",
    "    style = {'description_width': \"100px\"}\n",
    ")\n",
    "\n",
    "material_selector = widgets.MaterialSelectionWidget()\n",
    "\n",
    "sample_out_name_textbox = utils.Text(\n",
    "    description = \"Name\", disabled = False, layout = ipw.Layout(width = '400px'), \n",
    "    placeholder = f\"Write sample name here...\", style = {'description_width': \"110px\"}\n",
    ")\n",
    "increase_buttons_size = utils.HTML(data = ''.join(CONFIG[\"save_home_buttons_settings\"]))\n",
    "create_button = utils.Button(\n",
    "    description = '', disabled = False, button_style = '', tooltip = 'Save', \n",
    "    icon = 'save', layout = ipw.Layout(width = '100px', height = '50px')\n",
    ")\n",
    "quit_button = utils.Button(\n",
    "    description = '', disabled = False, button_style = '', \n",
    "    tooltip = 'Main menu', icon = 'home', layout = ipw.Layout(width = '100px', height = '50px')\n",
    ")\n",
    "save_close_buttons_hbox = ipw.HBox([create_button, quit_button])"
   ]
  },
  {
   "cell_type": "code",
   "execution_count": null,
   "metadata": {},
   "outputs": [],
   "source": [
    "def close_notebook(b):\n",
    "    display(utils.Javascript(data = 'window.location.replace(\"home.ipynb\")'))\n",
    "    \n",
    "# Function to create sample object inside openBIS using information selected in the app\n",
    "def create_sample_action(b):\n",
    "    samples_names = [sample.props[\"$name\"] for sample in OPENBIS_SESSION.get_objects(type = \"SAMPLE\")]\n",
    "    if sample_out_name_textbox.value in samples_names:\n",
    "        display(utils.Javascript(data = f\"alert('{'Sample name already exists!'}')\"))\n",
    "        return\n",
    "    else:\n",
    "        sample_parents = [] if material_selector.dropdown.value == -1 else [material_selector.dropdown.value]\n",
    "        sample_props = {\"$name\": sample_out_name_textbox.value, \"exists\": True}\n",
    "        utils.create_openbis_object(OPENBIS_SESSION, type=\"SAMPLE\", collection=\"/MATERIALS/SAMPLES/SAMPLE_COLLECTION\", props=sample_props, parents=sample_parents)\n",
    "        display(utils.Javascript(data = \"alert('Upload successful!')\"))\n",
    "        \n",
    "        # Reset widgets\n",
    "        material_selection_radio_button.value = \"No material\"\n",
    "        sample_out_name_textbox.value = \"\"\n",
    "\n",
    "def select_material_radio_change(change):\n",
    "    material_type = material_selection_radio_button.value\n",
    "    if material_type == \"No material\":\n",
    "        with material_selector:\n",
    "            clear_output()\n",
    "            material_selector.dropdown.value = -1\n",
    "            return\n",
    "    \n",
    "    material_selector.details_textbox.value = ''\n",
    "    material_types = {}\n",
    "    for object_key, object_info in CONFIG[\"objects\"].items():\n",
    "        if object_info[\"object_type\"] == \"slab\":\n",
    "            material_types[object_key] = (object_info[\"openbis_object_type\"], object_info[\"placeholder\"])\n",
    "            \n",
    "    with material_selector:\n",
    "        clear_output()\n",
    "        # Reset sample out name\n",
    "        sample_out_name_textbox.value = ''\n",
    "        display_list = [\n",
    "            material_selector.dropdown_boxes,\n",
    "            ipw.HBox([material_selector.details_textbox, material_selector.image_box])\n",
    "        ]\n",
    "        material_class, placeholder = material_types.get(material_type)\n",
    "        material_selector.load_dropdown_box(material_class, placeholder)\n",
    "        display(ipw.VBox(display_list))\n",
    "\n",
    "# Function to handle changes in the materials dropdown and sample name box\n",
    "def load_material_metadata_and_sample_name(change):\n",
    "    material_selector.load_metadata(change)\n",
    "    # Change sample name box\n",
    "    material_name = [label for label, value in material_selector.dropdown.options if value == material_selector.dropdown.value][0]\n",
    "    sample_out_name_textbox.value = utils.convert_datetime_to_string(utils.get_current_datetime()) + f\"_{material_name}\""
   ]
  },
  {
   "cell_type": "markdown",
   "metadata": {},
   "source": [
    "# Create a sample object in openBIS"
   ]
  },
  {
   "cell_type": "markdown",
   "metadata": {},
   "source": [
    "## Select material"
   ]
  },
  {
   "cell_type": "code",
   "execution_count": null,
   "metadata": {},
   "outputs": [
    {
     "data": {
      "application/vnd.jupyter.widget-view+json": {
       "model_id": "6569a050959d477bb9bee85a1a8704e5",
       "version_major": 2,
       "version_minor": 0
      },
      "text/plain": [
       "RadioButtons(layout=Layout(width='300px'), options=('No material', 'Crystal', 'Wafer substrate', '2D-layer mat…"
      ]
     },
     "metadata": {},
     "output_type": "display_data"
    }
   ],
   "source": [
    "material_selection_radio_button.observe(select_material_radio_change, names='value')\n",
    "material_selector.dropdown.observe(load_material_metadata_and_sample_name, names = 'value')\n",
    "display(material_selection_radio_button)\n",
    "display(material_selector)\n"
   ]
  },
  {
   "cell_type": "markdown",
   "metadata": {},
   "source": [
    "## Sample out"
   ]
  },
  {
   "cell_type": "code",
   "execution_count": null,
   "metadata": {},
   "outputs": [],
   "source": [
    "create_button.on_click(create_sample_action)\n",
    "quit_button.on_click(close_notebook)\n",
    "display(sample_out_name_textbox, save_close_buttons_hbox)\n",
    "display(increase_buttons_size)"
   ]
  }
 ],
 "metadata": {
  "kernelspec": {
   "display_name": "base",
   "language": "python",
   "name": "python3"
  },
  "language_info": {
   "codemirror_mode": {
    "name": "ipython",
    "version": 3
   },
   "file_extension": ".py",
   "mimetype": "text/x-python",
   "name": "python",
   "nbconvert_exporter": "python",
   "pygments_lexer": "ipython3",
   "version": "3.9.13"
  }
 },
 "nbformat": 4,
 "nbformat_minor": 2
}
