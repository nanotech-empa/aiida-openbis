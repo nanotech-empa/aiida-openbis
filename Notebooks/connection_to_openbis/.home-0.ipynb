{
 "cells": [
  {
   "cell_type": "code",
   "execution_count": null,
   "metadata": {},
   "outputs": [],
   "source": [
    "# Import libraries\n",
    "from pybis import Openbis\n",
    "from IPython.display import display, HTML, Javascript\n",
    "import ipywidgets as widgets\n",
    "import json\n",
    "import os"
   ]
  },
  {
   "cell_type": "code",
   "execution_count": null,
   "metadata": {},
   "outputs": [],
   "source": [
    "# Global variables\n",
    "OPENBIS_SESSION = None"
   ]
  },
  {
   "cell_type": "code",
   "execution_count": null,
   "metadata": {},
   "outputs": [],
   "source": [
    "# Widgets\n",
    "openbis_connection_status_htmlbox = widgets.HTML(value = '')\n",
    "openbis_url_textbox = widgets.Text(value = 'openbis', placeholder = 'Enter openBIS URL', description = 'openBIS URL:', disabled = False)\n",
    "openbis_url_textbox.style = {'description_width': 'initial'}\n",
    "username_textbox = widgets.Text(value = 'admin', placeholder = 'Enter username', description = 'Username:', disabled = False)\n",
    "password_textbox = widgets.Password(value = '123456789', placeholder = 'Enter password', description = 'Password:', disabled = False)\n",
    "\n",
    "connect_button = widgets.Button(description = 'Connect', disabled = False, button_style = 'success', tooltip = 'Connect with openBIS', layout = widgets.Layout(width='200px'))\n",
    "connect_button.style = {'description_width': 'initial'}\n",
    "\n",
    "disconnect_button = widgets.Button(description = 'Disconnect', disabled = True, button_style = 'danger', tooltip = 'Disconnect openBIS', layout = widgets.Layout(width='200px'))\n",
    "disconnect_button.style = {'description_width': 'initial'}\n",
    "disconnect_button.add_class = disconnect_button\n",
    "\n",
    "connection_buttons = widgets.HBox([connect_button, disconnect_button])\n",
    "\n",
    "open_notebooks_html_disable_code = '''\n",
    "<div id=\"box\" style=\"display: flex; pointer-events: none;\">\n",
    "    <div style=\"flex: 1; padding: 10px;\">\n",
    "        <ul>\n",
    "            <li><a href=\"create_sample.ipynb\" style=\"color: gray;\" target=\"_blank\">Create a new sample</a></li>\n",
    "            <li><a href=\"sputtering.ipynb\" style=\"color: gray;\" target=\"_blank\">Sputter sample</a></li>\n",
    "            <li><a href=\"annealing.ipynb\" style=\"color: gray;\" target=\"_blank\">Anneal sample</a></li>\n",
    "        </ul>\n",
    "    </div>\n",
    "    <div style=\"flex: 1; padding: 10px;\">\n",
    "        <ul>\n",
    "            <li><a href=\"deposition.ipynb\" style=\"color: gray;\" target=\"_blank\">Deposit a molecule on a sample</a></li>\n",
    "            <li><a href=\"measurement.ipynb\" style=\"color: gray;\" target=\"_blank\">Measure a sample</a></li>\n",
    "        </ul>\n",
    "    </div>\n",
    "</div>\n",
    "'''\n",
    "\n",
    "open_notebooks_html_enable_code = '''\n",
    "    <div style=\"display: flex;\">\n",
    "        <div style=\"flex: 1; padding: 10px;\">\n",
    "            <ul>\n",
    "                <li><a href=\"create_sample.ipynb\" target=\"_blank\">Create a new sample</a></li>\n",
    "                <li><a href=\"sputtering.ipynb\" target=\"_blank\">Sputter sample</a></li>\n",
    "                <li><a href=\"annealing.ipynb\" target=\"_blank\">Anneal sample</a></li>\n",
    "            </ul>\n",
    "        </div>\n",
    "        <div style=\"flex: 1; padding: 10px;\">\n",
    "            <ul>\n",
    "                <li><a href=\"deposition.ipynb\" target=\"_blank\">Deposit a molecule on a sample</a></li>\n",
    "                <li><a href=\"measurement.ipynb\" target=\"_blank\">Measure a sample</a></li>\n",
    "            </ul>\n",
    "        </div>\n",
    "    </div>\n",
    "    '''\n",
    "open_notebooks_htmlbox = widgets.HTML(open_notebooks_html_disable_code)"
   ]
  },
  {
   "cell_type": "code",
   "execution_count": null,
   "metadata": {},
   "outputs": [],
   "source": [
    "# Functions\n",
    "def log_in(bisurl='openbis', bisuser='admin', bispasswd='changeit'):\n",
    "    \"\"\"Function to login to openBIS.\"\"\"\n",
    "    if Openbis(bisurl, verify_certificates=False).is_token_valid():\n",
    "        session = Openbis(bisurl, verify_certificates=False)\n",
    "    else:\n",
    "        Openbis(bisurl, verify_certificates=False).login(bisuser, bispasswd, save_token=True)\n",
    "        session = Openbis(bisurl, verify_certificates=False)\n",
    "    return session\n",
    "\n",
    "def create_json(json_content, filename):\n",
    "    with open(filename, 'w') as file:\n",
    "        json.dump(json_content, file, indent=4)\n",
    "\n",
    "def read_json(filename):\n",
    "    with open(filename, 'r') as file:\n",
    "        return json.load(file)\n",
    "\n",
    "def connect_to_openbis(b):\n",
    "    global OPENBIS_SESSION\n",
    "    \n",
    "    if OPENBIS_SESSION is None or OPENBIS_SESSION.is_session_active() == False:\n",
    "        OPENBIS_SESSION = log_in(openbis_url_textbox.value, username_textbox.value, password_textbox.value)\n",
    "        json_content = {\"url\": OPENBIS_SESSION.url, \n",
    "                        \"token\": OPENBIS_SESSION.token}\n",
    "        create_json(json_content, \"token.json\")\n",
    "        openbis_connection_status_htmlbox.value = \"<span style='color: green; font-weight: bold;'>Connected to openBIS!</span>\"\n",
    "        open_notebooks_htmlbox.value = open_notebooks_html_enable_code\n",
    "        connect_button.disabled = True\n",
    "        disconnect_button.disabled = False\n",
    "\n",
    "def disconnect_openbis(b):\n",
    "    global OPENBIS_SESSION\n",
    "    \n",
    "    if OPENBIS_SESSION.is_session_active():\n",
    "        OPENBIS_SESSION.logout()\n",
    "        openbis_connection_status_htmlbox.value = \"<span style='color: red; font-weight: bold;'>Please connect to openBIS!</span>\"\n",
    "        os.remove(\"token.json\")\n",
    "        open_notebooks_htmlbox.value = open_notebooks_html_disable_code\n",
    "        connect_button.disabled = False\n",
    "        disconnect_button.disabled = True"
   ]
  },
  {
   "cell_type": "markdown",
   "metadata": {},
   "source": [
    "# Jupyter notebook app to save experiment information in openBIS"
   ]
  },
  {
   "cell_type": "markdown",
   "metadata": {},
   "source": [
    "## Create connection with openBIS"
   ]
  },
  {
   "cell_type": "code",
   "execution_count": null,
   "metadata": {},
   "outputs": [],
   "source": [
    "if os.path.exists(\"token.json\"):\n",
    "    openbis_token = read_json(\"token.json\")\n",
    "    # When session is no longer valid.\n",
    "    try:\n",
    "        OPENBIS_SESSION = Openbis(openbis_token[\"url\"], verify_certificates = False)\n",
    "        OPENBIS_SESSION.set_token(openbis_token[\"token\"])\n",
    "    except ValueError:\n",
    "        OPENBIS_SESSION = None\n",
    "        os.remove(\"token.json\")\n",
    "\n",
    "if OPENBIS_SESSION is None:\n",
    "    openbis_connection_status_htmlbox.value = \"<span style='color: red; font-weight: bold;'>Please connect to openBIS!</span>\"\n",
    "else:\n",
    "    openbis_connection_status_htmlbox.value = \"<span style='color: green; font-weight: bold;'>Connected to openBIS!</span>\"\n",
    "    open_notebooks_htmlbox.value = open_notebooks_html_enable_code\n",
    "    connect_button.disabled = True\n",
    "    disconnect_button.disabled = False\n",
    "    \n",
    "display(widgets.VBox([openbis_connection_status_htmlbox, \n",
    "                      widgets.HBox([openbis_url_textbox, \n",
    "                                    username_textbox, \n",
    "                                    password_textbox]), \n",
    "                      connection_buttons],\n",
    "                    layout = widgets.Layout(width='100%', border='solid 1px black')\n",
    "))\n",
    "connect_button.on_click(connect_to_openbis)\n",
    "disconnect_button.on_click(disconnect_openbis)"
   ]
  },
  {
   "cell_type": "markdown",
   "metadata": {},
   "source": [
    "## Work on a sample object"
   ]
  },
  {
   "cell_type": "code",
   "execution_count": null,
   "metadata": {},
   "outputs": [],
   "source": [
    "display(widgets.VBox([open_notebooks_htmlbox], \n",
    "                     layout = widgets.Layout(width='100%', border='solid 1px black')\n",
    "))\n"
   ]
  }
 ],
 "metadata": {
  "kernelspec": {
   "display_name": "Python 3 (ipykernel)",
   "language": "python",
   "name": "python3"
  },
  "language_info": {
   "codemirror_mode": {
    "name": "ipython",
    "version": 3
   },
   "file_extension": ".py",
   "mimetype": "text/x-python",
   "name": "python",
   "nbconvert_exporter": "python",
   "pygments_lexer": "ipython3",
   "version": "3.9.13"
  }
 },
 "nbformat": 4,
 "nbformat_minor": 2
}
