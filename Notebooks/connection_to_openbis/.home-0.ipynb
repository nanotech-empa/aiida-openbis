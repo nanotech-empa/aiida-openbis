{
 "cells": [
  {
   "cell_type": "code",
   "execution_count": null,
   "metadata": {},
   "outputs": [],
   "source": [
    "# Import libraries\n",
    "from pybis import Openbis\n",
    "from IPython.display import display\n",
    "import ipywidgets as widgets\n",
    "import json\n",
    "import os\n",
    "from utils import AppWidgets"
   ]
  },
  {
   "cell_type": "code",
   "execution_count": null,
   "metadata": {},
   "outputs": [],
   "source": [
    "# Widgets\n",
    "app_widgets = AppWidgets(\"home\")"
   ]
  },
  {
   "cell_type": "code",
   "execution_count": null,
   "metadata": {},
   "outputs": [],
   "source": [
    "# Connect with openBIS\n",
    "try:\n",
    "    app_widgets.connect_openbis()\n",
    "    app_widgets.openbis_connection_status_htmlbox.value = \"<span style='color: green; font-weight: bold;'>Connected to openBIS!</span>\"\n",
    "    app_widgets.open_notebooks_htmlbox.value = app_widgets.open_notebooks_html_enable_code\n",
    "except ValueError:\n",
    "    app_widgets.openbis_connection_status_htmlbox.value = \"<span style='color: red; font-weight: bold;'>Please connect to openBIS using Configure ELN available in start page!</span>\""
   ]
  },
  {
   "cell_type": "markdown",
   "metadata": {},
   "source": [
    "# AiiDAlab-openBIS app"
   ]
  },
  {
   "cell_type": "code",
   "execution_count": null,
   "metadata": {},
   "outputs": [],
   "source": [
    "display(app_widgets.openbis_connection_status_htmlbox)"
   ]
  },
  {
   "cell_type": "markdown",
   "metadata": {},
   "source": [
    "## Create and/or edit objects in openBIS"
   ]
  },
  {
   "cell_type": "code",
   "execution_count": null,
   "metadata": {},
   "outputs": [],
   "source": [
    "display(widgets.VBox([app_widgets.open_notebooks_htmlbox], \n",
    "                     layout = widgets.Layout(width='100%', border='solid 1px black')\n",
    "))"
   ]
  }
 ],
 "metadata": {
  "kernelspec": {
   "display_name": "Python 3 (ipykernel)",
   "language": "python",
   "name": "python3"
  },
  "language_info": {
   "codemirror_mode": {
    "name": "ipython",
    "version": 3
   },
   "file_extension": ".py",
   "mimetype": "text/x-python",
   "name": "python",
   "nbconvert_exporter": "python",
   "pygments_lexer": "ipython3",
   "version": "3.9.13"
  }
 },
 "nbformat": 4,
 "nbformat_minor": 2
}
