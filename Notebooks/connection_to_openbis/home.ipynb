{
 "cells": [
  {
   "cell_type": "code",
   "execution_count": null,
   "metadata": {},
   "outputs": [],
   "source": [
    "# Import libraries\n",
    "from IPython.display import display\n",
    "import ipywidgets as ipw\n",
    "import utils"
   ]
  },
  {
   "cell_type": "code",
   "execution_count": null,
   "metadata": {},
   "outputs": [],
   "source": [
    "CONFIG = utils.read_json(\"config.json\")\n",
    "CONFIG_ELN = utils.read_json(\"eln_config.json\")\n",
    "OPENBIS_SESSION, SESSION_DATA = utils.connect_openbis(CONFIG_ELN[\"url\"], CONFIG_ELN[\"token\"])\n",
    "\n",
    "openbis_connection_status_htmlbox = utils.HTMLbox(value = '')\n",
    "if OPENBIS_SESSION:\n",
    "    openbis_connection_status_htmlbox.value = CONFIG[\"home_page\"][\"enable_status\"]\n",
    "    open_notebooks_html_enable_code = ''.join(CONFIG[\"home_page\"][\"enable_links\"])\n",
    "    open_notebooks_htmlbox = utils.HTMLbox(value = open_notebooks_html_enable_code)\n",
    "else:\n",
    "    openbis_connection_status_htmlbox.value = CONFIG[\"home_page\"][\"disable_status\"]\n",
    "    open_notebooks_html_disable_code = ''.join(CONFIG[\"home_page\"][\"disable_links\"])\n",
    "    open_notebooks_htmlbox = utils.HTMLbox(value = open_notebooks_html_disable_code)"
   ]
  },
  {
   "cell_type": "markdown",
   "metadata": {},
   "source": [
    "# AiiDAlab-openBIS app"
   ]
  },
  {
   "cell_type": "code",
   "execution_count": null,
   "metadata": {},
   "outputs": [],
   "source": [
    "display(openbis_connection_status_htmlbox)"
   ]
  },
  {
   "cell_type": "markdown",
   "metadata": {},
   "source": [
    "## Create and/or edit objects in openBIS"
   ]
  },
  {
   "cell_type": "code",
   "execution_count": null,
   "metadata": {},
   "outputs": [],
   "source": [
    "display(ipw.VBox([open_notebooks_htmlbox], layout = ipw.Layout(width='100%', border='solid 1px black')))"
   ]
  },
  {
   "cell_type": "code",
   "execution_count": 13,
   "metadata": {},
   "outputs": [
    {
     "name": "stdout",
     "output_type": "stream",
     "text": [
      "The aiida extension is already loaded. To reload it, use:\n",
      "  %reload_ext aiida\n"
     ]
    },
    {
     "data": {
      "text/plain": [
       "'Cp2kBaseWorkChain'"
      ]
     },
     "execution_count": 13,
     "metadata": {},
     "output_type": "execute_result"
    }
   ],
   "source": [
    "%load_ext aiida\n",
    "%aiida\n",
    "from aiida import orm\n",
    "qb = orm.QueryBuilder()\n",
    "qb.append(orm.WorkChainNode)\n",
    "results = qb.all()\n",
    "x = results[0]\n",
    "y = x[0]\n",
    "y.process_label"
   ]
  }
 ],
 "metadata": {
  "kernelspec": {
   "display_name": "base",
   "language": "python",
   "name": "python3"
  },
  "language_info": {
   "codemirror_mode": {
    "name": "ipython",
    "version": 3
   },
   "file_extension": ".py",
   "mimetype": "text/x-python",
   "name": "python",
   "nbconvert_exporter": "python",
   "pygments_lexer": "ipython3",
   "version": "3.9.13"
  }
 },
 "nbformat": 4,
 "nbformat_minor": 2
}
