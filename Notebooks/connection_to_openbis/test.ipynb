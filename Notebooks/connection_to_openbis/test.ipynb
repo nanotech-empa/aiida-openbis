{
 "cells": [
  {
   "cell_type": "code",
   "execution_count": 1,
   "metadata": {},
   "outputs": [],
   "source": [
    "import utils\n",
    "from widgets import MoleculeSelectionWidget"
   ]
  },
  {
   "cell_type": "code",
   "execution_count": 4,
   "metadata": {},
   "outputs": [
    {
     "data": {
      "application/vnd.jupyter.widget-view+json": {
       "model_id": "c5e621cbfb114130b8b9b7f12a951d7a",
       "version_major": 2,
       "version_minor": 0
      },
      "text/plain": [
       "MoleculeSelectionWidget(children=(VBox(children=(Dropdown(description='Molecule', layout=Layout(width='335px')…"
      ]
     },
     "metadata": {},
     "output_type": "display_data"
    }
   ],
   "source": [
    "config_eln = utils.read_json(\"eln_config.json\")\n",
    "openbis_session, session_data = utils.connect_openbis(config_eln[\"url\"], config_eln[\"token\"])\n",
    "molecule_widget = MoleculeSelectionWidget()\n",
    "molecule_widget.load_dropdown_box(openbis_session)\n",
    "display(molecule_widget)"
   ]
  }
 ],
 "metadata": {
  "kernelspec": {
   "display_name": "base",
   "language": "python",
   "name": "python3"
  },
  "language_info": {
   "codemirror_mode": {
    "name": "ipython",
    "version": 3
   },
   "file_extension": ".py",
   "mimetype": "text/x-python",
   "name": "python",
   "nbconvert_exporter": "python",
   "pygments_lexer": "ipython3",
   "version": "3.9.13"
  }
 },
 "nbformat": 4,
 "nbformat_minor": 2
}
