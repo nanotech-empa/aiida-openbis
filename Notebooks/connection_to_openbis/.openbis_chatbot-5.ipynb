{
 "cells": [
  {
   "cell_type": "code",
   "execution_count": null,
   "metadata": {},
   "outputs": [],
   "source": [
    "from IPython.display import display, clear_output, Javascript, Markdown\n",
    "import ipywidgets as ipw\n",
    "import utils\n",
    "import json\n",
    "import google.generativeai as genai"
   ]
  },
  {
   "cell_type": "code",
   "execution_count": 5,
   "metadata": {},
   "outputs": [],
   "source": [
    "CONFIG = utils.read_json(\"config.json\")\n",
    "CONFIG_ELN = utils.get_aiidalab_eln_config()\n",
    "# CONFIG_ELN = utils.read_json(\"eln_config.json\")\n",
    "OPENBIS_SESSION, SESSION_DATA = utils.connect_openbis(CONFIG_ELN[\"url\"], CONFIG_ELN[\"token\"])\n",
    "\n",
    "prompt_textarea = utils.Textarea(\n",
    "    description = \"Prompt\", \n",
    "    layout = ipw.Layout(width = '980px', height = '300px'),\n",
    "    style = {\"description_width\": \"110px\"}\n",
    ")\n",
    "\n",
    "model_answer_textarea = utils.Textarea(\n",
    "    description = \"Answer\", \n",
    "    layout = ipw.Layout(width = '980px', height = '300px'),\n",
    "    style = {\"description_width\": \"110px\"}\n",
    ")\n",
    "\n",
    "enter_button = utils.Button(\n",
    "    description = '', disabled = False, button_style = '', \n",
    "    tooltip = 'Enter', icon = 'arrow-right', layout = ipw.Layout(width = '100px', height = '50px')\n",
    ")\n",
    "\n",
    "quit_button = utils.Button(\n",
    "    description = '', disabled = False, button_style = '', \n",
    "    tooltip = 'Main menu', icon = 'home', layout = ipw.Layout(width = '100px', height = '50px')\n",
    ")\n",
    "\n",
    "increase_buttons_size = utils.HTML(data = ''.join(CONFIG[\"save_home_buttons_settings\"]))\n",
    "\n",
    "# Google Gemini 1.5 Flash\n",
    "google_api_key = utils.read_json(\"/home/jovyan/gemini_api.json\")\n",
    "genai.configure(api_key=google_api_key[\"api_key\"])\n",
    "model_name = \"gemini-1.5-flash\"\n",
    "system_instruction = \"You are a materials science expert working with nanotech materials.\"\n",
    "model = genai.GenerativeModel(\n",
    "    model_name = model_name, \n",
    "    system_instruction = system_instruction\n",
    ")\n",
    "\n",
    "# Start the chatbot\n",
    "chat = model.start_chat()"
   ]
  },
  {
   "cell_type": "code",
   "execution_count": null,
   "metadata": {},
   "outputs": [],
   "source": [
    "def close_notebook(b):\n",
    "    display(utils.Javascript(data = 'window.location.replace(\"home.ipynb\")'))\n",
    "\n",
    "def ask_chatbot(change):\n",
    "    model_answer_textarea.value = \"\"\n",
    "    prompt = prompt_textarea.value\n",
    "    response = chat.send_message(prompt, stream = True)\n",
    "    for chunk in response:\n",
    "        model_answer_textarea.value = model_answer_textarea.value + chunk.text\n",
    "\n",
    "def load_chatbot():\n",
    "    openbis_objects = OPENBIS_SESSION.get_objects(attrs = ['parents'])\n",
    "    openbis_objects_history = {}\n",
    "    selected_objects = []\n",
    "    for object in openbis_objects:\n",
    "        object_props = object.props.all()\n",
    "        # for prop in object_props:\n",
    "        #     if OPENBIS_SESSION.get_property_type(prop).dataType == \"SAMPLE\" and object_props[prop] is not None:\n",
    "        #         prop_object = OPENBIS_SESSION.get_object(object_props[prop])\n",
    "        #         object_props[prop] = {\"perm_id\": object_props[prop]}\n",
    "        #         object_props[prop][\"type\"] = str(prop_object.type)\n",
    "        #         object_props[prop][\"registrationDate\"] = prop_object.registrationDate\n",
    "        #         object_props[prop].update(prop_object.props.all())\n",
    "        #         object_props[prop], openbis_objects_history = utils.get_parent_child_relationships_nested(OPENBIS_SESSION, prop_object, object_props[prop], openbis_objects_history)\n",
    "\n",
    "        object_props[\"perm_id\"] = object.permId\n",
    "        object_props[\"type\"] = str(object.type)\n",
    "        object_props[\"registrationDate\"] = object.registrationDate\n",
    "        \n",
    "        selected_object_schema, object_history = utils.get_parent_child_relationships_nested(\n",
    "            OPENBIS_SESSION, \n",
    "            object, \n",
    "            object_props, \n",
    "            openbis_objects_history\n",
    "        )\n",
    "        \n",
    "        selected_objects.append(selected_object_schema)\n",
    "        openbis_objects_history.update(object_history)\n",
    "    \n",
    "    utils.create_json(selected_objects, \"/home/jovyan/aiida-openbis/Notebooks/connection_to_openbis/data.json\")\n",
    "    json_string = json.dumps(selected_objects)\n",
    "    history = [\n",
    "        {\"role\": \"user\", \"parts\": [{\"text\": f\"Hello, today is 20-12-2024. Consider this string as a database of knowledge of openBIS, an ELN designed to save research data. It contains a list with several JSON objects: {json_string} \\n. Be ready to answer questions about this.\"}]},\n",
    "        {\"role\": \"model\", \"parts\": [{\"text\": \"Hi, ok feel free to ask me questions about that.\"}]}\n",
    "    ]\n",
    "    chat.history = history"
   ]
  },
  {
   "cell_type": "code",
   "execution_count": null,
   "metadata": {},
   "outputs": [],
   "source": [
    "# myfile = genai.upload_file(\"/home/jovyan/aiida-openbis/Notebooks/connection_to_openbis/data.txt\")\n",
    "\n",
    "# cache = genai.caching.CachedContent.create(\n",
    "#     model=model_name,\n",
    "#     system_instruction=system_instruction,\n",
    "#     contents=[myfile],\n",
    "# )\n",
    "\n",
    "# model = genai.GenerativeModel.from_cached_content(cached_content=cache)\n",
    "# chat = model.start_chat()\n",
    "# result = chat.send_message([\"How many publications are in this JSON document?\", myfile])"
   ]
  },
  {
   "cell_type": "markdown",
   "metadata": {},
   "source": [
    "# openBIS chatbot"
   ]
  },
  {
   "cell_type": "code",
   "execution_count": null,
   "metadata": {},
   "outputs": [],
   "source": [
    "load_chatbot()"
   ]
  },
  {
   "cell_type": "code",
   "execution_count": null,
   "metadata": {},
   "outputs": [],
   "source": [
    "display(increase_buttons_size)\n",
    "display(prompt_textarea)\n",
    "display(enter_button)\n",
    "display(model_answer_textarea)\n",
    "display(quit_button)\n",
    "enter_button.on_click(ask_chatbot)\n",
    "quit_button.on_click(close_notebook)"
   ]
  }
 ],
 "metadata": {
  "kernelspec": {
   "display_name": "base",
   "language": "python",
   "name": "python3"
  },
  "language_info": {
   "codemirror_mode": {
    "name": "ipython",
    "version": 3
   },
   "file_extension": ".py",
   "mimetype": "text/x-python",
   "name": "python",
   "nbconvert_exporter": "python",
   "pygments_lexer": "ipython3",
   "version": "3.9.13"
  }
 },
 "nbformat": 4,
 "nbformat_minor": 2
}
