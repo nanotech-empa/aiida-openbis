{
 "cells": [
  {
   "cell_type": "code",
   "execution_count": null,
   "metadata": {},
   "outputs": [],
   "source": [
    "from pybis import Openbis\n",
    "import json\n",
    "import ipywidgets as widgets\n",
    "from IPython.display import display, Javascript\n",
    "from datetime import datetime"
   ]
  },
  {
   "cell_type": "code",
   "execution_count": null,
   "metadata": {},
   "outputs": [],
   "source": [
    "# Global variables\n",
    "OPENBIS_SESSION = None"
   ]
  },
  {
   "cell_type": "code",
   "execution_count": null,
   "metadata": {},
   "outputs": [],
   "source": [
    "# Widgets\n",
    "samples_dropdown = widgets.Dropdown(description='Select sample:', disabled=False)\n",
    "samples_dropdown.style = {'description_width': 'initial'}\n",
    "instruments_dropdown = widgets.Dropdown(description='Select instrument:', disabled=False)\n",
    "instruments_dropdown.style = {'description_width': 'initial'}\n",
    "sample_details_textbox = widgets.Textarea(value = '', description = '', disabled = True, layout = widgets.Layout(width = '50%', height = '200px'))\n",
    "create_sputtering_button = widgets.Button(description = 'Save', disabled = False, button_style = '', tooltip = 'Save sputtering information')\n",
    "quit_button = widgets.Button(description = 'Go back', disabled = False, button_style = '', tooltip = 'Go back')"
   ]
  },
  {
   "cell_type": "code",
   "execution_count": null,
   "metadata": {},
   "outputs": [],
   "source": [
    "# Functions\n",
    "def read_json(filename):\n",
    "    with open(filename, 'r') as file:\n",
    "        return json.load(file)\n",
    "\n",
    "# Function to close the notebook page\n",
    "def close_notebook(b):\n",
    "    display(Javascript(f'window.open(\"home.ipynb\", \"_blank\")'))\n",
    "    display(Javascript('window.close()'))\n",
    "\n",
    "def create_sputtering_action(b):\n",
    "    global OPENBIS_SESSION\n",
    "    sample_parents = [samples_dropdown.value, instruments_dropdown.value]\n",
    "    print(sample_parents)\n",
    "    # OPENBIS_SESSION.new_object(type = \"SPUTTERING\", \n",
    "    #                         collection = \"20240716082516377-60\",\n",
    "    #                         props = {},\n",
    "    #                         parents = sample_parents).save()\n",
    "\n",
    "def load_sample_metadata(change):\n",
    "    global OPENBIS_SESSION\n",
    "    sample_object = OPENBIS_SESSION.get_object(samples_dropdown.value)\n",
    "    sample_metadata = sample_object.props.all()\n",
    "    sample_parents = sample_object.parents\n",
    "    sample_metadata_string = f\" Name: {sample_metadata['$name']}\\n\"\n",
    "    for parent in sample_parents:\n",
    "        parent_object = OPENBIS_SESSION.get_object(parent)\n",
    "        parent_metadata = parent_object.props.all()\n",
    "        parent_type = parent_object.type\n",
    "        sample_metadata_string = f\"{sample_metadata_string} {parent_type} {parent_metadata['$name']} is parent.\"\n",
    "    sample_details_textbox.value = sample_metadata_string"
   ]
  },
  {
   "cell_type": "code",
   "execution_count": null,
   "metadata": {},
   "outputs": [],
   "source": [
    "# Connect with openBIS\n",
    "session_data = read_json(\"token.json\")\n",
    "OPENBIS_SESSION = Openbis(session_data[\"url\"], verify_certificates = False)\n",
    "OPENBIS_SESSION.set_token(session_data[\"token\"])"
   ]
  },
  {
   "cell_type": "markdown",
   "metadata": {},
   "source": [
    "## Sputtering"
   ]
  },
  {
   "cell_type": "code",
   "execution_count": null,
   "metadata": {},
   "outputs": [],
   "source": [
    "samples = OPENBIS_SESSION.get_objects(type = \"SAMPLE\")\n",
    "instruments = OPENBIS_SESSION.get_objects(type = \"INSTRUMENT\")\n",
    "\n",
    "samples_names_permids = [(sample.props[\"$name\"], sample.permId) for sample in samples]\n",
    "samples_dates = [datetime.fromisoformat(sample.registrationDate) for sample in samples]\n",
    "print(sorted(samples_dates, 'descend'))\n",
    "samples_dropdown.options = samples_names_permids\n",
    "instruments_names_permids = [(instrument.props[\"$name\"], instrument.permId) for instrument in instruments]\n",
    "instruments_dropdown.options = instruments_names_permids\n",
    "\n",
    "bottom_buttons_hbox = widgets.HBox([create_sputtering_button, quit_button])\n",
    "sample_metadata_boxes = widgets.HBox([samples_dropdown, sample_details_textbox])\n",
    "display(sample_metadata_boxes, instruments_dropdown, bottom_buttons_hbox)\n",
    "create_sputtering_button.on_click(create_sputtering_action)\n",
    "quit_button.on_click(close_notebook)\n",
    "samples_dropdown.observe(load_sample_metadata, names = 'value')"
   ]
  }
 ],
 "metadata": {
  "language_info": {
   "name": "python"
  }
 },
 "nbformat": 4,
 "nbformat_minor": 2
}
