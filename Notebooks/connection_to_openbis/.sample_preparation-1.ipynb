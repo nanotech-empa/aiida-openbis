{
 "cells": [
  {
   "cell_type": "code",
   "execution_count": null,
   "metadata": {},
   "outputs": [],
   "source": [
    "from IPython.display import display, clear_output\n",
    "import utils\n",
    "import ipywidgets as ipw\n",
    "from app_widgets import AppWidgets"
   ]
  },
  {
   "cell_type": "markdown",
   "metadata": {},
   "source": [
    "# Sample Preparation"
   ]
  },
  {
   "cell_type": "code",
   "execution_count": null,
   "metadata": {},
   "outputs": [],
   "source": [
    "config = utils.read_json(\"config.json\")\n",
    "app_widgets = AppWidgets(\"config.json\")\n",
    "\n",
    "# Populate dropdown lists\n",
    "app_widgets.load_dropdown_lists()"
   ]
  },
  {
   "cell_type": "code",
   "execution_count": null,
   "metadata": {},
   "outputs": [],
   "source": [
    "# Widgets\n",
    "display(app_widgets.sample_prep_selector)\n",
    "\n",
    "display(utils.Markdown(data = \"## Select experiment, sample, and instrument\"))\n",
    "display(app_widgets.select_experiment_output)\n",
    "with app_widgets.select_experiment_output:\n",
    "    display(app_widgets.experiments_dropdown_boxes, app_widgets.sample_metadata_boxes, app_widgets.instruments_dropdown_boxes)\n",
    "\n",
    "display(utils.Markdown(data = \"## Sample Preparation Tasks\"))\n",
    "display(app_widgets.sample_prep_accordion)\n",
    "\n",
    "display(utils.Markdown(data = \"## Save Sample\"))\n",
    "display(app_widgets.sample_out_name_textbox)\n",
    "display(app_widgets.save_close_buttons_hbox)\n",
    "display(app_widgets.increase_buttons_size)\n",
    "\n",
    "app_widgets.substances_dropdown_boxes.children[0].observe(app_widgets.load_substance_metadata, names = 'value')\n",
    "app_widgets.samples_dropdown_boxes.children[0].observe(app_widgets.load_sample_metadata, names = 'value')\n",
    "app_widgets.create_button.on_click(app_widgets.create_sample_preparation_action)\n",
    "app_widgets.quit_button.on_click(app_widgets.close_notebook)\n",
    "\n",
    "for i, task in enumerate(app_widgets.sample_prep_selector.options):\n",
    "    app_widgets.object_widgets[task][\"$name\"].observe(app_widgets.update_text, names = 'value')"
   ]
  }
 ],
 "metadata": {
  "kernelspec": {
   "display_name": "base",
   "language": "python",
   "name": "python3"
  },
  "language_info": {
   "name": "python",
   "version": "3.9.13"
  }
 },
 "nbformat": 4,
 "nbformat_minor": 2
}
