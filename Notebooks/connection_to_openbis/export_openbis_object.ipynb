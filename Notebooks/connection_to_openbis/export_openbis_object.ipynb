{
 "cells": [
  {
   "cell_type": "code",
   "execution_count": 1,
   "metadata": {},
   "outputs": [
    {
     "name": "stdout",
     "output_type": "stream",
     "text": [
      "Session is no longer valid. Please check if the token is still valid.\n"
     ]
    }
   ],
   "source": [
    "from IPython.display import display, clear_output, Javascript, Markdown\n",
    "import ipywidgets as ipw\n",
    "import widgets\n",
    "import utils\n",
    "import os\n",
    "import base64\n",
    "import json\n",
    "import google.generativeai as genai"
   ]
  },
  {
   "cell_type": "code",
   "execution_count": 2,
   "metadata": {},
   "outputs": [
    {
     "name": "stdout",
     "output_type": "stream",
     "text": [
      "Session is no longer valid. Please check if the token is still valid.\n"
     ]
    },
    {
     "ename": "AttributeError",
     "evalue": "'NoneType' object has no attribute 'get_objects'",
     "output_type": "error",
     "traceback": [
      "\u001b[0;31m---------------------------------------------------------------------------\u001b[0m",
      "\u001b[0;31mAttributeError\u001b[0m                            Traceback (most recent call last)",
      "\u001b[0;32m/tmp/ipykernel_2309/491348598.py\u001b[0m in \u001b[0;36m<cell line: 8>\u001b[0;34m()\u001b[0m\n\u001b[1;32m      6\u001b[0m \u001b[0;31m# Dropdown box for getting openBIS objects\u001b[0m\u001b[0;34m\u001b[0m\u001b[0;34m\u001b[0m\u001b[0m\n\u001b[1;32m      7\u001b[0m \u001b[0mpublication_selector\u001b[0m \u001b[0;34m=\u001b[0m \u001b[0mwidgets\u001b[0m\u001b[0;34m.\u001b[0m\u001b[0mPublicationSelectionWidget\u001b[0m\u001b[0;34m(\u001b[0m\u001b[0;34m)\u001b[0m\u001b[0;34m\u001b[0m\u001b[0;34m\u001b[0m\u001b[0m\n\u001b[0;32m----> 8\u001b[0;31m \u001b[0mpublication_selector\u001b[0m\u001b[0;34m.\u001b[0m\u001b[0mload_dropdown_box\u001b[0m\u001b[0;34m(\u001b[0m\u001b[0;34m)\u001b[0m\u001b[0;34m\u001b[0m\u001b[0;34m\u001b[0m\u001b[0m\n\u001b[0m\u001b[1;32m      9\u001b[0m \u001b[0;34m\u001b[0m\u001b[0m\n\u001b[1;32m     10\u001b[0m prompt_textarea = utils.Textarea(\n",
      "\u001b[0;32m~/aiida-openbis/Notebooks/connection_to_openbis/widgets.py\u001b[0m in \u001b[0;36mload_dropdown_box\u001b[0;34m(self)\u001b[0m\n\u001b[1;32m    444\u001b[0m \u001b[0;34m\u001b[0m\u001b[0m\n\u001b[1;32m    445\u001b[0m     \u001b[0;32mdef\u001b[0m \u001b[0mload_dropdown_box\u001b[0m\u001b[0;34m(\u001b[0m\u001b[0mself\u001b[0m\u001b[0;34m)\u001b[0m\u001b[0;34m:\u001b[0m\u001b[0;34m\u001b[0m\u001b[0;34m\u001b[0m\u001b[0m\n\u001b[0;32m--> 446\u001b[0;31m         items = utils.get_openbis_objects(\n\u001b[0m\u001b[1;32m    447\u001b[0m             \u001b[0mOPENBIS_SESSION\u001b[0m\u001b[0;34m,\u001b[0m\u001b[0;34m\u001b[0m\u001b[0;34m\u001b[0m\u001b[0m\n\u001b[1;32m    448\u001b[0m             \u001b[0mtype\u001b[0m \u001b[0;34m=\u001b[0m \u001b[0;34m\"PUBLICATION_CUSTOM\"\u001b[0m\u001b[0;34m\u001b[0m\u001b[0;34m\u001b[0m\u001b[0m\n",
      "\u001b[0;32m~/aiida-openbis/Notebooks/connection_to_openbis/utils.py\u001b[0m in \u001b[0;36mget_openbis_objects\u001b[0;34m(openbis_session, **kwargs)\u001b[0m\n\u001b[1;32m    251\u001b[0m \u001b[0;34m\u001b[0m\u001b[0m\n\u001b[1;32m    252\u001b[0m \u001b[0;32mdef\u001b[0m \u001b[0mget_openbis_objects\u001b[0m\u001b[0;34m(\u001b[0m\u001b[0mopenbis_session\u001b[0m\u001b[0;34m,\u001b[0m \u001b[0;34m**\u001b[0m\u001b[0mkwargs\u001b[0m\u001b[0;34m)\u001b[0m\u001b[0;34m:\u001b[0m\u001b[0;34m\u001b[0m\u001b[0;34m\u001b[0m\u001b[0m\n\u001b[0;32m--> 253\u001b[0;31m     \u001b[0;32mreturn\u001b[0m \u001b[0mopenbis_session\u001b[0m\u001b[0;34m.\u001b[0m\u001b[0mget_objects\u001b[0m\u001b[0;34m(\u001b[0m\u001b[0;34m**\u001b[0m\u001b[0mkwargs\u001b[0m\u001b[0;34m)\u001b[0m\u001b[0;34m\u001b[0m\u001b[0;34m\u001b[0m\u001b[0m\n\u001b[0m\u001b[1;32m    254\u001b[0m \u001b[0;34m\u001b[0m\u001b[0m\n\u001b[1;32m    255\u001b[0m \u001b[0;32mdef\u001b[0m \u001b[0mget_current_datetime\u001b[0m\u001b[0;34m(\u001b[0m\u001b[0;34m)\u001b[0m\u001b[0;34m:\u001b[0m\u001b[0;34m\u001b[0m\u001b[0;34m\u001b[0m\u001b[0m\n",
      "\u001b[0;31mAttributeError\u001b[0m: 'NoneType' object has no attribute 'get_objects'"
     ]
    }
   ],
   "source": [
    "CONFIG = utils.read_json(\"config.json\")\n",
    "CONFIG_ELN = utils.get_aiidalab_eln_config()\n",
    "# CONFIG_ELN = utils.read_json(\"eln_config.json\")\n",
    "OPENBIS_SESSION, SESSION_DATA = utils.connect_openbis(CONFIG_ELN[\"url\"], CONFIG_ELN[\"token\"])\n",
    "\n",
    "# Dropdown box for getting openBIS objects\n",
    "publication_selector = widgets.PublicationSelectionWidget()\n",
    "publication_selector.load_dropdown_box()\n",
    "\n",
    "prompt_textarea = utils.Textarea(\n",
    "    description = \"Prompt\", \n",
    "    layout = ipw.Layout(width = '980px', height = '300px'),\n",
    "    style = {\"description_width\": \"110px\"}\n",
    ")\n",
    "\n",
    "model_answer_textarea = utils.Textarea(\n",
    "    description = \"Answer\", \n",
    "    layout = ipw.Layout(width = '980px', height = '300px'),\n",
    "    style = {\"description_width\": \"110px\"}\n",
    ")\n",
    "\n",
    "enter_button = utils.Button(\n",
    "    description = '', disabled = False, button_style = '', \n",
    "    tooltip = 'Enter', icon = 'arrow-right', layout = ipw.Layout(width = '100px', height = '50px')\n",
    ")\n",
    "\n",
    "load_model_button = utils.Button(\n",
    "    description = '', disabled = False, button_style = '', \n",
    "    tooltip = 'Load chatbot', icon = 'arrow-down', layout = ipw.Layout(width = '100px', height = '50px')\n",
    ")\n",
    "\n",
    "download_button = utils.Button(\n",
    "    description = '', disabled = False, button_style = '', \n",
    "    tooltip = 'Download', icon = 'download', layout = ipw.Layout(width = '100px', height = '50px')\n",
    ")\n",
    "\n",
    "quit_button = utils.Button(\n",
    "    description = '', disabled = False, button_style = '', \n",
    "    tooltip = 'Main menu', icon = 'home', layout = ipw.Layout(width = '100px', height = '50px')\n",
    ")\n",
    "\n",
    "load_download_buttons_hbox = ipw.HBox([load_model_button, download_button])\n",
    "\n",
    "increase_buttons_size = utils.HTML(data = ''.join(CONFIG[\"save_home_buttons_settings\"]))\n",
    "\n",
    "# Google Gemini 1.5 Flash\n",
    "google_api_key = utils.read_json(\"/home/jovyan/gemini_api.json\")\n",
    "genai.configure(api_key=google_api_key[\"api_key\"])\n",
    "\n",
    "model_name = \"gemini-1.5-flash\"\n",
    "system_instruction = \"You are a materials science expert working with nanotech materials.\"\n",
    "model = genai.GenerativeModel(\n",
    "    model_name = model_name, \n",
    "    system_instruction = system_instruction\n",
    ")\n",
    "\n",
    "# Start the chatbot\n",
    "chat = model.start_chat()"
   ]
  },
  {
   "cell_type": "code",
   "execution_count": null,
   "metadata": {},
   "outputs": [],
   "source": [
    "def close_notebook(b):\n",
    "    display(utils.Javascript(data = 'window.location.replace(\"home.ipynb\")'))\n",
    "\n",
    "def ask_chatbot(change):\n",
    "    model_answer_textarea.value = \"\"\n",
    "    prompt = prompt_textarea.value\n",
    "    response = chat.send_message(prompt, stream = True)\n",
    "    for chunk in response:\n",
    "        model_answer_textarea.value = model_answer_textarea.value + chunk.text\n",
    "    \n",
    "def get_openbis_object_metadata():\n",
    "    if publication_selector.dropdown.value == -1:\n",
    "        return None\n",
    "    else:\n",
    "        openbis_selected_object_permid = publication_selector.dropdown.value\n",
    "        openbis_selected_object = OPENBIS_SESSION.get_sample(openbis_selected_object_permid)\n",
    "\n",
    "        # Collect all the information about the object from openBIS\n",
    "        parent_child_relationships = openbis_selected_object.props.all()\n",
    "        parent_child_relationships[\"perm_id\"] = openbis_selected_object_permid\n",
    "        parent_child_relationships[\"type\"] = str(openbis_selected_object.type)\n",
    "        parent_child_relationships[\"registrationDate\"] = openbis_selected_object.registrationDate\n",
    "        openbis_objects_history = {}\n",
    "        selected_object_schema, _ = utils.get_parent_child_relationships_nested(\n",
    "            OPENBIS_SESSION, openbis_selected_object, parent_child_relationships, openbis_objects_history\n",
    "        )\n",
    "\n",
    "    return selected_object_schema\n",
    "\n",
    "def load_chatbot(b):\n",
    "    data_dict = get_openbis_object_metadata()\n",
    "    if data_dict:\n",
    "        json_data = json.dumps(data_dict)\n",
    "        history = [\n",
    "            {\"role\": \"user\", \"parts\": [{\"text\": f\"Hello, this string contains a JSON object database: {json_data} \\n. Be ready to answer questions about this.\"}]},\n",
    "            {\"role\": \"model\", \"parts\": [{\"text\": \"Hi, ok feel free to ask me questions about that.\"}]}\n",
    "        ]\n",
    "        chat.history = history\n",
    "        display(utils.Javascript(data = \"alert('Chatbot is ready!')\"))\n",
    "\n",
    "def download_metadata(b):\n",
    "    data_dict = get_openbis_object_metadata()\n",
    "    if data_dict:\n",
    "        # Export to JSON\n",
    "        json_data = json.dumps(data_dict, indent=4).encode('utf-8')\n",
    "        json_data = base64.b64encode(json_data).decode('utf-8')\n",
    "        \n",
    "        display(Javascript(f\"\"\"\n",
    "            var a = document.createElement('a');\n",
    "            a.href = 'data:text/json;base64,{json_data}';\n",
    "            a.download = 'data.json';\n",
    "            document.body.appendChild(a);\n",
    "            a.click();\n",
    "            document.body.removeChild(a);\n",
    "        \"\"\"))"
   ]
  },
  {
   "cell_type": "markdown",
   "metadata": {},
   "source": [
    "# Export publication metadata"
   ]
  },
  {
   "cell_type": "markdown",
   "metadata": {},
   "source": [
    "## Select publication"
   ]
  },
  {
   "cell_type": "code",
   "execution_count": null,
   "metadata": {},
   "outputs": [],
   "source": [
    "display(increase_buttons_size)\n",
    "display(publication_selector)\n",
    "display(load_download_buttons_hbox)\n",
    "display(prompt_textarea)\n",
    "display(enter_button)\n",
    "display(model_answer_textarea)\n",
    "display(quit_button)\n",
    "load_model_button.on_click(load_chatbot)\n",
    "download_button.on_click(download_metadata)\n",
    "enter_button.on_click(ask_chatbot)\n",
    "quit_button.on_click(close_notebook)"
   ]
  }
 ],
 "metadata": {
  "kernelspec": {
   "display_name": "base",
   "language": "python",
   "name": "python3"
  },
  "language_info": {
   "codemirror_mode": {
    "name": "ipython",
    "version": 3
   },
   "file_extension": ".py",
   "mimetype": "text/x-python",
   "name": "python",
   "nbconvert_exporter": "python",
   "pygments_lexer": "ipython3",
   "version": "3.9.13"
  }
 },
 "nbformat": 4,
 "nbformat_minor": 2
}
