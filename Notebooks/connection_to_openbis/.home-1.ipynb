{
 "cells": [
  {
   "cell_type": "code",
   "execution_count": null,
   "metadata": {},
   "outputs": [],
   "source": [
    "# Import libraries\n",
    "from IPython.display import display\n",
    "import ipywidgets as ipw\n",
    "import utils"
   ]
  },
  {
   "cell_type": "code",
   "execution_count": null,
   "metadata": {},
   "outputs": [],
   "source": [
    "CONFIG = utils.read_json(\"config.json\")\n",
    "CONFIG_ELN = utils.get_aiidalab_eln_config()\n",
    "# CONFIG_ELN = utils.read_json(\"eln_config.json\")\n",
    "OPENBIS_SESSION, SESSION_DATA = utils.connect_openbis(CONFIG_ELN[\"url\"], CONFIG_ELN[\"token\"])\n",
    "\n",
    "openbis_connection_status_htmlbox = utils.HTMLbox(value = '')\n",
    "tab_children, tab_titles = [], []\n",
    "if OPENBIS_SESSION:\n",
    "    tabs_data = CONFIG[\"home_page\"][\"enable_links\"]\n",
    "    openbis_connection_status_htmlbox.value = CONFIG[\"home_page\"][\"enable_status\"]\n",
    "else:\n",
    "    tabs_data = CONFIG[\"home_page\"][\"disable_links\"]\n",
    "    openbis_connection_status_htmlbox.value = CONFIG[\"home_page\"][\"disable_status\"]\n",
    "\n",
    "# Populate tab widget\n",
    "for tab_title, html_content in tabs_data.items():\n",
    "    tab_titles.append(tab_title)\n",
    "    content = ''.join(html_content)\n",
    "    widgets_list = [utils.HTMLbox(value=content)]\n",
    "    vbox = ipw.VBox(widgets_list)\n",
    "    tab_children.append(vbox)\n",
    "\n",
    "tabs = ipw.Tab(children=tab_children)\n",
    "for idx, title in enumerate(tab_titles):\n",
    "    tabs.set_title(idx, title)"
   ]
  },
  {
   "cell_type": "markdown",
   "metadata": {},
   "source": [
    "# AiiDAlab-openBIS app"
   ]
  },
  {
   "cell_type": "code",
   "execution_count": null,
   "metadata": {},
   "outputs": [],
   "source": [
    "display(openbis_connection_status_htmlbox)"
   ]
  },
  {
   "cell_type": "code",
   "execution_count": null,
   "metadata": {},
   "outputs": [],
   "source": [
    "display(tabs)"
   ]
  },
  {
   "cell_type": "code",
   "execution_count": null,
   "metadata": {},
   "outputs": [
    {
     "name": "stdout",
     "output_type": "stream",
     "text": [
      "The aiida extension is already loaded. To reload it, use:\n",
      "  %reload_ext aiida\n"
     ]
    },
    {
     "data": {
      "text/plain": [
       "['b6eab26a-973d-4bba-b78a-911d2f176556']"
      ]
     },
     "execution_count": 37,
     "metadata": {},
     "output_type": "execute_result"
    }
   ],
   "source": [
    "# %load_ext aiida\n",
    "# %aiida\n",
    "# import aiida_utils\n",
    "# aiida_utils.get_all_preceding_main_workchains(load_node(6893).uuid)"
   ]
  }
 ],
 "metadata": {
  "kernelspec": {
   "display_name": "Python 3 (ipykernel)",
   "language": "python",
   "name": "python3"
  },
  "language_info": {
   "codemirror_mode": {
    "name": "ipython",
    "version": 3
   },
   "file_extension": ".py",
   "mimetype": "text/x-python",
   "name": "python",
   "nbconvert_exporter": "python",
   "pygments_lexer": "ipython3",
   "version": "3.9.13"
  }
 },
 "nbformat": 4,
 "nbformat_minor": 2
}
