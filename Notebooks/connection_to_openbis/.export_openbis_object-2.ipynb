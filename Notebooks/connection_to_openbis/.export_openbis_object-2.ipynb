{
 "cells": [
  {
   "cell_type": "code",
   "execution_count": null,
   "metadata": {},
   "outputs": [],
   "source": [
    "from IPython.display import display, clear_output, Javascript, Markdown\n",
    "import ipywidgets as ipw\n",
    "import widgets\n",
    "import utils\n",
    "import os\n",
    "import base64\n",
    "import json"
   ]
  },
  {
   "cell_type": "code",
   "execution_count": null,
   "metadata": {},
   "outputs": [],
   "source": [
    "CONFIG = utils.read_json(\"config.json\")\n",
    "CONFIG_ELN = utils.get_aiidalab_eln_config()\n",
    "# CONFIG_ELN = utils.read_json(\"eln_config.json\")\n",
    "OPENBIS_SESSION, SESSION_DATA = utils.connect_openbis(CONFIG_ELN[\"url\"], CONFIG_ELN[\"token\"])\n",
    "\n",
    "# Dropdown box for getting openBIS objects\n",
    "publication_selector = widgets.PublicationSelectionWidget()\n",
    "publication_selector.load_dropdown_box()\n",
    "\n",
    "prompt_textarea = utils.Textarea(description = \"Prompt: \")\n",
    "\n",
    "download_button = utils.Button(\n",
    "    description = '', disabled = False, button_style = '', \n",
    "    tooltip = 'Download', icon = 'download', layout = ipw.Layout(width = '100px', height = '50px')\n",
    ")\n",
    "\n",
    "quit_button = utils.Button(\n",
    "    description = '', disabled = False, button_style = '', \n",
    "    tooltip = 'Main menu', icon = 'home', layout = ipw.Layout(width = '100px', height = '50px')\n",
    ")\n",
    "\n",
    "download_close_buttons_hbox = ipw.HBox([download_button, quit_button])\n",
    "increase_buttons_size = utils.HTML(data = ''.join(CONFIG[\"save_home_buttons_settings\"]))"
   ]
  },
  {
   "cell_type": "code",
   "execution_count": null,
   "metadata": {},
   "outputs": [],
   "source": [
    "def close_notebook(b):\n",
    "    display(utils.Javascript(data = 'window.location.replace(\"home.ipynb\")'))\n",
    "\n",
    "def download_openbis_object_metadata(b):\n",
    "    if publication_selector.dropdown.value == -1:\n",
    "        return\n",
    "    else:\n",
    "        openbis_selected_object_permid = publication_selector.dropdown_boxes.children[0].value\n",
    "        openbis_selected_object = OPENBIS_SESSION.get_sample(openbis_selected_object_permid)\n",
    "\n",
    "        # Collect all the information about the object from openBIS\n",
    "        parent_child_relationships = openbis_selected_object.props.all()\n",
    "        parent_child_relationships[\"perm_id\"] = openbis_selected_object_permid\n",
    "        parent_child_relationships[\"type\"] = str(openbis_selected_object.type)\n",
    "        selected_object_schema = utils.get_parent_child_relationships_nested(\n",
    "            OPENBIS_SESSION, openbis_selected_object, parent_child_relationships\n",
    "        )\n",
    "        \n",
    "        # Export to JSON\n",
    "        json_data = json.dumps(selected_object_schema, indent=4).encode('utf-8')\n",
    "        json_data = base64.b64encode(json_data).decode('utf-8')\n",
    "        \n",
    "        display(Javascript(f\"\"\"\n",
    "            var a = document.createElement('a');\n",
    "            a.href = 'data:text/json;base64,{json_data}';\n",
    "            a.download = 'data.json';\n",
    "            document.body.appendChild(a);\n",
    "            a.click();\n",
    "            document.body.removeChild(a);\n",
    "        \"\"\"))"
   ]
  },
  {
   "cell_type": "markdown",
   "metadata": {},
   "source": [
    "# Export publication metadata"
   ]
  },
  {
   "cell_type": "markdown",
   "metadata": {},
   "source": [
    "## Select publication"
   ]
  },
  {
   "cell_type": "code",
   "execution_count": null,
   "metadata": {},
   "outputs": [],
   "source": [
    "display(publication_selector)\n",
    "display(prompt_textarea)\n",
    "display(download_close_buttons_hbox)\n",
    "display(increase_buttons_size)\n",
    "download_button.on_click(download_openbis_object_metadata)\n",
    "quit_button.on_click(close_notebook)"
   ]
  }
 ],
 "metadata": {
  "kernelspec": {
   "display_name": "base",
   "language": "python",
   "name": "python3"
  },
  "language_info": {
   "codemirror_mode": {
    "name": "ipython",
    "version": 3
   },
   "file_extension": ".py",
   "mimetype": "text/x-python",
   "name": "python",
   "nbconvert_exporter": "python",
   "pygments_lexer": "ipython3",
   "version": "3.9.13"
  }
 },
 "nbformat": 4,
 "nbformat_minor": 2
}
