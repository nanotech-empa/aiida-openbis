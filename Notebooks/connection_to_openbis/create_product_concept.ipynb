{
 "cells": [
  {
   "cell_type": "code",
   "execution_count": null,
   "metadata": {},
   "outputs": [],
   "source": [
    "from IPython.display import display, clear_output\n",
    "import ipywidgets as ipw\n",
    "import widgets\n",
    "import utils\n",
    "import os\n",
    "import json\n",
    "import shutil"
   ]
  },
  {
   "cell_type": "code",
   "execution_count": null,
   "metadata": {},
   "outputs": [],
   "source": [
    "CONFIG = utils.read_json(\"config.json\")\n",
    "CONFIG_ELN = utils.get_aiidalab_eln_config()\n",
    "DATA_MODEL = utils.read_yaml(\"/home/jovyan/aiida-openbis/Notebooks/Metadata_Schemas_LinkML/materialMLinfo.yaml\")\n",
    "OPENBIS_SESSION, SESSION_DATA = utils.connect_openbis(CONFIG_ELN[\"url\"], CONFIG_ELN[\"token\"])\n",
    "slabs_options = [DATA_MODEL[\"classes\"][object_type][\"title\"] for object_type in CONFIG[\"slabs_concepts\"]]\n",
    "slabs_options.insert(0, \"No material\")\n",
    "\n",
    "material_selection_radio_button = utils.Radiobuttons(\n",
    "    description = '', options = slabs_options, \n",
    "    disabled = False, layout = ipw.Layout(width = '300px'), \n",
    "    style = {'description_width': \"100px\"}\n",
    ")\n",
    "\n",
    "material_selector = widgets.MaterialSelectionWidget()\n",
    "\n",
    "molecule_selector_list = widgets.MultipleSelectorWidget(\"molecule_concept\")\n",
    "molecule_selector_list_output = ipw.Output()\n",
    "\n",
    "add_molecule_button = utils.Button(\n",
    "    description = 'Add molecule concept', disabled = False, button_style = '', \n",
    "    tooltip = 'Add molecule concept', layout = ipw.Layout(width = '150px', height = '25px')\n",
    ")\n",
    "remove_molecule_button = utils.Button(\n",
    "    description = 'Remove molecule concept', disabled = False, button_style = '', \n",
    "    tooltip = 'Remove molecule concept', layout = ipw.Layout(width = '150px', height = '25px')\n",
    ")\n",
    "add_remove_molecule_buttons_hbox = ipw.HBox([add_molecule_button, remove_molecule_button])\n",
    "\n",
    "product_widgets = widgets.OpenbisObjectWidget(\"ReactionProductConcept\", DATA_MODEL)\n",
    "\n",
    "product_support_files = ipw.FileUpload(multiple = True)\n",
    "\n",
    "product_cdxml = ipw.FileUpload(multiple = False, accept = '.cdxml')\n",
    "\n",
    "increase_buttons_size = utils.HTML(data = ''.join(CONFIG[\"save_home_buttons_settings\"]))\n",
    "create_button = utils.Button(\n",
    "    description = '', disabled = False, button_style = '', tooltip = 'Save', \n",
    "    icon = 'save', layout = ipw.Layout(width = '100px', height = '50px')\n",
    ")\n",
    "quit_button = utils.Button(\n",
    "    description = '', disabled = False, button_style = '', \n",
    "    tooltip = 'Main menu', icon = 'home', layout = ipw.Layout(width = '100px', height = '50px')\n",
    ")\n",
    "save_close_buttons_hbox = ipw.HBox([create_button, quit_button])"
   ]
  },
  {
   "cell_type": "code",
   "execution_count": null,
   "metadata": {},
   "outputs": [],
   "source": [
    "def close_notebook(b):\n",
    "    display(utils.Javascript(data = 'window.location.replace(\"home.ipynb\")'))\n",
    "\n",
    "def create_product_openbis(b):\n",
    "    if not product_cdxml.value:\n",
    "        display(utils.Javascript(data = \"alert('Upload a CDXML file.')\"))\n",
    "        return\n",
    "    \n",
    "    molecule_concepts = []\n",
    "    if molecule_selector_list.selectors:\n",
    "        for molecule_selector in molecule_selector_list.selectors:\n",
    "            if molecule_selector.dropdown.value != -1:\n",
    "                molecule_concepts.append(molecule_selector.dropdown.value)\n",
    "        \n",
    "    object_properties = utils.get_object_widget_values(product_widgets.properties_widgets)\n",
    "    \n",
    "    if molecule_concepts:\n",
    "        object_properties[\"molecule_concepts\"] = molecule_concepts\n",
    "    \n",
    "    if material_selector.dropdown.value != -1:\n",
    "        object_properties[\"crystal_concept\"] = material_selector.dropdown.value\n",
    "\n",
    "    # Check if the product is already in openBIS\n",
    "    products_openbis = [f\"{product.props['name']}\" for product in utils.get_openbis_objects(OPENBIS_SESSION, type =\"REACTION_PRODUCT_CONCEPT\")]\n",
    "    \n",
    "    product_name = object_properties['name']\n",
    "    if product_name in products_openbis:\n",
    "        display(utils.Javascript(data = \"alert('Reaction product concept is already in openBIS!')\"))\n",
    "        return\n",
    "\n",
    "    product_object = utils.create_openbis_object(\n",
    "        OPENBIS_SESSION, type=\"REACTION_PRODUCT_CONCEPT\",\n",
    "        collection=\"/MATERIALS/MOLECULES/PRODUCT_COLLECTION\", \n",
    "        props = object_properties\n",
    "    )\n",
    "    utils.upload_datasets(OPENBIS_SESSION, product_object, product_cdxml, \"RAW_DATA\")\n",
    "    utils.upload_datasets(OPENBIS_SESSION, product_object, product_support_files, \"RAW_DATA\")\n",
    "    display(utils.Javascript(data = \"alert('Upload successful!')\"))\n",
    "\n",
    "def checkbox_on_change(checkbox, textbox):\n",
    "    def enable_textbox(change):\n",
    "        if checkbox.value:\n",
    "            textbox.disabled = False\n",
    "        else:\n",
    "            textbox.disabled = True\n",
    "    checkbox.observe(enable_textbox, names = \"value\")\n",
    "\n",
    "def add_molecule_widget(b):\n",
    "    molecule_selector_list.add_selector()\n",
    "    with molecule_selector_list_output:\n",
    "        clear_output()\n",
    "        display(molecule_selector_list)\n",
    "\n",
    "def remove_molecule_widget(b):\n",
    "    molecule_selector_list.remove_selector()\n",
    "    with molecule_selector_list_output:\n",
    "        clear_output()\n",
    "        display(molecule_selector_list)\n",
    "\n",
    "def select_material_radio_change(change):\n",
    "    material_title = material_selection_radio_button.value\n",
    "    if material_title == \"No material\":\n",
    "        with material_selector:\n",
    "            clear_output()\n",
    "            material_selector.dropdown.value = -1\n",
    "            return\n",
    "    \n",
    "    material_selector.details_textbox.value = ''\n",
    "    for object_type in CONFIG[\"slabs_concepts\"]:\n",
    "        object_schema = DATA_MODEL[\"classes\"][object_type]\n",
    "        object_title = object_schema[\"title\"]\n",
    "        if material_title == object_title:\n",
    "            material_type = object_type\n",
    "            \n",
    "    with material_selector:\n",
    "        clear_output()\n",
    "        display_list = [\n",
    "            material_selector.dropdown_boxes,\n",
    "            ipw.HBox([material_selector.details_textbox, material_selector.image_box])\n",
    "        ]\n",
    "        material_selector.load_dropdown_box(material_type)\n",
    "        display(ipw.VBox(display_list))\n"
   ]
  },
  {
   "cell_type": "markdown",
   "metadata": {},
   "source": [
    "# Create reaction product concept"
   ]
  },
  {
   "cell_type": "markdown",
   "metadata": {},
   "source": [
    "## Select molecule concept"
   ]
  },
  {
   "cell_type": "code",
   "execution_count": null,
   "metadata": {},
   "outputs": [],
   "source": [
    "display(molecule_selector_list_output)\n",
    "with molecule_selector_list_output:\n",
    "    display(molecule_selector_list)  \n",
    "display(add_remove_molecule_buttons_hbox)"
   ]
  },
  {
   "cell_type": "markdown",
   "metadata": {},
   "source": [
    "## Select slab concept"
   ]
  },
  {
   "cell_type": "code",
   "execution_count": null,
   "metadata": {},
   "outputs": [],
   "source": [
    "display(material_selection_radio_button)\n",
    "display(material_selector)"
   ]
  },
  {
   "cell_type": "markdown",
   "metadata": {},
   "source": [
    "## Properties"
   ]
  },
  {
   "cell_type": "code",
   "execution_count": null,
   "metadata": {},
   "outputs": [],
   "source": [
    "display(product_widgets)"
   ]
  },
  {
   "cell_type": "markdown",
   "metadata": {},
   "source": [
    "## Upload CDXML"
   ]
  },
  {
   "cell_type": "code",
   "execution_count": null,
   "metadata": {},
   "outputs": [],
   "source": [
    "display(product_cdxml)"
   ]
  },
  {
   "cell_type": "markdown",
   "metadata": {},
   "source": [
    "## Support files"
   ]
  },
  {
   "cell_type": "code",
   "execution_count": null,
   "metadata": {},
   "outputs": [],
   "source": [
    "display(product_support_files)"
   ]
  },
  {
   "cell_type": "markdown",
   "metadata": {},
   "source": [
    "## Save results"
   ]
  },
  {
   "cell_type": "code",
   "execution_count": null,
   "metadata": {},
   "outputs": [],
   "source": [
    "display(save_close_buttons_hbox)\n",
    "display(increase_buttons_size)\n",
    "material_selection_radio_button.observe(select_material_radio_change, names='value')\n",
    "material_selector.dropdown.observe(material_selector.load_metadata, names = 'value')\n",
    "add_molecule_button.on_click(add_molecule_widget)\n",
    "remove_molecule_button.on_click(remove_molecule_widget)\n",
    "create_button.on_click(create_product_openbis)\n",
    "quit_button.on_click(close_notebook)"
   ]
  }
 ],
 "metadata": {
  "kernelspec": {
   "display_name": "base",
   "language": "python",
   "name": "python3"
  },
  "language_info": {
   "codemirror_mode": {
    "name": "ipython",
    "version": 3
   },
   "file_extension": ".py",
   "mimetype": "text/x-python",
   "name": "python",
   "nbconvert_exporter": "python",
   "pygments_lexer": "ipython3",
   "version": "3.9.13"
  }
 },
 "nbformat": 4,
 "nbformat_minor": 2
}
