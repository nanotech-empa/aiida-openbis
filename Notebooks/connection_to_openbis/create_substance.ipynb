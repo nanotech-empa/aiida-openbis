{
 "cells": [
  {
   "cell_type": "code",
   "execution_count": null,
   "metadata": {},
   "outputs": [],
   "source": [
    "from IPython.display import display\n",
    "import ipywidgets as ipw\n",
    "import widgets\n",
    "import utils\n",
    "import os\n",
    "import json"
   ]
  },
  {
   "cell_type": "code",
   "execution_count": null,
   "metadata": {},
   "outputs": [],
   "source": [
    "CONFIG = utils.read_json(\"config.json\")\n",
    "CONFIG_ELN = utils.get_aiidalab_eln_config()\n",
    "# CONFIG_ELN = utils.read_json(\"eln_config.json\")\n",
    "OPENBIS_SESSION, SESSION_DATA = utils.connect_openbis(CONFIG_ELN[\"url\"], CONFIG_ELN[\"token\"])\n",
    "\n",
    "molecule_selector = widgets.MoleculeSelectionWidget()\n",
    "molecule_selector.load_dropdown_box()\n",
    "\n",
    "chemist_selector = widgets.ChemistSelectionWidget()\n",
    "chemist_selector.load_dropdown_box()\n",
    "\n",
    "storage_selector = widgets.StorageSelectionWidget()\n",
    "storage_selector.load_dropdown_box()\n",
    "\n",
    "supplier_selector = widgets.SupplierSelectionWidget()\n",
    "supplier_selector.load_dropdown_box()\n",
    "\n",
    "substance_widgets = widgets.ObjectPropertiesWidgets(\"Substance\")\n",
    "\n",
    "substance_support_files = ipw.FileUpload(multiple = True)\n",
    "\n",
    "increase_buttons_size = utils.HTML(data = ''.join(CONFIG[\"save_home_buttons_settings\"]))\n",
    "create_button = utils.Button(\n",
    "    description = '', disabled = False, button_style = '', tooltip = 'Save', \n",
    "    icon = 'save', layout = ipw.Layout(width = '100px', height = '50px')\n",
    ")\n",
    "quit_button = utils.Button(\n",
    "    description = '', disabled = False, button_style = '', \n",
    "    tooltip = 'Main menu', icon = 'home', layout = ipw.Layout(width = '100px', height = '50px')\n",
    ")\n",
    "save_close_buttons_hbox = ipw.HBox([create_button, quit_button])"
   ]
  },
  {
   "cell_type": "code",
   "execution_count": null,
   "metadata": {},
   "outputs": [],
   "source": [
    "def close_notebook(b):\n",
    "    display(utils.Javascript(data = 'window.location.replace(\"home.ipynb\")'))\n",
    "\n",
    "def create_substance_openbis(b):\n",
    "    if molecule_selector.dropdown_boxes.children[0].value == -1:\n",
    "        display(utils.Javascript(data = \"alert('Select a molecule.')\"))\n",
    "        return\n",
    "    \n",
    "    # Check if the molecule is already in openBIS\n",
    "    molecules_empa_id_openbis = [f\"{substance.props['empa_number']}-{substance.props['batch']}\" for substance in utils.get_openbis_objects(OPENBIS_SESSION, type =\"SUBSTANCE\")]\n",
    "        \n",
    "    object_properties = {}\n",
    "    for prop in CONFIG[\"objects\"][\"Substance\"][\"properties\"]:\n",
    "        if prop == \"evaporator_slot\":\n",
    "            object_properties[prop] = json.dumps({\"evaporator_number\": substance_widgets.properties_widgets[prop].children[0].value, \n",
    "                                                    \"details\": substance_widgets.properties_widgets[prop].children[1].value})\n",
    "        elif CONFIG[\"properties\"][prop][\"property_type\"] == \"QUANTITY_VALUE\":\n",
    "            object_properties[prop] = json.dumps({\"has_value\": substance_widgets.properties_widgets[prop].children[0].value, \n",
    "                                                    \"has_unit\": substance_widgets.properties_widgets[prop].children[1].value})\n",
    "        elif CONFIG[\"properties\"][prop][\"property_type\"] == \"DATE\":\n",
    "            object_properties[prop] = str(substance_widgets.properties_widgets[prop].value)\n",
    "        else:\n",
    "            object_properties[prop] = substance_widgets.properties_widgets[prop].value\n",
    "    \n",
    "    molecule_empa_id = f\"{object_properties['empa_number']}-{object_properties['batch']}\"\n",
    "    if molecule_empa_id in molecules_empa_id_openbis:\n",
    "        display(utils.Javascript(data = \"alert('Substance is already in openBIS!')\"))\n",
    "        return\n",
    "    \n",
    "    object_properties[\"has_molecule\"] = molecule_selector.dropdown_boxes.children[0].value\n",
    "    object_properties[\"has_chemist\"] = chemist_selector.dropdown_boxes.children[0].value\n",
    "    object_properties[\"has_supplier\"] = supplier_selector.dropdown_boxes.children[0].value\n",
    "    object_properties[\"has_storage\"] = storage_selector.dropdown_boxes.children[0].value\n",
    "\n",
    "    results_object = utils.create_openbis_object(\n",
    "        OPENBIS_SESSION, type=\"SUBSTANCE\", \n",
    "        collection=\"/MATERIALS/SUBSTANCES/SUBSTANCE_COLLECTION\", \n",
    "        props = object_properties\n",
    "    )\n",
    "    upload_datasets(results_object, substance_support_files)\n",
    "    \n",
    "    print(\"Upload successful!\")\n",
    "\n",
    "def upload_datasets(method_object, support_files_widget):\n",
    "    for filename in support_files_widget.value:\n",
    "        file_info = support_files_widget.value[filename]\n",
    "        utils.save_file(file_info['content'], filename)\n",
    "        OPENBIS_SESSION.new_dataset(type = 'RAW_DATA', sample = method_object, files = [filename]).save()\n",
    "        os.remove(filename)\n",
    "\n",
    "def checkbox_on_change(checkbox, textbox):\n",
    "    def enable_textbox(change):\n",
    "        if checkbox.value:\n",
    "            textbox.disabled = False\n",
    "        else:\n",
    "            textbox.disabled = True\n",
    "    checkbox.observe(enable_textbox, names = \"value\")"
   ]
  },
  {
   "cell_type": "markdown",
   "metadata": {},
   "source": [
    "# Create substance"
   ]
  },
  {
   "cell_type": "markdown",
   "metadata": {},
   "source": [
    "## Select molecule"
   ]
  },
  {
   "cell_type": "code",
   "execution_count": null,
   "metadata": {},
   "outputs": [],
   "source": [
    "molecule_selector.dropdown_boxes.children[0].observe(molecule_selector.load_molecule_metadata, names = \"value\")\n",
    "display(molecule_selector)"
   ]
  },
  {
   "cell_type": "markdown",
   "metadata": {},
   "source": [
    "## Select chemist"
   ]
  },
  {
   "cell_type": "code",
   "execution_count": null,
   "metadata": {},
   "outputs": [],
   "source": [
    "display(chemist_selector)"
   ]
  },
  {
   "cell_type": "markdown",
   "metadata": {},
   "source": [
    "## Select storage"
   ]
  },
  {
   "cell_type": "code",
   "execution_count": null,
   "metadata": {},
   "outputs": [],
   "source": [
    "display(storage_selector)"
   ]
  },
  {
   "cell_type": "markdown",
   "metadata": {},
   "source": [
    "## Select supplier"
   ]
  },
  {
   "cell_type": "code",
   "execution_count": null,
   "metadata": {},
   "outputs": [],
   "source": [
    "display(supplier_selector)"
   ]
  },
  {
   "cell_type": "markdown",
   "metadata": {},
   "source": [
    "## Properties"
   ]
  },
  {
   "cell_type": "code",
   "execution_count": null,
   "metadata": {},
   "outputs": [],
   "source": [
    "checkbox_on_change(substance_widgets.properties_widgets[\"hazardous\"], substance_widgets.properties_widgets[\"hazardous_specification\"])\n",
    "checkbox_on_change(substance_widgets.properties_widgets[\"other_storage_condition\"], substance_widgets.properties_widgets[\"other_storage_condition_specification\"])\n",
    "display(substance_widgets)"
   ]
  },
  {
   "cell_type": "markdown",
   "metadata": {},
   "source": [
    "## Support files"
   ]
  },
  {
   "cell_type": "code",
   "execution_count": null,
   "metadata": {},
   "outputs": [],
   "source": [
    "display(substance_support_files)"
   ]
  },
  {
   "cell_type": "markdown",
   "metadata": {},
   "source": [
    "## Save results"
   ]
  },
  {
   "cell_type": "code",
   "execution_count": null,
   "metadata": {},
   "outputs": [],
   "source": [
    "display(save_close_buttons_hbox)\n",
    "display(increase_buttons_size)\n",
    "create_button.on_click(create_substance_openbis)\n",
    "quit_button.on_click(close_notebook)"
   ]
  }
 ],
 "metadata": {
  "kernelspec": {
   "display_name": "base",
   "language": "python",
   "name": "python3"
  },
  "language_info": {
   "codemirror_mode": {
    "name": "ipython",
    "version": 3
   },
   "file_extension": ".py",
   "mimetype": "text/x-python",
   "name": "python",
   "nbconvert_exporter": "python",
   "pygments_lexer": "ipython3",
   "version": "3.9.13"
  }
 },
 "nbformat": 4,
 "nbformat_minor": 2
}
