{
 "cells": [
  {
   "cell_type": "code",
   "execution_count": 1,
   "metadata": {},
   "outputs": [],
   "source": [
    "from pybis import Openbis\n",
    "import json\n",
    "import ipywidgets as widgets\n",
    "from IPython.display import display, Javascript, clear_output"
   ]
  },
  {
   "cell_type": "code",
   "execution_count": null,
   "metadata": {},
   "outputs": [],
   "source": [
    "# Global variables\n",
    "OPENBIS_SESSION = None"
   ]
  },
  {
   "cell_type": "code",
   "execution_count": null,
   "metadata": {},
   "outputs": [],
   "source": [
    "# Widgets\n",
    "materials_dropdown = widgets.Dropdown(description='Select crystal:', disabled=False,)\n",
    "materials_dropdown.style = {'description_width': 'initial'}\n",
    "material_details_textbox = widgets.Textarea(value = '', description = '', disabled = True, layout = widgets.Layout(width = '50%', height = '200px'))\n",
    "material_metadata_boxes = widgets.HBox([materials_dropdown, material_details_textbox])\n",
    "material_selection_radio_button = widgets.RadioButtons(description = 'Material', options=['No material', 'Crystal', 'Wafer substrate', '2D-layer material'], disabled = False)\n",
    "\n",
    "sample_name_textbox = widgets.Text(value = '', placeholder = 'Enter sample name', description = 'Sample name:', disabled = False)\n",
    "sample_name_textbox.style = {'description_width': 'initial'}\n",
    "create_sample_button = widgets.Button(description = 'Save', disabled = False, button_style = 'success', tooltip = 'Save sample')\n",
    "quit_button = widgets.Button(description = 'Main menu', disabled = False, button_style = 'danger', tooltip = 'Main menu')\n",
    "bottom_buttons_hbox = widgets.HBox([create_sample_button, quit_button])"
   ]
  },
  {
   "cell_type": "code",
   "execution_count": null,
   "metadata": {},
   "outputs": [],
   "source": [
    "# Functions\n",
    "def read_json(filename):\n",
    "    with open(filename, 'r') as file:\n",
    "        return json.load(file)\n",
    "\n",
    "# Function to close the notebook page\n",
    "def close_notebook(b):\n",
    "    display(Javascript('window.location.replace(\"home.ipynb\")'))\n",
    "\n",
    "# Function to create sample object inside openBIS using information selected in the app\n",
    "def create_sample_action(b):\n",
    "    global OPENBIS_SESSION\n",
    "    \n",
    "    if materials_dropdown.value == \"-1\" or material_selection_radio_button.value == \"No material\":\n",
    "        sample_parents = []\n",
    "    else:\n",
    "        sample_parents = [materials_dropdown.value]\n",
    "    \n",
    "    OPENBIS_SESSION.new_object(type = \"SAMPLE\", \n",
    "                            collection = \"20240716082516377-60\",\n",
    "                            props = {\"$name\": sample_name_textbox.value},\n",
    "                            parents = sample_parents).save()\n",
    "\n",
    "# Function to handle changes in the materials dropdown\n",
    "def load_material_metadata(change):\n",
    "    global OPENBIS_SESSION\n",
    "    if materials_dropdown.value == \"-1\":\n",
    "        material_details_textbox.value = ''\n",
    "    else:\n",
    "        if material_selection_radio_button.value == \"Crystal\":\n",
    "            property_list = [(\"Name\", \"$name\"), (\"Material\", \"material\"), (\"Face\", \"face\"), (\"Sample Plate\", \"sample_plate\"), (\"Diameter\", \"diameter\"), (\"Height\", \"height\"), (\"Specifications\", \"specifications\")]\n",
    "        elif material_selection_radio_button.value == \"Wafer substrate\":\n",
    "            property_list = [(\"Name\", \"$name\"), (\"Substrates\", \"substrates\"), (\"Sample Plate\", \"sample_plate\"), (\"Diameter\", \"diameter\"), (\"Height\", \"height\"), (\"Thickness\", \"thickness\")]\n",
    "        elif material_selection_radio_button.value == \"2D-layer material\":\n",
    "            property_list = [(\"Name\", \"$name\"), (\"Sample Plate\", \"sample_plate\"), (\"2D Layers\", \"layers_2d\"), (\"Substrates\", \"substrates\"), (\"Width\", \"width\"), (\"Length\", \"length\"), (\"Thickness\", \"thickness\")]\n",
    "        \n",
    "        material_metadata = OPENBIS_SESSION.get_object(materials_dropdown.value).props.all()\n",
    "        material_metadata_string = \"\"\n",
    "        for property in property_list:\n",
    "            if property[1] in [\"diameter\", \"height\", \"width\", \"thickness\"]:\n",
    "                if material_metadata[property[1]] is None:\n",
    "                    material_metadata_string = f\"{material_metadata_string} {property[0]}: {material_metadata[property[1]]}\\n\"\n",
    "                else:\n",
    "                    property_dict = json.loads(material_metadata[property[1]])\n",
    "                    material_metadata_string = f\"{material_metadata_string} {property[0]}: {property_dict['value']} {property_dict['unit']}\\n\"\n",
    "            else:\n",
    "                material_metadata_string = f\"{material_metadata_string} {property[0]}: {material_metadata[property[1]]}\\n\"\n",
    "        material_details_textbox.value = material_metadata_string\n",
    "\n",
    "# Function to handle changes in the radio button\n",
    "def select_material_radio_change(change):\n",
    "    material_details_textbox.value = ''\n",
    "    \n",
    "    if material_selection_radio_button.value == \"No material\":\n",
    "        clear_output()\n",
    "        display(material_selection_radio_button)\n",
    "        display(sample_name_textbox, bottom_buttons_hbox)\n",
    "        \n",
    "    else: \n",
    "        if material_selection_radio_button.value == \"Crystal\":\n",
    "            materials = OPENBIS_SESSION.get_objects(type = \"CRYSTAL\")\n",
    "            materials_dropdown.description = \"Select crystal:\"\n",
    "\n",
    "        elif material_selection_radio_button.value == \"Wafer substrate\":\n",
    "            materials = OPENBIS_SESSION.get_objects(type = \"WAFER_SUBSTRATE\")\n",
    "            materials_dropdown.description = \"Select wafer substrate:\"\n",
    "            \n",
    "        elif material_selection_radio_button.value == \"2D-layer material\":\n",
    "            materials = OPENBIS_SESSION.get_objects(type = \"2D_LAYERED_MATERIAL\")\n",
    "            materials_dropdown.description = \"Select 2D-layer material:\"\n",
    "            \n",
    "        materials_names_permids = [(material.props[\"$name\"], material.permId) for material in materials]\n",
    "        materials_names_permids.insert(0, ('', \"-1\"))\n",
    "        materials_dropdown.options = materials_names_permids\n",
    "        materials_dropdown.observe(load_material_metadata, names = 'value')\n",
    "            \n",
    "        clear_output()\n",
    "        display(material_selection_radio_button)\n",
    "        display(material_metadata_boxes)\n",
    "        display(sample_name_textbox, bottom_buttons_hbox)"
   ]
  },
  {
   "cell_type": "code",
   "execution_count": null,
   "metadata": {},
   "outputs": [],
   "source": [
    "# Connect with openBIS\n",
    "session_data = read_json(\"token.json\")\n",
    "OPENBIS_SESSION = Openbis(session_data[\"url\"], verify_certificates = False)\n",
    "OPENBIS_SESSION.set_token(session_data[\"token\"])"
   ]
  },
  {
   "cell_type": "markdown",
   "metadata": {},
   "source": [
    "## Create a sample object in openBIS"
   ]
  },
  {
   "cell_type": "code",
   "execution_count": null,
   "metadata": {},
   "outputs": [],
   "source": [
    "material_selection_radio_button.observe(select_material_radio_change, names='value')\n",
    "create_sample_button.on_click(create_sample_action)\n",
    "quit_button.on_click(close_notebook)\n",
    "display(material_selection_radio_button)\n",
    "display(sample_name_textbox, bottom_buttons_hbox)"
   ]
  }
 ],
 "metadata": {
  "kernelspec": {
   "display_name": "base",
   "language": "python",
   "name": "python3"
  },
  "language_info": {
   "codemirror_mode": {
    "name": "ipython",
    "version": 3
   },
   "file_extension": ".py",
   "mimetype": "text/x-python",
   "name": "python",
   "nbconvert_exporter": "python",
   "pygments_lexer": "ipython3",
   "version": "3.9.13"
  }
 },
 "nbformat": 4,
 "nbformat_minor": 2
}
