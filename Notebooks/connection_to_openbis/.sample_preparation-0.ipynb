{
 "cells": [
  {
   "cell_type": "code",
   "execution_count": 4,
   "metadata": {},
   "outputs": [],
   "source": [
    "import numpy as np\n",
    "import ipywidgets as ipw\n",
    "from IPython.display import Markdown, display, clear_output\n",
    "from datetime import datetime\n",
    "from utils import close_notebook, AppWidgets, read_json"
   ]
  },
  {
   "cell_type": "code",
   "execution_count": null,
   "metadata": {},
   "outputs": [],
   "source": [
    "# Widgets\n",
    "sample_preparation_dropdown = ipw.Dropdown(description='Sample Preparation Task', \n",
    "                                           disabled=False, \n",
    "                                           options = [\"Sputtering\", \"Annealing\", \"Deposition\", \"Dosing\"], \n",
    "                                           value = \"Sputtering\",\n",
    "                                           layout = ipw.Layout(width = '400px'),\n",
    "                                           style = {\"description_width\": '145px'})"
   ]
  },
  {
   "cell_type": "code",
   "execution_count": 5,
   "metadata": {},
   "outputs": [],
   "source": [
    "def sample_preparation_widgets(change):\n",
    "    \n",
    "    clear_output()\n",
    "    \n",
    "    display(sample_preparation_dropdown)\n",
    "    \n",
    "    task = sample_preparation_dropdown.value\n",
    "    \n",
    "    if task != \"Select a task...\":\n",
    "        app_widgets = AppWidgets(task, \"config.json\")\n",
    "\n",
    "        # Populate dropdown lists\n",
    "        app_widgets.load_dropdown_lists()\n",
    "\n",
    "        display(Markdown(f\"## {task}\"))\n",
    "        display(Markdown(\"### Select experiment, sample, and instrument\"))\n",
    "        \n",
    "        display(app_widgets.select_experiment_output)\n",
    "        \n",
    "        with app_widgets.select_experiment_output:\n",
    "            if task == \"Deposition\":\n",
    "                display(app_widgets.experiments_dropdown_boxes, app_widgets.sample_metadata_boxes, app_widgets.instruments_dropdown_boxes, app_widgets.molecule_metadata_boxes)\n",
    "            else:\n",
    "                display(app_widgets.experiments_dropdown_boxes, app_widgets.sample_metadata_boxes, app_widgets.instruments_dropdown_boxes)\n",
    "            \n",
    "        app_widgets.create_button.on_click(app_widgets.create_process_action)\n",
    "        app_widgets.quit_button.on_click(close_notebook)\n",
    "        app_widgets.samples_dropdown.observe(app_widgets.load_sample_metadata, names = 'value')\n",
    "        if task == \"Deposition\":\n",
    "            app_widgets.molecules_dropdown.observe(app_widgets.load_molecule_metadata, names = 'value')\n",
    "\n",
    "        display(Markdown(\"### Properties\"))\n",
    "        display(app_widgets.method_name_textbox, app_widgets.method_properties, app_widgets.comments_textbox)\n",
    "\n",
    "        display(Markdown(\"### Support Files\"))\n",
    "        display(app_widgets.support_files_uploader)\n",
    "\n",
    "\n",
    "        display(Markdown(\"### Save Sample\"))\n",
    "        app_widgets.method_name_textbox.observe(app_widgets.update_text, names = 'value')\n",
    "        display(app_widgets.sample_out_name_textbox)\n",
    "        display(app_widgets.bottom_buttons_hbox)\n",
    "        display(app_widgets.increase_buttons_size)"
   ]
  },
  {
   "cell_type": "markdown",
   "metadata": {},
   "source": [
    "# Sample Preparation"
   ]
  },
  {
   "cell_type": "code",
   "execution_count": 6,
   "metadata": {},
   "outputs": [],
   "source": [
    "# Widgets\n",
    "sample_preparation_dropdown.observe(sample_preparation_widgets, names='value')\n",
    "\n",
    "# Trigger the callback manually\n",
    "sample_preparation_widgets({'new': sample_preparation_dropdown.value})"
   ]
  }
 ],
 "metadata": {
  "kernelspec": {
   "display_name": "base",
   "language": "python",
   "name": "python3"
  },
  "language_info": {
   "codemirror_mode": {
    "name": "ipython",
    "version": 3
   },
   "file_extension": ".py",
   "mimetype": "text/x-python",
   "name": "python",
   "nbconvert_exporter": "python",
   "pygments_lexer": "ipython3",
   "version": "3.9.13"
  }
 },
 "nbformat": 4,
 "nbformat_minor": 2
}
