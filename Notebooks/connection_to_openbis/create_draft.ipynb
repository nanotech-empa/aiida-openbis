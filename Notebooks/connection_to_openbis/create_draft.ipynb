{
 "cells": [
  {
   "cell_type": "code",
   "execution_count": null,
   "metadata": {},
   "outputs": [],
   "source": [
    "from IPython.display import display\n",
    "import ipywidgets as ipw\n",
    "import widgets\n",
    "import utils\n",
    "import os"
   ]
  },
  {
   "cell_type": "code",
   "execution_count": null,
   "metadata": {},
   "outputs": [],
   "source": [
    "CONFIG = utils.read_json(\"config.json\")\n",
    "CONFIG_ELN = utils.get_aiidalab_eln_config()\n",
    "OPENBIS_SESSION, SESSION_DATA = utils.connect_openbis(CONFIG_ELN[\"url\"], CONFIG_ELN[\"token\"])\n",
    "\n",
    "project_selector = widgets.ProjectSelectionWidget()\n",
    "project_selector.load_dropdown_box()\n",
    "\n",
    "results_selector = widgets.ObjectMultipleSelectionWidget(\"Results\")\n",
    "\n",
    "draft_widgets = widgets.ObjectPropertiesWidgets(\"Draft\")\n",
    "\n",
    "draft_support_files = ipw.FileUpload(multiple = True)\n",
    "\n",
    "increase_buttons_size = utils.HTML(data = ''.join(CONFIG[\"save_home_buttons_settings\"]))\n",
    "create_button = utils.Button(\n",
    "    description = '', disabled = False, button_style = '', tooltip = 'Save', \n",
    "    icon = 'save', layout = ipw.Layout(width = '100px', height = '50px')\n",
    ")\n",
    "quit_button = utils.Button(\n",
    "    description = '', disabled = False, button_style = '', \n",
    "    tooltip = 'Main menu', icon = 'home', layout = ipw.Layout(width = '100px', height = '50px')\n",
    ")\n",
    "save_close_buttons_hbox = ipw.HBox([create_button, quit_button])"
   ]
  },
  {
   "cell_type": "code",
   "execution_count": null,
   "metadata": {},
   "outputs": [],
   "source": [
    "def close_notebook(b):\n",
    "    display(utils.Javascript(data = 'window.location.replace(\"home.ipynb\")'))\n",
    "\n",
    "def load_results(change):\n",
    "    if project_selector.dropdown_boxes.children[0].value != -1:\n",
    "        results_selector.load_selector(\"RESULTS\", project_selector.dropdown.value)\n",
    "\n",
    "def create_draft_openbis(b):\n",
    "    object_properties = {}\n",
    "    for prop in CONFIG[\"objects\"][\"Draft\"][\"properties\"]:\n",
    "        property_type = CONFIG[\"properties\"][prop][\"property_type\"]\n",
    "        property_widget = draft_widgets.properties_widgets[prop]\n",
    "        object_properties[prop] = utils.get_object_property(property_type, property_widget)\n",
    "        \n",
    "    project_permid = project_selector.dropdown.value\n",
    "    project_drafts_collection = OPENBIS_SESSION.get_collections(project = project_permid, code = \"DRAFTS_COLLECTION\")\n",
    "    drafts_parents = list(results_selector.selector.value)\n",
    "    \n",
    "    if len(project_drafts_collection) == 0:\n",
    "        drafts_collection = utils.create_openbis_collection(\n",
    "            OPENBIS_SESSION, \n",
    "            project = project_selector.dropdown.value, \n",
    "            code = \"DRAFTS_COLLECTION\", type = \"COLLECTION\", props = {\"$name\": \"Drafts\"}\n",
    "        )\n",
    "    else:\n",
    "        drafts_collection = project_drafts_collection[0]\n",
    "\n",
    "    draft_object = utils.create_openbis_object(\n",
    "        OPENBIS_SESSION, type=\"DRAFT\", collection=drafts_collection, \n",
    "        props = object_properties, parents = drafts_parents\n",
    "    )\n",
    "    utils.upload_datasets(OPENBIS_SESSION, draft_object, draft_support_files, \"RAW_DATA\")\n",
    "    \n",
    "    display(utils.Javascript(data = \"alert('Upload successful!')\"))\n",
    "    \n",
    "    # Reset widgets\n",
    "    results_selector.selector.options = []"
   ]
  },
  {
   "cell_type": "markdown",
   "metadata": {},
   "source": [
    "# Create draft"
   ]
  },
  {
   "cell_type": "markdown",
   "metadata": {},
   "source": [
    "## Select project"
   ]
  },
  {
   "cell_type": "code",
   "execution_count": null,
   "metadata": {},
   "outputs": [],
   "source": [
    "display(project_selector.dropdown_boxes)\n",
    "project_selector.dropdown.observe(load_results, names = 'value')"
   ]
  },
  {
   "cell_type": "markdown",
   "metadata": {},
   "source": [
    "## Select results"
   ]
  },
  {
   "cell_type": "code",
   "execution_count": null,
   "metadata": {},
   "outputs": [],
   "source": [
    "display(results_selector)"
   ]
  },
  {
   "cell_type": "markdown",
   "metadata": {},
   "source": [
    "## Properties"
   ]
  },
  {
   "cell_type": "code",
   "execution_count": null,
   "metadata": {},
   "outputs": [],
   "source": [
    "display(draft_widgets)"
   ]
  },
  {
   "cell_type": "markdown",
   "metadata": {},
   "source": [
    "## Support files"
   ]
  },
  {
   "cell_type": "code",
   "execution_count": null,
   "metadata": {},
   "outputs": [],
   "source": [
    "display(draft_support_files)"
   ]
  },
  {
   "cell_type": "markdown",
   "metadata": {},
   "source": [
    "## Save results"
   ]
  },
  {
   "cell_type": "code",
   "execution_count": null,
   "metadata": {},
   "outputs": [],
   "source": [
    "display(save_close_buttons_hbox)\n",
    "display(increase_buttons_size)\n",
    "create_button.on_click(create_draft_openbis)\n",
    "quit_button.on_click(close_notebook)"
   ]
  }
 ],
 "metadata": {
  "kernelspec": {
   "display_name": "base",
   "language": "python",
   "name": "python3"
  },
  "language_info": {
   "codemirror_mode": {
    "name": "ipython",
    "version": 3
   },
   "file_extension": ".py",
   "mimetype": "text/x-python",
   "name": "python",
   "nbconvert_exporter": "python",
   "pygments_lexer": "ipython3",
   "version": "3.9.13"
  }
 },
 "nbformat": 4,
 "nbformat_minor": 2
}
