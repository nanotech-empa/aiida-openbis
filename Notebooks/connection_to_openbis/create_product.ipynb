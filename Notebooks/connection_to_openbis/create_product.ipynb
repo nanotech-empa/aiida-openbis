{
 "cells": [
  {
   "cell_type": "code",
   "execution_count": null,
   "metadata": {},
   "outputs": [],
   "source": [
    "from IPython.display import display, clear_output\n",
    "import ipywidgets as ipw\n",
    "import widgets\n",
    "import utils\n",
    "import os\n",
    "import json\n",
    "import shutil"
   ]
  },
  {
   "cell_type": "code",
   "execution_count": null,
   "metadata": {},
   "outputs": [],
   "source": [
    "CONFIG = utils.read_json(\"config.json\")\n",
    "CONFIG_ELN = utils.get_aiidalab_eln_config()\n",
    "# CONFIG_ELN = utils.read_json(\"eln_config.json\")\n",
    "OPENBIS_SESSION, SESSION_DATA = utils.connect_openbis(CONFIG_ELN[\"url\"], CONFIG_ELN[\"token\"])\n",
    "slabs_options = [object_key for object_key, object_info in CONFIG[\"objects\"].items() if object_info[\"object_type\"] == \"slab\"]\n",
    "slabs_options.insert(0, \"No material\")\n",
    "material_selection_radio_button = utils.Radiobuttons(\n",
    "    description = '', options = slabs_options, \n",
    "    disabled = False, layout = ipw.Layout(width = '300px'), \n",
    "    style = {'description_width': \"100px\"}\n",
    ")\n",
    "\n",
    "material_selector = widgets.MaterialSelectionWidget()\n",
    "\n",
    "molecule_selector_list = widgets.MultipleSelectorWidget(\"molecule\")\n",
    "molecule_selector_list_output = ipw.Output()\n",
    "\n",
    "add_molecule_button = utils.Button(\n",
    "    description = 'Add molecule', disabled = False, button_style = '', \n",
    "    tooltip = 'Add molecule', layout = ipw.Layout(width = '150px', height = '25px')\n",
    ")\n",
    "remove_molecule_button = utils.Button(\n",
    "    description = 'Remove molecule', disabled = False, button_style = '', \n",
    "    tooltip = 'Remove molecule', layout = ipw.Layout(width = '150px', height = '25px')\n",
    ")\n",
    "add_remove_molecule_buttons_hbox = ipw.HBox([add_molecule_button, remove_molecule_button])\n",
    "\n",
    "# chemist_selector = widgets.ChemistSelectionWidget()\n",
    "# chemist_selector.load_dropdown_box()\n",
    "\n",
    "# storage_selector = widgets.StorageSelectionWidget()\n",
    "# storage_selector.load_dropdown_box()\n",
    "\n",
    "# supplier_selector = widgets.SupplierSelectionWidget()\n",
    "# supplier_selector.load_dropdown_box()\n",
    "\n",
    "product_widgets = widgets.ObjectPropertiesWidgets(\"Reaction Product\")\n",
    "\n",
    "product_support_files = ipw.FileUpload(multiple = True)\n",
    "\n",
    "product_cdxml = ipw.FileUpload(multiple = False, accept = '.cdxml')\n",
    "\n",
    "increase_buttons_size = utils.HTML(data = ''.join(CONFIG[\"save_home_buttons_settings\"]))\n",
    "create_button = utils.Button(\n",
    "    description = '', disabled = False, button_style = '', tooltip = 'Save', \n",
    "    icon = 'save', layout = ipw.Layout(width = '100px', height = '50px')\n",
    ")\n",
    "quit_button = utils.Button(\n",
    "    description = '', disabled = False, button_style = '', \n",
    "    tooltip = 'Main menu', icon = 'home', layout = ipw.Layout(width = '100px', height = '50px')\n",
    ")\n",
    "save_close_buttons_hbox = ipw.HBox([create_button, quit_button])"
   ]
  },
  {
   "cell_type": "code",
   "execution_count": null,
   "metadata": {},
   "outputs": [],
   "source": [
    "def close_notebook(b):\n",
    "    display(utils.Javascript(data = 'window.location.replace(\"home.ipynb\")'))\n",
    "\n",
    "def create_product_openbis(b):\n",
    "    if not product_cdxml.value:\n",
    "        display(utils.Javascript(data = \"alert('Upload a CDXML file.')\"))\n",
    "        return\n",
    "    \n",
    "    product_parents = []\n",
    "    if molecule_selector_list.selectors:\n",
    "        for molecule_selector in molecule_selector_list.selectors:\n",
    "            if molecule_selector.dropdown.value != -1:\n",
    "                product_parents.append(molecule_selector.dropdown.value)\n",
    "                \n",
    "    if material_selector.dropdown.value != -1:\n",
    "        product_parents.append(material_selector.dropdown.value)\n",
    "        \n",
    "    object_properties = {}\n",
    "    for prop in CONFIG[\"objects\"][\"Reaction Product\"][\"properties\"]:\n",
    "        if prop == \"yield\":\n",
    "            if product_widgets.properties_widgets[prop].value == 0:\n",
    "                continue\n",
    "            \n",
    "        if CONFIG[\"properties\"][prop][\"property_type\"] == \"QUANTITY_VALUE\":\n",
    "            object_properties[prop] = json.dumps(\n",
    "                {\n",
    "                    \"has_value\": product_widgets.properties_widgets[prop].children[0].value, \n",
    "                    \"has_unit\": product_widgets.properties_widgets[prop].children[1].value\n",
    "                }\n",
    "            )\n",
    "        else: \n",
    "            object_properties[prop] = product_widgets.properties_widgets[prop].value\n",
    "\n",
    "    # Check if the product is already in openBIS\n",
    "    products_openbis = [f\"{product.props['$name']}\" for product in utils.get_openbis_objects(OPENBIS_SESSION, type =\"REACTION_PRODUCT\")]\n",
    "    \n",
    "    product_name = object_properties['$name']\n",
    "    if product_name in products_openbis:\n",
    "        display(utils.Javascript(data = \"alert('Reaction product is already in openBIS!')\"))\n",
    "        return\n",
    "\n",
    "    product_object = utils.create_openbis_object(\n",
    "        OPENBIS_SESSION, type=\"REACTION_PRODUCT\", \n",
    "        collection=\"/MATERIALS/SUBSTANCES/REACTION_PRODUCT_COLLECTION\", \n",
    "        props = object_properties,\n",
    "        parents = product_parents\n",
    "    )\n",
    "    \n",
    "    upload_datasets(product_object, product_cdxml)\n",
    "    \n",
    "    upload_datasets(product_object, product_support_files)\n",
    "    \n",
    "    print(\"Upload successful!\")\n",
    "\n",
    "def upload_datasets(method_object, support_files_widget):\n",
    "    for filename in support_files_widget.value:\n",
    "        file_info = support_files_widget.value[filename]\n",
    "        utils.save_file(file_info['content'], filename)\n",
    "        OPENBIS_SESSION.new_dataset(type = 'RAW_DATA', sample = method_object, files = [filename]).save()\n",
    "        os.remove(filename)\n",
    "\n",
    "def checkbox_on_change(checkbox, textbox):\n",
    "    def enable_textbox(change):\n",
    "        if checkbox.value:\n",
    "            textbox.disabled = False\n",
    "        else:\n",
    "            textbox.disabled = True\n",
    "    checkbox.observe(enable_textbox, names = \"value\")\n",
    "\n",
    "def add_molecule_widget(b):\n",
    "    molecule_selector_list.add_selector()\n",
    "    with molecule_selector_list_output:\n",
    "        clear_output()\n",
    "        display(molecule_selector_list)\n",
    "\n",
    "def remove_molecule_widget(b):\n",
    "    molecule_selector_list.remove_selector()\n",
    "    with molecule_selector_list_output:\n",
    "        clear_output()\n",
    "        display(molecule_selector_list)\n",
    "\n",
    "def select_material_radio_change(change):\n",
    "    material_type = material_selection_radio_button.value\n",
    "    if material_type == \"No material\":\n",
    "        with material_selector:\n",
    "            clear_output()\n",
    "            return\n",
    "    \n",
    "    material_selector.details_textbox.value = ''\n",
    "    material_types = {}\n",
    "    for object_key, object_info in CONFIG[\"objects\"].items():\n",
    "        if object_info[\"object_type\"] == \"slab\":\n",
    "            material_types[object_key] = (object_info[\"openbis_object_type\"], object_info[\"placeholder\"])\n",
    "            \n",
    "    with material_selector:\n",
    "        clear_output()\n",
    "        display_list = [\n",
    "            material_selector.dropdown_boxes,\n",
    "            ipw.HBox([material_selector.details_textbox, material_selector.image_box])\n",
    "        ]\n",
    "        material_class, placeholder = material_types.get(material_type)\n",
    "        material_selector.load_dropdown_box(material_class, placeholder)\n",
    "        display(ipw.VBox(display_list))\n",
    "\n",
    "# Function to handle changes in the materials dropdown\n",
    "def load_material_metadata(change):\n",
    "    if material_selector.dropdown_boxes.children[0].value == -1:\n",
    "        material_selector.details_textbox.value = ''\n",
    "        material_selector.image_box.value = utils.read_file(CONFIG[\"default_image_filepath\"])\n",
    "        return\n",
    "    \n",
    "    # Get selected object properties information from config file\n",
    "    selected_object = material_selection_radio_button.value\n",
    "    selected_object_properties = CONFIG[\"objects\"][selected_object][\"properties\"]\n",
    "    \n",
    "    # Get material object information and dataset\n",
    "    material_object = OPENBIS_SESSION.get_object(material_selector.dropdown_boxes.children[0].value)\n",
    "    material_dataset = material_object.get_datasets()[0]\n",
    "    \n",
    "    # Get the object image preview\n",
    "    if material_dataset:\n",
    "        material_dataset.download(destination=\"images\")\n",
    "        material_selector.image_box.value = utils.read_file(f\"images/{material_dataset.permId}/{material_dataset.file_list[0]}\")\n",
    "        # Erase file after downloading it\n",
    "        shutil.rmtree(f\"images/{material_dataset.permId}\")\n",
    "    else:\n",
    "        material_selector.image_box.value = utils.read_file(CONFIG[\"default_image_filepath\"])\n",
    "\n",
    "    # Make a string with the property values of the object\n",
    "    material_metadata = material_object.props.all()\n",
    "    material_metadata_string = \"\"\n",
    "    for prop_key in selected_object_properties:\n",
    "        prop_title = CONFIG[\"properties\"][prop_key][\"title\"]\n",
    "        if CONFIG[\"properties\"][prop_key][\"property_type\"] == \"QUANTITY_VALUE\":\n",
    "            value = material_metadata.get(prop_key)\n",
    "            if value:\n",
    "                prop_dict = json.loads(value)\n",
    "                material_metadata_string += f\"{prop_title}: {prop_dict['value']} {prop_dict['unit']}\\n\"\n",
    "            else:\n",
    "                material_metadata_string += f\"{prop_title}: {value}\\n\"\n",
    "        else:\n",
    "            material_metadata_string += f\"{prop_title}: {material_metadata.get(prop_key)}\\n\"\n",
    "\n",
    "    material_selector.details_textbox.value = material_metadata_string\n"
   ]
  },
  {
   "cell_type": "markdown",
   "metadata": {},
   "source": [
    "# Create reaction product"
   ]
  },
  {
   "cell_type": "markdown",
   "metadata": {},
   "source": [
    "## Select molecule"
   ]
  },
  {
   "cell_type": "code",
   "execution_count": null,
   "metadata": {},
   "outputs": [],
   "source": [
    "display(molecule_selector_list_output)\n",
    "with molecule_selector_list_output:\n",
    "    display(molecule_selector_list)  \n",
    "display(add_remove_molecule_buttons_hbox)"
   ]
  },
  {
   "cell_type": "markdown",
   "metadata": {},
   "source": [
    "## Select slab"
   ]
  },
  {
   "cell_type": "code",
   "execution_count": null,
   "metadata": {},
   "outputs": [],
   "source": [
    "display(material_selection_radio_button)\n",
    "display(material_selector)"
   ]
  },
  {
   "cell_type": "markdown",
   "metadata": {},
   "source": [
    "## Properties"
   ]
  },
  {
   "cell_type": "code",
   "execution_count": null,
   "metadata": {},
   "outputs": [],
   "source": [
    "display(product_widgets)"
   ]
  },
  {
   "cell_type": "markdown",
   "metadata": {},
   "source": [
    "## Upload CDXML"
   ]
  },
  {
   "cell_type": "code",
   "execution_count": null,
   "metadata": {},
   "outputs": [],
   "source": [
    "display(product_cdxml)"
   ]
  },
  {
   "cell_type": "markdown",
   "metadata": {},
   "source": [
    "## Support files"
   ]
  },
  {
   "cell_type": "code",
   "execution_count": null,
   "metadata": {},
   "outputs": [],
   "source": [
    "display(product_support_files)"
   ]
  },
  {
   "cell_type": "markdown",
   "metadata": {},
   "source": [
    "## Save results"
   ]
  },
  {
   "cell_type": "code",
   "execution_count": null,
   "metadata": {},
   "outputs": [],
   "source": [
    "display(save_close_buttons_hbox)\n",
    "display(increase_buttons_size)\n",
    "material_selection_radio_button.observe(select_material_radio_change, names='value')\n",
    "material_selector.dropdown.observe(load_material_metadata, names = 'value')\n",
    "add_molecule_button.on_click(add_molecule_widget)\n",
    "remove_molecule_button.on_click(remove_molecule_widget)\n",
    "create_button.on_click(create_product_openbis)\n",
    "quit_button.on_click(close_notebook)"
   ]
  }
 ],
 "metadata": {
  "kernelspec": {
   "display_name": "base",
   "language": "python",
   "name": "python3"
  },
  "language_info": {
   "codemirror_mode": {
    "name": "ipython",
    "version": 3
   },
   "file_extension": ".py",
   "mimetype": "text/x-python",
   "name": "python",
   "nbconvert_exporter": "python",
   "pygments_lexer": "ipython3",
   "version": "3.9.13"
  }
 },
 "nbformat": 4,
 "nbformat_minor": 2
}
