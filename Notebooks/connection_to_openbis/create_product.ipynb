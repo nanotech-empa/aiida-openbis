{
 "cells": [
  {
   "cell_type": "code",
   "execution_count": null,
   "metadata": {},
   "outputs": [],
   "source": [
    "from IPython.display import display, clear_output\n",
    "import ipywidgets as ipw\n",
    "import widgets\n",
    "import utils\n",
    "import os\n",
    "import json\n",
    "import shutil"
   ]
  },
  {
   "cell_type": "code",
   "execution_count": null,
   "metadata": {},
   "outputs": [],
   "source": [
    "CONFIG = utils.read_json(\"config.json\")\n",
    "CONFIG_ELN = utils.get_aiidalab_eln_config()\n",
    "# CONFIG_ELN = utils.read_json(\"eln_config.json\")\n",
    "OPENBIS_SESSION, SESSION_DATA = utils.connect_openbis(CONFIG_ELN[\"url\"], CONFIG_ELN[\"token\"])\n",
    "\n",
    "product_concept_selector = widgets.ObjectSelectionWidget(\"Reaction Product Concept\")\n",
    "product_concept_selector.load_dropdown_box()\n",
    "\n",
    "chemist_selector = widgets.ObjectSelectionWidget(\"Chemist\")\n",
    "chemist_selector.load_dropdown_box()\n",
    "\n",
    "storage_selector = widgets.ObjectSelectionWidget(\"Storage\")\n",
    "storage_selector.load_dropdown_box()\n",
    "\n",
    "supplier_selector = widgets.ObjectSelectionWidget(\"Instrument\")\n",
    "supplier_selector.load_dropdown_box()\n",
    "\n",
    "product_widgets = widgets.ObjectPropertiesWidgets(\"ReactionProduct\")\n",
    "product_widgets.get_properties_widgets()\n",
    "\n",
    "product_support_files = ipw.FileUpload(multiple = True)\n",
    "\n",
    "increase_buttons_size = utils.HTML(data = ''.join(CONFIG[\"save_home_buttons_settings\"]))\n",
    "create_button = utils.Button(\n",
    "    description = '', disabled = False, button_style = '', tooltip = 'Save', \n",
    "    icon = 'save', layout = ipw.Layout(width = '100px', height = '50px')\n",
    ")\n",
    "quit_button = utils.Button(\n",
    "    description = '', disabled = False, button_style = '', \n",
    "    tooltip = 'Main menu', icon = 'home', layout = ipw.Layout(width = '100px', height = '50px')\n",
    ")\n",
    "save_close_buttons_hbox = ipw.HBox([create_button, quit_button])"
   ]
  },
  {
   "cell_type": "code",
   "execution_count": null,
   "metadata": {},
   "outputs": [],
   "source": [
    "def close_notebook(b):\n",
    "    display(utils.Javascript(data = 'window.location.replace(\"home.ipynb\")'))\n",
    "\n",
    "def create_product_openbis(b):\n",
    "        \n",
    "    object_properties = utils.get_widget_values(product_widgets.properties_widgets_detailed_dict)\n",
    "\n",
    "    # Check if the product is already in openBIS\n",
    "    products_openbis = [f\"{product.props['$name']}\" for product in utils.get_openbis_objects(OPENBIS_SESSION, type =\"REACTION_PRODUCT_CONCEPT\")]\n",
    "    \n",
    "    product_name = object_properties['$name']\n",
    "    if product_name in products_openbis:\n",
    "        display(utils.Javascript(data = \"alert('Reaction product concept is already in openBIS!')\"))\n",
    "        return\n",
    "\n",
    "    object_parents = []\n",
    "    \n",
    "    if product_concept_selector.dropdown.value != -1:\n",
    "        object_parents.append(product_concept_selector.dropdown.value)\n",
    "        \n",
    "    if chemist_selector.dropdown.value != -1:\n",
    "        object_parents.append(chemist_selector.dropdown.value)\n",
    "        \n",
    "    if supplier_selector.dropdown.value != -1:\n",
    "        object_parents.append(supplier_selector.dropdown.value)\n",
    "    \n",
    "    if storage_selector.dropdown.value != -1:\n",
    "        object_parents.append(storage_selector.dropdown.value)\n",
    "\n",
    "    product_object = utils.create_openbis_object(\n",
    "        OPENBIS_SESSION, type=\"REACTION_PRODUCT_CONCEPT\",\n",
    "        collection=\"/MATERIALS/MOLECULES/PRODUCT_COLLECTION\", \n",
    "        props = object_properties,\n",
    "        parents = object_parents\n",
    "    )\n",
    "    \n",
    "    utils.upload_datasets(OPENBIS_SESSION, product_object, product_support_files, \"RAW_DATA\")\n",
    "    display(utils.Javascript(data = \"alert('Upload successful!')\"))\n",
    "    product_widgets.reset_properties_widgets()"
   ]
  },
  {
   "cell_type": "markdown",
   "metadata": {},
   "source": [
    "# Create reaction product"
   ]
  },
  {
   "cell_type": "markdown",
   "metadata": {},
   "source": [
    "## Select reaction product concept"
   ]
  },
  {
   "cell_type": "code",
   "execution_count": null,
   "metadata": {},
   "outputs": [],
   "source": [
    "display(product_concept_selector)"
   ]
  },
  {
   "cell_type": "markdown",
   "metadata": {},
   "source": [
    "## Select chemist"
   ]
  },
  {
   "cell_type": "code",
   "execution_count": null,
   "metadata": {},
   "outputs": [],
   "source": [
    "display(chemist_selector)"
   ]
  },
  {
   "cell_type": "markdown",
   "metadata": {},
   "source": [
    "## Select supplier"
   ]
  },
  {
   "cell_type": "code",
   "execution_count": null,
   "metadata": {},
   "outputs": [],
   "source": [
    "display(supplier_selector)"
   ]
  },
  {
   "cell_type": "markdown",
   "metadata": {},
   "source": [
    "## Select storage"
   ]
  },
  {
   "cell_type": "code",
   "execution_count": null,
   "metadata": {},
   "outputs": [],
   "source": [
    "display(storage_selector)"
   ]
  },
  {
   "cell_type": "markdown",
   "metadata": {},
   "source": [
    "## Properties"
   ]
  },
  {
   "cell_type": "code",
   "execution_count": null,
   "metadata": {},
   "outputs": [],
   "source": [
    "display(product_widgets)"
   ]
  },
  {
   "cell_type": "markdown",
   "metadata": {},
   "source": [
    "## Support files"
   ]
  },
  {
   "cell_type": "code",
   "execution_count": null,
   "metadata": {},
   "outputs": [],
   "source": [
    "display(product_support_files)"
   ]
  },
  {
   "cell_type": "markdown",
   "metadata": {},
   "source": [
    "## Save results"
   ]
  },
  {
   "cell_type": "code",
   "execution_count": null,
   "metadata": {},
   "outputs": [],
   "source": [
    "display(save_close_buttons_hbox)\n",
    "display(increase_buttons_size)\n",
    "create_button.on_click(create_product_openbis)\n",
    "quit_button.on_click(close_notebook)"
   ]
  }
 ],
 "metadata": {
  "kernelspec": {
   "display_name": "base",
   "language": "python",
   "name": "python3"
  },
  "language_info": {
   "codemirror_mode": {
    "name": "ipython",
    "version": 3
   },
   "file_extension": ".py",
   "mimetype": "text/x-python",
   "name": "python",
   "nbconvert_exporter": "python",
   "pygments_lexer": "ipython3",
   "version": "3.9.13"
  }
 },
 "nbformat": 4,
 "nbformat_minor": 2
}
