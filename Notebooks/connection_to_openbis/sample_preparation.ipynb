{
 "cells": [
  {
   "cell_type": "code",
   "execution_count": 1,
   "id": "ddeeca87",
   "metadata": {},
   "outputs": [],
   "source": [
    "from IPython.display import display, Markdown, clear_output\n",
    "import utils\n",
    "import ipywidgets as ipw\n",
    "import json\n",
    "from src import widgets"
   ]
  },
  {
   "cell_type": "code",
   "execution_count": 2,
   "id": "bdb3c468",
   "metadata": {},
   "outputs": [],
   "source": [
    "CONFIG = utils.read_json(\"config.json\")\n",
    "CONFIG_ELN = utils.get_aiidalab_eln_config()\n",
    "DATA_MODEL = utils.read_yaml(\"/home/jovyan/aiida-openbis/Notebooks/Metadata_Schemas_LinkML/materialMLinfo.yaml\")\n",
    "# CONFIG_ELN = utils.read_json(\"eln_config.json\")\n",
    "OPENBIS_SESSION, SESSION_DATA = utils.connect_openbis(CONFIG_ELN[\"url\"], CONFIG_ELN[\"token\"])"
   ]
  },
  {
   "cell_type": "code",
   "execution_count": null,
   "id": "05d65d97",
   "metadata": {},
   "outputs": [],
   "source": [
    "increase_buttons_size = utils.HTML(data = ''.join(CONFIG[\"save_home_buttons_settings\"]))\n",
    "\n",
    "tab_contents = [\"Create new sample\", \"Register processes\"]\n",
    "create_new_sample_vbox = widgets.CreateSampleWidget(OPENBIS_SESSION)\n",
    "register_process_vbox = widgets.RegisterProcessWidget(OPENBIS_SESSION)\n",
    "sample_preparation_tabs = ipw.Tab(\n",
    "    children = [create_new_sample_vbox, register_process_vbox],\n",
    "    layout = ipw.Layout(width='auto')\n",
    ")\n",
    "for i,e in enumerate(tab_contents):\n",
    "    sample_preparation_tabs.set_title(i, e)"
   ]
  },
  {
   "cell_type": "code",
   "execution_count": null,
   "id": "f8b45555",
   "metadata": {},
   "outputs": [],
   "source": [
    "def update_sample_dropdown(b):\n",
    "    register_process_vbox.select_sample_dropdown.load_samples()"
   ]
  },
  {
   "cell_type": "markdown",
   "id": "737c9b06",
   "metadata": {},
   "source": [
    "# Sample preparation"
   ]
  },
  {
   "cell_type": "code",
   "execution_count": null,
   "id": "5962af04",
   "metadata": {},
   "outputs": [],
   "source": [
    "create_new_sample_vbox.save_button.on_click(update_sample_dropdown)"
   ]
  },
  {
   "cell_type": "code",
   "execution_count": null,
   "id": "6709b271",
   "metadata": {},
   "outputs": [
    {
     "data": {
      "application/vnd.jupyter.widget-view+json": {
       "model_id": "7a832b7a4ab94cbca7792a724c810818",
       "version_major": 2,
       "version_minor": 0
      },
      "text/plain": [
       "Tab(children=(CreateSampleWidget(), RegisterProcessWidget()), layout=Layout(width='auto'), _titles={'0': 'Crea…"
      ]
     },
     "metadata": {},
     "output_type": "display_data"
    }
   ],
   "source": [
    "display(sample_preparation_tabs)\n",
    "display(increase_buttons_size)"
   ]
  },
  {
   "cell_type": "code",
   "execution_count": 18,
   "id": "63f82aaa",
   "metadata": {},
   "outputs": [],
   "source": [
    "# transaction_list = []\n",
    "# object_1 = OPENBIS_SESSION.new_sample(\n",
    "#     type = \"ANNEALING\",\n",
    "#     experiment = \"/DEFAULT/DEFAULT/DEFAULT_EXP_1\",\n",
    "#     props = {\"$name\": \"Anneal 1\"}\n",
    "# )\n",
    "# object_2 = OPENBIS_SESSION.new_sample(\n",
    "#     type = \"PROCESS_STEP\",\n",
    "#     experiment = \"/DEFAULT/DEFAULT/DEFAULT_EXP_1\",\n",
    "#     props = {\"$name\": \"Process 1\"},\n",
    "#     parents = [object_1.permId]\n",
    "# )\n",
    "\n",
    "# transaction_list.append(object_1)\n",
    "# transaction_list.append(object_2)\n",
    "# transaction = OPENBIS_SESSION.new_transaction()\n",
    "# for i in transaction_list:\n",
    "#     transaction.add(i)\n",
    "    \n",
    "# transaction.commit()"
   ]
  },
  {
   "cell_type": "code",
   "execution_count": null,
   "id": "71a424d8",
   "metadata": {},
   "outputs": [],
   "source": [
    "# code = o.gen_code('SAMPLE', 'MY_TYPE')\n",
    "# s1 = o.new_sample(code=code, type='MY_TYPE', experiment='/DEFAULT/DEFAULT/DEFAULT', props={'name': 'TRANSACTION_CODE_1_1'})\n",
    "# s2 = o.new_sample(type='MY_TYPE', experiment='/DEFAULT/DEFAULT/DEFAULT', props={'name': 'TRANSACTION_CODE_1_2', 'my_obj': ['/DEFAULT/DEFAULT/' + code]} )\n",
    "# transaction_list = [s1, s2]\n",
    "\n",
    "# transaction = o.new_transaction()\n",
    "# for i in transaction_list:\n",
    "#     transaction.add(i)\n",
    "\n",
    "# transaction.commit()\n"
   ]
  }
 ],
 "metadata": {
  "kernelspec": {
   "display_name": "base",
   "language": "python",
   "name": "python3"
  },
  "language_info": {
   "codemirror_mode": {
    "name": "ipython",
    "version": 3
   },
   "file_extension": ".py",
   "mimetype": "text/x-python",
   "name": "python",
   "nbconvert_exporter": "python",
   "pygments_lexer": "ipython3",
   "version": "3.9.13"
  }
 },
 "nbformat": 4,
 "nbformat_minor": 5
}
