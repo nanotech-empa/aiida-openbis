{
 "cells": [
  {
   "cell_type": "code",
   "execution_count": null,
   "metadata": {},
   "outputs": [],
   "source": [
    "def create_process_action(self,b):\n",
    "        samples = self.openbis_session.get_objects(type = \"SAMPLE\")\n",
    "        samples_names = [sample.props[\"$name\"] for sample in samples]\n",
    "        \n",
    "        if self.sample_out_name_textbox.value in samples_names:\n",
    "            display(Javascript(f\"alert('{'Sample name already exists!'}')\"))\n",
    "        else:\n",
    "            if self.experiments_dropdown.value is None:\n",
    "                print(\"Select an experiment.\")\n",
    "            elif self.samples_dropdown.value is None:\n",
    "                print(\"Select a sample.\")\n",
    "            elif self.instruments_dropdown.value is None:\n",
    "                print(\"Select an instrument.\")\n",
    "            elif self.molecules_dropdown.value is None and self.method_task == \"deposition\":\n",
    "                print(\"Select a molecule.\")\n",
    "            else:\n",
    "                if self.method_task == \"deposition\":\n",
    "                    sample_parents = [self.samples_dropdown.value, self.instruments_dropdown.value, self.molecules_dropdown.value]\n",
    "                else:\n",
    "                    sample_parents = [self.samples_dropdown.value, self.instruments_dropdown.value]\n",
    "                \n",
    "                object_properties = {}\n",
    "                object_properties[\"$name\"] = self.method_name_textbox.value\n",
    "                object_properties[\"comments\"] = self.comments_textbox.value\n",
    "                object_properties[\"pressure\"] = json.dumps({\"value\": self.pressure_value_floatbox.value, \"unit\": self.pressure_unit_dropdown.value})\n",
    "                \n",
    "                if self.method_task in [\"sputtering\", \"annealing\", \"dosing\"]:\n",
    "                    object_properties[\"duration\"] = json.dumps({\"value\": self.duration_value_floatbox.value, \"unit\": self.duration_unit_dropdown.value})\n",
    "                    object_properties[\"temperature\"] = json.dumps({\"value\": self.temperature_value_floatbox.value, \"unit\": self.temperature_unit_dropdown.value})\n",
    "                    \n",
    "                    if self.method_task in [\"sputtering\", \"annealing\"]:\n",
    "                        object_properties[\"voltage\"] = json.dumps({\"value\": self.voltage_value_floatbox.value, \"unit\": self.voltage_unit_dropdown.value})\n",
    "                        object_properties[\"current\"] = json.dumps({\"value\": self.current_value_floatbox.value, \"unit\": self.current_unit_dropdown.value})\n",
    "\n",
    "                        if self.method_task == \"sputtering\":\n",
    "                            object_properties[\"discharge_voltage\"] = json.dumps({\"value\": self.discharge_voltage_value_floatbox.value, \"unit\": self.discharge_voltage_unit_dropdown.value})\n",
    "                            object_properties[\"angle\"] = json.dumps({\"value\": self.angle_value_floatbox.value, \"unit\": self.angle_unit_dropdown.value})\n",
    "\n",
    "                elif self.method_task in [\"deposition\"]:\n",
    "                    object_properties[\"stabilisation_time\"] = json.dumps({\"value\": self.stabilisation_time_value_floatbox.value, \"unit\": self.stabilisation_time_unit_dropdown.value})\n",
    "                    object_properties[\"deposition_time\"] = json.dumps({\"value\": self.deposition_time_value_floatbox.value, \"unit\": self.deposition_time_unit_dropdown.value})\n",
    "                    object_properties[\"substrate_temperature\"] = json.dumps({\"value\": self.substrate_temperature_value_floatbox.value, \"unit\": self.substrate_temperature_unit_dropdown.value})\n",
    "                    object_properties[\"molecule_temperature\"] = json.dumps({\"value\": self.molecule_temperature_value_floatbox.value, \"unit\": self.molecule_temperature_unit_dropdown.value})\n",
    "                    object_properties[\"evaporator_slot\"] = json.dumps({\"evaporator_number\": self.evaporation_slot_value_intslider.value, \"details\": self.evaporation_slot_details_textbox.value})\n",
    "                \n",
    "                method_task = self.openbis_session.new_object(type = self.method_type.upper(), \n",
    "                                                        collection = self.experiments_dropdown.value,\n",
    "                                                        props = object_properties,\n",
    "                                                        parents = sample_parents)\n",
    "                method_task.save()\n",
    "                \n",
    "                self.upload_datasets(self.method_task)\n",
    "\n",
    "                self.openbis_session.new_object(type = \"SAMPLE\",\n",
    "                                        collection = self.samples_collection_openbis_path,\n",
    "                                        props = {\"$name\": self.sample_out_name_textbox.value},\n",
    "                                        parents = [method_task]).save()\n",
    "                print(\"Upload successful!\")"
   ]
  },
  {
   "cell_type": "code",
   "execution_count": 18,
   "metadata": {},
   "outputs": [
    {
     "name": "stdout",
     "output_type": "stream",
     "text": [
      "{'description': 'duration', 'range': 'QuantityValue', 'slot_uri': 'ncit:NCIT_C25330', 'annotations': {'openbis_type': 'JSON', 'openbis_label': 'Duration'}}\n",
      "{'description': 'pressure', 'range': 'QuantityValue', 'slot_uri': 'emmo:EMMO_50a44256_9dc5_434b_bad4_74a4d9a29989', 'annotations': {'openbis_type': 'JSON', 'openbis_label': 'Pressure'}}\n",
      "{'description': 'discharge voltage', 'range': 'QuantityValue', 'slot_uri': 'emmo_electrochemistry:electrochemistry_c7b26177_21bf_4787_b656_8e78edf27f88', 'annotations': {'openbis_type': 'JSON', 'openbis_label': 'Discharge voltage'}}\n",
      "{'description': 'voltage', 'range': 'QuantityValue', 'slot_uri': 'emmo:EMMO_4f2d3939_91b1_4001_b8ab_7d19074bf845', 'annotations': {'openbis_type': 'JSON', 'openbis_label': 'Voltage'}}\n",
      "{'description': 'temperature', 'range': 'QuantityValue', 'slot_uri': 'ncit:NCIT_C25206', 'annotations': {'openbis_type': 'JSON', 'openbis_label': 'Temperature'}}\n",
      "{'description': 'angle', 'range': 'QuantityValue', 'slot_uri': 'emmo:EMMO_f3dd74c0_f480_49e8_9764_33b78638c235', 'annotations': {'openbis_type': 'JSON', 'openbis_label': 'Angle'}}\n",
      "{'description': 'current', 'range': 'QuantityValue', 'slot_uri': 'emmo:EMMO_c995ae70_3b84_4ebb_bcfc_69e6a281bb88', 'annotations': {'openbis_type': 'JSON', 'openbis_label': 'Current'}}\n",
      "{'description': 'name', 'range': 'string', 'slot_uri': 'schema:name', 'annotations': {'openbis_type': 'VARCHAR', 'openbis_label': 'Name'}}\n"
     ]
    }
   ],
   "source": [
    "# object_properties = {}\n",
    "# object_properties[\"$name\"] = self.method_name_textbox.value\n",
    "# object_properties[\"duration\"] = json.dumps({\"value\": self.duration_value_floatbox.value, \"unit\": self.duration_unit_dropdown.value})\n",
    "# object_properties[\"pressure\"] = json.dumps({\"value\": self.pressure_value_floatbox.value, \"unit\": self.pressure_unit_dropdown.value})\n",
    "# object_properties[\"discharge_voltage\"] = json.dumps({\"value\": self.discharge_voltage_value_floatbox.value, \"unit\": self.discharge_voltage_unit_dropdown.value})\n",
    "# object_properties[\"voltage\"] = json.dumps({\"value\": self.voltage_value_floatbox.value, \"unit\": self.voltage_unit_dropdown.value})\n",
    "# object_properties[\"temperature\"] = json.dumps({\"value\": self.temperature_value_floatbox.value, \"unit\": self.temperature_unit_dropdown.value})\n",
    "# object_properties[\"angle\"] = json.dumps({\"value\": self.angle_value_floatbox.value, \"unit\": self.angle_unit_dropdown.value})\n",
    "# object_properties[\"current\"] = json.dumps({\"value\": self.current_value_floatbox.value, \"unit\": self.current_unit_dropdown.value})\n",
    "# object_properties[\"comments\"] = self.comments_textbox.value\n",
    "            \n",
    "            \n",
    "            \n",
    "            "
   ]
  }
 ],
 "metadata": {
  "kernelspec": {
   "display_name": "base",
   "language": "python",
   "name": "python3"
  },
  "language_info": {
   "codemirror_mode": {
    "name": "ipython",
    "version": 3
   },
   "file_extension": ".py",
   "mimetype": "text/x-python",
   "name": "python",
   "nbconvert_exporter": "python",
   "pygments_lexer": "ipython3",
   "version": "3.9.13"
  }
 },
 "nbformat": 4,
 "nbformat_minor": 2
}
