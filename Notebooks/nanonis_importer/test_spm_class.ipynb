{
 "cells": [
  {
   "cell_type": "code",
   "execution_count": 10,
   "metadata": {},
   "outputs": [],
   "source": [
    "import spmpy\n",
    "\n",
    "sxm_data_filepath = \"/home/jovyan/measurements_data/prep1/RT008/01_04_RT008/img_0001.sxm\"\n",
    "dat_data_filepath = \"/home/jovyan/measurements_data_RT009/prep10/RT009/10_11_RT009/didv_00091.dat\"\n",
    "\n",
    "s = spmpy.Spm(sxm_data_filepath)\n",
    "# s.print_params_dict()\n",
    "x = s.signals.keys()"
   ]
  },
  {
   "cell_type": "code",
   "execution_count": 21,
   "metadata": {},
   "outputs": [
    {
     "data": {
      "text/plain": [
       "['1.000E-10', 'A']"
      ]
     },
     "execution_count": 21,
     "metadata": {},
     "output_type": "execute_result"
    }
   ],
   "source": [
    "s.header['z-controller'][\"Setpoint\"][0].split()"
   ]
  },
  {
   "cell_type": "code",
   "execution_count": 14,
   "metadata": {},
   "outputs": [
    {
     "ename": "KeyError",
     "evalue": "'z-controller>controller status'",
     "output_type": "error",
     "traceback": [
      "\u001b[0;31m---------------------------------------------------------------------------\u001b[0m",
      "\u001b[0;31mKeyError\u001b[0m                                  Traceback (most recent call last)",
      "\u001b[0;32m/tmp/ipykernel_1493/2026662134.py\u001b[0m in \u001b[0;36m<cell line: 1>\u001b[0;34m()\u001b[0m\n\u001b[0;32m----> 1\u001b[0;31m \u001b[0ms\u001b[0m\u001b[0;34m.\u001b[0m\u001b[0mheader\u001b[0m\u001b[0;34m[\u001b[0m\u001b[0;34m\"z-controller>controller status\"\u001b[0m\u001b[0;34m]\u001b[0m\u001b[0;34m\u001b[0m\u001b[0;34m\u001b[0m\u001b[0m\n\u001b[0m",
      "\u001b[0;31mKeyError\u001b[0m: 'z-controller>controller status'"
     ]
    }
   ],
   "source": [
    "s.header[\"z-controller>controller status\"]"
   ]
  },
  {
   "cell_type": "code",
   "execution_count": 3,
   "metadata": {},
   "outputs": [
    {
     "name": "stdout",
     "output_type": "stream",
     "text": [
      "{'bias': (0.6, 'V'), 'date': '11.11.2022 14:24:58', 'z-controller_hold': 'FALSE', 'z-controller_setpoint': (50.0, 'pA'), 'lock_in_amplitude': (10.0, 'mV'), 'lock_in_frequency': (681.0, 'Hz'), 'lock_in_phase': None, 'oscillation_control_frequency': (29936.8, 'Hz'), 'oscillation_control_amplitude_ctrl': 'FALSE', 'oscillation_control_amplitude_setpoint': '100E-12'}\n"
     ]
    },
    {
     "data": {
      "text/plain": [
       "{'z-controller (setpoint)': '50.00 pA', 'z-controller (hold)': 'FALSE'}"
      ]
     },
     "execution_count": 3,
     "metadata": {},
     "output_type": "execute_result"
    }
   ],
   "source": [
    "s.print_params_dict()"
   ]
  },
  {
   "cell_type": "code",
   "execution_count": null,
   "metadata": {},
   "outputs": [
    {
     "name": "stdout",
     "output_type": "stream",
     "text": [
      "Connected to local.openbis.ch -> token: admin-250514093435243x6789F6842CB816D4E3B24D452F130121\n",
      "8 files imported; 0 scan(s), 8 spectra, and 0 grids\n",
      "DataSet successfully created.\n",
      "Created imaging .DAT dataset: 20250514093438321-4479\n",
      "Computing previews for dataset: 20250514093438321-4479\n",
      "8 files imported; 0 scan(s), 8 spectra, and 0 grids\n",
      "DataSet successfully updated.\n"
     ]
    }
   ],
   "source": [
    "import nanonis_importer\n",
    "session = nanonis_importer.get_instance(\"local.openbis.ch\", \"admin\", \"123456789\")\n",
    "sxm_data_filepath = \"/home/jovyan/measurements_data/prep5/RT008/05_10_RT008/img_0389.sxm\"\n",
    "dat_data_filepath = \"/home/jovyan/aiida-openbis/Notebooks/nanonis_importer/data/didv_00063.dat\"\n",
    "dat_data_folderpath = \"/home/jovyan/aiida-openbis/Notebooks/nanonis_importer/data/\"\n",
    "\n",
    "nanonis_importer.demo_dat_flow(\n",
    "    session, \n",
    "    folder_path = dat_data_folderpath, \n",
    "    experiment = '20250401122316172-2939', \n",
    "    sample = '20250512201816258-4474'\n",
    ")"
   ]
  },
  {
   "cell_type": "code",
   "execution_count": 2,
   "metadata": {},
   "outputs": [
    {
     "name": "stdout",
     "output_type": "stream",
     "text": [
      "Connected to local.openbis.ch -> token: $pat-admin-250506121502739x17AA8CA717CD0E21DD0E056FCEA1375D\n",
      "SXM file: img_0001.sxm\n",
      "Created imaging .SXM dataset: 20250522072138162-9974\n",
      "Computing preview for dataset: 20250522072138162-9974\n",
      "SXM file: img_0002.sxm\n",
      "Created imaging .SXM dataset: 20250522072143313-9975\n",
      "Computing preview for dataset: 20250522072143313-9975\n",
      "SXM file: img_0003.sxm\n",
      "Created imaging .SXM dataset: 20250522072147277-9976\n",
      "Computing preview for dataset: 20250522072147277-9976\n",
      "SXM file: img_0004.sxm\n",
      "Created imaging .SXM dataset: 20250522072151398-9977\n",
      "Computing preview for dataset: 20250522072151398-9977\n",
      "SXM file: img_0005.sxm\n",
      "Created imaging .SXM dataset: 20250522072155693-9978\n",
      "Computing preview for dataset: 20250522072155693-9978\n",
      "SXM file: img_0006.sxm\n",
      "Created imaging .SXM dataset: 20250522072200371-9979\n",
      "Computing preview for dataset: 20250522072200371-9979\n",
      "SXM file: img_0007.sxm\n",
      "Created imaging .SXM dataset: 20250522072205257-9980\n",
      "Computing preview for dataset: 20250522072205257-9980\n",
      "SXM file: img_0008.sxm\n",
      "Created imaging .SXM dataset: 20250522072209438-9981\n",
      "Computing preview for dataset: 20250522072209438-9981\n",
      "SXM file: img_0009.sxm\n",
      "Created imaging .SXM dataset: 20250522072213504-9982\n",
      "Computing preview for dataset: 20250522072213504-9982\n",
      "SXM file: img_0010.sxm\n",
      "Created imaging .SXM dataset: 20250522072217949-9983\n",
      "Computing preview for dataset: 20250522072217949-9983\n",
      "4 files imported; 0 scan(s), 4 spectra, and 0 grids\n",
      "Missing Header Key, 'Z-Controller>Setpoint'\n",
      "Missing Header Key, 'Oscillation Control>Center Frequency (Hz)'\n",
      "Created imaging .DAT dataset: 20250522072222368-9984\n",
      "Computing previews for dataset: 20250522072222368-9984\n",
      "4 files imported; 0 scan(s), 4 spectra, and 0 grids\n",
      "SXM file: img_0011.sxm\n",
      "Created imaging .SXM dataset: 20250522072226674-9985\n",
      "Computing preview for dataset: 20250522072226674-9985\n",
      "SXM file: img_0012.sxm\n",
      "Created imaging .SXM dataset: 20250522072230901-9986\n",
      "Computing preview for dataset: 20250522072230901-9986\n",
      "1 files imported; 0 scan(s), 1 spectra, and 0 grids\n",
      "Missing Header Key, 'Z-Controller>Setpoint'\n",
      "Missing Header Key, 'Oscillation Control>Center Frequency (Hz)'\n",
      "Created imaging .DAT dataset: 20250522072235263-9987\n",
      "Computing previews for dataset: 20250522072235263-9987\n",
      "1 files imported; 0 scan(s), 1 spectra, and 0 grids\n",
      "SXM file: img_0013.sxm\n",
      "Created imaging .SXM dataset: 20250522072239565-9988\n",
      "Computing preview for dataset: 20250522072239565-9988\n",
      "SXM file: img_0014.sxm\n",
      "Created imaging .SXM dataset: 20250522072243838-9989\n",
      "Computing preview for dataset: 20250522072243838-9989\n",
      "SXM file: img_0015.sxm\n",
      "Created imaging .SXM dataset: 20250522072248145-9990\n",
      "Computing preview for dataset: 20250522072248145-9990\n",
      "SXM file: img_0016.sxm\n",
      "Created imaging .SXM dataset: 20250522072252392-9991\n",
      "Computing preview for dataset: 20250522072252392-9991\n",
      "SXM file: img_0017.sxm\n",
      "Created imaging .SXM dataset: 20250522072256651-9992\n",
      "Computing preview for dataset: 20250522072256651-9992\n",
      "SXM file: img_0018.sxm\n",
      "Created imaging .SXM dataset: 20250522072300984-9993\n",
      "Computing preview for dataset: 20250522072300984-9993\n",
      "SXM file: img_0019.sxm\n",
      "Created imaging .SXM dataset: 20250522072305372-9994\n",
      "Computing preview for dataset: 20250522072305372-9994\n",
      "2 files imported; 0 scan(s), 2 spectra, and 0 grids\n",
      "Missing Header Key, 'Z-Controller>Setpoint'\n",
      "Missing Header Key, 'Oscillation Control>Center Frequency (Hz)'\n",
      "Created imaging .DAT dataset: 20250522072309990-9995\n",
      "Computing previews for dataset: 20250522072309990-9995\n",
      "2 files imported; 0 scan(s), 2 spectra, and 0 grids\n",
      "SXM file: img_0020.sxm\n",
      "Created imaging .SXM dataset: 20250522072314415-9996\n",
      "Computing preview for dataset: 20250522072314415-9996\n",
      "OK\n"
     ]
    },
    {
     "data": {
      "text/plain": [
       "CompletedProcess(args=['python3', '/home/jovyan/aiida-openbis/Notebooks/nanonis_importer/nanonis_importer.py', 'local.openbis.ch', 'admin', '$pat-admin-250506121502739x17AA8CA717CD0E21DD0E056FCEA1375D', '/home/jovyan/measurements_data/prep1/RT008/01_06_RT008', '20250521142009066-9851'], returncode=0)"
      ]
     },
     "execution_count": 2,
     "metadata": {},
     "output_type": "execute_result"
    }
   ],
   "source": [
    "script_filename = \"/home/jovyan/aiida-openbis/Notebooks/nanonis_importer/nanonis_importer.py\"\n",
    "openbis_url = \"local.openbis.ch\"\n",
    "openbis_user = \"admin\"\n",
    "openbis_token = \"$pat-admin-250506121502739x17AA8CA717CD0E21DD0E056FCEA1375D\"\n",
    "data_folder = \"/home/jovyan/measurements_data/prep1/RT008/01_06_RT008\"\n",
    "sample_permid = \"20250521142009066-9851\"\n",
    "\n",
    "import subprocess\n",
    "\n",
    "subprocess.run([\n",
    "    \"python3\",\n",
    "    script_filename,\n",
    "    openbis_url,\n",
    "    openbis_user,\n",
    "    openbis_token,\n",
    "    data_folder,\n",
    "    sample_permid\n",
    "]) "
   ]
  }
 ],
 "metadata": {
  "kernelspec": {
   "display_name": "base",
   "language": "python",
   "name": "python3"
  },
  "language_info": {
   "codemirror_mode": {
    "name": "ipython",
    "version": 3
   },
   "file_extension": ".py",
   "mimetype": "text/x-python",
   "name": "python",
   "nbconvert_exporter": "python",
   "pygments_lexer": "ipython3",
   "version": "3.9.13"
  }
 },
 "nbformat": 4,
 "nbformat_minor": 2
}
