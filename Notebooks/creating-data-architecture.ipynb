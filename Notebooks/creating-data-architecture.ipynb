{
 "cells": [
  {
   "cell_type": "markdown",
   "metadata": {},
   "source": [
    "### Load libraries"
   ]
  },
  {
   "cell_type": "code",
   "execution_count": 17,
   "metadata": {},
   "outputs": [],
   "source": [
    "import yaml\n",
    "import copy\n",
    "import pandas as pd\n",
    "from aiida_openbis.utils import bisutils\n",
    "import utils"
   ]
  },
  {
   "cell_type": "markdown",
   "metadata": {},
   "source": [
    "### Connect to openbis"
   ]
  },
  {
   "cell_type": "code",
   "execution_count": 2,
   "metadata": {},
   "outputs": [],
   "source": [
    "session = bisutils.log_in(bisurl=\"openbis\", bisuser=\"admin\", bispasswd=\"changeit\")"
   ]
  },
  {
   "cell_type": "markdown",
   "metadata": {},
   "source": [
    "### Load property types and object types from YAML file"
   ]
  },
  {
   "cell_type": "code",
   "execution_count": 72,
   "metadata": {},
   "outputs": [],
   "source": [
    "with open('./object_types.yml', mode='r') as fhandle:\n",
    "    items = yaml.safe_load(fhandle)"
   ]
  },
  {
   "cell_type": "markdown",
   "metadata": {},
   "source": [
    "### Create new objects"
   ]
  },
  {
   "cell_type": "code",
   "execution_count": 20,
   "metadata": {},
   "outputs": [],
   "source": [
    "s = session.get_property_types()\n",
    "p = utils.scanning_property_types(s,'NAME')"
   ]
  },
  {
   "cell_type": "code",
   "execution_count": null,
   "metadata": {},
   "outputs": [],
   "source": [
    "for key, value in items['property_types'].items():\n",
    "    try:\n",
    "        print(key)\n",
    "        session.new_property_type(code=key, **value).save()\n",
    "    except ValueError as err:\n",
    "        print(\"Error\", err)"
   ]
  },
  {
   "cell_type": "markdown",
   "metadata": {},
   "source": [
    "### Load data architecture from YAML file"
   ]
  },
  {
   "cell_type": "code",
   "execution_count": null,
   "metadata": {},
   "outputs": [],
   "source": [
    "with open('./data_architecture.yml', mode='r') as fhandle:\n",
    "    items = yaml.safe_load(fhandle)"
   ]
  },
  {
   "cell_type": "markdown",
   "metadata": {},
   "source": [
    "### Creating Spaces"
   ]
  },
  {
   "cell_type": "code",
   "execution_count": 49,
   "metadata": {},
   "outputs": [
    {
     "name": "stdout",
     "output_type": "stream",
     "text": [
      "sample successfully created.\n"
     ]
    }
   ],
   "source": [
    "session.new_sample(experiment = '/CARBON_NANOMATERIALS/TRIANGULENE_SPIN_CHAINS/TRIANGULENE_SPIN_CHAINS_EXP', \n",
    "type = 'MOLECULE', \n",
    "props= {'id': '5', 'smiles': 'C', 'name':'cr7'}).save()"
   ]
  },
  {
   "cell_type": "code",
   "execution_count": 55,
   "metadata": {},
   "outputs": [
    {
     "data": {
      "text/html": [
       "\n",
       "            <table border=\"1\" class=\"dataframe\">\n",
       "            <thead>\n",
       "                <tr style=\"text-align: right;\">\n",
       "                <th>attribute</th>\n",
       "                <th>value</th>\n",
       "                </tr>\n",
       "            </thead>\n",
       "            <tbody>\n",
       "        <tr> <td>code</td> <td>PRE40</td> </tr><tr> <td>permId</td> <td>20231004140535470-76</td> </tr><tr> <td>identifier</td> <td>/CARBON_NANOMATERIALS/TRIANGULENE_SPIN_CHAINS/PRE40</td> </tr><tr> <td>type</td> <td>PREPARATION</td> </tr><tr> <td>project</td> <td>/CARBON_NANOMATERIALS/TRIANGULENE_SPIN_CHAINS</td> </tr><tr> <td>parents</td> <td>[]</td> </tr><tr> <td>children</td> <td>[]</td> </tr><tr> <td>components</td> <td>[]</td> </tr><tr> <td>space</td> <td>CARBON_NANOMATERIALS</td> </tr><tr> <td>experiment</td> <td>/CARBON_NANOMATERIALS/TRIANGULENE_SPIN_CHAINS/TRIANGULENE_SPIN_CHAINS_EXP</td> </tr><tr> <td>tags</td> <td>[]</td> </tr><tr> <td>registrator</td> <td>admin</td> </tr><tr> <td>registrationDate</td> <td>2023-10-04 16:05:35</td> </tr><tr> <td>modifier</td> <td>admin</td> </tr><tr> <td>modificationDate</td> <td>2023-10-04 16:05:35</td> </tr><tr> <td>container</td> <td></td> </tr><tr> <td>frozen</td> <td>False</td> </tr><tr> <td>frozenForComponents</td> <td>False</td> </tr><tr> <td>frozenForChildren</td> <td>False</td> </tr><tr> <td>frozenForParents</td> <td>False</td> </tr><tr> <td>frozenForDataSets</td> <td>False</td> </tr><tr> <td>metaData</td> <td></td> </tr><tr><td>attachments</td><td></td></tr>\n",
       "            </tbody>\n",
       "            </table>\n",
       "        "
      ],
      "text/plain": [
       "attribute            value\n",
       "-------------------  -------------------------------------------------------------------------\n",
       "code                 PRE40\n",
       "permId               20231004140535470-76\n",
       "identifier           /CARBON_NANOMATERIALS/TRIANGULENE_SPIN_CHAINS/PRE40\n",
       "type                 PREPARATION\n",
       "project              /CARBON_NANOMATERIALS/TRIANGULENE_SPIN_CHAINS\n",
       "parents              []\n",
       "children             []\n",
       "components           []\n",
       "space                CARBON_NANOMATERIALS\n",
       "experiment           /CARBON_NANOMATERIALS/TRIANGULENE_SPIN_CHAINS/TRIANGULENE_SPIN_CHAINS_EXP\n",
       "tags                 []\n",
       "registrator          admin\n",
       "registrationDate     2023-10-04 16:05:35\n",
       "modifier             admin\n",
       "modificationDate     2023-10-04 16:05:35\n",
       "container\n",
       "frozen               False\n",
       "frozenForComponents  False\n",
       "frozenForChildren    False\n",
       "frozenForParents     False\n",
       "frozenForDataSets    False\n",
       "metaData"
      ]
     },
     "execution_count": 55,
     "metadata": {},
     "output_type": "execute_result"
    }
   ],
   "source": [
    "session.get_sample('/carbon_nanomaterials/triangulene_spin_chains/triangulene_spin_chains_exp/PRE40')"
   ]
  }
 ],
 "metadata": {
  "kernelspec": {
   "display_name": "base",
   "language": "python",
   "name": "python3"
  },
  "language_info": {
   "codemirror_mode": {
    "name": "ipython",
    "version": 3
   },
   "file_extension": ".py",
   "mimetype": "text/x-python",
   "name": "python",
   "nbconvert_exporter": "python",
   "pygments_lexer": "ipython3",
   "version": "3.9.13"
  },
  "orig_nbformat": 4
 },
 "nbformat": 4,
 "nbformat_minor": 2
}
