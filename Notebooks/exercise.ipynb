{
 "cells": [
  {
   "cell_type": "code",
   "execution_count": 1,
   "id": "0410c7cf",
   "metadata": {},
   "outputs": [],
   "source": [
    "import yaml\n",
    "import copy\n",
    "from aiida_openbis.utils import bisutils"
   ]
  },
  {
   "cell_type": "code",
   "execution_count": 2,
   "id": "6f9577f0",
   "metadata": {},
   "outputs": [],
   "source": [
    "session = bisutils.log_in(bisurl=\"openbis\", bisuser=\"admin\", bispasswd=\"changeit\")"
   ]
  },
  {
   "cell_type": "markdown",
   "id": "fc482ad4",
   "metadata": {},
   "source": [
    "# Load object_types and property_types from yml file"
   ]
  },
  {
   "cell_type": "code",
   "execution_count": 3,
   "id": "f0ac5839",
   "metadata": {},
   "outputs": [],
   "source": [
    "with open('./object_types.yml', mode='r') as fhandle:\n",
    "    items = yaml.safe_load(fhandle)"
   ]
  },
  {
   "cell_type": "markdown",
   "id": "f8b8e2f1",
   "metadata": {},
   "source": [
    "# Property types"
   ]
  },
  {
   "cell_type": "code",
   "execution_count": 4,
   "id": "f9cfa347",
   "metadata": {},
   "outputs": [
    {
     "name": "stdout",
     "output_type": "stream",
     "text": [
      "name\n",
      "{\"method\": \"createPropertyTypes\", \"params\": [\"admin-230517074035171x3B4ABF0A59B9BE60016AC60EFF73A378\", [{\"@type\": \"as.dto.property.create.PropertyTypeCreation\", \"code\": \"name\", \"label\": \"Name\", \"description\": \"Name of the object\", \"managedInternally\": false, \"dataType\": \"VARCHAR\", \"vocabularyId\": null, \"materialTypeId\": null, \"schema\": null, \"transformation\": null, \"metaData\": null}]], \"id\": \"2\", \"jsonrpc\": \"2.0\"}\n",
      "Error Property type already exists in the database and needs to be unique. (Context: [])\n",
      "smiles\n",
      "{\"method\": \"createPropertyTypes\", \"params\": [\"admin-230517074035171x3B4ABF0A59B9BE60016AC60EFF73A378\", [{\"@type\": \"as.dto.property.create.PropertyTypeCreation\", \"code\": \"smiles\", \"label\": \"SMILES\", \"description\": \"One line notation for describing the structure of a molecule.\", \"managedInternally\": false, \"dataType\": \"VARCHAR\", \"vocabularyId\": null, \"materialTypeId\": null, \"schema\": null, \"transformation\": null, \"metaData\": null}]], \"id\": \"2\", \"jsonrpc\": \"2.0\"}\n",
      "Error Property type already exists in the database and needs to be unique. (Context: [])\n",
      "id\n",
      "{\"method\": \"createPropertyTypes\", \"params\": [\"admin-230517074035171x3B4ABF0A59B9BE60016AC60EFF73A378\", [{\"@type\": \"as.dto.property.create.PropertyTypeCreation\", \"code\": \"id\", \"label\": \"ID\", \"description\": \"identifier\", \"managedInternally\": false, \"dataType\": \"VARCHAR\", \"vocabularyId\": null, \"materialTypeId\": null, \"schema\": null, \"transformation\": null, \"metaData\": null}]], \"id\": \"2\", \"jsonrpc\": \"2.0\"}\n",
      "Error Property type already exists in the database and needs to be unique. (Context: [])\n",
      "yield\n",
      "{\"method\": \"createPropertyTypes\", \"params\": [\"admin-230517074035171x3B4ABF0A59B9BE60016AC60EFF73A378\", [{\"@type\": \"as.dto.property.create.PropertyTypeCreation\", \"code\": \"yield\", \"label\": \"yield\", \"description\": \"Yield\", \"managedInternally\": false, \"dataType\": \"VARCHAR\", \"vocabularyId\": null, \"materialTypeId\": null, \"schema\": null, \"transformation\": null, \"metaData\": null}]], \"id\": \"2\", \"jsonrpc\": \"2.0\"}\n",
      "Error Property type already exists in the database and needs to be unique. (Context: [])\n",
      "length\n",
      "{\"method\": \"createPropertyTypes\", \"params\": [\"admin-230517074035171x3B4ABF0A59B9BE60016AC60EFF73A378\", [{\"@type\": \"as.dto.property.create.PropertyTypeCreation\", \"code\": \"length\", \"label\": \"length\", \"description\": \"Length of the molecule\", \"managedInternally\": false, \"dataType\": \"VARCHAR\", \"vocabularyId\": null, \"materialTypeId\": null, \"schema\": null, \"transformation\": null, \"metaData\": null}]], \"id\": \"2\", \"jsonrpc\": \"2.0\"}\n",
      "Error Property type already exists in the database and needs to be unique. (Context: [])\n",
      "temperature\n",
      "{\"method\": \"createPropertyTypes\", \"params\": [\"admin-230517074035171x3B4ABF0A59B9BE60016AC60EFF73A378\", [{\"@type\": \"as.dto.property.create.PropertyTypeCreation\", \"code\": \"temperature\", \"label\": \"temperature\", \"description\": \"Temperature\", \"managedInternally\": false, \"dataType\": \"VARCHAR\", \"vocabularyId\": null, \"materialTypeId\": null, \"schema\": null, \"transformation\": null, \"metaData\": null}]], \"id\": \"2\", \"jsonrpc\": \"2.0\"}\n",
      "Error Property type already exists in the database and needs to be unique. (Context: [])\n",
      "aiida.uuid\n",
      "{\"method\": \"createPropertyTypes\", \"params\": [\"admin-230517074035171x3B4ABF0A59B9BE60016AC60EFF73A378\", [{\"@type\": \"as.dto.property.create.PropertyTypeCreation\", \"code\": \"aiida.uuid\", \"label\": \"AiiDA UUID\", \"description\": \"UUID of the object in the AiiDA database\", \"managedInternally\": false, \"dataType\": \"VARCHAR\", \"vocabularyId\": null, \"materialTypeId\": null, \"schema\": null, \"transformation\": null, \"metaData\": null}]], \"id\": \"2\", \"jsonrpc\": \"2.0\"}\n",
      "Error Property type already exists in the database and needs to be unique. (Context: [])\n",
      "aiida.notes\n",
      "{\"method\": \"createPropertyTypes\", \"params\": [\"admin-230517074035171x3B4ABF0A59B9BE60016AC60EFF73A378\", [{\"@type\": \"as.dto.property.create.PropertyTypeCreation\", \"code\": \"aiida.notes\", \"label\": \"AiiDA Notes\", \"description\": \"Notes about the object\", \"managedInternally\": false, \"dataType\": \"VARCHAR\", \"vocabularyId\": null, \"materialTypeId\": null, \"schema\": null, \"transformation\": null, \"metaData\": null}]], \"id\": \"2\", \"jsonrpc\": \"2.0\"}\n",
      "Error Property type already exists in the database and needs to be unique. (Context: [])\n",
      "aiida.server_url\n",
      "{\"method\": \"createPropertyTypes\", \"params\": [\"admin-230517074035171x3B4ABF0A59B9BE60016AC60EFF73A378\", [{\"@type\": \"as.dto.property.create.PropertyTypeCreation\", \"code\": \"aiida.server_url\", \"label\": \"AiiDA Server URL\", \"description\": \"URL of the AiiDA server\", \"managedInternally\": false, \"dataType\": \"VARCHAR\", \"vocabularyId\": null, \"materialTypeId\": null, \"schema\": null, \"transformation\": null, \"metaData\": null}]], \"id\": \"2\", \"jsonrpc\": \"2.0\"}\n",
      "Error Property type already exists in the database and needs to be unique. (Context: [])\n",
      "xml.image\n",
      "{\"method\": \"createPropertyTypes\", \"params\": [\"admin-230517074035171x3B4ABF0A59B9BE60016AC60EFF73A378\", [{\"@type\": \"as.dto.property.create.PropertyTypeCreation\", \"code\": \"xml.image\", \"label\": \"XML Image\", \"description\": \"XML image\", \"managedInternally\": false, \"dataType\": \"MULTILINE_VARCHAR\", \"vocabularyId\": null, \"materialTypeId\": null, \"schema\": null, \"transformation\": null, \"metaData\": {\"custom_widget\": \"Word Processor\"}}]], \"id\": \"2\", \"jsonrpc\": \"2.0\"}\n",
      "Error Property type already exists in the database and needs to be unique. (Context: [])\n"
     ]
    }
   ],
   "source": [
    "for key, value in items['property_types'].items():\n",
    "    try:\n",
    "        print(key)\n",
    "        session.new_property_type(code=key, **value).save()\n",
    "    except ValueError as err:\n",
    "        print(\"Error\", err)"
   ]
  },
  {
   "cell_type": "markdown",
   "id": "b7c2a7a0",
   "metadata": {},
   "source": [
    "# Object types"
   ]
  },
  {
   "cell_type": "code",
   "execution_count": 5,
   "id": "62291940",
   "metadata": {},
   "outputs": [
    {
     "name": "stdout",
     "output_type": "stream",
     "text": [
      "chemsketch\n",
      "{\"method\": \"createSampleTypes\", \"params\": [\"admin-230517074035171x3B4ABF0A59B9BE60016AC60EFF73A378\", [{\"@type\": \"as.dto.sample.create.SampleTypeCreation\", \"code\": \"chemsketch\", \"description\": null, \"autoGeneratedCode\": true, \"generatedCodePrefix\": \"CSK\", \"subcodeUnique\": null, \"listable\": true, \"showContainer\": false, \"showParents\": true, \"showParentMetadata\": false, \"validationPluginId\": null}]], \"id\": \"2\", \"jsonrpc\": \"2.0\"}\n",
      "The property chemsketch seem to already be present\n",
      "Entity type 'CHEMSKETCH'  already exists in the database and needs to be unique. (Context: [creating (1/1) {\n",
      "  \"creation\" : {\n",
      "    \"@type\" : \"as.dto.sample.create.SampleTypeCreation\",\n",
      "    \"@id\" : 1,\n",
      "    \"code\" : \"chemsketch\",\n",
      "    \"autoGeneratedCode\" : true,\n",
      "    \"generatedCodePrefix\" : \"CSK\",\n",
      "    \"subcodeUnique\" : false,\n",
      "    \"listable\" : true,\n",
      "    \"showContainer\" : false,\n",
      "    \"showParents\" : true,\n",
      "    \"showParentMetadata\" : false\n",
      "  }\n",
      "}])\n",
      "molecule\n",
      "{\"method\": \"createSampleTypes\", \"params\": [\"admin-230517074035171x3B4ABF0A59B9BE60016AC60EFF73A378\", [{\"@type\": \"as.dto.sample.create.SampleTypeCreation\", \"code\": \"molecule\", \"description\": null, \"autoGeneratedCode\": true, \"generatedCodePrefix\": \"MOL\", \"subcodeUnique\": null, \"listable\": true, \"showContainer\": false, \"showParents\": true, \"showParentMetadata\": false, \"validationPluginId\": null}]], \"id\": \"2\", \"jsonrpc\": \"2.0\"}\n",
      "The property molecule seem to already be present\n",
      "Entity type 'MOLECULE'  already exists in the database and needs to be unique. (Context: [creating (1/1) {\n",
      "  \"creation\" : {\n",
      "    \"@type\" : \"as.dto.sample.create.SampleTypeCreation\",\n",
      "    \"@id\" : 1,\n",
      "    \"code\" : \"molecule\",\n",
      "    \"autoGeneratedCode\" : true,\n",
      "    \"generatedCodePrefix\" : \"MOL\",\n",
      "    \"subcodeUnique\" : false,\n",
      "    \"listable\" : true,\n",
      "    \"showContainer\" : false,\n",
      "    \"showParents\" : true,\n",
      "    \"showParentMetadata\" : false\n",
      "  }\n",
      "}])\n",
      "molecule_product\n",
      "{\"method\": \"createSampleTypes\", \"params\": [\"admin-230517074035171x3B4ABF0A59B9BE60016AC60EFF73A378\", [{\"@type\": \"as.dto.sample.create.SampleTypeCreation\", \"code\": \"molecule_product\", \"description\": null, \"autoGeneratedCode\": true, \"generatedCodePrefix\": \"MOP\", \"subcodeUnique\": null, \"listable\": true, \"showContainer\": false, \"showParents\": true, \"showParentMetadata\": false, \"validationPluginId\": null}]], \"id\": \"2\", \"jsonrpc\": \"2.0\"}\n",
      "The property molecule_product seem to already be present\n",
      "Entity type 'MOLECULE_PRODUCT'  already exists in the database and needs to be unique. (Context: [creating (1/1) {\n",
      "  \"creation\" : {\n",
      "    \"@type\" : \"as.dto.sample.create.SampleTypeCreation\",\n",
      "    \"@id\" : 1,\n",
      "    \"code\" : \"molecule_product\",\n",
      "    \"autoGeneratedCode\" : true,\n",
      "    \"generatedCodePrefix\" : \"MOP\",\n",
      "    \"subcodeUnique\" : false,\n",
      "    \"listable\" : true,\n",
      "    \"showContainer\" : false,\n",
      "    \"showParents\" : true,\n",
      "    \"showParentMetadata\" : false\n",
      "  }\n",
      "}])\n",
      "aiidalab_spm\n",
      "{\"method\": \"createSampleTypes\", \"params\": [\"admin-230517074035171x3B4ABF0A59B9BE60016AC60EFF73A378\", [{\"@type\": \"as.dto.sample.create.SampleTypeCreation\", \"code\": \"aiidalab_spm\", \"description\": null, \"autoGeneratedCode\": true, \"generatedCodePrefix\": \"SPM\", \"subcodeUnique\": null, \"listable\": true, \"showContainer\": false, \"showParents\": true, \"showParentMetadata\": false, \"validationPluginId\": null}]], \"id\": \"2\", \"jsonrpc\": \"2.0\"}\n",
      "The property aiidalab_spm seem to already be present\n",
      "Entity type 'AIIDALAB_SPM'  already exists in the database and needs to be unique. (Context: [creating (1/1) {\n",
      "  \"creation\" : {\n",
      "    \"@type\" : \"as.dto.sample.create.SampleTypeCreation\",\n",
      "    \"@id\" : 1,\n",
      "    \"code\" : \"aiidalab_spm\",\n",
      "    \"autoGeneratedCode\" : true,\n",
      "    \"generatedCodePrefix\" : \"SPM\",\n",
      "    \"subcodeUnique\" : false,\n",
      "    \"listable\" : true,\n",
      "    \"showContainer\" : false,\n",
      "    \"showParents\" : true,\n",
      "    \"showParentMetadata\" : false\n",
      "  }\n",
      "}])\n",
      "structuredata\n",
      "{\"method\": \"createSampleTypes\", \"params\": [\"admin-230517074035171x3B4ABF0A59B9BE60016AC60EFF73A378\", [{\"@type\": \"as.dto.sample.create.SampleTypeCreation\", \"code\": \"structuredata\", \"description\": null, \"autoGeneratedCode\": true, \"generatedCodePrefix\": \"SDT\", \"subcodeUnique\": null, \"listable\": true, \"showContainer\": false, \"showParents\": true, \"showParentMetadata\": false, \"validationPluginId\": null}]], \"id\": \"2\", \"jsonrpc\": \"2.0\"}\n",
      "The property structuredata seem to already be present\n",
      "Entity type 'STRUCTUREDATA'  already exists in the database and needs to be unique. (Context: [creating (1/1) {\n",
      "  \"creation\" : {\n",
      "    \"@type\" : \"as.dto.sample.create.SampleTypeCreation\",\n",
      "    \"@id\" : 1,\n",
      "    \"code\" : \"structuredata\",\n",
      "    \"autoGeneratedCode\" : true,\n",
      "    \"generatedCodePrefix\" : \"SDT\",\n",
      "    \"subcodeUnique\" : false,\n",
      "    \"listable\" : true,\n",
      "    \"showContainer\" : false,\n",
      "    \"showParents\" : true,\n",
      "    \"showParentMetadata\" : false\n",
      "  }\n",
      "}])\n",
      "aiidalab_geo_opt\n",
      "{\"method\": \"createSampleTypes\", \"params\": [\"admin-230517074035171x3B4ABF0A59B9BE60016AC60EFF73A378\", [{\"@type\": \"as.dto.sample.create.SampleTypeCreation\", \"code\": \"aiidalab_geo_opt\", \"description\": null, \"autoGeneratedCode\": true, \"generatedCodePrefix\": \"AGO\", \"subcodeUnique\": null, \"listable\": true, \"showContainer\": false, \"showParents\": true, \"showParentMetadata\": false, \"validationPluginId\": null}]], \"id\": \"2\", \"jsonrpc\": \"2.0\"}\n",
      "The property aiidalab_geo_opt seem to already be present\n",
      "Entity type 'AIIDALAB_GEO_OPT'  already exists in the database and needs to be unique. (Context: [creating (1/1) {\n",
      "  \"creation\" : {\n",
      "    \"@type\" : \"as.dto.sample.create.SampleTypeCreation\",\n",
      "    \"@id\" : 1,\n",
      "    \"code\" : \"aiidalab_geo_opt\",\n",
      "    \"autoGeneratedCode\" : true,\n",
      "    \"generatedCodePrefix\" : \"AGO\",\n",
      "    \"subcodeUnique\" : false,\n",
      "    \"listable\" : true,\n",
      "    \"showContainer\" : false,\n",
      "    \"showParents\" : true,\n",
      "    \"showParentMetadata\" : false\n",
      "  }\n",
      "}])\n"
     ]
    }
   ],
   "source": [
    "for key, value in copy.deepcopy(items['object_types']).items():\n",
    "    print(key)\n",
    "    try:\n",
    "        sections = value.pop('sections')\n",
    "        object_type = session.new_object_type(code=key,\n",
    "                                              autoGeneratedCode=True,\n",
    "                                              subcodeUnique=False,\n",
    "                                              listable=True,\n",
    "                                              showContainer=False,\n",
    "                                              showParents=True,\n",
    "                                              showParentMetadata=False,\n",
    "                                              **value)\n",
    "        object_type.save()\n",
    "        for section, properties in sections.items():\n",
    "            print(section, properties)\n",
    "            for property_type in properties:\n",
    "                object_type.assign_property(session.get_property_type(code=property_type))\n",
    "    except ValueError as exc:\n",
    "        print(f\"The property {key} seem to already be present\")\n",
    "        print(str(exc))"
   ]
  },
  {
   "cell_type": "markdown",
   "id": "8616f963",
   "metadata": {},
   "source": [
    "# Put new molecule in the collection."
   ]
  },
  {
   "cell_type": "code",
   "execution_count": null,
   "id": "c0094113",
   "metadata": {},
   "outputs": [
    {
     "name": "stdout",
     "output_type": "stream",
     "text": [
      "sample successfully created.\n"
     ]
    },
    {
     "name": "stderr",
     "output_type": "stream",
     "text": [
      "Exception in thread Thread-5:\n",
      "Traceback (most recent call last):\n",
      "  File \"/opt/conda/lib/python3.9/threading.py\", line 980, in _bootstrap_inner\n",
      "    self.run()\n",
      "  File \"/opt/conda/lib/python3.9/threading.py\", line 917, in run\n",
      "    self._target(*self._args, **self._kwargs)\n",
      "  File \"/opt/conda/lib/python3.9/site-packages/pybis/dataset.py\", line 1254, in upload_file\n",
      "    resp = requests.post(upload_url, data=f, verify=verify_certificates)\n",
      "  File \"/opt/conda/lib/python3.9/site-packages/requests/api.py\", line 115, in post\n",
      "    return request(\"post\", url, data=data, json=json, **kwargs)\n",
      "  File \"/opt/conda/lib/python3.9/site-packages/requests/api.py\", line 59, in request\n",
      "    return session.request(method=method, url=url, **kwargs)\n",
      "  File \"/opt/conda/lib/python3.9/site-packages/requests/sessions.py\", line 573, in request\n",
      "    prep = self.prepare_request(req)\n",
      "  File \"/opt/conda/lib/python3.9/site-packages/requests/sessions.py\", line 484, in prepare_request\n",
      "    p.prepare(\n",
      "  File \"/opt/conda/lib/python3.9/site-packages/requests/models.py\", line 368, in prepare\n",
      "    self.prepare_url(url, params)\n",
      "  File \"/opt/conda/lib/python3.9/site-packages/requests/models.py\", line 439, in prepare_url\n",
      "    raise MissingSchema(\n",
      "requests.exceptions.MissingSchema: Invalid URL '/datastore_server/session_workspace_file_upload?filename=struc.png&id=1&startByte=0&endByte=0&sessionID=admin-230517074035171x3B4ABF0A59B9BE60016AC60EFF73A378': No scheme supplied. Perhaps you meant http:///datastore_server/session_workspace_file_upload?filename=struc.png&id=1&startByte=0&endByte=0&sessionID=admin-230517074035171x3B4ABF0A59B9BE60016AC60EFF73A378?\n"
     ]
    }
   ],
   "source": [
    "bisutils.new_molecule(session=session, name=\"benzene\", smile=\"c1ccccc1\")"
   ]
  },
  {
   "cell_type": "code",
   "execution_count": null,
   "id": "00f5f0a5",
   "metadata": {},
   "outputs": [],
   "source": []
  }
 ],
 "metadata": {
  "kernelspec": {
   "display_name": "Python 3 (ipykernel)",
   "language": "python",
   "name": "python3"
  },
  "language_info": {
   "codemirror_mode": {
    "name": "ipython",
    "version": 3
   },
   "file_extension": ".py",
   "mimetype": "text/x-python",
   "name": "python",
   "nbconvert_exporter": "python",
   "pygments_lexer": "ipython3",
   "version": "3.9.13"
  }
 },
 "nbformat": 4,
 "nbformat_minor": 5
}
