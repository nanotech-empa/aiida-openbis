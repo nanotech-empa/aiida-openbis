{
 "cells": [
  {
   "cell_type": "code",
   "execution_count": 1,
   "id": "0410c7cf",
   "metadata": {},
   "outputs": [],
   "source": [
    "import yaml\n",
    "import copy\n",
    "from aiida_openbis.utils import bisutils"
   ]
  },
  {
   "cell_type": "code",
   "execution_count": 2,
   "id": "6f9577f0",
   "metadata": {},
   "outputs": [],
   "source": [
    "session = bisutils.log_in(bisurl=\"openbis\", bisuser=\"admin\", bispasswd=\"changeit\")"
   ]
  },
  {
   "cell_type": "markdown",
   "id": "fc482ad4",
   "metadata": {},
   "source": [
    "# Load object_types and property_types from yml file"
   ]
  },
  {
   "cell_type": "code",
   "execution_count": 3,
   "id": "f0ac5839",
   "metadata": {},
   "outputs": [],
   "source": [
    "with open('./object_types.yml', mode='r') as fhandle:\n",
    "    items = yaml.safe_load(fhandle)"
   ]
  },
  {
   "cell_type": "markdown",
   "id": "f8b8e2f1",
   "metadata": {},
   "source": [
    "# Property types"
   ]
  },
  {
   "cell_type": "code",
   "execution_count": 4,
   "id": "f9cfa347",
   "metadata": {},
   "outputs": [
    {
     "name": "stdout",
     "output_type": "stream",
     "text": [
      "name\n",
      "{\"method\": \"createPropertyTypes\", \"params\": [\"admin-231003131424245xDA5934C655EBE3F297DB9CF2A13A3CA7\", [{\"@type\": \"as.dto.property.create.PropertyTypeCreation\", \"code\": \"name\", \"label\": \"Name\", \"description\": \"Name of the object\", \"managedInternally\": false, \"dataType\": \"VARCHAR\", \"vocabularyId\": null, \"materialTypeId\": null, \"schema\": null, \"transformation\": null, \"metaData\": null, \"multiValue\": false}]], \"id\": \"2\", \"jsonrpc\": \"2.0\"}\n",
      "Error Property type already exists in the database and needs to be unique. (Context: [])\n",
      "smiles\n",
      "{\"method\": \"createPropertyTypes\", \"params\": [\"admin-231003131424245xDA5934C655EBE3F297DB9CF2A13A3CA7\", [{\"@type\": \"as.dto.property.create.PropertyTypeCreation\", \"code\": \"smiles\", \"label\": \"SMILES\", \"description\": \"One line notation for describing the structure of a molecule.\", \"managedInternally\": false, \"dataType\": \"VARCHAR\", \"vocabularyId\": null, \"materialTypeId\": null, \"schema\": null, \"transformation\": null, \"metaData\": null, \"multiValue\": false}]], \"id\": \"2\", \"jsonrpc\": \"2.0\"}\n",
      "Error Property type already exists in the database and needs to be unique. (Context: [])\n",
      "id\n",
      "{\"method\": \"createPropertyTypes\", \"params\": [\"admin-231003131424245xDA5934C655EBE3F297DB9CF2A13A3CA7\", [{\"@type\": \"as.dto.property.create.PropertyTypeCreation\", \"code\": \"id\", \"label\": \"ID\", \"description\": \"identifier\", \"managedInternally\": false, \"dataType\": \"VARCHAR\", \"vocabularyId\": null, \"materialTypeId\": null, \"schema\": null, \"transformation\": null, \"metaData\": null, \"multiValue\": false}]], \"id\": \"2\", \"jsonrpc\": \"2.0\"}\n",
      "Error Property type already exists in the database and needs to be unique. (Context: [])\n",
      "yield\n",
      "{\"method\": \"createPropertyTypes\", \"params\": [\"admin-231003131424245xDA5934C655EBE3F297DB9CF2A13A3CA7\", [{\"@type\": \"as.dto.property.create.PropertyTypeCreation\", \"code\": \"yield\", \"label\": \"yield\", \"description\": \"Yield\", \"managedInternally\": false, \"dataType\": \"VARCHAR\", \"vocabularyId\": null, \"materialTypeId\": null, \"schema\": null, \"transformation\": null, \"metaData\": null, \"multiValue\": false}]], \"id\": \"2\", \"jsonrpc\": \"2.0\"}\n",
      "Error Property type already exists in the database and needs to be unique. (Context: [])\n",
      "length\n",
      "{\"method\": \"createPropertyTypes\", \"params\": [\"admin-231003131424245xDA5934C655EBE3F297DB9CF2A13A3CA7\", [{\"@type\": \"as.dto.property.create.PropertyTypeCreation\", \"code\": \"length\", \"label\": \"length\", \"description\": \"Length of the molecule\", \"managedInternally\": false, \"dataType\": \"VARCHAR\", \"vocabularyId\": null, \"materialTypeId\": null, \"schema\": null, \"transformation\": null, \"metaData\": null, \"multiValue\": false}]], \"id\": \"2\", \"jsonrpc\": \"2.0\"}\n",
      "Error Property type already exists in the database and needs to be unique. (Context: [])\n",
      "temperature\n",
      "{\"method\": \"createPropertyTypes\", \"params\": [\"admin-231003131424245xDA5934C655EBE3F297DB9CF2A13A3CA7\", [{\"@type\": \"as.dto.property.create.PropertyTypeCreation\", \"code\": \"temperature\", \"label\": \"temperature\", \"description\": \"Temperature\", \"managedInternally\": false, \"dataType\": \"VARCHAR\", \"vocabularyId\": null, \"materialTypeId\": null, \"schema\": null, \"transformation\": null, \"metaData\": null, \"multiValue\": false}]], \"id\": \"2\", \"jsonrpc\": \"2.0\"}\n",
      "Error Property type already exists in the database and needs to be unique. (Context: [])\n",
      "aiida.uuid\n",
      "{\"method\": \"createPropertyTypes\", \"params\": [\"admin-231003131424245xDA5934C655EBE3F297DB9CF2A13A3CA7\", [{\"@type\": \"as.dto.property.create.PropertyTypeCreation\", \"code\": \"aiida.uuid\", \"label\": \"AiiDA UUID\", \"description\": \"UUID of the object in the AiiDA database\", \"managedInternally\": false, \"dataType\": \"VARCHAR\", \"vocabularyId\": null, \"materialTypeId\": null, \"schema\": null, \"transformation\": null, \"metaData\": null, \"multiValue\": false}]], \"id\": \"2\", \"jsonrpc\": \"2.0\"}\n",
      "Error Property type already exists in the database and needs to be unique. (Context: [])\n",
      "aiida.notes\n",
      "{\"method\": \"createPropertyTypes\", \"params\": [\"admin-231003131424245xDA5934C655EBE3F297DB9CF2A13A3CA7\", [{\"@type\": \"as.dto.property.create.PropertyTypeCreation\", \"code\": \"aiida.notes\", \"label\": \"AiiDA Notes\", \"description\": \"Notes about the object\", \"managedInternally\": false, \"dataType\": \"VARCHAR\", \"vocabularyId\": null, \"materialTypeId\": null, \"schema\": null, \"transformation\": null, \"metaData\": null, \"multiValue\": false}]], \"id\": \"2\", \"jsonrpc\": \"2.0\"}\n",
      "Error Property type already exists in the database and needs to be unique. (Context: [])\n",
      "aiida.server_url\n",
      "{\"method\": \"createPropertyTypes\", \"params\": [\"admin-231003131424245xDA5934C655EBE3F297DB9CF2A13A3CA7\", [{\"@type\": \"as.dto.property.create.PropertyTypeCreation\", \"code\": \"aiida.server_url\", \"label\": \"AiiDA Server URL\", \"description\": \"URL of the AiiDA server\", \"managedInternally\": false, \"dataType\": \"VARCHAR\", \"vocabularyId\": null, \"materialTypeId\": null, \"schema\": null, \"transformation\": null, \"metaData\": null, \"multiValue\": false}]], \"id\": \"2\", \"jsonrpc\": \"2.0\"}\n",
      "Error Property type already exists in the database and needs to be unique. (Context: [])\n",
      "xml.image\n",
      "{\"method\": \"createPropertyTypes\", \"params\": [\"admin-231003131424245xDA5934C655EBE3F297DB9CF2A13A3CA7\", [{\"@type\": \"as.dto.property.create.PropertyTypeCreation\", \"code\": \"xml.image\", \"label\": \"XML Image\", \"description\": \"XML image\", \"managedInternally\": false, \"dataType\": \"MULTILINE_VARCHAR\", \"vocabularyId\": null, \"materialTypeId\": null, \"schema\": null, \"transformation\": null, \"metaData\": {\"custom_widget\": \"Word Processor\"}, \"multiValue\": false}]], \"id\": \"2\", \"jsonrpc\": \"2.0\"}\n",
      "Error Property type already exists in the database and needs to be unique. (Context: [])\n"
     ]
    }
   ],
   "source": [
    "for key, value in items['property_types'].items():\n",
    "    try:\n",
    "        print(key)\n",
    "        session.new_property_type(code=key, **value).save()\n",
    "    except ValueError as err:\n",
    "        print(\"Error\", err)"
   ]
  },
  {
   "cell_type": "markdown",
   "id": "b7c2a7a0",
   "metadata": {},
   "source": [
    "# Object types"
   ]
  },
  {
   "cell_type": "code",
   "execution_count": 5,
   "id": "62291940",
   "metadata": {},
   "outputs": [
    {
     "name": "stdout",
     "output_type": "stream",
     "text": [
      "chemsketch\n",
      "{\"method\": \"createSampleTypes\", \"params\": [\"admin-231003131424245xDA5934C655EBE3F297DB9CF2A13A3CA7\", [{\"@type\": \"as.dto.sample.create.SampleTypeCreation\", \"code\": \"chemsketch\", \"description\": null, \"autoGeneratedCode\": true, \"generatedCodePrefix\": \"CSK\", \"subcodeUnique\": null, \"listable\": true, \"showContainer\": false, \"showParents\": true, \"showParentMetadata\": false, \"validationPluginId\": null, \"metaData\": null}]], \"id\": \"2\", \"jsonrpc\": \"2.0\"}\n",
      "The property chemsketch seem to already be present\n",
      "Entity type 'CHEMSKETCH'  already exists in the database and needs to be unique. (Context: [creating (1/1) {\n",
      "  \"creation\" : {\n",
      "    \"@type\" : \"as.dto.sample.create.SampleTypeCreation\",\n",
      "    \"@id\" : 1,\n",
      "    \"code\" : \"chemsketch\",\n",
      "    \"autoGeneratedCode\" : true,\n",
      "    \"generatedCodePrefix\" : \"CSK\",\n",
      "    \"subcodeUnique\" : false,\n",
      "    \"listable\" : true,\n",
      "    \"showContainer\" : false,\n",
      "    \"showParents\" : true,\n",
      "    \"showParentMetadata\" : false\n",
      "  }\n",
      "}])\n",
      "molecule\n",
      "{\"method\": \"createSampleTypes\", \"params\": [\"admin-231003131424245xDA5934C655EBE3F297DB9CF2A13A3CA7\", [{\"@type\": \"as.dto.sample.create.SampleTypeCreation\", \"code\": \"molecule\", \"description\": null, \"autoGeneratedCode\": true, \"generatedCodePrefix\": \"MOL\", \"subcodeUnique\": null, \"listable\": true, \"showContainer\": false, \"showParents\": true, \"showParentMetadata\": false, \"validationPluginId\": null, \"metaData\": null}]], \"id\": \"2\", \"jsonrpc\": \"2.0\"}\n",
      "The property molecule seem to already be present\n",
      "Entity type 'MOLECULE'  already exists in the database and needs to be unique. (Context: [creating (1/1) {\n",
      "  \"creation\" : {\n",
      "    \"@type\" : \"as.dto.sample.create.SampleTypeCreation\",\n",
      "    \"@id\" : 1,\n",
      "    \"code\" : \"molecule\",\n",
      "    \"autoGeneratedCode\" : true,\n",
      "    \"generatedCodePrefix\" : \"MOL\",\n",
      "    \"subcodeUnique\" : false,\n",
      "    \"listable\" : true,\n",
      "    \"showContainer\" : false,\n",
      "    \"showParents\" : true,\n",
      "    \"showParentMetadata\" : false\n",
      "  }\n",
      "}])\n",
      "molecule_product\n",
      "{\"method\": \"createSampleTypes\", \"params\": [\"admin-231003131424245xDA5934C655EBE3F297DB9CF2A13A3CA7\", [{\"@type\": \"as.dto.sample.create.SampleTypeCreation\", \"code\": \"molecule_product\", \"description\": null, \"autoGeneratedCode\": true, \"generatedCodePrefix\": \"MOP\", \"subcodeUnique\": null, \"listable\": true, \"showContainer\": false, \"showParents\": true, \"showParentMetadata\": false, \"validationPluginId\": null, \"metaData\": null}]], \"id\": \"2\", \"jsonrpc\": \"2.0\"}\n",
      "The property molecule_product seem to already be present\n",
      "Entity type 'MOLECULE_PRODUCT'  already exists in the database and needs to be unique. (Context: [creating (1/1) {\n",
      "  \"creation\" : {\n",
      "    \"@type\" : \"as.dto.sample.create.SampleTypeCreation\",\n",
      "    \"@id\" : 1,\n",
      "    \"code\" : \"molecule_product\",\n",
      "    \"autoGeneratedCode\" : true,\n",
      "    \"generatedCodePrefix\" : \"MOP\",\n",
      "    \"subcodeUnique\" : false,\n",
      "    \"listable\" : true,\n",
      "    \"showContainer\" : false,\n",
      "    \"showParents\" : true,\n",
      "    \"showParentMetadata\" : false\n",
      "  }\n",
      "}])\n",
      "aiidalab_spm\n",
      "{\"method\": \"createSampleTypes\", \"params\": [\"admin-231003131424245xDA5934C655EBE3F297DB9CF2A13A3CA7\", [{\"@type\": \"as.dto.sample.create.SampleTypeCreation\", \"code\": \"aiidalab_spm\", \"description\": null, \"autoGeneratedCode\": true, \"generatedCodePrefix\": \"SPM\", \"subcodeUnique\": null, \"listable\": true, \"showContainer\": false, \"showParents\": true, \"showParentMetadata\": false, \"validationPluginId\": null, \"metaData\": null}]], \"id\": \"2\", \"jsonrpc\": \"2.0\"}\n",
      "The property aiidalab_spm seem to already be present\n",
      "Entity type 'AIIDALAB_SPM'  already exists in the database and needs to be unique. (Context: [creating (1/1) {\n",
      "  \"creation\" : {\n",
      "    \"@type\" : \"as.dto.sample.create.SampleTypeCreation\",\n",
      "    \"@id\" : 1,\n",
      "    \"code\" : \"aiidalab_spm\",\n",
      "    \"autoGeneratedCode\" : true,\n",
      "    \"generatedCodePrefix\" : \"SPM\",\n",
      "    \"subcodeUnique\" : false,\n",
      "    \"listable\" : true,\n",
      "    \"showContainer\" : false,\n",
      "    \"showParents\" : true,\n",
      "    \"showParentMetadata\" : false\n",
      "  }\n",
      "}])\n",
      "structuredata\n",
      "{\"method\": \"createSampleTypes\", \"params\": [\"admin-231003131424245xDA5934C655EBE3F297DB9CF2A13A3CA7\", [{\"@type\": \"as.dto.sample.create.SampleTypeCreation\", \"code\": \"structuredata\", \"description\": null, \"autoGeneratedCode\": true, \"generatedCodePrefix\": \"SDT\", \"subcodeUnique\": null, \"listable\": true, \"showContainer\": false, \"showParents\": true, \"showParentMetadata\": false, \"validationPluginId\": null, \"metaData\": null}]], \"id\": \"2\", \"jsonrpc\": \"2.0\"}\n",
      "The property structuredata seem to already be present\n",
      "Entity type 'STRUCTUREDATA'  already exists in the database and needs to be unique. (Context: [creating (1/1) {\n",
      "  \"creation\" : {\n",
      "    \"@type\" : \"as.dto.sample.create.SampleTypeCreation\",\n",
      "    \"@id\" : 1,\n",
      "    \"code\" : \"structuredata\",\n",
      "    \"autoGeneratedCode\" : true,\n",
      "    \"generatedCodePrefix\" : \"SDT\",\n",
      "    \"subcodeUnique\" : false,\n",
      "    \"listable\" : true,\n",
      "    \"showContainer\" : false,\n",
      "    \"showParents\" : true,\n",
      "    \"showParentMetadata\" : false\n",
      "  }\n",
      "}])\n",
      "aiidalab_geo_opt\n",
      "{\"method\": \"createSampleTypes\", \"params\": [\"admin-231003131424245xDA5934C655EBE3F297DB9CF2A13A3CA7\", [{\"@type\": \"as.dto.sample.create.SampleTypeCreation\", \"code\": \"aiidalab_geo_opt\", \"description\": null, \"autoGeneratedCode\": true, \"generatedCodePrefix\": \"AGO\", \"subcodeUnique\": null, \"listable\": true, \"showContainer\": false, \"showParents\": true, \"showParentMetadata\": false, \"validationPluginId\": null, \"metaData\": null}]], \"id\": \"2\", \"jsonrpc\": \"2.0\"}\n",
      "The property aiidalab_geo_opt seem to already be present\n",
      "Entity type 'AIIDALAB_GEO_OPT'  already exists in the database and needs to be unique. (Context: [creating (1/1) {\n",
      "  \"creation\" : {\n",
      "    \"@type\" : \"as.dto.sample.create.SampleTypeCreation\",\n",
      "    \"@id\" : 1,\n",
      "    \"code\" : \"aiidalab_geo_opt\",\n",
      "    \"autoGeneratedCode\" : true,\n",
      "    \"generatedCodePrefix\" : \"AGO\",\n",
      "    \"subcodeUnique\" : false,\n",
      "    \"listable\" : true,\n",
      "    \"showContainer\" : false,\n",
      "    \"showParents\" : true,\n",
      "    \"showParentMetadata\" : false\n",
      "  }\n",
      "}])\n"
     ]
    }
   ],
   "source": [
    "for key, value in copy.deepcopy(items['object_types']).items():\n",
    "    print(key)\n",
    "    try:\n",
    "        sections = value.pop('sections')\n",
    "        object_type = session.new_object_type(code=key,\n",
    "                                              autoGeneratedCode=True,\n",
    "                                              subcodeUnique=False,\n",
    "                                              listable=True,\n",
    "                                              showContainer=False,\n",
    "                                              showParents=True,\n",
    "                                              showParentMetadata=False,\n",
    "                                              **value)\n",
    "        object_type.save()\n",
    "        for section, properties in sections.items():\n",
    "            print(section, properties)\n",
    "            for property_type in properties:\n",
    "                object_type.assign_property(session.get_property_type(code=property_type))\n",
    "    except ValueError as exc:\n",
    "        print(f\"The property {key} seem to already be present\")\n",
    "        print(str(exc))"
   ]
  },
  {
   "cell_type": "code",
   "execution_count": null,
   "id": "ec3a0e17",
   "metadata": {},
   "outputs": [],
   "source": []
  }
 ],
 "metadata": {
  "kernelspec": {
   "display_name": "Python 3 (ipykernel)",
   "language": "python",
   "name": "python3"
  },
  "language_info": {
   "codemirror_mode": {
    "name": "ipython",
    "version": 3
   },
   "file_extension": ".py",
   "mimetype": "text/x-python",
   "name": "python",
   "nbconvert_exporter": "python",
   "pygments_lexer": "ipython3",
   "version": "3.9.13"
  }
 },
 "nbformat": 4,
 "nbformat_minor": 5
}
