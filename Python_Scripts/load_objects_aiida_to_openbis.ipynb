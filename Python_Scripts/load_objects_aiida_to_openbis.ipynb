{
 "cells": [
  {
   "cell_type": "code",
   "execution_count": 23,
   "metadata": {},
   "outputs": [
    {
     "name": "stdout",
     "output_type": "stream",
     "text": [
      "The aiida extension is already loaded. To reload it, use:\n",
      "  %reload_ext aiida\n"
     ]
    },
    {
     "data": {
      "application/json": {
       "current_state": "Loaded AiiDA DB environment - profile name: default."
      },
      "text/html": [
       "<p>Loaded AiiDA DB environment - profile name: default.</p>"
      ],
      "text/latex": [
       "Loaded AiiDA DB environment - profile name: default.\n"
      ],
      "text/plain": [
       "Loaded AiiDA DB environment - profile name: default.\n"
      ]
     },
     "execution_count": 23,
     "metadata": {},
     "output_type": "execute_result"
    }
   ],
   "source": [
    "%load_ext aiida\n",
    "%aiida"
   ]
  },
  {
   "cell_type": "code",
   "execution_count": 24,
   "metadata": {},
   "outputs": [],
   "source": [
    "from aiida import orm\n",
    "import os\n",
    "os.sys.path.append(\"/home/jovyan/work/aiida-openbis/\")\n",
    "from aiida_openbis.utils import bisutils\n",
    "import numpy as np\n",
    "from aiida.cmdline.commands import cmd_archive\n",
    "import ipywidgets as widgets"
   ]
  },
  {
   "cell_type": "code",
   "execution_count": 25,
   "metadata": {},
   "outputs": [],
   "source": [
    "def find_first_workchain(node):\n",
    "    \"\"\"Find the first workchain in the provenance that created the structure node.\"\"\"\n",
    "    lastcalling = None\n",
    "    if isinstance(node, orm.StructureData):\n",
    "        previous_node = node.creator\n",
    "    else:\n",
    "        previous_node = node\n",
    "    while previous_node is not None:\n",
    "        lastcalling = previous_node\n",
    "        previous_node = lastcalling.caller\n",
    "    if lastcalling is not None:\n",
    "        return lastcalling.label, lastcalling.pk, lastcalling.description\n",
    "    return None, None, \"\""
   ]
  },
  {
   "cell_type": "code",
   "execution_count": 56,
   "metadata": {},
   "outputs": [],
   "source": [
    "# Connect to openBIS\n",
    "session = bisutils.log_in(bisurl=\"openbis\", bisuser=\"admin\", bispasswd=\"changeit\")"
   ]
  },
  {
   "cell_type": "code",
   "execution_count": 82,
   "metadata": {},
   "outputs": [
    {
     "name": "stdout",
     "output_type": "stream",
     "text": [
      "{\"method\": \"createExperiments\", \"params\": [\"admin-231222104010009x88C4A3E43E31538AB4036CF696E144EC\", [{\"@type\": \"as.dto.experiment.create.ExperimentCreation\", \"code\": \"TRIANGULENE_SPIN_CHAINS_EXP_5\", \"typeId\": {\"@type\": \"as.dto.entitytype.id.EntityTypePermId\", \"permId\": \"DEFAULT_EXPERIMENT\", \"entityKind\": \"EXPERIMENT\"}, \"projectId\": {\"@type\": \"as.dto.project.id.ProjectIdentifier\", \"identifier\": \"/CARBON_NANOMATERIALS/TRIANGULENE_SPIN_CHAINS\", \"isModified\": true}, \"tagIds\": [], \"properties\": {\"$name\": \"Simulations\", \"$default_object_type\": null, \"$show_in_project_overview\": null, \"finished_flag\": null, \"default_experiment.grant\": null, \"start_date\": null, \"end_date\": null, \"default_experiment.experimental_goals\": null, \"default_experiment.experimental_description\": null, \"default_experiment.experimental_results\": null, \"reference\": null, \"publication\": null, \"notes\": null, \"$xmlcomments\": null}}]], \"id\": \"2\", \"jsonrpc\": \"2.0\"}\n"
     ]
    },
    {
     "ename": "ValueError",
     "evalue": "Experiment already exists in the database and needs to be unique. (Context: [])",
     "output_type": "error",
     "traceback": [
      "\u001b[0;31m---------------------------------------------------------------------------\u001b[0m",
      "\u001b[0;31mValueError\u001b[0m                                Traceback (most recent call last)",
      "\u001b[0;32m/tmp/ipykernel_30728/1738201766.py\u001b[0m in \u001b[0;36m<cell line: 6>\u001b[0;34m()\u001b[0m\n\u001b[1;32m      4\u001b[0m \u001b[0mnew_experiment\u001b[0m \u001b[0;34m=\u001b[0m \u001b[0msession\u001b[0m\u001b[0;34m.\u001b[0m\u001b[0mnew_experiment\u001b[0m\u001b[0;34m(\u001b[0m\u001b[0mproject\u001b[0m \u001b[0;34m=\u001b[0m \u001b[0meln_project_code\u001b[0m\u001b[0;34m,\u001b[0m \u001b[0mcode\u001b[0m \u001b[0;34m=\u001b[0m \u001b[0mexperiment_code\u001b[0m\u001b[0;34m,\u001b[0m \u001b[0mtype\u001b[0m \u001b[0;34m=\u001b[0m \u001b[0;34m'DEFAULT_EXPERIMENT'\u001b[0m\u001b[0;34m)\u001b[0m\u001b[0;34m\u001b[0m\u001b[0;34m\u001b[0m\u001b[0m\n\u001b[1;32m      5\u001b[0m \u001b[0mnew_experiment\u001b[0m\u001b[0;34m.\u001b[0m\u001b[0mprops\u001b[0m\u001b[0;34m[\u001b[0m\u001b[0;34m\"$name\"\u001b[0m\u001b[0;34m]\u001b[0m \u001b[0;34m=\u001b[0m \u001b[0;34m\"Simulations\"\u001b[0m\u001b[0;34m\u001b[0m\u001b[0;34m\u001b[0m\u001b[0m\n\u001b[0;32m----> 6\u001b[0;31m \u001b[0mnew_experiment\u001b[0m\u001b[0;34m.\u001b[0m\u001b[0msave\u001b[0m\u001b[0;34m(\u001b[0m\u001b[0;34m)\u001b[0m\u001b[0;34m\u001b[0m\u001b[0;34m\u001b[0m\u001b[0m\n\u001b[0m\u001b[1;32m      7\u001b[0m \u001b[0;34m\u001b[0m\u001b[0m\n\u001b[1;32m      8\u001b[0m \u001b[0;31m# Create Atomistic Models collection\u001b[0m\u001b[0;34m\u001b[0m\u001b[0;34m\u001b[0m\u001b[0m\n",
      "\u001b[0;32m/opt/conda/lib/python3.9/site-packages/pybis/openbis_object.py\u001b[0m in \u001b[0;36msave\u001b[0;34m(self)\u001b[0m\n\u001b[1;32m    243\u001b[0m                 \u001b[0mrequest\u001b[0m\u001b[0;34m[\u001b[0m\u001b[0;34m\"params\"\u001b[0m\u001b[0;34m]\u001b[0m\u001b[0;34m[\u001b[0m\u001b[0;36m1\u001b[0m\u001b[0;34m]\u001b[0m\u001b[0;34m[\u001b[0m\u001b[0;36m0\u001b[0m\u001b[0;34m]\u001b[0m\u001b[0;34m[\u001b[0m\u001b[0;34m\"properties\"\u001b[0m\u001b[0;34m]\u001b[0m \u001b[0;34m=\u001b[0m \u001b[0mprops\u001b[0m\u001b[0;34m\u001b[0m\u001b[0;34m\u001b[0m\u001b[0m\n\u001b[1;32m    244\u001b[0m \u001b[0;34m\u001b[0m\u001b[0m\n\u001b[0;32m--> 245\u001b[0;31m             \u001b[0mresp\u001b[0m \u001b[0;34m=\u001b[0m \u001b[0mself\u001b[0m\u001b[0;34m.\u001b[0m\u001b[0mopenbis\u001b[0m\u001b[0;34m.\u001b[0m\u001b[0m_post_request\u001b[0m\u001b[0;34m(\u001b[0m\u001b[0mself\u001b[0m\u001b[0;34m.\u001b[0m\u001b[0mopenbis\u001b[0m\u001b[0;34m.\u001b[0m\u001b[0mas_v3\u001b[0m\u001b[0;34m,\u001b[0m \u001b[0mrequest\u001b[0m\u001b[0;34m)\u001b[0m\u001b[0;34m\u001b[0m\u001b[0;34m\u001b[0m\u001b[0m\n\u001b[0m\u001b[1;32m    246\u001b[0m \u001b[0;34m\u001b[0m\u001b[0m\n\u001b[1;32m    247\u001b[0m             \u001b[0;32mif\u001b[0m \u001b[0mVERBOSE\u001b[0m\u001b[0;34m:\u001b[0m\u001b[0;34m\u001b[0m\u001b[0;34m\u001b[0m\u001b[0m\n",
      "\u001b[0;32m/opt/conda/lib/python3.9/site-packages/pybis/pybis.py\u001b[0m in \u001b[0;36m_post_request\u001b[0;34m(self, resource, request)\u001b[0m\n\u001b[1;32m   1247\u001b[0m         \u001b[0mdata\u001b[0m\u001b[0;34m\u001b[0m\u001b[0;34m\u001b[0m\u001b[0m\n\u001b[1;32m   1248\u001b[0m         \"\"\"\n\u001b[0;32m-> 1249\u001b[0;31m         \u001b[0;32mreturn\u001b[0m \u001b[0mself\u001b[0m\u001b[0;34m.\u001b[0m\u001b[0m_post_request_full_url\u001b[0m\u001b[0;34m(\u001b[0m\u001b[0murljoin\u001b[0m\u001b[0;34m(\u001b[0m\u001b[0mself\u001b[0m\u001b[0;34m.\u001b[0m\u001b[0murl\u001b[0m\u001b[0;34m,\u001b[0m \u001b[0mresource\u001b[0m\u001b[0;34m)\u001b[0m\u001b[0;34m,\u001b[0m \u001b[0mrequest\u001b[0m\u001b[0;34m)\u001b[0m\u001b[0;34m\u001b[0m\u001b[0;34m\u001b[0m\u001b[0m\n\u001b[0m\u001b[1;32m   1250\u001b[0m \u001b[0;34m\u001b[0m\u001b[0m\n\u001b[1;32m   1251\u001b[0m     \u001b[0;32mdef\u001b[0m \u001b[0m_recover_session\u001b[0m\u001b[0;34m(\u001b[0m\u001b[0mself\u001b[0m\u001b[0;34m,\u001b[0m \u001b[0mfull_url\u001b[0m\u001b[0;34m,\u001b[0m \u001b[0mrequest\u001b[0m\u001b[0;34m)\u001b[0m\u001b[0;34m:\u001b[0m\u001b[0;34m\u001b[0m\u001b[0;34m\u001b[0m\u001b[0m\n",
      "\u001b[0;32m/opt/conda/lib/python3.9/site-packages/pybis/pybis.py\u001b[0m in \u001b[0;36m_post_request_full_url\u001b[0;34m(self, full_url, request)\u001b[0m\n\u001b[1;32m   1294\u001b[0m             \u001b[0;32mif\u001b[0m \u001b[0;34m\"error\"\u001b[0m \u001b[0;32min\u001b[0m \u001b[0mresp\u001b[0m\u001b[0;34m:\u001b[0m\u001b[0;34m\u001b[0m\u001b[0;34m\u001b[0m\u001b[0m\n\u001b[1;32m   1295\u001b[0m                 \u001b[0mprint\u001b[0m\u001b[0;34m(\u001b[0m\u001b[0mjson\u001b[0m\u001b[0;34m.\u001b[0m\u001b[0mdumps\u001b[0m\u001b[0;34m(\u001b[0m\u001b[0mrequest\u001b[0m\u001b[0;34m)\u001b[0m\u001b[0;34m)\u001b[0m\u001b[0;34m\u001b[0m\u001b[0;34m\u001b[0m\u001b[0m\n\u001b[0;32m-> 1296\u001b[0;31m                 \u001b[0;32mraise\u001b[0m \u001b[0mValueError\u001b[0m\u001b[0;34m(\u001b[0m\u001b[0mresp\u001b[0m\u001b[0;34m[\u001b[0m\u001b[0;34m\"error\"\u001b[0m\u001b[0;34m]\u001b[0m\u001b[0;34m[\u001b[0m\u001b[0;34m\"message\"\u001b[0m\u001b[0;34m]\u001b[0m\u001b[0;34m)\u001b[0m\u001b[0;34m\u001b[0m\u001b[0;34m\u001b[0m\u001b[0m\n\u001b[0m\u001b[1;32m   1297\u001b[0m             \u001b[0;32melif\u001b[0m \u001b[0;34m\"result\"\u001b[0m \u001b[0;32min\u001b[0m \u001b[0mresp\u001b[0m\u001b[0;34m:\u001b[0m\u001b[0;34m\u001b[0m\u001b[0;34m\u001b[0m\u001b[0m\n\u001b[1;32m   1298\u001b[0m                 \u001b[0;32mreturn\u001b[0m \u001b[0mresp\u001b[0m\u001b[0;34m[\u001b[0m\u001b[0;34m\"result\"\u001b[0m\u001b[0;34m]\u001b[0m\u001b[0;34m\u001b[0m\u001b[0;34m\u001b[0m\u001b[0m\n",
      "\u001b[0;31mValueError\u001b[0m: Experiment already exists in the database and needs to be unique. (Context: [])"
     ]
    }
   ],
   "source": [
    "# New Simulation Experiment\n",
    "eln_project_code = \"/CARBON_NANOMATERIALS/TRIANGULENE_SPIN_CHAINS\"\n",
    "experiment_code = \"TRIANGULENE_SPIN_CHAINS_EXP_5\"\n",
    "new_experiment = session.new_experiment(project = eln_project_code, code = experiment_code, type = 'DEFAULT_EXPERIMENT')\n",
    "new_experiment.props[\"$name\"] = \"Simulations\"\n",
    "new_experiment.save()\n",
    "\n",
    "# Create Atomistic Models collection\n",
    "inventory_project_code = \"/MATERIALS/ATOMISTIC_MODELS/\"\n",
    "collection_code = \"ATOMISTIC_MODELS_EXP_1\"\n",
    "atomistic_models_collection = session.new_collection(project = inventory_project_code, code = collection_code, type = 'COLLECTION')\n",
    "atomistic_models_collection.props[\"$name\"] = \"Atomistic Models\"\n",
    "atomistic_models_collection.save()"
   ]
  },
  {
   "cell_type": "code",
   "execution_count": 84,
   "metadata": {},
   "outputs": [
    {
     "data": {
      "application/vnd.jupyter.widget-view+json": {
       "model_id": "bc8f9be1762f48e9978b2ad01b766f9a",
       "version_major": 2,
       "version_minor": 0
      },
      "text/plain": [
       "Dropdown(description='Experiment:', options=('/DEFAULT/DEFAULT/DEFAULT', '/ELN_SETTINGS/STORAGES/STORAGES_COLL…"
      ]
     },
     "metadata": {},
     "output_type": "display_data"
    },
    {
     "data": {
      "application/vnd.jupyter.widget-view+json": {
       "model_id": "38d56a2f93b3467caf6d0fb8cc3cda2a",
       "version_major": 2,
       "version_minor": 0
      },
      "text/plain": [
       "IntText(value=7, description='Simulation PK:')"
      ]
     },
     "metadata": {},
     "output_type": "display_data"
    },
    {
     "data": {
      "application/vnd.jupyter.widget-view+json": {
       "model_id": "2883d99501e74037b1a1061a10201a6e",
       "version_major": 2,
       "version_minor": 0
      },
      "text/plain": [
       "Button(description='Send simulation to openBIS', layout=Layout(width='auto'), style=ButtonStyle(), tooltip='Cl…"
      ]
     },
     "metadata": {},
     "output_type": "display_data"
    },
    {
     "name": "stdout",
     "output_type": "stream",
     "text": [
      "Atomistic model 11cbe820-f585-422d-ad75-c09849b7ed68 already exists.\n",
      "sample successfully created.\n",
      "sample successfully created.\n",
      "sample successfully created.\n",
      "sample successfully created.\n",
      "sample successfully created.\n"
     ]
    },
    {
     "name": "stderr",
     "output_type": "stream",
     "text": [
      "Critical: failed to write the archive file. Exception: The output file 'stm_simulation.aiida' already exists\n"
     ]
    },
    {
     "name": "stdout",
     "output_type": "stream",
     "text": [
      "https://openbis/\n",
      "DataSet successfully created.\n",
      "Atomistic model 11cbe820-f585-422d-ad75-c09849b7ed68 already exists.\n",
      "Simulation c2a29793-2201-4704-ae80-f8a2b4be63b3 already exists.\n",
      "Atomistic model 5bbc1f32-3000-4c57-83e1-135cc4701410 already exists.\n",
      "Simulation c2a29793-2201-4704-ae80-f8a2b4be63b3 already exists.\n"
     ]
    }
   ],
   "source": [
    "all_experiments = session.get_experiments().df\n",
    "\n",
    "selected_experiment_identifier = None\n",
    "\n",
    "def on_dropdown_change(change):\n",
    "    global selected_experiment_identifier\n",
    "    selected_experiment_code = change.new\n",
    "    all_experiments_codes = list(all_experiments[\"identifier\"].values)\n",
    "    experiment_index = all_experiments_codes.index(selected_experiment_code)\n",
    "    selected_experiment_identifier = all_experiments[\"permId\"].values[experiment_index]\n",
    "\n",
    "experiment_code_dropdown = widgets.Dropdown(\n",
    "    options = all_experiments[\"identifier\"].values,\n",
    "    value = all_experiments[\"identifier\"].values[0],\n",
    "    description = 'Experiment:',\n",
    "    disabled = False,\n",
    ")\n",
    "\n",
    "experiment_code_dropdown.observe(on_dropdown_change, names='value')\n",
    "\n",
    "pk_inttext = widgets.IntText(\n",
    "    value = 7,\n",
    "    description = 'Simulation PK:',\n",
    "    disabled = False\n",
    ")\n",
    "\n",
    "send_openbis_button = widgets.Button(\n",
    "    description = 'Send simulation to openBIS',\n",
    "    disabled = False,\n",
    "    button_style = '', # 'success', 'info', 'warning', 'danger' or ''\n",
    "    tooltip = 'Click me',\n",
    "    layout = widgets.Layout(width='auto')\n",
    ")\n",
    "\n",
    "def send_data_to_openbis(b):\n",
    "    # Get all simulations and atomistic models from openbis\n",
    "    simulations_openbis = session.get_objects(type = \"SIMULATION\")\n",
    "    atomistic_models_openbis = session.get_objects(type = \"ATOMISTIC_MODEL\")\n",
    "\n",
    "    # Get STM Simulation Workchain from AiiDA\n",
    "    stm_workchain_pk = pk_inttext.value\n",
    "    stm_workchain_node = load_node(stm_workchain_pk)\n",
    "    structure_stm = stm_workchain_node.inputs.structure\n",
    "    structure_stm_pk = structure_stm.pk\n",
    "    structure_stm_node = load_node(structure_stm_pk)\n",
    "\n",
    "    # Get Geometry Optimisation Workchain from AiiDA\n",
    "    geoopt_workchain_details = find_first_workchain(structure_stm_node)\n",
    "    geoopt_workchain_pk = geoopt_workchain_details[1]\n",
    "    geoopt_workchain = load_node(geoopt_workchain_pk)\n",
    "\n",
    "    # Get First Geometry from AiiDA\n",
    "    first_structure = geoopt_workchain.inputs.structure\n",
    "    first_structure_ase = first_structure.get_ase()\n",
    "    first_structure_ase.positions # Atoms positions\n",
    "    first_structure_ase.symbols # Atoms Symbols\n",
    "    first_structure_ase.pbc # PBC (X, Y, Z)\n",
    "    first_structure.cell # Cell vectors\n",
    "\n",
    "    # Verify whether the non-optimised atomistic model exists\n",
    "    atomistic_model_exists = False\n",
    "\n",
    "    for atomistic_model in atomistic_models_openbis:\n",
    "        if atomistic_model.props.get(\"wfm-uuid\") == first_structure.uuid:\n",
    "            first_atomistic_model = atomistic_model\n",
    "            atomistic_model_exists = True\n",
    "            print(f\"Atomistic model {atomistic_model.props.get('wfm-uuid')} already exists.\")\n",
    "    \n",
    "    if atomistic_model_exists == False:\n",
    "        # Create Atomistic Model (Not Optimised) in openBIS\n",
    "        first_atomistic_model = session.new_sample(collection = atomistic_models_collection, type='ATOMISTIC_MODEL')\n",
    "        first_atomistic_model.props['$name'] = \"Atomistic Model 1\"\n",
    "        first_atomistic_model.props['description'] = \"A nice atomistic model\"\n",
    "        first_atomistic_model.props['wfm-uuid'] = first_structure.uuid\n",
    "        first_atomistic_model.props['pbcx'] = int(first_structure_ase.pbc[0])\n",
    "        first_atomistic_model.props['pbcy'] = int(first_structure_ase.pbc[1])\n",
    "        first_atomistic_model.props['pbcz'] = int(first_structure_ase.pbc[2])\n",
    "        first_atomistic_model.props['geo-is-optimised'] = 0\n",
    "        first_atomistic_model.save()\n",
    "\n",
    "    # Verify whether the simulation exists\n",
    "    simulation_exists = False\n",
    "\n",
    "    for simulation in simulations_openbis:\n",
    "        if simulation.props.get(\"wfm-uuid\") == geoopt_workchain.uuid:\n",
    "            geoopt_simulation = simulation\n",
    "            simulation_exists = True\n",
    "            print(f\"Simulation {simulation.props.get('wfm-uuid')} already exists.\")\n",
    "    \n",
    "    if simulation_exists == False:\n",
    "        # Create Simulation in openBIS\n",
    "        geoopt_simulation = session.new_sample(experiment = selected_experiment_identifier, type='SIMULATION')\n",
    "        geoopt_simulation.props['$name'] = \"Simulation GeoOpt\"\n",
    "        geoopt_simulation.props['description'] = \"Simulation Geometry Optimisation\"\n",
    "        # new_simulation.props['simulation-type'] = \"Something\"\n",
    "        # new_simulation.props['wfm-connection'] = \"?\"\n",
    "        geoopt_simulation.props['wfm-uuid'] = geoopt_workchain.uuid\n",
    "        geoopt_simulation.save()\n",
    "\n",
    "        # Create Geo Optimisation in openBIS and link it to Simulation and Atomistic Model objects\n",
    "        geoopt_multiplicity = geoopt_workchain.inputs.multiplicity.value\n",
    "        geo_optimisation = session.new_sample(experiment = selected_experiment_identifier, type='GEO_OPTIMISATION', parents = [geoopt_simulation, first_atomistic_model])\n",
    "        geo_optimisation.props['$name'] = \"Simulated Geometry Optimisation\"\n",
    "        geo_optimisation.props['multiplicity'] = geoopt_multiplicity\n",
    "        geo_optimisation.save()\n",
    "\n",
    "    # Get Optimised Geometry from AiiDA\n",
    "    optimised_structure = stm_workchain_node.inputs.structure\n",
    "    optimised_structure_ase = optimised_structure.get_ase()\n",
    "    optimised_structure_ase.positions # Atoms positions\n",
    "    optimised_structure_ase.symbols # Atoms Symbols\n",
    "    optimised_structure_ase.pbc # PBC (X, Y, Z)\n",
    "    optimised_structure.cell # Cell vectors\n",
    "\n",
    "    # Verify whether the optimised atomistic model exists\n",
    "    atomistic_model_exists = False\n",
    "\n",
    "    for atomistic_model in atomistic_models_openbis:\n",
    "        if atomistic_model.props.get(\"wfm-uuid\") == optimised_structure.uuid:\n",
    "            optimised_atomistic_model = atomistic_model\n",
    "            atomistic_model_exists = True\n",
    "            print(f\"Atomistic model {atomistic_model.props.get('wfm-uuid')} already exists.\")\n",
    "    \n",
    "    if atomistic_model_exists == False:\n",
    "        optimised_atomistic_model = session.new_sample(collection = atomistic_models_collection, type = 'ATOMISTIC_MODEL', parents = [geo_optimisation])\n",
    "        optimised_atomistic_model.props['$name'] = \"Atomistic Model 2\"\n",
    "        optimised_atomistic_model.props['description'] = \"A nice atomistic model\"\n",
    "        optimised_atomistic_model.props['wfm-uuid'] = optimised_structure.uuid\n",
    "        optimised_atomistic_model.props['pbcx'] = int(optimised_structure_ase.pbc[0])\n",
    "        optimised_atomistic_model.props['pbcy'] = int(optimised_structure_ase.pbc[1])\n",
    "        optimised_atomistic_model.props['pbcz'] = int(optimised_structure_ase.pbc[2])\n",
    "        optimised_atomistic_model.props['geo-is-optimised'] = 1\n",
    "        optimised_atomistic_model.save()\n",
    "\n",
    "\n",
    "    simulation_exists = False\n",
    "\n",
    "    for simulation in simulations_openbis:\n",
    "        if simulation.props.get(\"wfm-uuid\") == geoopt_workchain.uuid:\n",
    "            stm_simulation = simulation\n",
    "            simulation_exists = True\n",
    "            print(f\"Simulation {simulation.props.get('wfm-uuid')} already exists.\")\n",
    "    \n",
    "    if simulation_exists == False:\n",
    "        # Simulated Scanning Tunneling Microscopy\n",
    "        stm_simulation = session.new_sample(experiment = selected_experiment_identifier, type = 'SIMULATION')\n",
    "        stm_simulation.props['$name'] = \"Simulation STM\"\n",
    "        stm_simulation.props['description'] = \"Simulation\"\n",
    "        stm_simulation.props['wfm-uuid'] = stm_workchain_node.uuid\n",
    "        stm_simulation.save()\n",
    "\n",
    "        stm_simulation_openbis = session.new_sample(experiment = selected_experiment_identifier, type = 'STM_SIMULATION', parents = [stm_simulation, optimised_atomistic_model])\n",
    "        simulated_stm_uuid = stm_workchain_node.uuid\n",
    "        dft_params = dict(stm_workchain_node.inputs.dft_params)\n",
    "        stm_params = dict(stm_workchain_node.inputs.stm_params)\n",
    "        stm_simulation_openbis.props['$name'] = \"Simulated STM\"\n",
    "        stm_simulation_openbis.props['description'] = \"A nice simulated STM\"\n",
    "        stm_simulation_openbis.props['e-min'] = stm_params['--energy_range'][0]\n",
    "        stm_simulation_openbis.props['e-max'] = stm_params['--energy_range'][1]\n",
    "        stm_simulation_openbis.props['de'] = stm_params['--energy_range'][2]\n",
    "        stm_simulation_openbis.save()\n",
    "\n",
    "        #TODO: How to do this using Python commands?\n",
    "        stm_simulation_dataset_filename = \"stm_simulation.aiida\"\n",
    "        os.system(f\"verdi archive create {stm_simulation_dataset_filename} --no-call-calc-backward --no-call-work-backward --no-create-backward -N {stm_workchain_pk}\")\n",
    "\n",
    "        stm_simulation_dataset = session.new_dataset(\n",
    "            type = \"RAW_DATA\", \n",
    "            files = ['/home/jovyan/work/aiida-openbis/Python_Scripts/stm_simulation.aiida'],\n",
    "            sample = stm_simulation_openbis\n",
    "        )\n",
    "        stm_simulation_dataset.save()\n",
    "\n",
    "send_openbis_button.on_click(send_data_to_openbis)\n",
    "display(experiment_code_dropdown)\n",
    "display(pk_inttext)\n",
    "display(send_openbis_button)"
   ]
  },
  {
   "cell_type": "code",
   "execution_count": 6,
   "metadata": {},
   "outputs": [],
   "source": [
    "# Code that may be useful in future\n",
    "\n",
    "# pk = 62\n",
    "# workchain = load_node(pk)\n",
    "# structure = workchain.inputs.structure\n",
    "\n",
    "# all_structures = [structure]\n",
    "# creator_found = True\n",
    "\n",
    "# while creator_found:\n",
    "#     creator = structure.creator\n",
    "#     if creator is not None:\n",
    "#         structure = creator.inputs.structure\n",
    "#         all_structures.append(structure)\n",
    "#     else:\n",
    "#         creator_found = False"
   ]
  }
 ],
 "metadata": {
  "kernelspec": {
   "display_name": "base",
   "language": "python",
   "name": "python3"
  },
  "language_info": {
   "codemirror_mode": {
    "name": "ipython",
    "version": 3
   },
   "file_extension": ".py",
   "mimetype": "text/x-python",
   "name": "python",
   "nbconvert_exporter": "python",
   "pygments_lexer": "ipython3",
   "version": "3.9.13"
  }
 },
 "nbformat": 4,
 "nbformat_minor": 2
}
