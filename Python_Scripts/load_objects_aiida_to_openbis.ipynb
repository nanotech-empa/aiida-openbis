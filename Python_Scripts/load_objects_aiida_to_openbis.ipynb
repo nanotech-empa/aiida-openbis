{
 "cells": [
  {
   "cell_type": "code",
   "execution_count": 1,
   "metadata": {},
   "outputs": [
    {
     "data": {
      "application/json": {
       "current_state": "Loaded AiiDA DB environment - profile name: default."
      },
      "text/html": [
       "<p>Loaded AiiDA DB environment - profile name: default.</p>"
      ],
      "text/latex": [
       "Loaded AiiDA DB environment - profile name: default.\n"
      ],
      "text/plain": [
       "Loaded AiiDA DB environment - profile name: default.\n"
      ]
     },
     "execution_count": 1,
     "metadata": {},
     "output_type": "execute_result"
    }
   ],
   "source": [
    "%load_ext aiida\n",
    "%aiida"
   ]
  },
  {
   "cell_type": "code",
   "execution_count": 2,
   "metadata": {},
   "outputs": [],
   "source": [
    "from aiida import orm\n",
    "import os\n",
    "os.sys.path.append(\"/home/jovyan/work/aiida-openbis/\")\n",
    "from aiida_openbis.utils import bisutils\n",
    "import numpy as np\n",
    "from aiida.cmdline.commands import cmd_archive"
   ]
  },
  {
   "cell_type": "code",
   "execution_count": 3,
   "metadata": {},
   "outputs": [],
   "source": [
    "def find_first_workchain(node):\n",
    "    \"\"\"Find the first workchain in the provenance that created the structure node.\"\"\"\n",
    "    lastcalling = None\n",
    "    if isinstance(node, orm.StructureData):\n",
    "        previous_node = node.creator\n",
    "    else:\n",
    "        previous_node = node\n",
    "    while previous_node is not None:\n",
    "        lastcalling = previous_node\n",
    "        previous_node = lastcalling.caller\n",
    "    if lastcalling is not None:\n",
    "        return lastcalling.label, lastcalling.pk, lastcalling.description\n",
    "    return None, None, \"\""
   ]
  },
  {
   "cell_type": "code",
   "execution_count": 4,
   "metadata": {},
   "outputs": [],
   "source": [
    "# Connect to openBIS\n",
    "session = bisutils.log_in(bisurl=\"openbis\", bisuser=\"admin\", bispasswd=\"changeit\")"
   ]
  },
  {
   "cell_type": "code",
   "execution_count": 5,
   "metadata": {},
   "outputs": [
    {
     "name": "stdout",
     "output_type": "stream",
     "text": [
      "experiment successfully created.\n",
      "experiment successfully created.\n",
      "sample successfully created.\n",
      "sample successfully created.\n",
      "sample successfully created.\n",
      "sample successfully created.\n",
      "sample successfully created.\n",
      "sample successfully created.\n"
     ]
    },
    {
     "name": "stderr",
     "output_type": "stream",
     "text": [
      "Critical: failed to write the archive file. Exception: The output file 'stm_simulation.aiida' already exists\n"
     ]
    },
    {
     "name": "stdout",
     "output_type": "stream",
     "text": [
      "https://openbis/\n",
      "DataSet successfully created.\n"
     ]
    },
    {
     "data": {
      "text/html": [
       "\n",
       "            <table border=\"1\" class=\"dataframe\">\n",
       "            <thead>\n",
       "                <tr style=\"text-align: right;\">\n",
       "                <th>attribute</th>\n",
       "                <th>value</th>\n",
       "                </tr>\n",
       "            </thead>\n",
       "            <tbody>\n",
       "        <tr> <td>code</td> <td>20231221162622394-259</td> </tr><tr> <td>permId</td> <td>20231221162622394-259</td> </tr><tr> <td>type</td> <td>RAW_DATA</td> </tr><tr> <td>kind</td> <td>PHYSICAL</td> </tr><tr> <td>experiment</td> <td>/CARBON_NANOMATERIALS/TRIANGULENE_SPIN_CHAINS/TRIANGULENE_SPIN_CHAINS_EXP_5</td> </tr><tr> <td>sample</td> <td>/CARBON_NANOMATERIALS/TRIANGULENE_SPIN_CHAINS/SIMUL_STM146</td> </tr><tr> <td>parents</td> <td>[]</td> </tr><tr> <td>children</td> <td>[]</td> </tr><tr> <td>components</td> <td>[]</td> </tr><tr> <td>containers</td> <td>[]</td> </tr><tr> <td>tags</td> <td>[]</td> </tr><tr> <td>accessDate</td> <td>2023-12-21 17:26:23</td> </tr><tr> <td>dataProducer</td> <td></td> </tr><tr> <td>dataProductionDate</td> <td></td> </tr><tr> <td>registrator</td> <td>admin</td> </tr><tr> <td>registrationDate</td> <td>2023-12-21 17:26:23</td> </tr><tr> <td>modifier</td> <td>admin</td> </tr><tr> <td>modificationDate</td> <td>2023-12-21 17:26:23</td> </tr><tr> <td>dataStore</td> <td>DSS1</td> </tr><tr> <td>measured</td> <td>True</td> </tr><tr> <td>postRegistered</td> <td>False</td> </tr><tr> <td>frozen</td> <td>False</td> </tr><tr> <td>frozenForChildren</td> <td>False</td> </tr><tr> <td>frozenForParents</td> <td>False</td> </tr><tr> <td>frozenForComponents</td> <td>False</td> </tr><tr> <td>frozenForContainers</td> <td>False</td> </tr><tr> <td>metaData</td> <td></td> </tr>\n",
       "            </tbody>\n",
       "            </table>\n",
       "        "
      ],
      "text/plain": [
       "attribute            value\n",
       "-------------------  ---------------------------------------------------------------------------\n",
       "code                 20231221162622394-259\n",
       "permId               20231221162622394-259\n",
       "type                 RAW_DATA\n",
       "kind                 PHYSICAL\n",
       "experiment           /CARBON_NANOMATERIALS/TRIANGULENE_SPIN_CHAINS/TRIANGULENE_SPIN_CHAINS_EXP_5\n",
       "sample               /CARBON_NANOMATERIALS/TRIANGULENE_SPIN_CHAINS/SIMUL_STM146\n",
       "parents              []\n",
       "children             []\n",
       "components           []\n",
       "containers           []\n",
       "tags                 []\n",
       "accessDate           2023-12-21 17:26:23\n",
       "dataProducer\n",
       "dataProductionDate\n",
       "registrator          admin\n",
       "registrationDate     2023-12-21 17:26:23\n",
       "modifier             admin\n",
       "modificationDate     2023-12-21 17:26:23\n",
       "dataStore            DSS1\n",
       "measured             True\n",
       "postRegistered       False\n",
       "frozen               False\n",
       "frozenForChildren    False\n",
       "frozenForParents     False\n",
       "frozenForComponents  False\n",
       "frozenForContainers  False\n",
       "metaData"
      ]
     },
     "execution_count": 5,
     "metadata": {},
     "output_type": "execute_result"
    }
   ],
   "source": [
    "# New Simulation Experiment\n",
    "eln_project_code = \"/CARBON_NANOMATERIALS/TRIANGULENE_SPIN_CHAINS\"\n",
    "\n",
    "experiment_code = \"TRIANGULENE_SPIN_CHAINS_EXP_5\"\n",
    "new_experiment = session.new_experiment(project = eln_project_code, code = experiment_code, type = 'DEFAULT_EXPERIMENT')\n",
    "new_experiment.props[\"$name\"] = \"Simulations\"\n",
    "new_experiment.save()\n",
    "\n",
    "# Get STM Simulation Workchain from AiiDA\n",
    "pk = 62\n",
    "stm_workchain_node = load_node(pk)\n",
    "structure_stm = stm_workchain_node.inputs.structure\n",
    "structure_stm_pk = structure_stm.pk\n",
    "structure_stm_node = load_node(structure_stm_pk)\n",
    "\n",
    "# Get Geometry Optimisation Workchain from AiiDA\n",
    "geoopt_workchain_details = find_first_workchain(structure_stm_node)\n",
    "geoopt_workchain_pk = geoopt_workchain_details[1]\n",
    "geoopt_workchain = load_node(geoopt_workchain_pk)\n",
    "\n",
    "# Get First Geometry from AiiDA\n",
    "first_structure = geoopt_workchain.inputs.structure\n",
    "first_structure_ase = first_structure.get_ase()\n",
    "first_structure_ase.positions # Atoms positions\n",
    "first_structure_ase.symbols # Atoms Symbols\n",
    "first_structure_ase.pbc # PBC (X, Y, Z)\n",
    "first_structure.cell # Cell vectors\n",
    "\n",
    "# Create Atomistic Models collection\n",
    "inventory_project_code = \"/MATERIALS/ATOMISTIC_MODELS/\"\n",
    "collection_code = \"ATOMISTIC_MODELS_EXP_1\"\n",
    "atomistic_models_collection = session.new_collection(project = inventory_project_code, code = collection_code, type = 'COLLECTION')\n",
    "atomistic_models_collection.props[\"$name\"] = \"Atomistic Models\"\n",
    "atomistic_models_collection.save()\n",
    "\n",
    "# Create Atomistic Model (Not Optimised) in openBIS\n",
    "first_atomistic_model = session.new_sample(collection = atomistic_models_collection, type='ATOMISTIC_MODEL')\n",
    "first_atomistic_model.props['$name'] = \"Atomistic Model 1\"\n",
    "first_atomistic_model.props['description'] = \"A nice atomistic model\"\n",
    "first_atomistic_model.props['pbcx'] = int(first_structure_ase.pbc[0])\n",
    "first_atomistic_model.props['pbcy'] = int(first_structure_ase.pbc[1])\n",
    "first_atomistic_model.props['pbcz'] = int(first_structure_ase.pbc[2])\n",
    "first_atomistic_model.props['geo-is-optimised'] = 0\n",
    "first_atomistic_model.save()\n",
    "\n",
    "# Create Simulation in openBIS\n",
    "geoopt_simulation = session.new_sample(experiment = new_experiment, type='SIMULATION')\n",
    "geoopt_simulation.props['$name'] = \"Simulation GeoOpt\"\n",
    "geoopt_simulation.props['description'] = \"Simulation Geometry Optimisation\"\n",
    "# new_simulation.props['simulation-type'] = \"Something\"\n",
    "# new_simulation.props['wfm-connection'] = \"?\"\n",
    "geoopt_simulation.props['wfm-uuid'] = geoopt_workchain.uuid\n",
    "geoopt_simulation.save()\n",
    "\n",
    "# Create Geo Optimisation in openBIS and link it to Simulation and Atomistic Model objects\n",
    "geoopt_multiplicity = geoopt_workchain.inputs.multiplicity.value\n",
    "geo_optimisation = session.new_sample(experiment = new_experiment, type='GEO_OPTIMISATION', parents = [geoopt_simulation, first_atomistic_model])\n",
    "geo_optimisation.props['$name'] = \"Simulated Geometry Optimisation\"\n",
    "geo_optimisation.props['multiplicity'] = geoopt_multiplicity\n",
    "geo_optimisation.save()\n",
    "\n",
    "# Get Optimised Geometry from AiiDA\n",
    "optimised_structure = stm_workchain_node.inputs.structure\n",
    "optimised_structure_ase = optimised_structure.get_ase()\n",
    "optimised_structure_ase.positions # Atoms positions\n",
    "optimised_structure_ase.symbols # Atoms Symbols\n",
    "optimised_structure_ase.pbc # PBC (X, Y, Z)\n",
    "optimised_structure.cell # Cell vectors\n",
    "\n",
    "optimised_atomistic_model = session.new_sample(collection = atomistic_models_collection, type = 'ATOMISTIC_MODEL', parents = [geo_optimisation])\n",
    "optimised_atomistic_model.props['$name'] = \"Atomistic Model 2\"\n",
    "optimised_atomistic_model.props['description'] = \"A nice atomistic model\"\n",
    "optimised_atomistic_model.props['pbcx'] = int(optimised_structure_ase.pbc[0])\n",
    "optimised_atomistic_model.props['pbcy'] = int(optimised_structure_ase.pbc[1])\n",
    "optimised_atomistic_model.props['pbcz'] = int(optimised_structure_ase.pbc[2])\n",
    "optimised_atomistic_model.props['geo-is-optimised'] = 1\n",
    "optimised_atomistic_model.save()\n",
    "\n",
    "# Simulated Scanning Tunneling Microscopy\n",
    "stm_simulation = session.new_sample(experiment = new_experiment, type = 'SIMULATION')\n",
    "stm_simulation.props['$name'] = \"Simulation STM\"\n",
    "stm_simulation.props['description'] = \"Simulation\"\n",
    "stm_simulation.props['wfm-uuid'] = stm_workchain_node.uuid\n",
    "stm_simulation.save()\n",
    "\n",
    "stm_simulation_openbis = session.new_sample(experiment = new_experiment, type = 'STM_SIMULATION', parents = [stm_simulation, optimised_atomistic_model])\n",
    "simulated_stm_uuid = stm_workchain_node.uuid\n",
    "structure = stm_workchain_node.inputs.structure\n",
    "dft_params = dict(stm_workchain_node.inputs.dft_params)\n",
    "stm_params = dict(stm_workchain_node.inputs.stm_params)\n",
    "stm_simulation_openbis.props['$name'] = \"Simulated STM\"\n",
    "stm_simulation_openbis.props['description'] = \"A nice simulated STM\"\n",
    "stm_simulation_openbis.props['e-min'] = stm_params['--energy_range'][0]\n",
    "stm_simulation_openbis.props['e-max'] = stm_params['--energy_range'][1]\n",
    "stm_simulation_openbis.props['de'] = stm_params['--energy_range'][2]\n",
    "stm_simulation_openbis.save()\n",
    "\n",
    "#TODO: How to do this using Python commands?\n",
    "os.system('verdi archive create stm_simulation.aiida --no-call-calc-backward --no-call-work-backward --no-create-backward -N 391')\n",
    "\n",
    "stm_simulation_dataset = session.new_dataset(\n",
    "    type = \"RAW_DATA\", \n",
    "    files = ['/home/jovyan/work/aiida-openbis/Python_Scripts/openBIS_schema.json'],\n",
    "    sample = stm_simulation_openbis\n",
    ")\n",
    "stm_simulation_dataset.save()"
   ]
  },
  {
   "cell_type": "code",
   "execution_count": 6,
   "metadata": {},
   "outputs": [],
   "source": [
    "# Code that may be useful in future\n",
    "\n",
    "# pk = 62\n",
    "# workchain = load_node(pk)\n",
    "# structure = workchain.inputs.structure\n",
    "\n",
    "# all_structures = [structure]\n",
    "# creator_found = True\n",
    "\n",
    "# while creator_found:\n",
    "#     creator = structure.creator\n",
    "#     if creator is not None:\n",
    "#         structure = creator.inputs.structure\n",
    "#         all_structures.append(structure)\n",
    "#     else:\n",
    "#         creator_found = False"
   ]
  }
 ],
 "metadata": {
  "kernelspec": {
   "display_name": "base",
   "language": "python",
   "name": "python3"
  },
  "language_info": {
   "codemirror_mode": {
    "name": "ipython",
    "version": 3
   },
   "file_extension": ".py",
   "mimetype": "text/x-python",
   "name": "python",
   "nbconvert_exporter": "python",
   "pygments_lexer": "ipython3",
   "version": "3.9.13"
  }
 },
 "nbformat": 4,
 "nbformat_minor": 2
}
