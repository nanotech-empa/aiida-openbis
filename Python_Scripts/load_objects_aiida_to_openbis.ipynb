{
 "cells": [
  {
   "cell_type": "code",
   "execution_count": 1,
   "metadata": {},
   "outputs": [
    {
     "data": {
      "application/json": {
       "current_state": "Loaded AiiDA DB environment - profile name: default."
      },
      "text/html": [
       "<p>Loaded AiiDA DB environment - profile name: default.</p>"
      ],
      "text/latex": [
       "Loaded AiiDA DB environment - profile name: default.\n"
      ],
      "text/plain": [
       "Loaded AiiDA DB environment - profile name: default.\n"
      ]
     },
     "execution_count": 1,
     "metadata": {},
     "output_type": "execute_result"
    }
   ],
   "source": [
    "%load_ext aiida\n",
    "%aiida"
   ]
  },
  {
   "cell_type": "code",
   "execution_count": null,
   "metadata": {},
   "outputs": [],
   "source": [
    "from aiida import orm\n",
    "from aiida_openbis.utils import bisutils"
   ]
  },
  {
   "cell_type": "code",
   "execution_count": null,
   "metadata": {},
   "outputs": [],
   "source": [
    "def find_first_workchain(node):\n",
    "    \"\"\"Find the first workchain in the provenance that created the structure node.\"\"\"\n",
    "    lastcalling = None\n",
    "    if isinstance(node, orm.StructureData):\n",
    "        previous_node = node.creator\n",
    "    else:\n",
    "        previous_node = node\n",
    "    while previous_node is not None:\n",
    "        lastcalling = previous_node\n",
    "        previous_node = lastcalling.caller\n",
    "    if lastcalling is not None:\n",
    "        return lastcalling.label, lastcalling.pk, lastcalling.description\n",
    "    return None, None, \"\""
   ]
  },
  {
   "cell_type": "code",
   "execution_count": 36,
   "metadata": {},
   "outputs": [],
   "source": [
    "# Connect to openBIS\n",
    "session = bisutils.log_in(bisurl=\"openbis\", bisuser=\"admin\", bispasswd=\"changeit\")"
   ]
  },
  {
   "cell_type": "code",
   "execution_count": 30,
   "metadata": {},
   "outputs": [
    {
     "name": "stdout",
     "output_type": "stream",
     "text": [
      "[<StructureData: uuid: 5bbc1f32-3000-4c57-83e1-135cc4701410 (pk: 34)>, <StructureData: uuid: 83622d39-975c-49a2-972b-e86f2544fcb3 (pk: 51)>]\n"
     ]
    }
   ],
   "source": [
    "pk = 62\n",
    "workchain = load_node(pk)\n",
    "structure = workchain.inputs.structure\n",
    "\n",
    "all_structures = [structure]\n",
    "creator_found = True\n",
    "\n",
    "while creator_found:\n",
    "    creator = structure.creator\n",
    "    if creator is not None:\n",
    "        structure = creator.inputs.structure\n",
    "        all_structures.append(structure)\n",
    "    else:\n",
    "        creator_found = False"
   ]
  },
  {
   "cell_type": "code",
   "execution_count": null,
   "metadata": {},
   "outputs": [],
   "source": [
    "geoopt_workchain_details = find_first_workchain(load_node(34))\n",
    "geoopt_workchain_pk = geoopt_workchain_details[1]\n",
    "\n",
    "geoopt_workchain = load_node(geoopt_workchain_pk)"
   ]
  },
  {
   "cell_type": "code",
   "execution_count": 48,
   "metadata": {},
   "outputs": [
    {
     "name": "stdout",
     "output_type": "stream",
     "text": [
      "sample successfully created.\n"
     ]
    }
   ],
   "source": [
    "pk = 62\n",
    "workchain = load_node(pk)\n",
    "\n",
    "simulated_stm_uuid = workchain.uuid\n",
    "structure = workchain.inputs.structure\n",
    "dft_params = dict(workchain.inputs.dft_params)\n",
    "stm_params = dict(workchain.inputs.stm_params)\n",
    "\n",
    "collection_code = \"/CARBON_NANOMATERIALS/TRIANGULENE_SPIN_CHAINS/TRIANGULENE_SPIN_CHAINS_EXP_3\"\n",
    "new_spm = session.new_sample(collection=collection_code, type='STM_SIMULATION')\n",
    "new_spm.props['$name'] = \"Simulated STM\"\n",
    "new_spm.props['description'] = \"A nice simulated STM\"\n",
    "new_spm.props['e-min'] = stm_params['--energy_range'][0]\n",
    "new_spm.props['e-max'] = stm_params['--energy_range'][1]\n",
    "new_spm.props['de'] = stm_params['--energy_range'][2]\n",
    "new_spm.save()\n"
   ]
  },
  {
   "cell_type": "code",
   "execution_count": 65,
   "metadata": {},
   "outputs": [
    {
     "data": {
      "text/plain": [
       "<StructureData: uuid: 5bbc1f32-3000-4c57-83e1-135cc4701410 (pk: 34)>"
      ]
     },
     "execution_count": 65,
     "metadata": {},
     "output_type": "execute_result"
    }
   ],
   "source": [
    "workchain.inputs.structure"
   ]
  },
  {
   "cell_type": "code",
   "execution_count": 82,
   "metadata": {},
   "outputs": [
    {
     "data": {
      "text/plain": [
       "('CP2K_GeoOpt', 81, 'A:Pd1_mol1_S_redone')"
      ]
     },
     "execution_count": 82,
     "metadata": {},
     "output_type": "execute_result"
    }
   ],
   "source": [
    "find_first_workchain(load_node(34))"
   ]
  },
  {
   "cell_type": "code",
   "execution_count": 94,
   "metadata": {},
   "outputs": [
    {
     "data": {
      "text/plain": [
       "Cell([27.799952505728, 36.113197640942, 55.799336300735])"
      ]
     },
     "execution_count": 94,
     "metadata": {},
     "output_type": "execute_result"
    }
   ],
   "source": [
    "x = load_node(81)\n",
    "structure = x.inputs.structure\n",
    "structure_ase = structure.get_ase()\n",
    "structure_ase.positions\n",
    "structure_ase.symbols\n",
    "structure_ase.pbc\n",
    "structure_ase.cell\n",
    "structure_ase.get_cell()"
   ]
  },
  {
   "cell_type": "code",
   "execution_count": 75,
   "metadata": {},
   "outputs": [
    {
     "data": {
      "text/plain": [
       "Atoms(symbols='C16H14Ga552OPd576', pbc=False, cell=[27.799952505728, 36.113197640942, 55.799336300735], masses=..., tags=...)"
      ]
     },
     "execution_count": 75,
     "metadata": {},
     "output_type": "execute_result"
    }
   ],
   "source": [
    "geo_opt_workchain.get_ase()"
   ]
  },
  {
   "cell_type": "code",
   "execution_count": 51,
   "metadata": {},
   "outputs": [
    {
     "data": {
      "text/plain": [
       "{'GLOBAL': {'RUN_TYPE': 'GEO_OPT',\n",
       "  'WALLTIME': 85800,\n",
       "  'PRINT_LEVEL': 'MEDIUM',\n",
       "  'EXTENDED_FFT_LENGTHS': ''},\n",
       " 'MOTION': {'PRINT': {'RESTART_HISTORY': {'_': 'OFF'}},\n",
       "  'GEO_OPT': {'BFGS': {'TRUST_RADIUS': '[bohr] 0.1'},\n",
       "   'MAX_DR': 0.003,\n",
       "   'RMS_DR': 0.001,\n",
       "   'MAX_ITER': 1000,\n",
       "   'MAX_FORCE': 0.0001,\n",
       "   'OPTIMIZER': 'BFGS',\n",
       "   'RMS_FORCE': 0.0001},\n",
       "  'CONSTRAINT': {'FIXED_ATOMS': {'LIST': '584..1159 '}}},\n",
       " 'FORCE_EVAL': {'DFT': {'QS': {'METHOD': 'GPW',\n",
       "    'EPS_DEFAULT': 1e-14,\n",
       "    'EXTRAPOLATION': 'ASPC',\n",
       "    'EXTRAPOLATION_ORDER': 3},\n",
       "   'XC': {'VDW_POTENTIAL': {'PAIR_POTENTIAL': {'TYPE': 'DFTD3',\n",
       "      'R_CUTOFF': 15,\n",
       "      'CALCULATE_C9_TERM': '.TRUE.',\n",
       "      'PARAMETER_FILE_NAME': 'dftd3.dat',\n",
       "      'REFERENCE_FUNCTIONAL': 'PBE'},\n",
       "     'DISPERSION_FUNCTIONAL': 'PAIR_POTENTIAL'},\n",
       "    'XC_FUNCTIONAL': {'_': 'PBE'}},\n",
       "   'SCF': {'OT': {'MINIMIZER': 'CG', 'PRECONDITIONER': 'FULL_SINGLE_INVERSE'},\n",
       "    'PRINT': {'RESTART': {'EACH': {'QS_SCF': 0, 'GEO_OPT': 1},\n",
       "      'ADD_LAST': 'NUMERIC',\n",
       "      'FILENAME': 'RESTART'},\n",
       "     'RESTART_HISTORY': {'_': 'OFF'}},\n",
       "    'EPS_SCF': 1e-07,\n",
       "    'MAX_SCF': 40,\n",
       "    'OUTER_SCF': {'EPS_SCF': 1e-07, 'MAX_SCF': 50},\n",
       "    'SCF_GUESS': 'RESTART'},\n",
       "   'MGRID': {'CUTOFF': 1200, 'NGRIDS': 5},\n",
       "   'PRINT': {'MO_CUBES': {'EACH': {'QS_SCF': '0', 'GEO_OPT': '0'},\n",
       "     'NHOMO': '1',\n",
       "     'NLUMO': '1',\n",
       "     'STRIDE': '4 4 4',\n",
       "     'ADD_LAST': 'NUMERIC'},\n",
       "    'E_DENSITY_CUBE': {'EACH': {'QS_SCF': '0', 'GEO_OPT': '0'},\n",
       "     'STRIDE': '4 4 4',\n",
       "     'ADD_LAST': 'NUMERIC'}},\n",
       "   'CHARGE': 0,\n",
       "   'RESTART_FILE_NAME': './parent_calc/aiida-RESTART.wfn',\n",
       "   'BASIS_SET_FILE_NAME': 'BASIS_MOLOPT',\n",
       "   'POTENTIAL_FILE_NAME': 'POTENTIAL'},\n",
       "  'METHOD': 'Quickstep',\n",
       "  'SUBSYS': {'CELL': {'PERIODIC': 'XYZ'},\n",
       "   'KIND': [{'_': 'O1',\n",
       "     'ELEMENT': 'O',\n",
       "     'BASIS_SET': 'TZV2P-MOLOPT-GTH',\n",
       "     'POTENTIAL': 'GTH-PBE-q6'},\n",
       "    {'_': 'C1',\n",
       "     'ELEMENT': 'C',\n",
       "     'BASIS_SET': 'TZV2P-MOLOPT-GTH',\n",
       "     'POTENTIAL': 'GTH-PBE-q4'},\n",
       "    {'_': 'H1',\n",
       "     'ELEMENT': 'H',\n",
       "     'BASIS_SET': 'TZV2P-MOLOPT-GTH',\n",
       "     'POTENTIAL': 'GTH-PBE-q1'},\n",
       "    {'_': 'Pd1',\n",
       "     'ELEMENT': 'Pd',\n",
       "     'BASIS_SET': 'DZVP-MOLOPT-SR-GTH-q18',\n",
       "     'POTENTIAL': 'GTH-PBE-q18'},\n",
       "    {'_': 'Ga1',\n",
       "     'ELEMENT': 'Ga',\n",
       "     'BASIS_SET': 'DZVP-MOLOPT-SR-GTH-q13',\n",
       "     'POTENTIAL': 'GTH-PBE-q13'}]}},\n",
       " 'EXT_RESTART': {'RESTART_FILE_NAME': './parent_calc/aiida-1.restart'}}"
      ]
     },
     "execution_count": 51,
     "metadata": {},
     "output_type": "execute_result"
    }
   ],
   "source": [
    "dict(geo_opt_workchain.inputs.parameters)"
   ]
  }
 ],
 "metadata": {
  "kernelspec": {
   "display_name": "base",
   "language": "python",
   "name": "python3"
  },
  "language_info": {
   "codemirror_mode": {
    "name": "ipython",
    "version": 3
   },
   "file_extension": ".py",
   "mimetype": "text/x-python",
   "name": "python",
   "nbconvert_exporter": "python",
   "pygments_lexer": "ipython3",
   "version": "3.9.13"
  }
 },
 "nbformat": 4,
 "nbformat_minor": 2
}
