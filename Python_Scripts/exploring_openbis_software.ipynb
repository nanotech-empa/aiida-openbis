{
 "cells": [
  {
   "cell_type": "code",
   "execution_count": 45,
   "metadata": {},
   "outputs": [],
   "source": [
    "from aiida_openbis.utils import bisutils\n",
    "import yaml\n",
    "import utils\n",
    "\n",
    "# Connect to openBIS\n",
    "session = bisutils.log_in(bisurl=\"openbis\", bisuser=\"admin\", bispasswd=\"changeit\")"
   ]
  },
  {
   "cell_type": "code",
   "execution_count": 61,
   "metadata": {},
   "outputs": [
    {
     "data": {
      "text/plain": [
       "['', 'CARBON', 'TRIANGULENE_SPIN_CHAINS']"
      ]
     },
     "execution_count": 61,
     "metadata": {},
     "output_type": "execute_result"
    }
   ],
   "source": [
    "import os\n",
    "openbis_schema_filepath = './openbis_schema.yml'\n",
    "openbis_schema_file_exists = os.path.isfile(openbis_schema_filepath)\n",
    "\n",
    "if openbis_schema_file_exists:\n",
    "    all_spaces_dict = utils.load_yml_file(openbis_schema_filepath, 'r')\n",
    "\n",
    "_, project_space, project_code = session.get_projects()[0].identifier.split(\"/\")\n",
    "\n",
    "session.get_projects()[11].identifier.split(\"/\")"
   ]
  }
 ],
 "metadata": {
  "kernelspec": {
   "display_name": "base",
   "language": "python",
   "name": "python3"
  },
  "language_info": {
   "codemirror_mode": {
    "name": "ipython",
    "version": 3
   },
   "file_extension": ".py",
   "mimetype": "text/x-python",
   "name": "python",
   "nbconvert_exporter": "python",
   "pygments_lexer": "ipython3",
   "version": "3.9.13"
  }
 },
 "nbformat": 4,
 "nbformat_minor": 2
}
