{
 "cells": [
  {
   "cell_type": "code",
   "execution_count": 5,
   "metadata": {},
   "outputs": [],
   "source": [
    "from aiida_openbis.utils import bisutils\n",
    "import yaml\n",
    "import utils\n",
    "\n",
    "# Connect to openBIS\n",
    "session = bisutils.log_in(bisurl=\"openbis\", bisuser=\"admin\", bispasswd=\"changeit\")\n",
    "\n",
    "ds = session.get_datasets()\n",
    "\n",
    "for dataset in ds:\n",
    "    dataset.download(destination='work/aiida-openbis/Python_Scripts/openBIS_File')"
   ]
  },
  {
   "cell_type": "code",
   "execution_count": 61,
   "metadata": {},
   "outputs": [
    {
     "data": {
      "text/plain": [
       "['', 'CARBON', 'TRIANGULENE_SPIN_CHAINS']"
      ]
     },
     "execution_count": 61,
     "metadata": {},
     "output_type": "execute_result"
    }
   ],
   "source": [
    "import os\n",
    "openbis_schema_filepath = './openbis_schema.yml'\n",
    "openbis_schema_file_exists = os.path.isfile(openbis_schema_filepath)\n",
    "\n",
    "if openbis_schema_file_exists:\n",
    "    all_spaces_dict = utils.load_yml_file(openbis_schema_filepath, 'r')\n",
    "\n",
    "_, project_space, project_code = session.get_projects()[0].identifier.split(\"/\")\n",
    "\n",
    "session.get_projects()[11].identifier.split(\"/\")"
   ]
  },
  {
   "cell_type": "code",
   "execution_count": 126,
   "metadata": {},
   "outputs": [
    {
     "name": "stdout",
     "output_type": "stream",
     "text": [
      "WARNING: \"11-10-2023 15:51:08\" is not of any OpenBis supported datetime formats. Reformatting to \"2023-11-10 15:51:08\"\n",
      "WARNING: \"11-10-2023 15:51:08\" is not of any OpenBis supported datetime formats. Reformatting to \"2023-11-10 15:51:08\"\n",
      "experiment successfully created.\n"
     ]
    },
    {
     "data": {
      "text/html": [
       "\n",
       "            <table border=\"1\" class=\"dataframe\">\n",
       "            <thead>\n",
       "                <tr style=\"text-align: right;\">\n",
       "                <th>attribute</th>\n",
       "                <th>value</th>\n",
       "                </tr>\n",
       "            </thead>\n",
       "            <tbody>\n",
       "        <tr> <td>code</td> <td>CENAS_FIXES_3</td> </tr><tr> <td>permId</td> <td>20231011135108369-46</td> </tr><tr> <td>identifier</td> <td>/MATERIALS/SAMPLES/CENAS_FIXES_3</td> </tr><tr> <td>type</td> <td>DEFAULT_EXPERIMENT</td> </tr><tr> <td>project</td> <td>/MATERIALS/SAMPLES</td> </tr><tr> <td>tags</td> <td>[]</td> </tr><tr> <td>registrator</td> <td>admin</td> </tr><tr> <td>registrationDate</td> <td>2023-10-11 15:51:08</td> </tr><tr> <td>modifier</td> <td>admin</td> </tr><tr> <td>modificationDate</td> <td>2023-10-11 15:51:08</td> </tr><tr> <td>frozen</td> <td>False</td> </tr><tr> <td>frozenForDataSets</td> <td>False</td> </tr><tr> <td>frozenForSamples</td> <td>False</td> </tr><tr> <td>metaData</td> <td></td> </tr><tr><td>attachments</td><td></td></tr>\n",
       "            </tbody>\n",
       "            </table>\n",
       "        "
      ],
      "text/plain": [
       "attribute          value\n",
       "-----------------  --------------------------------\n",
       "code               CENAS_FIXES_3\n",
       "permId             20231011135108369-46\n",
       "identifier         /MATERIALS/SAMPLES/CENAS_FIXES_3\n",
       "type               DEFAULT_EXPERIMENT\n",
       "project            /MATERIALS/SAMPLES\n",
       "tags               []\n",
       "registrator        admin\n",
       "registrationDate   2023-10-11 15:51:08\n",
       "modifier           admin\n",
       "modificationDate   2023-10-11 15:51:08\n",
       "frozen             False\n",
       "frozenForDataSets  False\n",
       "frozenForSamples   False\n",
       "metaData"
      ]
     },
     "execution_count": 126,
     "metadata": {},
     "output_type": "execute_result"
    }
   ],
   "source": [
    "import datetime\n",
    "start = datetime.datetime.now().strftime(\"%d-%m-%Y %H:%M:%S\")\n",
    "end = datetime.datetime.now().strftime(\"%d-%m-%Y %H:%M:%S\")\n",
    "y = session.get_experiments(code='CENAS_FIXES_2')[0].props['default_experiment.experimental_goals']\n",
    "\n",
    "\n",
    "dictionary = {'props': {'$name':'Coisas', '$default_object_type': 'MOLECULE', '$default_collection_view': 'LIST_VIEW'}} # Collection\n",
    "dictionary = {'props': {'$name':'Coisas Fixes 3', '$default_object_type': 'MOLECULE', \n",
    "                        '$show_in_project_overview': True, 'finished_flag': True,\n",
    "                        'default_experiment.grant': 'Super', 'start_date': start, 'end_date': end,\n",
    "                        'default_experiment.experimental_goals': y, 'default_experiment.experimental_description': 'coisas mais fixes',\n",
    "                        'default_experiment.experimental_results': 'coisas ainda mais fixes', 'reference': 'coisas menos fixes',\n",
    "                        'publication': 'ganda cena', 'notes': 'lixo'}}\n",
    "\n",
    "session.new_experiment(code='CENAS_FIXES_3', project = \"/MATERIALS/SAMPLES\", type = 'DEFAULT_EXPERIMENT', **dictionary).save()"
   ]
  },
  {
   "cell_type": "code",
   "execution_count": 138,
   "metadata": {},
   "outputs": [
    {
     "data": {
      "text/html": [
       "<div>\n",
       "<style scoped>\n",
       "    .dataframe tbody tr th:only-of-type {\n",
       "        vertical-align: middle;\n",
       "    }\n",
       "\n",
       "    .dataframe tbody tr th {\n",
       "        vertical-align: top;\n",
       "    }\n",
       "\n",
       "    .dataframe thead th {\n",
       "        text-align: right;\n",
       "    }\n",
       "</style>\n",
       "<table border=\"1\" class=\"dataframe\">\n",
       "  <thead>\n",
       "    <tr style=\"text-align: right;\">\n",
       "      <th></th>\n",
       "      <th>permId</th>\n",
       "      <th>code</th>\n",
       "      <th>description</th>\n",
       "      <th>listable</th>\n",
       "      <th>subcodeUnique</th>\n",
       "      <th>autoGeneratedCode</th>\n",
       "      <th>showContainer</th>\n",
       "      <th>showParents</th>\n",
       "      <th>showParentMetadata</th>\n",
       "      <th>generatedCodePrefix</th>\n",
       "      <th>modificationDate</th>\n",
       "      <th>validationPlugin</th>\n",
       "    </tr>\n",
       "  </thead>\n",
       "  <tbody>\n",
       "    <tr>\n",
       "      <th>0</th>\n",
       "      <td>UNKNOWN</td>\n",
       "      <td>UNKNOWN</td>\n",
       "      <td>Unknown</td>\n",
       "      <td>True</td>\n",
       "      <td>False</td>\n",
       "      <td>False</td>\n",
       "      <td>False</td>\n",
       "      <td>False</td>\n",
       "      <td>False</td>\n",
       "      <td>S</td>\n",
       "      <td>2023-10-06 16:12:06</td>\n",
       "      <td></td>\n",
       "    </tr>\n",
       "  </tbody>\n",
       "</table>\n",
       "</div>"
      ],
      "text/plain": [
       "    permId    code     description    listable    subcodeUnique    autoGeneratedCode    showContainer    showParents    showParentMetadata    generatedCodePrefix    modificationDate     validationPlugin\n",
       "--  --------  -------  -------------  ----------  ---------------  -------------------  ---------------  -------------  --------------------  ---------------------  -------------------  ------------------\n",
       " 0  UNKNOWN   UNKNOWN  Unknown        True        False            False                False            False          False                 S                      2023-10-06 16:12:06"
      ]
     },
     "execution_count": 138,
     "metadata": {},
     "output_type": "execute_result"
    }
   ],
   "source": [
    "session.get_object_types('UNKNOWN')"
   ]
  }
 ],
 "metadata": {
  "kernelspec": {
   "display_name": "base",
   "language": "python",
   "name": "python3"
  },
  "language_info": {
   "codemirror_mode": {
    "name": "ipython",
    "version": 3
   },
   "file_extension": ".py",
   "mimetype": "text/x-python",
   "name": "python",
   "nbconvert_exporter": "python",
   "pygments_lexer": "ipython3",
   "version": "3.9.13"
  }
 },
 "nbformat": 4,
 "nbformat_minor": 2
}
