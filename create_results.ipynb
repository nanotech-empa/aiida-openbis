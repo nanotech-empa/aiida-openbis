{
 "cells": [
  {
   "cell_type": "code",
   "execution_count": null,
   "metadata": {},
   "outputs": [],
   "source": [
    "from IPython.display import display, Javascript, HTML\n",
    "import ipywidgets as ipw\n",
    "from src import widgets, utils"
   ]
  },
  {
   "cell_type": "code",
   "execution_count": null,
   "metadata": {},
   "outputs": [],
   "source": [
    "CONFIG_FILENAME = \"config/config.json\"\n",
    "CONFIG = utils.read_json(CONFIG_FILENAME)\n",
    "OPENBIS_OBJECT_TYPES = utils.read_json(\"metadata/object_types.json\")\n",
    "OPENBIS_SESSION, SESSION_DATA = utils.connect_openbis_aiida(\n",
    "    \"https://openbis-empa-dev205.ethz.ch/\"\n",
    ")"
   ]
  },
  {
   "cell_type": "code",
   "execution_count": null,
   "metadata": {},
   "outputs": [],
   "source": [
    "if OPENBIS_SESSION:\n",
    "    increase_buttons_size = HTML(data=\"\".join(CONFIG[\"save_home_buttons_settings\"]))\n",
    "    results_vbox = widgets.CreateResultsWidget(OPENBIS_SESSION)\n",
    "\n",
    "home_button = ipw.Button(\n",
    "    description=\"\",\n",
    "    disabled=False,\n",
    "    button_style=\"\",\n",
    "    tooltip=\"Main menu\",\n",
    "    icon=\"home\",\n",
    "    layout=ipw.Layout(width=\"100px\", height=\"50px\"),\n",
    ")\n",
    "\n",
    "save_button = ipw.Button(\n",
    "    description=\"\",\n",
    "    disabled=False,\n",
    "    button_style=\"\",\n",
    "    tooltip=\"Save\",\n",
    "    icon=\"save\",\n",
    "    layout=ipw.Layout(width=\"100px\", height=\"50px\"),\n",
    ")\n",
    "\n",
    "save_close_buttons_hbox = ipw.HBox([save_button, home_button])"
   ]
  },
  {
   "cell_type": "code",
   "execution_count": null,
   "metadata": {},
   "outputs": [],
   "source": [
    "def close_notebook(b):\n",
    "    display(Javascript(data='window.location.replace(\"home.ipynb\")'))\n",
    "\n",
    "\n",
    "def save_results(b):\n",
    "    project_id = results_vbox.select_project_widget.project_dropdown.value\n",
    "    if project_id == \"-1\":\n",
    "        return\n",
    "    else:\n",
    "        project_collections = utils.get_openbis_collections(\n",
    "            OPENBIS_SESSION, project=project_id\n",
    "        )\n",
    "        results_collection = None\n",
    "        for collection in project_collections:\n",
    "            if collection.props[\"name\"] == \"Results\":\n",
    "                results_collection = collection\n",
    "\n",
    "        if results_collection is None:\n",
    "            results_collection = utils.create_openbis_collection(\n",
    "                OPENBIS_SESSION,\n",
    "                type=\"COLLECTION\",\n",
    "                project=project_id,\n",
    "                code=\"RESULTS_COLLECTION\",\n",
    "                props={\"name\": \"Results\"},\n",
    "            )\n",
    "\n",
    "        simulations_ids = list(results_vbox.select_simulations_selector.value)\n",
    "        measurements_ids = list(results_vbox.select_measurements_selector.value)\n",
    "        analysis_ids = list(results_vbox.select_analysis_selector.value)\n",
    "\n",
    "        results_parents = simulations_ids + measurements_ids + analysis_ids\n",
    "\n",
    "        results_type = OPENBIS_OBJECT_TYPES[\"Result\"]\n",
    "\n",
    "        results_properties = {\n",
    "            \"name\": results_vbox.name_textbox.value,\n",
    "            \"description\": results_vbox.description_textbox.value,\n",
    "            \"comments\": results_vbox.comments_textbox.value,\n",
    "        }\n",
    "\n",
    "        results_object = utils.create_openbis_object(\n",
    "            OPENBIS_SESSION,\n",
    "            type=results_type,\n",
    "            parents=results_parents,\n",
    "            collection=results_collection,\n",
    "            props=results_properties,\n",
    "        )\n",
    "\n",
    "        utils.upload_datasets(\n",
    "            OPENBIS_SESSION,\n",
    "            results_object,\n",
    "            results_vbox.support_files_uploader,\n",
    "            \"ATTACHMENT\",\n",
    "        )\n",
    "\n",
    "        # Reset widgets\n",
    "        results_vbox.select_project_widget.project_dropdown.value = \"-1\""
   ]
  },
  {
   "cell_type": "markdown",
   "metadata": {},
   "source": [
    "# Create results record in openBIS"
   ]
  },
  {
   "cell_type": "code",
   "execution_count": null,
   "metadata": {},
   "outputs": [],
   "source": [
    "if OPENBIS_SESSION:\n",
    "    display(results_vbox)\n",
    "    display(increase_buttons_size)\n",
    "\n",
    "home_button.on_click(close_notebook)\n",
    "save_button.on_click(save_results)\n",
    "display(save_close_buttons_hbox)"
   ]
  }
 ],
 "metadata": {
  "kernelspec": {
   "display_name": "base",
   "language": "python",
   "name": "python3"
  },
  "language_info": {
   "codemirror_mode": {
    "name": "ipython",
    "version": 3
   },
   "file_extension": ".py",
   "mimetype": "text/x-python",
   "name": "python",
   "nbconvert_exporter": "python",
   "pygments_lexer": "ipython3",
   "version": "3.9.13"
  }
 },
 "nbformat": 4,
 "nbformat_minor": 2
}
