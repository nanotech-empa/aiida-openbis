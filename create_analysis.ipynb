{
 "cells": [
  {
   "cell_type": "code",
   "execution_count": null,
   "metadata": {},
   "outputs": [],
   "source": [
    "from IPython.display import display, Javascript, HTML\n",
    "import ipywidgets as ipw\n",
    "from src import widgets, utils"
   ]
  },
  {
   "cell_type": "code",
   "execution_count": null,
   "metadata": {},
   "outputs": [],
   "source": [
    "CONFIG_FILENAME = \"config/config.json\"\n",
    "CONFIG = utils.read_json(CONFIG_FILENAME)\n",
    "OPENBIS_OBJECT_TYPES = utils.read_json(\"metadata/object_types.json\")\n",
    "OPENBIS_SESSION, SESSION_DATA = utils.connect_openbis_aiida(\n",
    "    \"https://openbis-empa-dev205.ethz.ch/\"\n",
    ")"
   ]
  },
  {
   "cell_type": "code",
   "execution_count": null,
   "metadata": {},
   "outputs": [],
   "source": [
    "if OPENBIS_SESSION:\n",
    "    increase_buttons_size = HTML(data=\"\".join(CONFIG[\"save_home_buttons_settings\"]))\n",
    "    analysis_vbox = widgets.CreateAnalysisWidget(OPENBIS_SESSION)\n",
    "\n",
    "home_button = ipw.Button(\n",
    "    description=\"\",\n",
    "    disabled=False,\n",
    "    button_style=\"\",\n",
    "    tooltip=\"Main menu\",\n",
    "    icon=\"home\",\n",
    "    layout=ipw.Layout(width=\"100px\", height=\"50px\"),\n",
    ")\n",
    "\n",
    "save_button = ipw.Button(\n",
    "    description=\"\",\n",
    "    disabled=False,\n",
    "    button_style=\"\",\n",
    "    tooltip=\"Save\",\n",
    "    icon=\"save\",\n",
    "    layout=ipw.Layout(width=\"100px\", height=\"50px\"),\n",
    ")\n",
    "\n",
    "save_close_buttons_hbox = ipw.HBox([save_button, home_button])"
   ]
  },
  {
   "cell_type": "code",
   "execution_count": null,
   "metadata": {},
   "outputs": [],
   "source": [
    "def close_notebook(b):\n",
    "    display(Javascript(data='window.location.replace(\"home.ipynb\")'))\n",
    "\n",
    "\n",
    "def save_analysis(b):\n",
    "    project_id = analysis_vbox.select_project_widget.project_dropdown.value\n",
    "    if project_id == \"-1\":\n",
    "        return\n",
    "    else:\n",
    "        project_collections = utils.get_openbis_collections(\n",
    "            OPENBIS_SESSION, project=project_id\n",
    "        )\n",
    "        analysis_collection = None\n",
    "        for collection in project_collections:\n",
    "            if collection.props[\"name\"] == \"Analysis\":\n",
    "                analysis_collection = collection\n",
    "\n",
    "        if analysis_collection is None:\n",
    "            analysis_collection = utils.create_openbis_collection(\n",
    "                OPENBIS_SESSION,\n",
    "                type=\"COLLECTION\",\n",
    "                project=project_id,\n",
    "                code=\"ANALYSIS_COLLECTION\",\n",
    "                props={\"name\": \"Analysis\"},\n",
    "            )\n",
    "\n",
    "        simulations_ids = list(analysis_vbox.select_simulations_selector.value)\n",
    "        measurements_ids = list(analysis_vbox.select_measurements_selector.value)\n",
    "        software_ids = list(analysis_vbox.select_software_selector.value)\n",
    "        code_ids = list(analysis_vbox.select_code_selector.value)\n",
    "\n",
    "        analysis_parents = simulations_ids + measurements_ids\n",
    "\n",
    "        analysis_type = OPENBIS_OBJECT_TYPES[\"Analysis\"]\n",
    "\n",
    "        analysis_properties = {\n",
    "            \"name\": analysis_vbox.name_textbox.value,\n",
    "            \"description\": analysis_vbox.description_textbox.value,\n",
    "            \"codes\": code_ids,\n",
    "            \"software\": software_ids,\n",
    "            \"comments\": analysis_vbox.comments_textbox.value,\n",
    "        }\n",
    "\n",
    "        analysis_object = utils.create_openbis_object(\n",
    "            OPENBIS_SESSION,\n",
    "            type=analysis_type,\n",
    "            parents=analysis_parents,\n",
    "            collection=analysis_collection,\n",
    "            props=analysis_properties,\n",
    "        )\n",
    "\n",
    "        utils.upload_datasets(\n",
    "            OPENBIS_SESSION,\n",
    "            analysis_object,\n",
    "            analysis_vbox.support_files_uploader,\n",
    "            \"ATTACHMENT\",\n",
    "        )\n",
    "\n",
    "        # Reset widgets\n",
    "        analysis_vbox.select_project_widget.project_dropdown.value = \"-1\"\n",
    "        analysis_vbox.select_software_selector.value = []\n",
    "        analysis_vbox.select_code_selector.value = []"
   ]
  },
  {
   "cell_type": "markdown",
   "metadata": {},
   "source": [
    "# Create analysis record in openBIS"
   ]
  },
  {
   "cell_type": "code",
   "execution_count": null,
   "metadata": {},
   "outputs": [],
   "source": [
    "if OPENBIS_SESSION:\n",
    "    display(analysis_vbox)\n",
    "    display(increase_buttons_size)\n",
    "\n",
    "home_button.on_click(close_notebook)\n",
    "save_button.on_click(save_analysis)\n",
    "display(save_close_buttons_hbox)"
   ]
  }
 ],
 "metadata": {
  "kernelspec": {
   "display_name": "base",
   "language": "python",
   "name": "python3"
  },
  "language_info": {
   "codemirror_mode": {
    "name": "ipython",
    "version": 3
   },
   "file_extension": ".py",
   "mimetype": "text/x-python",
   "name": "python",
   "nbconvert_exporter": "python",
   "pygments_lexer": "ipython3",
   "version": "3.9.13"
  }
 },
 "nbformat": 4,
 "nbformat_minor": 2
}
