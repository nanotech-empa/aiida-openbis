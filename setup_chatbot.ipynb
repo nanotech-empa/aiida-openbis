{
 "cells": [
  {
   "cell_type": "code",
   "execution_count": null,
   "id": "0",
   "metadata": {},
   "outputs": [],
   "source": [
    "from IPython.display import display, HTML, Javascript\n",
    "import ipywidgets as ipw\n",
    "from src import utils"
   ]
  },
  {
   "cell_type": "code",
   "execution_count": null,
   "id": "1",
   "metadata": {},
   "outputs": [],
   "source": [
    "CONFIG_FILENAME = \"config/config.json\"\n",
    "CONFIG = utils.read_json(CONFIG_FILENAME)\n",
    "increase_buttons_size = HTML(data=\"\".join(CONFIG[\"save_home_buttons_settings\"]))"
   ]
  },
  {
   "cell_type": "code",
   "execution_count": null,
   "id": "2",
   "metadata": {},
   "outputs": [],
   "source": [
    "llm_provider_label = ipw.Label(value=\"LLM Model\")\n",
    "\n",
    "llm_provider_dropdown = ipw.Dropdown(\n",
    "    options=[\n",
    "        \"Select LLM provider...\",\n",
    "        \"Google Gemini\",\n",
    "        \"OpenAI\"\n",
    "    ],\n",
    "    value=\"Select LLM provider...\",\n",
    "    disabled=False,\n",
    ")\n",
    "\n",
    "llm_provider_hbox = ipw.HBox(children=[llm_provider_label, llm_provider_dropdown])\n",
    "\n",
    "llm_url_label = ipw.Label(value=\"LLM URL\")\n",
    "\n",
    "llm_url_textbox = ipw.Text(\n",
    "    value=\"\",\n",
    "    placeholder=\"Enter the URL of the LLM here\",\n",
    ")\n",
    "\n",
    "llm_url_hbox = ipw.HBox(children=[llm_url_label, llm_url_textbox])\n",
    "\n",
    "api_key_label = ipw.Label(value=\"API Key\")\n",
    "\n",
    "api_key_textbox = ipw.Text(\n",
    "    value=\"\", placeholder=\"Enter your API key here\", disabled=False\n",
    ")\n",
    "\n",
    "api_key_hbox = ipw.HBox(children=[api_key_label, api_key_textbox])\n",
    "\n",
    "llm_model_label = ipw.Label(value=\"LLM Model\")\n",
    "\n",
    "llm_model_dropdown = ipw.Dropdown(disabled=False)\n",
    "\n",
    "llm_model_hbox = ipw.HBox(children=[llm_model_label, llm_model_dropdown])\n",
    "\n",
    "home_button = ipw.Button(\n",
    "    description=\"\",\n",
    "    disabled=False,\n",
    "    button_style=\"\",\n",
    "    tooltip=\"Main menu\",\n",
    "    icon=\"home\",\n",
    "    layout=ipw.Layout(width=\"100px\", height=\"50px\"),\n",
    ")\n",
    "\n",
    "save_button = ipw.Button(\n",
    "    description=\"\",\n",
    "    disabled=False,\n",
    "    button_style=\"\",\n",
    "    tooltip=\"Save\",\n",
    "    icon=\"save\",\n",
    "    layout=ipw.Layout(width=\"100px\", height=\"50px\"),\n",
    ")\n",
    "\n",
    "save_close_buttons_hbox = ipw.HBox([save_button, home_button])\n",
    "\n",
    "displayed_widgets = ipw.VBox(children=[llm_provider_hbox, save_close_buttons_hbox])"
   ]
  },
  {
   "cell_type": "code",
   "execution_count": null,
   "id": "3",
   "metadata": {},
   "outputs": [],
   "source": [
    "def on_llm_provider_change(change):\n",
    "    if llm_provider_dropdown.value == \"Google Gemini\":\n",
    "        llm_model_dropdown.options = [\n",
    "            \"Select LLM model...\",\n",
    "            \"gemini-2.0-flash-lite\",\n",
    "            \"gemini-2.0-flash\",\n",
    "            \"gemini-2.5-flash-lite\",\n",
    "            \"gemini-2.5-flash\",\n",
    "            \"gemini-2.5-pro\",\n",
    "        ]\n",
    "        displayed_widgets.children = [\n",
    "            llm_provider_hbox,\n",
    "            api_key_hbox,\n",
    "            llm_model_hbox,\n",
    "            save_close_buttons_hbox,\n",
    "        ]\n",
    "    elif llm_provider_dropdown.value == \"OpenAI\":\n",
    "        llm_model_dropdown.options = [\n",
    "            \"Select LLM model...\",\n",
    "            \"gpt-3.5-turbo\",\n",
    "            \"gpt-4\",\n",
    "            \"gpt-4-turbo\",\n",
    "        ]\n",
    "        displayed_widgets.children = [\n",
    "            llm_provider_hbox,\n",
    "            api_key_hbox,\n",
    "            llm_model_hbox,\n",
    "            save_close_buttons_hbox,\n",
    "        ]\n",
    "\n",
    "\n",
    "def save_config(b):\n",
    "    config_data = {}\n",
    "    if llm_provider_dropdown.value != \"Select LLM provider...\":\n",
    "        config_data[\"llm_provider\"] = llm_provider_dropdown.value\n",
    "        config_data[\"llm_model\"] = llm_model_dropdown.value\n",
    "        config_data[\"api_key\"] = api_key_textbox.value\n",
    "        utils.write_json(config_data, \"/home/jovyan/api_keys/llm_config.json\")\n",
    "        display(Javascript(data='alert(\"Configuration saved successfully!\")'))\n",
    "\n",
    "\n",
    "def close_notebook(b):\n",
    "    display(Javascript(data='window.location.replace(\"home.ipynb\")'))"
   ]
  },
  {
   "cell_type": "code",
   "execution_count": null,
   "id": "4",
   "metadata": {},
   "outputs": [],
   "source": [
    "llm_provider_dropdown.observe(on_llm_provider_change, names=\"value\")\n",
    "save_button.on_click(save_config)\n",
    "home_button.on_click(close_notebook)"
   ]
  },
  {
   "cell_type": "markdown",
   "id": "5",
   "metadata": {},
   "source": [
    "# Setup API key for the LLM used in the chatbot"
   ]
  },
  {
   "cell_type": "code",
   "execution_count": null,
   "id": "6",
   "metadata": {},
   "outputs": [],
   "source": [
    "display(increase_buttons_size)\n",
    "display(displayed_widgets)"
   ]
  }
 ],
 "metadata": {
  "language_info": {
   "name": "python"
  }
 },
 "nbformat": 4,
 "nbformat_minor": 5
}
