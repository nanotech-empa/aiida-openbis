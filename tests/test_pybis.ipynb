{
 "cells": [
  {
   "cell_type": "code",
   "execution_count": null,
   "id": "0",
   "metadata": {},
   "outputs": [],
   "source": [
    "from pybis import Openbis\n",
    "\n",
    "\n",
    "def log_in(eln_url: str, eln_token: str):\n",
    "    try:\n",
    "        session = Openbis(eln_url, verify_certificates=False)\n",
    "        session.set_token(eln_token)\n",
    "    except ValueError:\n",
    "        print(\"Session is no longer valid. Please check if the token is still valid.\")\n",
    "        session = None\n",
    "\n",
    "    return session\n",
    "\n",
    "\n",
    "openbis_url = \"local.openbis.ch\"\n",
    "openbis_token = \"\"\n",
    "\n",
    "# Connect to openBIS\n",
    "session = log_in(openbis_url, openbis_token)"
   ]
  },
  {
   "cell_type": "code",
   "execution_count": null,
   "id": "1",
   "metadata": {},
   "outputs": [],
   "source": [
    "session.new_property_type(\n",
    "    code=\"Test_PROP\",\n",
    "    label=\"Test Property\",\n",
    "    description=\"This is a test property\",\n",
    "    dataType=\"VARCHAR\",\n",
    "    multiValue=True,\n",
    ")"
   ]
  }
 ],
 "metadata": {
  "kernelspec": {
   "display_name": "base",
   "language": "python",
   "name": "python3"
  },
  "language_info": {
   "codemirror_mode": {
    "name": "ipython",
    "version": 3
   },
   "file_extension": ".py",
   "mimetype": "text/x-python",
   "name": "python",
   "nbconvert_exporter": "python",
   "pygments_lexer": "ipython3",
   "version": "3.9.13"
  }
 },
 "nbformat": 4,
 "nbformat_minor": 5
}
