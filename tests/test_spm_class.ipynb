{
 "cells": [
  {
   "cell_type": "code",
   "execution_count": null,
   "metadata": {},
   "outputs": [],
   "source": [
    "import spmpy\n",
    "import nanonis_importer\n",
    "import subprocess\n",
    "\n",
    "sxm_data_filepath = (\n",
    "    \"/home/jovyan/measurements_data/prep1/RT008/01_04_RT008/img_0001.sxm\"\n",
    ")\n",
    "dat_data_filepath = (\n",
    "    \"/home/jovyan/measurements_data_RT009/prep10/RT009/10_11_RT009/didv_00091.dat\"\n",
    ")\n",
    "\n",
    "s = spmpy.Spm(sxm_data_filepath)\n",
    "# s.print_params_dict()\n",
    "x = s.signals.keys()"
   ]
  },
  {
   "cell_type": "code",
   "execution_count": null,
   "metadata": {},
   "outputs": [],
   "source": [
    "s.header[\"z-controller\"][\"Setpoint\"][0].split()"
   ]
  },
  {
   "cell_type": "code",
   "execution_count": null,
   "metadata": {},
   "outputs": [],
   "source": [
    "s.header[\"z-controller>controller status\"]"
   ]
  },
  {
   "cell_type": "code",
   "execution_count": null,
   "metadata": {},
   "outputs": [],
   "source": [
    "s.print_params_dict()"
   ]
  },
  {
   "cell_type": "code",
   "execution_count": null,
   "metadata": {},
   "outputs": [],
   "source": [
    "session = nanonis_importer.get_instance(\"local.openbis.ch\", \"admin\", \"123456789\")\n",
    "sxm_data_filepath = (\n",
    "    \"/home/jovyan/measurements_data/prep5/RT008/05_10_RT008/img_0389.sxm\"\n",
    ")\n",
    "dat_data_filepath = (\n",
    "    \"/home/jovyan/aiida-openbis/Notebooks/nanonis_importer/data/didv_00063.dat\"\n",
    ")\n",
    "dat_data_folderpath = \"/home/jovyan/aiida-openbis/Notebooks/nanonis_importer/data/\"\n",
    "\n",
    "nanonis_importer.demo_dat_flow(\n",
    "    session,\n",
    "    folder_path=dat_data_folderpath,\n",
    "    experiment=\"20250401122316172-2939\",\n",
    "    sample=\"20250512201816258-4474\",\n",
    ")"
   ]
  },
  {
   "cell_type": "code",
   "execution_count": null,
   "metadata": {},
   "outputs": [],
   "source": [
    "script_filename = (\n",
    "    \"/home/jovyan/aiida-openbis/Notebooks/nanonis_importer/nanonis_importer.py\"\n",
    ")\n",
    "openbis_url = \"local.openbis.ch\"\n",
    "openbis_user = \"admin\"\n",
    "openbis_token = \"$pat-admin-250717092747401x7D4EC717AF58F5D600CFF50C7752419E\"\n",
    "data_folder = \"/home/jovyan/aiida-openbis/Notebooks/openbis_app/data\"\n",
    "sample_permid = \"20250807124231487-3629\"\n",
    "\n",
    "\n",
    "subprocess.run(\n",
    "    [\n",
    "        \"python3\",\n",
    "        script_filename,\n",
    "        openbis_url,\n",
    "        openbis_user,\n",
    "        openbis_token,\n",
    "        data_folder,\n",
    "        sample_permid,\n",
    "    ]\n",
    ")"
   ]
  }
 ],
 "metadata": {
  "kernelspec": {
   "display_name": "base",
   "language": "python",
   "name": "python3"
  },
  "language_info": {
   "codemirror_mode": {
    "name": "ipython",
    "version": 3
   },
   "file_extension": ".py",
   "mimetype": "text/x-python",
   "name": "python",
   "nbconvert_exporter": "python",
   "pygments_lexer": "ipython3",
   "version": "3.9.13"
  }
 },
 "nbformat": 4,
 "nbformat_minor": 2
}
