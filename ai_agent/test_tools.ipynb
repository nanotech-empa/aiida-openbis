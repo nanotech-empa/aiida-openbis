{
 "cells": [
  {
   "cell_type": "code",
   "execution_count": null,
   "id": "0",
   "metadata": {},
   "outputs": [],
   "source": [
    "import tools\n",
    "\n",
    "# tools.get_processes_documents(\"I am doing a molecule deposition in LT STM. What I need to know?\")\n",
    "# tools.get_simulations_by_reacprod_concept(\n",
    "#     tools.ReacProdConceptArgs(\n",
    "#         molecules = [tools.MoleculeArgs(empa_number=704)]\n",
    "#     )\n",
    "# )\n",
    "\n",
    "# openbis_utils.get_openbis_objects(\n",
    "#     type = \"CRYSTAL\",\n",
    "#     where = {\n",
    "#         \"CRYSTAL_CONCEPT.material\": \"Au\"\n",
    "#     }\n",
    "# )\n",
    "# x = tools.get_sample_provenance(\n",
    "#     Sample(permId = '20250929123440615-4070')\n",
    "# )\n",
    "\n",
    "# print(x)\n",
    "# tools.get_samples_by_substance(Substance(empa_number = 704, batch='a'))\n",
    "# tools.get_simulations_by_molecule(Molecule(name = '704'))\n",
    "tools.get_reacprods_by_properties(\n",
    "    tools.ReacProdArgs(\n",
    "        reacprod_concept=tools.ReacProdConceptArgs(\n",
    "            molecules=[tools.MoleculeArgs(empa_number=704)]\n",
    "        )\n",
    "    )\n",
    ")\n",
    "# inventory_tools.get_samples_by_substance(\n",
    "#     Substance(empa_number = '704')\n",
    "# )\n",
    "# inventory_tools.get_openbis_objects(\"INSTRUMENT.STM\")\n",
    "\n",
    "# objects = openbis_utils.get_openbis_objects(\n",
    "#     type = \"SAMPLE\",\n",
    "#     attrs = [\"parents\"],\n",
    "#     where = {\"object_status\": \"ACTIVE\"}\n",
    "# )"
   ]
  }
 ],
 "metadata": {
  "kernelspec": {
   "display_name": "base",
   "language": "python",
   "name": "python3"
  },
  "language_info": {
   "codemirror_mode": {
    "name": "ipython",
    "version": 3
   },
   "file_extension": ".py",
   "mimetype": "text/x-python",
   "name": "python",
   "nbconvert_exporter": "python",
   "pygments_lexer": "ipython3",
   "version": "3.9.13"
  }
 },
 "nbformat": 4,
 "nbformat_minor": 5
}
