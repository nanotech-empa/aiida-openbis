{
 "cells": [
  {
   "cell_type": "code",
   "execution_count": null,
   "metadata": {},
   "outputs": [],
   "source": [
    "from IPython.display import display\n",
    "import ipywidgets as ipw\n",
    "import widgets\n",
    "import utils"
   ]
  },
  {
   "cell_type": "code",
   "execution_count": null,
   "metadata": {},
   "outputs": [],
   "source": [
    "CONFIG = utils.read_json(\"config.json\")\n",
    "CONFIG_ELN = utils.get_aiidalab_eln_config()\n",
    "OPENBIS_SESSION, SESSION_DATA = utils.connect_openbis(\n",
    "    CONFIG_ELN[\"url\"], CONFIG_ELN[\"token\"]\n",
    ")\n",
    "DATA_MODEL = utils.read_yaml(\n",
    "    \"/home/jovyan/aiida-openbis/Notebooks/Metadata_Schemas_LinkML/materialMLinfo.yaml\"\n",
    ")\n",
    "\n",
    "project_selector = widgets.ProjectSelectionWidget()\n",
    "project_selector.load_dropdown_box()\n",
    "\n",
    "results_selector = widgets.ObjectMultipleSelectionWidget(\"Results\")\n",
    "draft_widgets = widgets.OpenbisObjectWidget(\"Draft\", DATA_MODEL)\n",
    "\n",
    "draft_support_files = ipw.FileUpload(multiple=True)\n",
    "\n",
    "increase_buttons_size = utils.HTML(data=\"\".join(CONFIG[\"save_home_buttons_settings\"]))\n",
    "create_button = utils.Button(\n",
    "    description=\"\",\n",
    "    disabled=False,\n",
    "    button_style=\"\",\n",
    "    tooltip=\"Save\",\n",
    "    icon=\"save\",\n",
    "    layout=ipw.Layout(width=\"100px\", height=\"50px\"),\n",
    ")\n",
    "quit_button = utils.Button(\n",
    "    description=\"\",\n",
    "    disabled=False,\n",
    "    button_style=\"\",\n",
    "    tooltip=\"Main menu\",\n",
    "    icon=\"home\",\n",
    "    layout=ipw.Layout(width=\"100px\", height=\"50px\"),\n",
    ")\n",
    "save_close_buttons_hbox = ipw.HBox([create_button, quit_button])"
   ]
  },
  {
   "cell_type": "code",
   "execution_count": null,
   "metadata": {},
   "outputs": [],
   "source": [
    "def close_notebook(b):\n",
    "    display(utils.Javascript(data='window.location.replace(\"home.ipynb\")'))\n",
    "\n",
    "\n",
    "def load_results(change):\n",
    "    if project_selector.dropdown.value != -1:\n",
    "        results_selector.load_selector(\"RESULTS\", project_selector.dropdown.value)\n",
    "\n",
    "\n",
    "def create_draft_openbis(b):\n",
    "    project_permid = project_selector.dropdown.value\n",
    "    project_drafts_collection = OPENBIS_SESSION.get_collections(\n",
    "        project=project_permid, code=\"DRAFTS_COLLECTION\"\n",
    "    )\n",
    "    drafts_parents = list(results_selector.selector.value)\n",
    "\n",
    "    if len(project_drafts_collection) == 0:\n",
    "        drafts_collection = utils.create_openbis_collection(\n",
    "            OPENBIS_SESSION,\n",
    "            project=project_selector.dropdown.value,\n",
    "            code=\"DRAFTS_COLLECTION\",\n",
    "            type=\"COLLECTION\",\n",
    "            props={\"name\": \"Drafts\"},\n",
    "        )\n",
    "    else:\n",
    "        drafts_collection = project_drafts_collection[0]\n",
    "\n",
    "    object_properties = utils.get_object_widget_values(draft_widgets.properties_widgets)\n",
    "\n",
    "    draft_object = utils.create_openbis_object(\n",
    "        OPENBIS_SESSION,\n",
    "        type=\"DRAFT\",\n",
    "        collection=drafts_collection,\n",
    "        props=object_properties,\n",
    "        parents=drafts_parents,\n",
    "    )\n",
    "    utils.upload_datasets(\n",
    "        OPENBIS_SESSION, draft_object, draft_support_files, \"RAW_DATA\"\n",
    "    )\n",
    "\n",
    "    display(utils.Javascript(data=\"alert('Upload successful!')\"))\n",
    "\n",
    "    # Reset widgets\n",
    "    results_selector.selector.options = []\n",
    "    project_selector.dropdown.value = -1"
   ]
  },
  {
   "cell_type": "markdown",
   "metadata": {},
   "source": [
    "# Create draft"
   ]
  },
  {
   "cell_type": "markdown",
   "metadata": {},
   "source": [
    "## Select project"
   ]
  },
  {
   "cell_type": "code",
   "execution_count": null,
   "metadata": {},
   "outputs": [],
   "source": [
    "display(project_selector.dropdown_boxes)\n",
    "project_selector.dropdown.observe(load_results, names=\"value\")"
   ]
  },
  {
   "cell_type": "markdown",
   "metadata": {},
   "source": [
    "## Select results"
   ]
  },
  {
   "cell_type": "code",
   "execution_count": null,
   "metadata": {},
   "outputs": [],
   "source": [
    "display(results_selector)"
   ]
  },
  {
   "cell_type": "markdown",
   "metadata": {},
   "source": [
    "## Properties"
   ]
  },
  {
   "cell_type": "code",
   "execution_count": null,
   "metadata": {},
   "outputs": [],
   "source": [
    "display(draft_widgets)"
   ]
  },
  {
   "cell_type": "markdown",
   "metadata": {},
   "source": [
    "## Support files"
   ]
  },
  {
   "cell_type": "code",
   "execution_count": null,
   "metadata": {},
   "outputs": [],
   "source": [
    "display(draft_support_files)"
   ]
  },
  {
   "cell_type": "markdown",
   "metadata": {},
   "source": [
    "## Save results"
   ]
  },
  {
   "cell_type": "code",
   "execution_count": null,
   "metadata": {},
   "outputs": [],
   "source": [
    "display(save_close_buttons_hbox)\n",
    "display(increase_buttons_size)\n",
    "create_button.on_click(create_draft_openbis)\n",
    "quit_button.on_click(close_notebook)"
   ]
  }
 ],
 "metadata": {
  "kernelspec": {
   "display_name": "base",
   "language": "python",
   "name": "python3"
  },
  "language_info": {
   "codemirror_mode": {
    "name": "ipython",
    "version": 3
   },
   "file_extension": ".py",
   "mimetype": "text/x-python",
   "name": "python",
   "nbconvert_exporter": "python",
   "pygments_lexer": "ipython3",
   "version": "3.9.13"
  }
 },
 "nbformat": 4,
 "nbformat_minor": 2
}
