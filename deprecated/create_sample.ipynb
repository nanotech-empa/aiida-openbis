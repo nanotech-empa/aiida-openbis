{
 "cells": [
  {
   "cell_type": "code",
   "execution_count": null,
   "metadata": {},
   "outputs": [],
   "source": [
    "from IPython.display import display, clear_output\n",
    "import utils\n",
    "import widgets\n",
    "import ipywidgets as ipw"
   ]
  },
  {
   "cell_type": "code",
   "execution_count": null,
   "metadata": {},
   "outputs": [],
   "source": [
    "CONFIG = utils.read_json(\"config.json\")\n",
    "CONFIG_ELN = utils.get_aiidalab_eln_config()\n",
    "DATA_MODEL = utils.read_yaml(\n",
    "    \"/home/jovyan/aiida-openbis/Notebooks/Metadata_Schemas_LinkML/materialMLinfo.yaml\"\n",
    ")\n",
    "# CONFIG_ELN = utils.read_json(\"eln_config.json\")\n",
    "OPENBIS_SESSION, SESSION_DATA = utils.connect_openbis(\n",
    "    CONFIG_ELN[\"url\"], CONFIG_ELN[\"token\"]\n",
    ")\n",
    "\n",
    "slabs_options = [\n",
    "    DATA_MODEL[\"classes\"][object_type][\"title\"] for object_type in CONFIG[\"slabs\"]\n",
    "]\n",
    "slabs_options.insert(0, \"No material\")\n",
    "material_selection_radio_button = utils.Radiobuttons(\n",
    "    description=\"\",\n",
    "    options=slabs_options,\n",
    "    disabled=False,\n",
    "    layout=ipw.Layout(width=\"300px\"),\n",
    "    style={\"description_width\": \"100px\"},\n",
    ")\n",
    "\n",
    "material_selector = widgets.MaterialSelectionWidget()\n",
    "\n",
    "sample_out_name_textbox = utils.Text(\n",
    "    description=\"Name\",\n",
    "    disabled=False,\n",
    "    layout=ipw.Layout(width=\"400px\"),\n",
    "    placeholder=\"Write sample name here...\",\n",
    "    style={\"description_width\": \"110px\"},\n",
    ")\n",
    "increase_buttons_size = utils.HTML(data=\"\".join(CONFIG[\"save_home_buttons_settings\"]))\n",
    "create_button = utils.Button(\n",
    "    description=\"\",\n",
    "    disabled=False,\n",
    "    button_style=\"\",\n",
    "    tooltip=\"Save\",\n",
    "    icon=\"save\",\n",
    "    layout=ipw.Layout(width=\"100px\", height=\"50px\"),\n",
    ")\n",
    "quit_button = utils.Button(\n",
    "    description=\"\",\n",
    "    disabled=False,\n",
    "    button_style=\"\",\n",
    "    tooltip=\"Main menu\",\n",
    "    icon=\"home\",\n",
    "    layout=ipw.Layout(width=\"100px\", height=\"50px\"),\n",
    ")\n",
    "save_close_buttons_hbox = ipw.HBox([create_button, quit_button])"
   ]
  },
  {
   "cell_type": "code",
   "execution_count": null,
   "metadata": {},
   "outputs": [],
   "source": [
    "string_types = \"\"\n",
    "for i in OPENBIS_SESSION.get_object_types().df[\"code\"]:\n",
    "    string_types += i + \", \"\n",
    "\n",
    "print(string_types)"
   ]
  },
  {
   "cell_type": "code",
   "execution_count": null,
   "metadata": {},
   "outputs": [],
   "source": [
    "def close_notebook(b):\n",
    "    display(utils.Javascript(data='window.location.replace(\"home.ipynb\")'))\n",
    "\n",
    "\n",
    "# Function to create sample object inside openBIS using information selected in the app\n",
    "def create_sample_action(b):\n",
    "    samples_names = [\n",
    "        sample.props[\"name\"] for sample in OPENBIS_SESSION.get_objects(type=\"SAMPLE\")\n",
    "    ]\n",
    "    if sample_out_name_textbox.value in samples_names:\n",
    "        display(utils.Javascript(data=f\"alert('{'Sample name already exists!'}')\"))\n",
    "        return\n",
    "    else:\n",
    "        sample_parents = (\n",
    "            []\n",
    "            if material_selector.dropdown.value == -1\n",
    "            else [material_selector.dropdown.value]\n",
    "        )\n",
    "        sample_props = {\"name\": sample_out_name_textbox.value, \"exists\": True}\n",
    "        utils.create_openbis_object(\n",
    "            OPENBIS_SESSION,\n",
    "            type=\"SAMPLE\",\n",
    "            collection=\"/MATERIALS/SAMPLES/SAMPLE_COLLECTION\",\n",
    "            props=sample_props,\n",
    "            parents=sample_parents,\n",
    "        )\n",
    "        display(utils.Javascript(data=\"alert('Upload successful!')\"))\n",
    "\n",
    "        # Reset widgets\n",
    "        material_selection_radio_button.value = \"No material\"\n",
    "        sample_out_name_textbox.value = \"\"\n",
    "\n",
    "\n",
    "def select_material_radio_change(change):\n",
    "    material_title = material_selection_radio_button.value\n",
    "    if material_title == \"No material\":\n",
    "        with material_selector:\n",
    "            clear_output()\n",
    "            material_selector.dropdown.value = -1\n",
    "            return\n",
    "\n",
    "    material_selector.details_textbox.value = \"\"\n",
    "    for object_type in CONFIG[\"slabs\"]:\n",
    "        object_schema = DATA_MODEL[\"classes\"][object_type]\n",
    "        object_title = object_schema[\"title\"]\n",
    "        if material_title == object_title:\n",
    "            material_type = object_type\n",
    "\n",
    "    with material_selector:\n",
    "        clear_output()\n",
    "        display_list = [\n",
    "            material_selector.dropdown_boxes,\n",
    "            ipw.HBox([material_selector.details_textbox, material_selector.image_box]),\n",
    "        ]\n",
    "        material_selector.load_dropdown_box(material_type)\n",
    "        display(ipw.VBox(display_list))\n",
    "\n",
    "\n",
    "# Function to handle changes in the materials dropdown and sample name box\n",
    "def load_material_metadata_and_sample_name(change):\n",
    "    material_selector.load_metadata(change)\n",
    "    # Change sample name box\n",
    "    material_name = [\n",
    "        label\n",
    "        for label, value in material_selector.dropdown.options\n",
    "        if value == material_selector.dropdown.value\n",
    "    ][0]\n",
    "    sample_out_name_textbox.value = (\n",
    "        utils.convert_datetime_to_string(utils.get_current_datetime())\n",
    "        + f\"_{material_name}\"\n",
    "    )"
   ]
  },
  {
   "cell_type": "markdown",
   "metadata": {},
   "source": [
    "# Create a sample object in openBIS"
   ]
  },
  {
   "cell_type": "markdown",
   "metadata": {},
   "source": [
    "## Select material"
   ]
  },
  {
   "cell_type": "code",
   "execution_count": null,
   "metadata": {},
   "outputs": [],
   "source": [
    "material_selection_radio_button.observe(select_material_radio_change, names=\"value\")\n",
    "material_selector.dropdown.observe(\n",
    "    load_material_metadata_and_sample_name, names=\"value\"\n",
    ")\n",
    "display(material_selection_radio_button)\n",
    "display(material_selector)"
   ]
  },
  {
   "cell_type": "markdown",
   "metadata": {},
   "source": [
    "## Sample out"
   ]
  },
  {
   "cell_type": "code",
   "execution_count": null,
   "metadata": {},
   "outputs": [],
   "source": [
    "create_button.on_click(create_sample_action)\n",
    "quit_button.on_click(close_notebook)\n",
    "display(sample_out_name_textbox, save_close_buttons_hbox)\n",
    "display(increase_buttons_size)"
   ]
  }
 ],
 "metadata": {
  "kernelspec": {
   "display_name": "base",
   "language": "python",
   "name": "python3"
  },
  "language_info": {
   "codemirror_mode": {
    "name": "ipython",
    "version": 3
   },
   "file_extension": ".py",
   "mimetype": "text/x-python",
   "name": "python",
   "nbconvert_exporter": "python",
   "pygments_lexer": "ipython3",
   "version": "3.9.13"
  }
 },
 "nbformat": 4,
 "nbformat_minor": 2
}
