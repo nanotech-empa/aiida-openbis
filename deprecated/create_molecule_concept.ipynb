{
 "cells": [
  {
   "cell_type": "code",
   "execution_count": null,
   "metadata": {},
   "outputs": [],
   "source": [
    "from IPython.display import display\n",
    "import ipywidgets as ipw\n",
    "import widgets\n",
    "import utils\n",
    "import os\n",
    "import rdkit\n",
    "from rdkit.Chem import AllChem, Draw, rdMolDescriptors\n",
    "import io\n",
    "from pathlib import Path"
   ]
  },
  {
   "cell_type": "code",
   "execution_count": null,
   "metadata": {},
   "outputs": [],
   "source": [
    "CONFIG = utils.read_json(\"config.json\")\n",
    "CONFIG_ELN = utils.get_aiidalab_eln_config()\n",
    "DATA_MODEL = utils.read_yaml(\n",
    "    \"/home/jovyan/aiida-openbis/Notebooks/Metadata_Schemas_LinkML/materialMLinfo.yaml\"\n",
    ")\n",
    "OPENBIS_SESSION, SESSION_DATA = utils.connect_openbis(\n",
    "    CONFIG_ELN[\"url\"], CONFIG_ELN[\"token\"]\n",
    ")\n",
    "\n",
    "molecule_widgets = widgets.OpenbisObjectWidget(\"MoleculeConcept\", DATA_MODEL)\n",
    "\n",
    "molecule_structure = ipw.Image(\n",
    "    value=utils.read_file(CONFIG[\"default_image_filepath\"]),\n",
    "    format=\"jpg\",\n",
    "    width=\"420px\",\n",
    "    height=\"450px\",\n",
    "    layout=ipw.Layout(border=\"solid 1px #cccccc\"),\n",
    ")\n",
    "\n",
    "molecule_cdxml_file = ipw.FileUpload(multiple=False, accept=\".cdxml\")\n",
    "\n",
    "molecule_support_files = ipw.FileUpload(multiple=True)\n",
    "\n",
    "increase_buttons_size = utils.HTML(data=\"\".join(CONFIG[\"save_home_buttons_settings\"]))\n",
    "create_button = utils.Button(\n",
    "    description=\"\",\n",
    "    disabled=False,\n",
    "    button_style=\"\",\n",
    "    tooltip=\"Save\",\n",
    "    icon=\"save\",\n",
    "    layout=ipw.Layout(width=\"100px\", height=\"50px\"),\n",
    ")\n",
    "quit_button = utils.Button(\n",
    "    description=\"\",\n",
    "    disabled=False,\n",
    "    button_style=\"\",\n",
    "    tooltip=\"Main menu\",\n",
    "    icon=\"home\",\n",
    "    layout=ipw.Layout(width=\"100px\", height=\"50px\"),\n",
    ")\n",
    "save_close_buttons_hbox = ipw.HBox([create_button, quit_button])"
   ]
  },
  {
   "cell_type": "code",
   "execution_count": null,
   "metadata": {},
   "outputs": [],
   "source": [
    "def close_notebook(b):\n",
    "    display(utils.Javascript(data='window.location.replace(\"home.ipynb\")'))\n",
    "\n",
    "\n",
    "def load_molecule_structure(change):\n",
    "    for filename in molecule_cdxml_file.value:\n",
    "        file_info = molecule_cdxml_file.value[filename]\n",
    "        utils.save_file(file_info[\"content\"], \"structures/structure.cdxml\")\n",
    "\n",
    "    cdxml_molecule = utils.read_file(\"structures/structure.cdxml\")\n",
    "    molecules = rdkit.Chem.MolsFromCDXML(cdxml_molecule)\n",
    "\n",
    "    if len(molecules) == 1:\n",
    "        mol = molecules[0]  # Get first molecule\n",
    "        mol_chemical_formula = rdMolDescriptors.CalcMolFormula(mol)  # Sum Formula\n",
    "        mol_smiles = rdkit.Chem.MolToSmiles(mol)  # Canonical Smiles\n",
    "        chem_mol = rdkit.Chem.MolFromSmiles(mol_smiles)\n",
    "\n",
    "        if chem_mol is not None:\n",
    "            AllChem.Compute2DCoords(chem_mol)  # Add coords to the atoms in the molecule\n",
    "            img = Draw.MolToImage(chem_mol)\n",
    "            buffer = io.BytesIO()\n",
    "            img.save(buffer, format=\"PNG\")\n",
    "            molecule_structure.value = buffer.getvalue()\n",
    "            img.save(\"structures/structure.png\")\n",
    "        else:\n",
    "            print(\"Cannot generate molecule image.\")\n",
    "\n",
    "        molecule_widgets.properties_widgets[\"sum_formula\"][\n",
    "            \"value_widget\"\n",
    "        ].value = mol_chemical_formula\n",
    "        molecule_widgets.properties_widgets[\"smiles\"][\"value_widget\"].value = mol_smiles\n",
    "\n",
    "    elif len(molecules) > 1:\n",
    "        print(f\"There are more than one molecule in the file: {filename}\")\n",
    "    else:\n",
    "        print(f\"There are no molecules in the file: {filename}\")\n",
    "\n",
    "\n",
    "def create_molecule_openbis(b):\n",
    "    # Check if the molecule is already in openBIS\n",
    "    smiles_molecules_openbis = [\n",
    "        molecule.props[\"smiles\"]\n",
    "        for molecule in utils.get_openbis_objects(\n",
    "            OPENBIS_SESSION, type=\"MOLECULE_CONCEPT\"\n",
    "        )\n",
    "    ]\n",
    "\n",
    "    object_properties = utils.get_object_widget_values(\n",
    "        molecule_widgets.properties_widgets\n",
    "    )\n",
    "    if object_properties[\"smiles\"] in smiles_molecules_openbis:\n",
    "        display(\n",
    "            utils.Javascript(data=\"alert('Molecule Concept is already in openBIS!')\")\n",
    "        )\n",
    "\n",
    "        if Path(\"structures/structure.png\").exists():\n",
    "            os.remove(\"structures/structure.png\")\n",
    "\n",
    "        if Path(\"structures/structure.png\").exists():\n",
    "            os.remove(\"structures/structure.cdxml\")\n",
    "    else:\n",
    "        molecule_object = utils.create_openbis_object(\n",
    "            OPENBIS_SESSION,\n",
    "            type=\"MOLECULE_CONCEPT\",\n",
    "            collection=\"/MATERIALS/MOLECULES/PRECURSOR_COLLECTION\",\n",
    "            props=object_properties,\n",
    "        )\n",
    "\n",
    "        # Send molecule image to openBIS\n",
    "        if Path(\"structures/structure.png\").exists():\n",
    "            # Upload cdxml\n",
    "            utils.create_openbis_dataset(\n",
    "                OPENBIS_SESSION,\n",
    "                type=\"ELN_PREVIEW\",\n",
    "                object=molecule_object,\n",
    "                file=\"structures/structure.png\",\n",
    "            )\n",
    "            os.remove(\"structures/structure.png\")\n",
    "\n",
    "        if Path(\"structures/structure.png\").exists():\n",
    "            # Upload cdxml\n",
    "            utils.create_openbis_dataset(\n",
    "                OPENBIS_SESSION,\n",
    "                type=\"RAW_DATA\",\n",
    "                object=molecule_object,\n",
    "                file=\"structures/structure.cdxml\",\n",
    "            )\n",
    "            os.remove(\"structures/structure.cdxml\")\n",
    "\n",
    "        # Additional support files\n",
    "        utils.upload_datasets(\n",
    "            OPENBIS_SESSION, molecule_object, molecule_support_files, \"RAW_DATA\"\n",
    "        )\n",
    "\n",
    "        display(utils.Javascript(data=\"alert('Upload successful!')\"))"
   ]
  },
  {
   "cell_type": "markdown",
   "metadata": {},
   "source": [
    "# Create molecule concept"
   ]
  },
  {
   "cell_type": "markdown",
   "metadata": {},
   "source": [
    "## Upload CDXML file"
   ]
  },
  {
   "cell_type": "code",
   "execution_count": null,
   "metadata": {},
   "outputs": [],
   "source": [
    "display(molecule_structure)\n",
    "display(molecule_cdxml_file)\n",
    "molecule_cdxml_file.observe(load_molecule_structure, names=\"value\")"
   ]
  },
  {
   "cell_type": "markdown",
   "metadata": {},
   "source": [
    "## Properties"
   ]
  },
  {
   "cell_type": "code",
   "execution_count": null,
   "metadata": {},
   "outputs": [],
   "source": [
    "display(molecule_widgets)"
   ]
  },
  {
   "cell_type": "markdown",
   "metadata": {},
   "source": [
    "## Support files"
   ]
  },
  {
   "cell_type": "code",
   "execution_count": null,
   "metadata": {},
   "outputs": [],
   "source": [
    "display(molecule_support_files)"
   ]
  },
  {
   "cell_type": "markdown",
   "metadata": {},
   "source": [
    "## Save results"
   ]
  },
  {
   "cell_type": "code",
   "execution_count": null,
   "metadata": {},
   "outputs": [],
   "source": [
    "display(save_close_buttons_hbox)\n",
    "display(increase_buttons_size)\n",
    "create_button.on_click(create_molecule_openbis)\n",
    "quit_button.on_click(close_notebook)"
   ]
  }
 ],
 "metadata": {
  "kernelspec": {
   "display_name": "Python 3 (ipykernel)",
   "language": "python",
   "name": "python3"
  },
  "language_info": {
   "codemirror_mode": {
    "name": "ipython",
    "version": 3
   },
   "file_extension": ".py",
   "mimetype": "text/x-python",
   "name": "python",
   "nbconvert_exporter": "python",
   "pygments_lexer": "ipython3",
   "version": "3.9.13"
  }
 },
 "nbformat": 4,
 "nbformat_minor": 2
}
