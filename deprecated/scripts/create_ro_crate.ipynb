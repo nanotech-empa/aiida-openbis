{
 "cells": [
  {
   "cell_type": "markdown",
   "metadata": {},
   "source": [
    "## Import libraries"
   ]
  },
  {
   "cell_type": "code",
   "execution_count": null,
   "metadata": {},
   "outputs": [],
   "source": [
    "from rocrate.rocrate import ROCrate"
   ]
  },
  {
   "cell_type": "markdown",
   "metadata": {},
   "source": [
    "## Create RO-Crate"
   ]
  },
  {
   "cell_type": "code",
   "execution_count": null,
   "metadata": {},
   "outputs": [],
   "source": [
    "PARENT_FOLDER = \"/home/jovyan/aiida-openbis/Notebooks/Metadata_Schemas_LinkML\"\n",
    "\n",
    "crate = ROCrate()\n",
    "paper = crate.add_file(\n",
    "    f\"{PARENT_FOLDER}/data.jsonld\",\n",
    "    properties={\"name\": \"molecule\", \"encodingFormat\": \"text/json\"},\n",
    ")\n",
    "\n",
    "paper = crate.add_file(\n",
    "    f\"{PARENT_FOLDER}/materialMLinfo.schema.json\",\n",
    "    properties={\"name\": \"schema\", \"encodingFormat\": \"text/json\"},\n",
    ")\n",
    "\n",
    "crate.write_zip(\"molecule_crate.zip\")"
   ]
  }
 ],
 "metadata": {
  "kernelspec": {
   "display_name": "base",
   "language": "python",
   "name": "python3"
  },
  "language_info": {
   "codemirror_mode": {
    "name": "ipython",
    "version": 3
   },
   "file_extension": ".py",
   "mimetype": "text/x-python",
   "name": "python",
   "nbconvert_exporter": "python",
   "pygments_lexer": "ipython3",
   "version": "3.9.13"
  }
 },
 "nbformat": 4,
 "nbformat_minor": 2
}
