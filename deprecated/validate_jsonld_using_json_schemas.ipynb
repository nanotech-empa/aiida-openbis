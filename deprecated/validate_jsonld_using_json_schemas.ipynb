{
 "cells": [
  {
   "cell_type": "markdown",
   "metadata": {},
   "source": [
    "## Import libraries"
   ]
  },
  {
   "cell_type": "code",
   "execution_count": null,
   "metadata": {},
   "outputs": [],
   "source": [
    "from jsonschema import RefResolver, Draft7Validator, ValidationError\n",
    "import json"
   ]
  },
  {
   "cell_type": "markdown",
   "metadata": {},
   "source": [
    "## Functions"
   ]
  },
  {
   "cell_type": "code",
   "execution_count": null,
   "metadata": {},
   "outputs": [],
   "source": [
    "def load_json(filepath: str) -> dict:\n",
    "    return json.load(open(filepath, \"r\"))\n",
    "\n",
    "\n",
    "def find_refs(obj, refs=None) -> list[str]:\n",
    "    if refs is None:\n",
    "        refs = []\n",
    "\n",
    "    if isinstance(obj, dict):\n",
    "        for key, value in obj.items():\n",
    "            if key == \"$ref\":\n",
    "                refs.append(value[2:])\n",
    "            else:\n",
    "                find_refs(value, refs)\n",
    "\n",
    "    return refs\n",
    "\n",
    "\n",
    "def find_ref_schemas(schemas_filenames: list[str], refs=None):\n",
    "    if refs is None:\n",
    "        refs = []\n",
    "\n",
    "    for schema_filename in schemas_filenames:\n",
    "        schema = load_json(f\"Metadata_Schemas_JSON_Schema/{schema_filename}\")\n",
    "        ref_schemas_filenames = find_refs(schema)\n",
    "\n",
    "        if schema_filename not in refs:\n",
    "            refs.append(schema_filename)\n",
    "            find_ref_schemas(ref_schemas_filenames, refs)\n",
    "\n",
    "    return refs\n",
    "\n",
    "\n",
    "def set_up_validator(json_schema_filename):\n",
    "    schemas_filenames = [json_schema_filename]\n",
    "    all_schemas_filenames = find_ref_schemas(schemas_filenames)\n",
    "\n",
    "    first_schema = load_json(f\"Metadata_Schemas_JSON_Schema/{all_schemas_filenames[0]}\")\n",
    "    resolver = RefResolver(base_uri=\"http://example.com/\", referrer=first_schema)\n",
    "\n",
    "    complete_schema_context = {}\n",
    "\n",
    "    for referenced_schema_filename in all_schemas_filenames:\n",
    "        referenced_schema = load_json(\n",
    "            f\"Metadata_Schemas_JSON_Schema/{referenced_schema_filename}\"\n",
    "        )\n",
    "        complete_schema_context.update(referenced_schema[\"@context\"])\n",
    "        resolver.store[referenced_schema[\"$id\"]] = referenced_schema\n",
    "\n",
    "    validator = Draft7Validator(first_schema, resolver=resolver)\n",
    "\n",
    "    return validator, complete_schema_context\n",
    "\n",
    "\n",
    "# Function to expand context terms\n",
    "def expand_context(base_context):\n",
    "    expanded_context = {}\n",
    "    for key, value in base_context.items():\n",
    "        if isinstance(value, str) and \":\" in value:\n",
    "            prefix, suffix = value.split(\":\", 1)\n",
    "            if prefix in base_context:\n",
    "                expanded_context[key] = base_context[prefix] + suffix\n",
    "            else:\n",
    "                expanded_context[key] = value\n",
    "        else:\n",
    "            expanded_context[key] = value\n",
    "    return expanded_context\n",
    "\n",
    "\n",
    "def replace_keys_recursive(data, old_key, new_key):\n",
    "    if isinstance(data, dict):\n",
    "        for key in list(data.keys()):  # Create a copy of keys to avoid RuntimeError\n",
    "            if key == old_key:\n",
    "                key = new_key\n",
    "                data[new_key] = data.pop(old_key)\n",
    "            replace_keys_recursive(data[key], old_key, new_key)\n",
    "    elif isinstance(data, list):\n",
    "        for item in data:\n",
    "            replace_keys_recursive(item, old_key, new_key)"
   ]
  },
  {
   "cell_type": "markdown",
   "metadata": {},
   "source": [
    "## Prepare the JSON Schema validator"
   ]
  },
  {
   "cell_type": "code",
   "execution_count": null,
   "metadata": {},
   "outputs": [],
   "source": [
    "validator, complete_schema_context = set_up_validator(\"molecule.schema.json\")"
   ]
  },
  {
   "cell_type": "markdown",
   "metadata": {},
   "source": [
    "## Validate the JSON file"
   ]
  },
  {
   "cell_type": "code",
   "execution_count": null,
   "metadata": {},
   "outputs": [],
   "source": [
    "json_file = load_json(\"example.json\")\n",
    "schema_context = complete_schema_context\n",
    "schema_context = expand_context(schema_context)\n",
    "json_context = expand_context(json_file[\"@context\"])\n",
    "\n",
    "if \"@context\" in json_file:\n",
    "    _ = json_file.pop(\"@context\")\n",
    "\n",
    "for key1, value1 in schema_context.items():\n",
    "    for key2, value2 in json_context.items():\n",
    "        if value1 == value2:\n",
    "            replace_keys_recursive(json_file, key2, key1)\n",
    "\n",
    "try:\n",
    "    validator.validate(instance=json_file)\n",
    "    print(\"The JSON file is valid according to the schema.\")\n",
    "except ValidationError as e:\n",
    "    message = e.schema[\"error_msg\"] if \"error_msg\" in e.schema else e.message\n",
    "    print(f\"Invalid data: {message}\")"
   ]
  },
  {
   "cell_type": "code",
   "execution_count": null,
   "metadata": {},
   "outputs": [],
   "source": [
    "json_file"
   ]
  }
 ],
 "metadata": {
  "kernelspec": {
   "display_name": "base",
   "language": "python",
   "name": "python3"
  },
  "language_info": {
   "codemirror_mode": {
    "name": "ipython",
    "version": 3
   },
   "file_extension": ".py",
   "mimetype": "text/x-python",
   "name": "python",
   "nbconvert_exporter": "python",
   "pygments_lexer": "ipython3",
   "version": "3.9.13"
  }
 },
 "nbformat": 4,
 "nbformat_minor": 2
}
