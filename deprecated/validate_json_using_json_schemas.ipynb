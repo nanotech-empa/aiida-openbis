{
 "cells": [
  {
   "cell_type": "markdown",
   "id": "0",
   "metadata": {},
   "source": [
    "## Import libraries"
   ]
  },
  {
   "cell_type": "code",
   "execution_count": null,
   "id": "1",
   "metadata": {},
   "outputs": [],
   "source": [
    "from jsonschema import RefResolver, Draft7Validator, ValidationError\n",
    "import json"
   ]
  },
  {
   "cell_type": "markdown",
   "id": "2",
   "metadata": {},
   "source": [
    "## Functions"
   ]
  },
  {
   "cell_type": "code",
   "execution_count": null,
   "id": "3",
   "metadata": {},
   "outputs": [],
   "source": [
    "def load_json(filepath: str) -> dict:\n",
    "    return json.load(open(filepath, \"r\"))\n",
    "\n",
    "\n",
    "def find_refs(obj, refs=None) -> list[str]:\n",
    "    if refs is None:\n",
    "        refs = []\n",
    "\n",
    "    if isinstance(obj, dict):\n",
    "        for key, value in obj.items():\n",
    "            if key == \"$ref\":\n",
    "                refs.append(value[2:])\n",
    "            else:\n",
    "                find_refs(value, refs)\n",
    "\n",
    "    return refs\n",
    "\n",
    "\n",
    "def find_ref_schemas(schemas_filenames: list[str], refs=None):\n",
    "    if refs is None:\n",
    "        refs = []\n",
    "\n",
    "    for schema_filename in schemas_filenames:\n",
    "        schema = load_json(f\"Metadata_Schemas_JSON_Schema/{schema_filename}\")\n",
    "        ref_schemas_filenames = find_refs(schema)\n",
    "\n",
    "        if schema_filename not in refs:\n",
    "            refs.append(schema_filename)\n",
    "            find_ref_schemas(ref_schemas_filenames, refs)\n",
    "\n",
    "    return refs\n",
    "\n",
    "\n",
    "def set_up_validator(json_schema_filename):\n",
    "    schemas_filenames = [json_schema_filename]\n",
    "    all_schemas_filenames = find_ref_schemas(schemas_filenames)\n",
    "\n",
    "    first_schema = load_json(f\"Metadata_Schemas_JSON_Schema/{all_schemas_filenames[0]}\")\n",
    "    resolver = RefResolver(base_uri=\"http://example.com/\", referrer=first_schema)\n",
    "\n",
    "    for referenced_schema_filename in all_schemas_filenames:\n",
    "        referenced_schema = load_json(\n",
    "            f\"Metadata_Schemas_JSON_Schema/{referenced_schema_filename}\"\n",
    "        )\n",
    "        resolver.store[referenced_schema[\"$id\"]] = referenced_schema\n",
    "\n",
    "    validator = Draft7Validator(first_schema, resolver=resolver)\n",
    "\n",
    "    return validator"
   ]
  },
  {
   "cell_type": "markdown",
   "id": "4",
   "metadata": {},
   "source": [
    "## Prepare the JSON Schema validator"
   ]
  },
  {
   "cell_type": "code",
   "execution_count": null,
   "id": "5",
   "metadata": {},
   "outputs": [],
   "source": [
    "validator = set_up_validator(\"molecule.schema.json\")"
   ]
  },
  {
   "cell_type": "markdown",
   "id": "6",
   "metadata": {},
   "source": [
    "## Validate the JSON file"
   ]
  },
  {
   "cell_type": "code",
   "execution_count": null,
   "id": "7",
   "metadata": {},
   "outputs": [],
   "source": [
    "json_file = load_json(\"example.json\")\n",
    "\n",
    "try:\n",
    "    validator.validate(instance=json_file)\n",
    "    print(\"The JSON file is valid according to the schema.\")\n",
    "except ValidationError as e:\n",
    "    message = e.schema[\"error_msg\"] if \"error_msg\" in e.schema else e.message\n",
    "    print(f\"Invalid data: {message}\")"
   ]
  }
 ],
 "metadata": {
  "kernelspec": {
   "display_name": "Python 3 (ipykernel)",
   "language": "python",
   "name": "python3"
  },
  "language_info": {
   "codemirror_mode": {
    "name": "ipython",
    "version": 3
   },
   "file_extension": ".py",
   "mimetype": "text/x-python",
   "name": "python",
   "nbconvert_exporter": "python",
   "pygments_lexer": "ipython3",
   "version": "3.9.13"
  }
 },
 "nbformat": 4,
 "nbformat_minor": 5
}
