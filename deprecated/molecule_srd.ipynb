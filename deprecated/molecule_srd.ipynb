{
 "cells": [
  {
   "cell_type": "code",
   "execution_count": null,
   "metadata": {},
   "outputs": [],
   "source": [
    "from IPython.display import display\n",
    "import ipywidgets as ipw\n",
    "import widgets\n",
    "import utils"
   ]
  },
  {
   "cell_type": "code",
   "execution_count": null,
   "metadata": {},
   "outputs": [],
   "source": [
    "CONFIG = utils.read_json(\"config.json\")\n",
    "CONFIG_ELN = utils.get_aiidalab_eln_config()\n",
    "OPENBIS_SESSION, SESSION_DATA = utils.connect_openbis(\n",
    "    CONFIG_ELN[\"url\"], CONFIG_ELN[\"token\"]\n",
    ")\n",
    "\n",
    "molecule_selector_config = {\n",
    "    \"dropdown\": {\"width\": \"315px\"},\n",
    "    \"details\": {\"width\": \"415px\", \"height\": \"250px\"},\n",
    "    \"image\": {\"width\": \"220px\", \"height\": \"250px\"},\n",
    "}\n",
    "molecule_selection_widget = widgets.ObjectSelectionWidget(\n",
    "    \"Molecule\", molecule_selector_config\n",
    ")\n",
    "molecule_selection_widget.load_dropdown_box(\"MOLECULE\", \"molecule\")\n",
    "\n",
    "instrument_selector = widgets.ObjectSelectionWidget(\"Instrument\")\n",
    "instrument_selector.load_dropdown_box(\"INSTRUMENT\", \"instrument\")\n",
    "\n",
    "srd_widgets = widgets.ObjectPropertiesWidgets(\"Sublimation Rate Determination\")\n",
    "srd_widgets.get_properties_widgets()\n",
    "srd_support_files = ipw.FileUpload(multiple=True)\n",
    "\n",
    "increase_buttons_size = utils.HTML(data=\"\".join(CONFIG[\"save_home_buttons_settings\"]))\n",
    "create_button = utils.Button(\n",
    "    description=\"\",\n",
    "    disabled=False,\n",
    "    button_style=\"\",\n",
    "    tooltip=\"Save\",\n",
    "    icon=\"save\",\n",
    "    layout=ipw.Layout(width=\"100px\", height=\"50px\"),\n",
    ")\n",
    "quit_button = utils.Button(\n",
    "    description=\"\",\n",
    "    disabled=False,\n",
    "    button_style=\"\",\n",
    "    tooltip=\"Main menu\",\n",
    "    icon=\"home\",\n",
    "    layout=ipw.Layout(width=\"100px\", height=\"50px\"),\n",
    ")\n",
    "save_close_buttons_hbox = ipw.HBox([create_button, quit_button])"
   ]
  },
  {
   "cell_type": "code",
   "execution_count": null,
   "metadata": {},
   "outputs": [],
   "source": [
    "def close_notebook(b):\n",
    "    display(utils.Javascript(data='window.location.replace(\"home.ipynb\")'))\n",
    "\n",
    "\n",
    "def create_srd_openbis(b):\n",
    "    object_properties = {}\n",
    "    for prop in CONFIG[\"objects\"][\"SRD\"][\"properties\"]:\n",
    "        property_widget = srd_widgets.properties_widgets[prop]\n",
    "        property_config = CONFIG[\"properties\"][prop]\n",
    "        object_properties[prop] = utils.get_object_property(\n",
    "            property_widget, property_config\n",
    "        )\n",
    "\n",
    "    srd_parents = [\n",
    "        molecule_selection_widget.dropdown.value,\n",
    "        instrument_selector.dropdown.value,\n",
    "    ]\n",
    "\n",
    "    srd_object = utils.create_openbis_object(\n",
    "        OPENBIS_SESSION,\n",
    "        type=\"SUBLIMATION_RATE_DETERMINATION\",\n",
    "        collection=\"/LOG_ENTRIES/LOG_ENTRIES/SRD_COLLECTION\",\n",
    "        props=object_properties,\n",
    "        parents=srd_parents,\n",
    "    )\n",
    "    utils.upload_datasets(OPENBIS_SESSION, srd_object, srd_support_files, \"RAW_DATA\")\n",
    "\n",
    "    display(utils.Javascript(data=\"alert('Upload successful!')\"))\n",
    "\n",
    "    srd_widgets.reset_properties_widgets()"
   ]
  },
  {
   "cell_type": "markdown",
   "metadata": {},
   "source": [
    "# Create sublimation rate determination object"
   ]
  },
  {
   "cell_type": "markdown",
   "metadata": {},
   "source": [
    "## Select molecule"
   ]
  },
  {
   "cell_type": "code",
   "execution_count": null,
   "metadata": {},
   "outputs": [],
   "source": [
    "display(molecule_selection_widget)"
   ]
  },
  {
   "cell_type": "markdown",
   "metadata": {},
   "source": [
    "## Select instrument"
   ]
  },
  {
   "cell_type": "code",
   "execution_count": null,
   "metadata": {},
   "outputs": [],
   "source": [
    "display(instrument_selector)"
   ]
  },
  {
   "cell_type": "markdown",
   "metadata": {},
   "source": [
    "## Properties"
   ]
  },
  {
   "cell_type": "code",
   "execution_count": null,
   "metadata": {},
   "outputs": [],
   "source": [
    "display(srd_widgets)"
   ]
  },
  {
   "cell_type": "markdown",
   "metadata": {},
   "source": [
    "## Support files"
   ]
  },
  {
   "cell_type": "code",
   "execution_count": null,
   "metadata": {},
   "outputs": [],
   "source": [
    "display(srd_support_files)"
   ]
  },
  {
   "cell_type": "markdown",
   "metadata": {},
   "source": [
    "## Save"
   ]
  },
  {
   "cell_type": "code",
   "execution_count": null,
   "metadata": {},
   "outputs": [],
   "source": [
    "molecule_selection_widget.dropdown.observe(\n",
    "    molecule_selection_widget.load_metadata, names=\"value\"\n",
    ")\n",
    "display(save_close_buttons_hbox)\n",
    "display(increase_buttons_size)\n",
    "create_button.on_click(create_srd_openbis)\n",
    "quit_button.on_click(close_notebook)"
   ]
  }
 ],
 "metadata": {
  "kernelspec": {
   "display_name": "base",
   "language": "python",
   "name": "python3"
  },
  "language_info": {
   "name": "python",
   "version": "3.9.13"
  }
 },
 "nbformat": 4,
 "nbformat_minor": 2
}
