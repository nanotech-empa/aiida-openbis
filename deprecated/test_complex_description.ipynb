{
 "cells": [
  {
   "cell_type": "code",
   "execution_count": null,
   "metadata": {},
   "outputs": [],
   "source": [
    "import utils\n",
    "\n",
    "CONFIG_ELN = utils.get_aiidalab_eln_config()\n",
    "openbis_url = \"local.openbis.ch\"\n",
    "openbis_token = \"$pat-admin-250611125344861x11B798860F11755C1C796FFB557F2CA0\"\n",
    "OPENBIS_SESSION, _ = utils.connect_openbis(openbis_url, openbis_token)"
   ]
  },
  {
   "cell_type": "code",
   "execution_count": null,
   "metadata": {},
   "outputs": [],
   "source": [
    "obj = OPENBIS_SESSION.get_object(\"20250612080918237-1213\")\n",
    "obj.props[\"description\"]"
   ]
  },
  {
   "cell_type": "code",
   "execution_count": null,
   "metadata": {},
   "outputs": [],
   "source": [
    "obj.props.all()"
   ]
  },
  {
   "cell_type": "code",
   "execution_count": null,
   "metadata": {},
   "outputs": [],
   "source": [
    "import utils\n",
    "\n",
    "CONFIG_ELN = utils.get_aiidalab_eln_config()\n",
    "openbis_url = \"https://openbis-empa-lab205.ethz.ch/\"\n",
    "openbis_token = \"$pat-dafa_admin-250604134543930xA579A4380CE9658576376E29B1098549\"\n",
    "OPENBIS_SESSION, _ = utils.connect_openbis(openbis_url, openbis_token)"
   ]
  },
  {
   "cell_type": "markdown",
   "metadata": {},
   "source": [
    "## Create rich text property and assign it to an object"
   ]
  },
  {
   "cell_type": "code",
   "execution_count": null,
   "metadata": {},
   "outputs": [],
   "source": [
    "property_type_dict = {\n",
    "    \"code\": \"complex_description\",\n",
    "    \"label\": \"Complex description\",\n",
    "    \"description\": \"Complex description\",\n",
    "    \"dataType\": \"MULTILINE_VARCHAR\",\n",
    "    \"managedInternally\": False,\n",
    "    \"multiValue\": False,\n",
    "    \"metaData\": {\"custom_widget\": \"Word Processor\"},\n",
    "}\n",
    "\n",
    "prop_type = OPENBIS_SESSION.new_property_type(**property_type_dict).save()\n",
    "obj_type = OPENBIS_SESSION.get_object_type(\"TEST_OBJECT\")\n",
    "obj_type.assign_property(\n",
    "    OPENBIS_SESSION.get_property_type(code=property_type_dict[\"code\"])\n",
    ")\n",
    "\n",
    "# You have to reload the session after modifying object types\n",
    "OPENBIS_SESSION, _ = utils.connect_openbis(CONFIG_ELN[\"url\"], CONFIG_ELN[\"token\"])"
   ]
  },
  {
   "cell_type": "markdown",
   "metadata": {},
   "source": [
    "## Get complex_description context from openBIS"
   ]
  },
  {
   "cell_type": "code",
   "execution_count": null,
   "metadata": {},
   "outputs": [],
   "source": [
    "OPENBIS_SESSION.get_object(\"20250409122357804-4460\").props.all()[\"complex_description\"]"
   ]
  },
  {
   "cell_type": "markdown",
   "metadata": {},
   "source": [
    "## Write complex description into openBIS"
   ]
  },
  {
   "cell_type": "code",
   "execution_count": null,
   "metadata": {},
   "outputs": [],
   "source": [
    "import requests\n",
    "import json\n",
    "\n",
    "# Assuming you have logged into openbis via pybis\n",
    "\n",
    "obj = OPENBIS_SESSION.get_object(\n",
    "    \"20250409122357804-4460\"\n",
    ")  # Experiment or sample you want to update\n",
    "\n",
    "file = \"ase_geo.png\"\n",
    "#\n",
    "url = (\n",
    "    \"https://local.openbis.ch/openbis/openbis/file-service/eln-lims?type=Files&sessionID=\"\n",
    "    + OPENBIS_SESSION.token\n",
    ")\n",
    "files = {\"file\": open(file, \"rb\")}\n",
    "\n",
    "# Upload figure into openBIS file-service. This figure is goign to be used in the rich text property\n",
    "r = requests.post(\n",
    "    url, files=files, verify=False\n",
    ")  # verify=False is required if you use self-signed certificates\n",
    "\n",
    "if r.ok:\n",
    "    url = json.loads(r.text)[\"url\"]  # url is a special url to uploaded image\n",
    "    formatted = (\n",
    "        \"<p><strong>adasdadasdjandkjadaj</strong></p><p>&nbsp;\"  ## Add boolean text\n",
    "    )\n",
    "    formatted += f\"<figure class='image'><img src='{url}'/></figure>\"  ## Add figure\n",
    "    obj.props[\"complex_description\"] = (\n",
    "        formatted  # setting text with image to a example $document property\n",
    "    )\n",
    "    obj.save()"
   ]
  },
  {
   "cell_type": "markdown",
   "metadata": {},
   "source": [
    "## Read content from openBIS"
   ]
  },
  {
   "cell_type": "code",
   "execution_count": null,
   "metadata": {},
   "outputs": [],
   "source": [
    "from bs4 import BeautifulSoup\n",
    "\n",
    "session_id = OPENBIS_SESSION.token  # Your active openBIS session\n",
    "obj = OPENBIS_SESSION.get_object(\"20250409122357804-4460\")\n",
    "html = obj.props[\"complex_description\"]\n",
    "\n",
    "# Get image url from the html string\n",
    "soup = BeautifulSoup(html, \"html.parser\")\n",
    "img_tag = soup.find(\"img\")\n",
    "if img_tag:\n",
    "    url = img_tag[\"src\"]\n",
    "\n",
    "# Combine base URL + path + sessionID\n",
    "full_url = f\"https://local.openbis.ch{url}?sessionID={session_id}\"\n",
    "\n",
    "# Download the file\n",
    "response = requests.get(full_url, verify=False)\n",
    "\n",
    "if response.status_code == 200:\n",
    "    with open(\"downloaded_image.png\", \"wb\") as f:\n",
    "        f.write(response.content)\n",
    "    print(\"File downloaded successfully.\")\n",
    "else:\n",
    "    print(f\"Failed to download: {response.status_code} - {response.text}\")"
   ]
  }
 ],
 "metadata": {
  "kernelspec": {
   "display_name": "base",
   "language": "python",
   "name": "python3"
  },
  "language_info": {
   "codemirror_mode": {
    "name": "ipython",
    "version": 3
   },
   "file_extension": ".py",
   "mimetype": "text/x-python",
   "name": "python",
   "nbconvert_exporter": "python",
   "pygments_lexer": "ipython3",
   "version": "3.9.13"
  }
 },
 "nbformat": 4,
 "nbformat_minor": 2
}
