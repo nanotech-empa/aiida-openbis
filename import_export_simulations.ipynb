{
 "cells": [
  {
   "cell_type": "code",
   "execution_count": null,
   "id": "0",
   "metadata": {},
   "outputs": [],
   "source": [
    "%load_ext aiida\n",
    "%aiida\n",
    "from IPython.display import display, Javascript, HTML\n",
    "import ipywidgets as ipw\n",
    "from src import simulations_widgets, utils"
   ]
  },
  {
   "cell_type": "code",
   "execution_count": null,
   "id": "1",
   "metadata": {},
   "outputs": [],
   "source": [
    "CONFIG_FILENAME = \"schema/config.json\"\n",
    "CONFIG = utils.read_json(CONFIG_FILENAME)\n",
    "OPENBIS_SESSION, SESSION_DATA = utils.connect_openbis_aiida()"
   ]
  },
  {
   "cell_type": "code",
   "execution_count": null,
   "id": "2",
   "metadata": {},
   "outputs": [],
   "source": [
    "if OPENBIS_SESSION:\n",
    "    increase_buttons_size = HTML(data=\"\".join(CONFIG[\"save_home_buttons_settings\"]))\n",
    "    tab_contents = [\"Import simulations\", \"Export simulations\"]\n",
    "    import_simulations_vbox = simulations_widgets.ImportSimulationsWidget(\n",
    "        OPENBIS_SESSION\n",
    "    )\n",
    "    export_simulations_vbox = simulations_widgets.ExportSimulationsWidget(\n",
    "        OPENBIS_SESSION\n",
    "    )\n",
    "    import_export_simulations_tabs = ipw.Tab(\n",
    "        children=[import_simulations_vbox, export_simulations_vbox],\n",
    "        layout=ipw.Layout(width=\"auto\"),\n",
    "    )\n",
    "    for i, e in enumerate(tab_contents):\n",
    "        import_export_simulations_tabs.set_title(i, e)\n",
    "\n",
    "home_button = ipw.Button(\n",
    "    description=\"\",\n",
    "    disabled=False,\n",
    "    button_style=\"\",\n",
    "    tooltip=\"Main menu\",\n",
    "    icon=\"home\",\n",
    "    layout=ipw.Layout(width=\"100px\", height=\"50px\"),\n",
    ")"
   ]
  },
  {
   "cell_type": "code",
   "execution_count": null,
   "id": "3",
   "metadata": {},
   "outputs": [],
   "source": [
    "def close_notebook(b):\n",
    "    display(Javascript(data='window.location.replace(\"home.ipynb\")'))"
   ]
  },
  {
   "cell_type": "markdown",
   "id": "4",
   "metadata": {},
   "source": [
    "# Import/Export Simulations to openBIS"
   ]
  },
  {
   "cell_type": "code",
   "execution_count": null,
   "id": "5",
   "metadata": {},
   "outputs": [],
   "source": [
    "if OPENBIS_SESSION:\n",
    "    display(import_export_simulations_tabs)\n",
    "    display(increase_buttons_size)\n",
    "\n",
    "home_button.on_click(close_notebook)\n",
    "display(home_button)"
   ]
  }
 ],
 "metadata": {
  "kernelspec": {
   "display_name": "base",
   "language": "python",
   "name": "python3"
  },
  "language_info": {
   "codemirror_mode": {
    "name": "ipython",
    "version": 3
   },
   "file_extension": ".py",
   "mimetype": "text/x-python",
   "name": "python",
   "nbconvert_exporter": "python",
   "pygments_lexer": "ipython3",
   "version": "3.9.13"
  }
 },
 "nbformat": 4,
 "nbformat_minor": 5
}
